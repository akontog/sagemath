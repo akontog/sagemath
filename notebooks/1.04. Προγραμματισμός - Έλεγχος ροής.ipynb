{
 "cells": [
  {
   "cell_type": "markdown",
   "metadata": {
    "collapsed": false,
    "jupyter": {
     "outputs_hidden": false
    }
   },
   "source": [
    "<div style=\"padding: 20px 0; text-align: center; font-weight: bold; font-size: 170%; background-color: #1d4055; color: #ffffff;\"> 1.04. Προγραμματισμός - Έλεγχος ροής</div>"
   ]
  },
  {
   "cell_type": "markdown",
   "metadata": {
    "collapsed": false,
    "jupyter": {
     "outputs_hidden": false
    }
   },
   "source": [
    "Το SageMath είναι υλοποιημένο στην γλώσσα προγραμματισμού Python. Έτσι, μπορεί κανείς να γράψει κώδικα Python απευθείας μέσα στο περιβάλλον του, που, επιπλέον, επεκτείνει την γλώσσα με πολλές χρήσιμες για τα μαθηματικά λειτουργίες."
   ]
  },
  {
   "cell_type": "markdown",
   "metadata": {
    "collapsed": false,
    "jupyter": {
     "outputs_hidden": false
    }
   },
   "source": [
    "# Preparser"
   ]
  },
  {
   "cell_type": "markdown",
   "metadata": {
    "collapsed": false,
    "jupyter": {
     "outputs_hidden": false
    }
   },
   "source": [
    "Στο SageMath, ο **preparser** εκτελείται ένα στάδιο πριν την εκτέλεση του κώδικα, και αναλαμβάνει να μετατρέπει ορισμένες συντομεύσεις ή ειδική σύνταξη SageMath σε Python. Έτσι για παράδειγμα αν γράψουμε _π_ ο preparser θα το μετατρέψει σε pi."
   ]
  },
  {
   "cell_type": "markdown",
   "metadata": {
    "collapsed": false,
    "jupyter": {
     "outputs_hidden": false
    }
   },
   "source": [
    "## Raw literals"
   ]
  },
  {
   "cell_type": "markdown",
   "metadata": {
    "collapsed": false,
    "jupyter": {
     "outputs_hidden": false
    }
   },
   "source": [
    "Σε μια σταθερά, για παράδειγμα, 2.71 ο τύπος `float` της python θα μετατραπεί σε `sage.rings.real_mpfr.RealLiteral`. Αν θέλουμε να μην εκτελεστεί ο preparser, ο απλούστερος τρόπος είναι να προσθέσουμε ένα `r` (ή `R`) δεξιά της σταθεράς. Στην περίπτωση αυτή ο τύπος της σταθεράς θα είναι `float` που είναι ο εξορισμού τύπος της Python για πραγματικές σταθερές."
   ]
  },
  {
   "cell_type": "code",
   "execution_count": null,
   "metadata": {
    "collapsed": false,
    "jupyter": {
     "outputs_hidden": false
    }
   },
   "outputs": [],
   "source": [
    "type(2.71),type(2.71r),type(2.71R)"
   ]
  },
  {
   "cell_type": "markdown",
   "metadata": {
    "collapsed": false,
    "jupyter": {
     "outputs_hidden": false
    }
   },
   "source": [
    "**Παράδειγμα**\n",
    "\n",
    "Στην συνέχεια αρχικοποιούνται δύο μεταβλητές με τιμή 5. Στην πρώτη περίπτωση εκτελείται κανονικά ο προεπεξεργαστής με αποτέλεσμα να μετατρέψει τον τύπο `int` της python σε `sage.rings.integer.Integer`. Στη δεύτερη ο τύπος παραμένει `int`."
   ]
  },
  {
   "cell_type": "code",
   "execution_count": null,
   "metadata": {
    "collapsed": false,
    "jupyter": {
     "outputs_hidden": false
    }
   },
   "outputs": [],
   "source": [
    "a = 5;b=5r\n",
    "type(a),type(b)"
   ]
  },
  {
   "cell_type": "markdown",
   "metadata": {
    "collapsed": false,
    "jupyter": {
     "outputs_hidden": false
    }
   },
   "source": [
    "Είναι πιθανό να μην επιθυμούμε την επιπλέον λειτουργικότητα των αντικειμένων του SageMath αλλά ταχύτητα. Σε αυτές τις περιπτώσεις μπορούμε να κάνουμε χρήση των απλών ακεραίων ή πραγματικών αντί για τα πιο πολύπλοκα `Integer` ή `RealLiteral`. Τα τελευταία, όμως, μας προσφέρουν επιπλέον λειτουργικότητα."
   ]
  },
  {
   "cell_type": "markdown",
   "metadata": {
    "collapsed": false,
    "jupyter": {
     "outputs_hidden": false
    }
   },
   "source": [
    "**Παράδειγμα**\n",
    "\n",
    "Ο τύπος `sage.rings.integer.Integer` διαθέτει μια σειρά από μεθόδους που δεν μπορούν να εφαρμοστούν στον απλό τύπο `int` της python. Αν στο δεύτερο τμήμα κώδικα, που χρησιμοποιούμε **raw literal**, βγάλουμε από τα σχόλια τις μεθόδους που χρησιμοποιήσαμε στο πρώτο τμήμα θα προκύψει `AttributeError`. Σημειώνουμε ότι οι μέθοδοι `sqrt` και `mod` των `Integer` του Sage, που χρησιμοποιούνται στο παράδειγμα, επιστρέφουν την τετραγωνική ρίζα και το υπόλοιπο του αριθμού με την παράμετρο αντίστοιχα."
   ]
  },
  {
   "cell_type": "code",
   "execution_count": null,
   "metadata": {
    "collapsed": false,
    "jupyter": {
     "outputs_hidden": false
    }
   },
   "outputs": [],
   "source": [
    "a = 16\n",
    "a.sqrt(),a.mod(3)"
   ]
  },
  {
   "cell_type": "code",
   "execution_count": null,
   "metadata": {
    "collapsed": false,
    "jupyter": {
     "outputs_hidden": false
    }
   },
   "outputs": [],
   "source": [
    "a = 16r\n",
    "#a.sqrt(),a.mod(3)"
   ]
  },
  {
   "cell_type": "markdown",
   "metadata": {
    "collapsed": false,
    "jupyter": {
     "outputs_hidden": false
    }
   },
   "source": [
    "## Ενεργοποίηση, Απενεργοποίηση preparser"
   ]
  },
  {
   "cell_type": "markdown",
   "metadata": {
    "collapsed": false,
    "jupyter": {
     "outputs_hidden": false
    }
   },
   "source": [
    "Η μέθοδος `preparser` με παράμετρο `True` (`False`) ενεργοποιεί (απενεργοποιεί) τον προεπεξεργαστή. Κάτι τέτοιο μπορεί να φανεί χρήσιμο όταν θέλουμε να δουλέψουμε καθαρά σε Python χωρίς τις αυτόματες μετατροπές του Sage. Σημειώνεται ότι στο online περιβάλλον https://sagecell.sagemath.org/ ο **preparser** δεν μπορεί να απενεργοποιηθεί."
   ]
  },
  {
   "cell_type": "markdown",
   "metadata": {
    "collapsed": false,
    "jupyter": {
     "outputs_hidden": false
    }
   },
   "source": [
    "**Παράδειγμα**\n",
    "\n",
    "Στο επόμενο παράδειγμα απενεργοποιείται ο preparser και εμφανίζονται τα αποτελέσματα στην λογική της python. Έπειτα τον ενεργοποιούμε και πάλι και παρατηρούμε, για τις ίδιες πράξεις τι επιστρέφει το SageMath. Η Python σε μια εφαρμογή του τελεστή της διαίρεσης θα επιστρέψει πραγματικό αριθμό ενώ το Sage, για να μην χάσουμε σε ακρίβεια, ρητό. Επίσης, υπενθυμίζεται ότι ο τελεστής `^` εκτελεί την δύναμη στο Sage αλλά όπως θα δούμε αμέσως μετά είναι ο λογικός τελεστής **xor** (αποκλειστικό ή) στην κλασική python."
   ]
  },
  {
   "cell_type": "code",
   "execution_count": null,
   "metadata": {
    "collapsed": false,
    "jupyter": {
     "outputs_hidden": false
    }
   },
   "outputs": [],
   "source": [
    "preparser(False)"
   ]
  },
  {
   "cell_type": "code",
   "execution_count": null,
   "metadata": {
    "collapsed": false,
    "jupyter": {
     "outputs_hidden": false
    }
   },
   "outputs": [],
   "source": [
    "2/3,2^3"
   ]
  },
  {
   "cell_type": "code",
   "execution_count": null,
   "metadata": {
    "collapsed": false,
    "jupyter": {
     "outputs_hidden": false
    }
   },
   "outputs": [],
   "source": [
    "preparser(True)"
   ]
  },
  {
   "cell_type": "code",
   "execution_count": null,
   "metadata": {
    "collapsed": false,
    "jupyter": {
     "outputs_hidden": false
    }
   },
   "outputs": [],
   "source": [
    "2/3,2^3"
   ]
  },
  {
   "cell_type": "markdown",
   "metadata": {
    "collapsed": false,
    "jupyter": {
     "outputs_hidden": false
    }
   },
   "source": [
    "## Μέθοδος preparse"
   ]
  },
  {
   "cell_type": "markdown",
   "metadata": {
    "collapsed": false,
    "jupyter": {
     "outputs_hidden": false
    }
   },
   "source": [
    "Η μέθοδος `preparse` δείχνει πως ο preparser του Sage μεταφράζει μια έκφραση που γράφεται σε Sage ώστε να την καταλάβει η Python. Έτσι, για παράδειγμα ο τελεστής `^` μετατρέπεται στον ισοδύναμο `**` που όμως είναι ο μόνος τελεστής δύναμης στην Python."
   ]
  },
  {
   "cell_type": "code",
   "execution_count": null,
   "metadata": {
    "collapsed": false,
    "jupyter": {
     "outputs_hidden": false
    }
   },
   "outputs": [],
   "source": [
    "preparse('2/3'),preparse('2^3')"
   ]
  },
  {
   "cell_type": "markdown",
   "metadata": {
    "collapsed": false,
    "jupyter": {
     "outputs_hidden": false
    }
   },
   "source": [
    "# Τελεστές"
   ]
  },
  {
   "cell_type": "markdown",
   "metadata": {
    "collapsed": false,
    "jupyter": {
     "outputs_hidden": false
    }
   },
   "source": [
    "## Συγκριτικοί τελεστές"
   ]
  },
  {
   "cell_type": "markdown",
   "metadata": {
    "collapsed": false,
    "jupyter": {
     "outputs_hidden": false
    }
   },
   "source": [
    "Στις δομές επανάληψης όπως η `while` αλλά και στις δομές επιλογής όπως η `if` που θα δούμε στην συνέχεια, χρησιμοποιούμε πολύ συχνά τους συγκριτικούς τελεστές:\n",
    "\n",
    "| Συγκριτικός Τελεστής | Περιγραφή                          |\n",
    "|----------------------|------------------------------------|\n",
    "| `==`             | Ισότητα                            |\n",
    "| `!=`             | Ανισότητα                          |\n",
    "| `<`              | Μικρότερο από                      |\n",
    "| `>`              | Μεγαλύτερο από                     |\n",
    "| `<=`             | Μικρότερο ή ίσο από                |\n",
    "| `>=`             | Μεγαλύτερο ή ίσο από               |\n",
    "\n",
    "Οι συγκριτικοί τελεστές επιστρέφουν λογική τιμή `True` ή `False` ανάλογα."
   ]
  },
  {
   "cell_type": "code",
   "execution_count": null,
   "metadata": {
    "collapsed": false,
    "jupyter": {
     "outputs_hidden": false
    }
   },
   "outputs": [],
   "source": [
    "a = 5\n",
    "b = 3\n",
    "a == b, a != b, a < b,a > b,a <= 5, b >= 4"
   ]
  },
  {
   "cell_type": "markdown",
   "metadata": {
    "collapsed": false,
    "jupyter": {
     "outputs_hidden": false
    }
   },
   "source": [
    "## Λογικοί τελεστές"
   ]
  },
  {
   "cell_type": "markdown",
   "metadata": {
    "collapsed": false,
    "jupyter": {
     "outputs_hidden": false
    }
   },
   "source": [
    "Σε περίπτωση που η λογική πράξη είναι πιο πολύπλοκη χρησιμοποιούμε λογικούς τελεστές. Στον επόμενο πίνακα οι λογικοί τελεστές που παρουσιάζονται με την σειρά προτεραιότητάς τους.\n",
    "\n",
    "| Τελεστής | Ονομασία       | Περιγραφή                                        |\n",
    "|----------|----------------|--------------------------------------------------|\n",
    "| `not`    | Λογικό Όχι     | Αντιστρέφει την τιμή (True → False, False → True)|\n",
    "| `and`    | Λογικό Και     | True αν και οι δύο εκφράσεις είναι True          |\n",
    "| `or`     | Λογικό Ή       | True αν μία τουλάχιστον έκφραση είναι True       |\n",
    "\n",
    "\n",
    "\n",
    "Στον επόμενο πίνακα αλήθειας φαίνεται το αποτέλεσμα των λογικών πράξεων ανάλογα με τις τιμές εισόδου A και B.\n",
    "\n",
    "| A     | B     |  A and B  | A or B  | not A  |\n",
    "|-------|-------|------------------------|-----------------------|--------------------|\n",
    "| False | False | False                  | False                 | True               |\n",
    "| False | True  | False                  | True                  | True               |\n",
    "| True  | False | False                  | True                  | False              |\n",
    "| True  | True  | True                   | True                  | False              |"
   ]
  },
  {
   "cell_type": "markdown",
   "metadata": {
    "collapsed": false,
    "jupyter": {
     "outputs_hidden": false
    }
   },
   "source": [
    "**Παράδειγμα**\n",
    "\n",
    "Να εκφραστούν οι επόμενες λογικές προτάσεις με την βοήθεια συγκριτικών και λογικών τελεστών.\n",
    "\n",
    "1. Ο αριθμός a είναι θετικός και ζυγός.\n",
    "\n",
    "2. Ο αριθμός a είναι διψήφιος.\n",
    "\n",
    "3. Ο αριθμός a **δεν** βρίσκεται στο διάστημα $[0,100]$.\n",
    "\n",
    "4. Οι αριθμοί a, b είναι θετικοί και δεν είναι ίσοι μεταξύ τους.\n",
    "\n",
    "5. Ο a είναι θετικός και πολλαπλάσιο του 3.\n",
    "\n",
    "Θα δοκιμαστούν, έστω για τιμές a=17, b=8."
   ]
  },
  {
   "cell_type": "code",
   "execution_count": null,
   "metadata": {
    "collapsed": false,
    "jupyter": {
     "outputs_hidden": false
    }
   },
   "outputs": [],
   "source": [
    "a,b = 17,8"
   ]
  },
  {
   "cell_type": "code",
   "execution_count": null,
   "metadata": {
    "collapsed": false,
    "jupyter": {
     "outputs_hidden": false
    }
   },
   "outputs": [],
   "source": [
    "# 1\n",
    "a > 0 and a % 2 == 0"
   ]
  },
  {
   "cell_type": "code",
   "execution_count": null,
   "metadata": {
    "collapsed": false,
    "jupyter": {
     "outputs_hidden": false
    }
   },
   "outputs": [],
   "source": [
    "# 2\n",
    "10 <= a <= 100"
   ]
  },
  {
   "cell_type": "code",
   "execution_count": null,
   "metadata": {
    "collapsed": false,
    "jupyter": {
     "outputs_hidden": false
    }
   },
   "outputs": [],
   "source": [
    "# 3\n",
    "a<0 or a>100"
   ]
  },
  {
   "cell_type": "code",
   "execution_count": null,
   "metadata": {
    "collapsed": false,
    "jupyter": {
     "outputs_hidden": false
    }
   },
   "outputs": [],
   "source": [
    "# 4\n",
    "not a==b and a>0 and b>0"
   ]
  },
  {
   "cell_type": "code",
   "execution_count": null,
   "metadata": {
    "collapsed": false,
    "jupyter": {
     "outputs_hidden": false
    }
   },
   "outputs": [],
   "source": [
    "# 5\n",
    "a>0 and a%3==0"
   ]
  },
  {
   "cell_type": "markdown",
   "metadata": {
    "collapsed": false,
    "jupyter": {
     "outputs_hidden": false
    }
   },
   "source": [
    "## bitwise τελεστές"
   ]
  },
  {
   "cell_type": "markdown",
   "metadata": {
    "collapsed": false,
    "jupyter": {
     "outputs_hidden": false
    }
   },
   "source": [
    "Οι bitwise τελεστές δουλεύουν **σε επίπεδο bit** και εφαρμόζουν λογικές πράξεις σε κάθε αντίστοιχο ζεύγος bit δύο αριθμών.\n",
    "\n",
    "| Τελεστής | Ονομασία        | Περιγραφή                                                   |\n",
    "|----------|-----------------|-------------------------------------------------------------|\n",
    "| `&`      | Bitwise AND     | Το bit γίνεται 1 αν όλα τα bits είναι 1                 |\n",
    "| `\\|`      | Bitwise OR      | Το bit γίνεται 1 αν τουλάχιστον ένα από τα bits είναι 1 |\n",
    "| `^^`     | Bitwise XOR     | Το bit γίνεται 1 αν περιττός αριθμός από bits είναι 1     |\n",
    "| `~`      | Bitwise NOT     | Αντιστρέφει κάθε bit (0 → 1, 1 → 0)                         |\n",
    "| `<<`     | Shift left      | Ολισθαίνει όλα τα bits αριστερά                              |\n",
    "| `>>`     | Shift right     | Ολισθαίνει όλα τα bits δεξιά                                 |\n",
    "\n",
    "\n",
    "\n"
   ]
  },
  {
   "cell_type": "markdown",
   "metadata": {
    "collapsed": false,
    "jupyter": {
     "outputs_hidden": false
    }
   },
   "source": [
    "Έστω $A$ και $B$ bits (0 ή 1), ακολουθεί πίνακας αλήθειας για bitwise τελεστές\n",
    "\n",
    "| A | B | A & B | A \\| B | A ^^ B | ~A |\n",
    "|---|---|-------|--------|--------|----|\n",
    "| 0 | 0 |   0   |   0    |   0    |  1 |\n",
    "| 0 | 1 |   0   |   1    |   1    |  1 |\n",
    "| 1 | 0 |   0   |   1    |   1    |  0 |\n",
    "| 1 | 1 |   1   |   1    |   0    |  0 |\n",
    "\n",
    "\n",
    "- Ο τελεστής `~` είναι **μονοσήμαντος** (ενεργεί μόνο σε ένα bit κάθε φορά).\n",
    "- Στους τελεστές `<<` και `>>` δεν βρίσκει εφαρμογή ο πίνακας αλήθειας, γιατί μετακινούν ολόκληρους τους δυαδικούς αριθμούς (π.χ. $1011 << 1 = 10110$)."
   ]
  },
  {
   "cell_type": "markdown",
   "metadata": {
    "collapsed": false,
    "jupyter": {
     "outputs_hidden": false
    }
   },
   "source": [
    "**Παράδειγμα**\n",
    "\n",
    "Για παράδειγμα για τους αριθμούς:\n",
    "\n",
    "- $5_{10} = 101_{2}$\n",
    "\n",
    "- $3_{10} = 011_{2}$\n",
    "\n",
    "Bitwise and (`&`):\n",
    "$$\n",
    "\\begin{array}{c}\n",
    "101 \\quad (5) \\\\\n",
    "011 \\quad (3) \\\\\n",
    "\\hline\n",
    "001 \\quad (1) \\\\\n",
    "\\end{array}\n",
    "$$\n",
    "\n",
    "Bitwise OR (`|`):\n",
    "$$\n",
    "\\begin{array}{c}\n",
    "101 \\quad (5) \\\\\n",
    "011 \\quad (3) \\\\\n",
    "\\hline\n",
    "111 \\quad (7) \\\\\n",
    "\\end{array}\n",
    "$$\n",
    "\n",
    "Bitwise XOR (`^^`)\n",
    "$$\n",
    "\\begin{array}{c}\n",
    "101 \\quad (5) \\\\\n",
    "011 \\quad (3) \\\\\n",
    "\\hline\n",
    "110 \\quad (6) \\\\\n",
    "\\end{array}\n",
    "$$\n",
    "\n",
    "Bitwise NOT (`~`)\n",
    "$$\n",
    "0b0...1000 \\ (8) \\xrightarrow{\\text{NOT}} 0b1...0111 \\quad \\text{ή} \\quad -9\n",
    "$$\n",
    "\n",
    "Bitwise shift left (`<<`):\n",
    "$$\n",
    "101 \\ (5) << 1 = 1010 \\ (10)\n",
    "$$\n",
    "\n",
    "Bitwise shift right (`>>`):\n",
    "$$\n",
    "101 \\ (5) >> 1 = 10 \\ (2)\n",
    "$$\n",
    "\n",
    "Σημείωση: Στην python ο τελεστής `^` δεν χρησιμοποιείται για δύναμη αλλά για bitwise or. Έτσι δεν υπάρχει ανάγκη χρήσης του `^^` όπως στο SageMath."
   ]
  },
  {
   "cell_type": "code",
   "execution_count": null,
   "metadata": {
    "collapsed": false,
    "jupyter": {
     "outputs_hidden": false
    }
   },
   "outputs": [],
   "source": [
    "5&3,5|3,5^^3,5<<1,5>>1"
   ]
  },
  {
   "cell_type": "markdown",
   "metadata": {
    "collapsed": false,
    "jupyter": {
     "outputs_hidden": false
    }
   },
   "source": [
    "Η συμπεριφορά του τελεστή `~` στο SageMath έχει διαφορές σε σχέση με αυτή στην Python. Αυτό συμμβαίνει λόγω του **preparser**. Αν δεν τον αγνοήσουμε χρησιμοποιώντας **raw literal**, περίπτωση 8r, ο τελεστής θα επιστρέψει τον αντίστροφο του αριθμού ως προς τον πολλαπλασιασμό μην κάνοντας bitwise πράξη."
   ]
  },
  {
   "cell_type": "code",
   "execution_count": null,
   "metadata": {
    "collapsed": false,
    "jupyter": {
     "outputs_hidden": false
    }
   },
   "outputs": [],
   "source": [
    "a = 8r;b=8\n",
    "~a,~b"
   ]
  },
  {
   "cell_type": "markdown",
   "metadata": {
    "collapsed": false,
    "jupyter": {
     "outputs_hidden": false
    }
   },
   "source": [
    "# Δομές επανάληψης"
   ]
  },
  {
   "cell_type": "markdown",
   "metadata": {
    "collapsed": false,
    "jupyter": {
     "outputs_hidden": false
    }
   },
   "source": [
    "Οι υπολογιστές είναι πολύ καλοί στο να εκτελούν επαναλαμβανόμενες, ίδιες ή παρόμοιες, εργασίες γλιτώνοντας τον άνθρωπο από κουραστικές, βαρετές εργασίες. Οι εντολές που καθοδηγούν τον υπολογιστή στο να εκτελέσει κάτι επαναλαμβανόμενο είναι η `for` και η `while`. Και οι δυο αποτελούν εντολές της Python που, φυσικά, μπορούν να χρησιμοποιηθούν στο SageMath."
   ]
  },
  {
   "cell_type": "markdown",
   "metadata": {
    "collapsed": false,
    "jupyter": {
     "outputs_hidden": false
    }
   },
   "source": [
    "## for"
   ]
  },
  {
   "cell_type": "markdown",
   "metadata": {
    "collapsed": false,
    "jupyter": {
     "outputs_hidden": false
    }
   },
   "source": [
    "Η for αποτελεί εντολή βολική για επαναλήψεις (loops) προκαθορισμένου πλήθους φορών.\n",
    "Η γενική της μορφή είναι:\n",
    "```\n",
    "for < var > in <collection>:\n",
    "    <loop body>\n",
    "```\n",
    "\n",
    "Η `<collection>` είναι μια συλλογή από αντικείμενα, για παράδειγμα μια λίστα (οπότε τα αντικείμενα της περικλείονται σε μέσα σε `[`, `]` ) ή μια πλειάδα (οπότε τα αντικείμενά της περικλείονται μέσα σε `(`, `)` ). \n",
    "\n",
    "Το `<loop body>` είναι το σώμα του βρόχου. Εδώ βρίσκονται όλες οι εντολές (η μια ακριβώς κάτω από την άλλη) που θέλουμε να εκτελεστούν ομαδικά και από μια φορά, για κάθε στοιχείο της <collection>. Η `<var>` είναι μια μεταβλητή που λέγεται μεταβλητή βρόχου, και παίρνει ως τιμή διαδοχικά όλα τα στοιχεία της συλλογής <collection>. Για κάθε νέα τιμή της μεταβλητής, εκτελούνται κατά σειρά όλες οι εντολές του `<loop body>`. Η `for` σταματάει όταν η μεταβλητή `<var>` έχει εξαντλήσει όλα τα στοιχεία της συλλογής. Η μεταβλητή βρόχου `<var>` δεν είναι απαραίτητο να δηλωθεί και όταν δεν χρησιμοποιείται μέσα στον βρόχο μπορεί να αντικατασταθεί από το σύμβολο `_`."
   ]
  },
  {
   "cell_type": "markdown",
   "metadata": {
    "collapsed": false,
    "jupyter": {
     "outputs_hidden": false
    }
   },
   "source": [
    "## indentation, εσοχή"
   ]
  },
  {
   "cell_type": "markdown",
   "metadata": {
    "collapsed": false,
    "jupyter": {
     "outputs_hidden": false
    }
   },
   "source": [
    "Το βασικό που πρέπει να θυμόμαστε για την `for`, για την `while`, αλλά και για πολλές άλλες εντολές της python (όπως η `if`) είναι ότι το όλο το σώμα της εντολής πρέπει να βρίσκεται σε **εσοχή**, **indentation**, δηλαδή να γράφεται κάτω από την εντολή και **δεξιότερα** απ’ αυτήν! Αυτό βοηθά την python να καθορίσει ακριβώς το σώμα της εντολής, και άρα να καθορίσει ποιες εντολές ανήκουν και ποιες δεν ανήκουν στην εντολή. Φυσικά αυτό βοηθά οπτικά και εμάς ώστε να εντοπίσουμε εύκολα ποιες ανήκουν στο σώμα της εντολής (από τις υπόλοιπες που δεν έχουν σχέση με την εντολή)!\n",
    "\n",
    "Χρησιμοποιώντας το tab στο πληκτρολόγιο μπορούμε να στοιβάξουμε όλες τις εντολές του σώματος της εντολής ακριβώς την μια κάτω από την άλλη και στην ίδια κάθετη ευθυγράμμιση! Φυσικά αυτή η ευθυγράμμιση πρέπει να βρίσκεται οπωσδήποτε δεξιότερα της λέξης της εντολής (`for`, `while` κοκ.). Τα παραδείγματα των σημειώσεων αποτελούν καλή επίδειξη για το πώς στοιβάζουμε τα σώματα μέσα στις παραπάνω εντολές. Στο παράδειγμα του υπολογισμού του δείκτη μάζας σώματος που ακολουθεί, χρησιμοποιούμαι δυο `if`, το ένα μέσα στο άλλο. Όλο το σώμα του εσωτερικού `if` βρίσκεται δεξιότερα του δευτέρου `if`, το οποίο βρίσκεται δεξιότερα του πρώτου `if`! Αν υποθέσουμε ότι μέσα στο δεύτερο `if` υπήρχε ένα `for`, τότε το σώμα του θα έπρεπε να είναι δεξιότερα του `for` και άρα δεξιότερα και από τα δυο `if`!\n",
    "\n",
    "Ένα από τα κλασικότερα λάθη που θα συναντήσει ένας προγραμματιστής είναι το `IndentationError` που είναι ακριβώς αυτό που εννοεί το όνομα, σφάλμα εσοχής."
   ]
  },
  {
   "cell_type": "markdown",
   "metadata": {
    "collapsed": false,
    "jupyter": {
     "outputs_hidden": false
    }
   },
   "source": [
    "**Παράδειγμα**\n",
    "\n",
    "Στο επόμενο παράδειγμα φτιάχνουμε μια λίστα a από συμβολοσειρές, `str`, και τα εκτυπώνουμε διαδοχικά χρησιμοποιώντας την εντολή επανάληψης `for` που το σώμα της περιέχει την εντολή εκτύπωσης `print`, για κάθε αντικείμενο i της λίστας a. Το ρόλο της μεταβλητής βρόχου το παίζει η i. Η i παίρνει διαδοχικά τις τιμές 'Δοκιμάζω', 'να',..., 'με την print' και συγχρόνως εκτελείται το σώμα της `for` που στην περίπτωσή μας αποτελείται μόνο από μια εντολή δηλαδή την `print`. Για μια εκτύπωση που πιάνει λιγότερο χώρο έχει προστεθεί η παράμετρος `end` που, υπενθυμίζεται, αλλάζει τον εξορισμού διαχωρισμό μεταξύ εκτυπώσεων."
   ]
  },
  {
   "cell_type": "code",
   "execution_count": null,
   "metadata": {
    "collapsed": false,
    "jupyter": {
     "outputs_hidden": false
    }
   },
   "outputs": [],
   "source": [
    "a = ['Δοκιμάζω', 'να', 'εκτυπώσω','κάμποσες','λέξεις', 'με την print']\n",
    "for i in a:\n",
    "    print(i,end=', ')"
   ]
  },
  {
   "cell_type": "markdown",
   "metadata": {
    "collapsed": false,
    "jupyter": {
     "outputs_hidden": false
    }
   },
   "source": [
    "Αν το `<loop body>` περιέχει μια (ή λίγες χωρισμένες με `;`) εντολές τότε μπορεί να τοποθετηθεί στην ίδια γραμμή με την εντολή `for`."
   ]
  },
  {
   "cell_type": "code",
   "execution_count": null,
   "metadata": {
    "collapsed": false,
    "jupyter": {
     "outputs_hidden": false
    }
   },
   "outputs": [],
   "source": [
    "for i in a: print(i,end=', ')"
   ]
  },
  {
   "cell_type": "markdown",
   "metadata": {
    "collapsed": false,
    "jupyter": {
     "outputs_hidden": false
    }
   },
   "source": [
    "Στην παραπάνω `for` η εντολή `print`, που εκτελείται επαναληπτικά, βρίσκεται δίπλα από την `for`. Θεωρείται καλή πρακτική, ειδικά όταν θέλουμε να εκτελεστούν πολλές εντολές μέσα στην επανάληψη, οι εντολές να γράφονται σε ξεχωριστές γραμμές και κάτω από την `for`. Θα έπρεπε όμως να υπάρχει μία εσοχή, συνήθως ένα tab, το οποίο και διατηρείται στη διάρκεια της επανάληψης."
   ]
  },
  {
   "cell_type": "markdown",
   "metadata": {
    "collapsed": false,
    "jupyter": {
     "outputs_hidden": false
    }
   },
   "source": [
    "Η `<collection>` τις περισσότερες φορές κατασκευάζεται αυτόματα με κατάλληλες εντολές, ώστε να μην αναγκάζεται ο προγραμματιστής να καταγράφει ένα - ένα τα στοιχεία της `<collection>`. Ο πιο διαδεδομένος τρόπος αυτόματης κατασκευής είναι η `range`."
   ]
  },
  {
   "cell_type": "markdown",
   "metadata": {
    "collapsed": false,
    "jupyter": {
     "outputs_hidden": false
    }
   },
   "source": [
    "## range"
   ]
  },
  {
   "cell_type": "markdown",
   "metadata": {
    "collapsed": false,
    "jupyter": {
     "outputs_hidden": false
    }
   },
   "source": [
    "Η εντολή `range` είναι μια από τις εντολές της python για την κατασκευή πεπερασμένων συλλογών από (ακέραιους) αριθμούς. Η απλούστερη μορφή της είναι η `range(όριο)` που κατασκευάζει μια λίστα από όλους τους διαδοχικούς φυσικούς 0,1,.. που είναι μικρότεροι από το όριο."
   ]
  },
  {
   "cell_type": "markdown",
   "metadata": {
    "collapsed": false,
    "jupyter": {
     "outputs_hidden": false
    }
   },
   "source": [
    "**Παράδειγμα**\n",
    "\n",
    "Η επόμενη δομή εμφανίζει τα τέλεια τετράγωνα από το 0 έως το m-1=10, αφού έχουμε θέσει ως όριο το m=11."
   ]
  },
  {
   "cell_type": "code",
   "execution_count": null,
   "metadata": {
    "collapsed": false,
    "jupyter": {
     "outputs_hidden": false
    }
   },
   "outputs": [],
   "source": [
    "m=11\n",
    "for i in range(m): print(i^2,end=\" \")"
   ]
  },
  {
   "cell_type": "markdown",
   "metadata": {
    "collapsed": false,
    "jupyter": {
     "outputs_hidden": false
    }
   },
   "source": [
    "Η γενική μορφή της `range` είναι: `range(αρχή, όριο, βήμα)` όπου ο ακέραιος αριθμός **όριο** είναι το άνω φράγμα των όρων της αριθμητικής ακολουθίας αρχή, αρχή + βήμα, αρχή+2*βήμα, αρχή+3*βήμα,... Με άλλα λόγια κανένας όρος της προηγούμενης ακολουθίας δεν μπορεί να είναι **ίσος** ή **μεγαλύτερος** από το όριο. Αν, όμως, το βήμα είναι αρνητικό το όριο αποτελεί το κάτω φράγμα τον όρων και κανένας όρος δεν μπορεί να είναι **ίσος** ή **μικρότερος** από το όριο.\n",
    "\n",
    "Οι (ακέραιες) παράμετροι αρχή και βήμα είναι προαιρετικοί. Οι εξ’ ορισμού τιμές τους είναι 0 και 1 αντίστοιχα."
   ]
  },
  {
   "cell_type": "code",
   "execution_count": null,
   "metadata": {
    "collapsed": false,
    "jupyter": {
     "outputs_hidden": false
    }
   },
   "outputs": [],
   "source": [
    "for i in range(10,0,-1): \n",
    "    print(i, end= \" \")"
   ]
  },
  {
   "cell_type": "markdown",
   "metadata": {
    "collapsed": false,
    "jupyter": {
     "outputs_hidden": false
    }
   },
   "source": [
    "**Παράδειγμα**\n",
    "\n",
    "Στο επόμενο παράδειγμα υπάρχουν δυο εντολές `print`, η πρώτη εντός του σώματος της `for` και η δεύτερη εκτός. Η 1η `print` εκτελείται επαναληπτικά είκοσι φορές, ενώ η 2η μόνο μία, εφόσον δεν είναι σε εσοχή δηλ. δεν βρίσκεται δεξιότερα της for και κάτω ακριβώς της πρώτης print (και άρα δεν ανήκει στο <loop body>). Αυτή η `print` θα εκτελεστεί **μετά** το τέλος της επανάληψης. Μπορείτε να δοκιμάσετε να δείτε τι θα συμβεί αν και η 2η `print` γραφτεί δεξιότερα, δηλαδή ενσωματωθεί στο σώμα της `for` (γράφοντάς την ακριβώς κάτω από την πρώτη `print`)."
   ]
  },
  {
   "cell_type": "code",
   "execution_count": null,
   "metadata": {
    "collapsed": false,
    "jupyter": {
     "outputs_hidden": false
    }
   },
   "outputs": [],
   "source": [
    "for i in range(5,105,5): \n",
    "    print(i, end= \" \")\n",
    "print('Φτου και βγαίνω')"
   ]
  },
  {
   "cell_type": "markdown",
   "metadata": {
    "collapsed": false,
    "jupyter": {
     "outputs_hidden": false
    }
   },
   "source": []
  },
  {
   "cell_type": "markdown",
   "metadata": {
    "collapsed": false,
    "jupyter": {
     "outputs_hidden": false
    }
   },
   "source": [
    "**Παράδειγμα**\n",
    "\n",
    "Στο επόμενο παράδειγμα εμφανίζονται οι τιμές της $x^2-x$ για x ακέραιο από -5 μέχρι και 5."
   ]
  },
  {
   "cell_type": "code",
   "execution_count": null,
   "metadata": {
    "collapsed": false,
    "jupyter": {
     "outputs_hidden": false
    }
   },
   "outputs": [],
   "source": [
    "f(x)=x^2-x\n",
    "for i in range(-5,6):\n",
    "    print('f(',i,')=',f(i), sep='', end= \" \")"
   ]
  },
  {
   "cell_type": "markdown",
   "metadata": {
    "collapsed": false,
    "jupyter": {
     "outputs_hidden": false
    }
   },
   "source": [
    "Η `range` δέχεται, δυστυχώς, μόνο ακέραιους παραμέτρους. Μπορούμε όμως να χρησιμοποιήσουμε τους ακέραιους της λίστας που κατασκευάσαμε ώστε να ορίσουμε και μη ακέραιες τιμές. Στο επόμενο παράδειγμα η μεταβλητή βρόχου είναι η i. Με την μεταβλητή v παίρνουμε το 0.5*i, δηλαδή το μισό της i, και εκτυπώνουμε την f(v). Προσέξτε ότι όλες οι εντολές του σώματος της `for` (`<loop body>`) είναι τέλεια ευθυγραμμισμένες κάτω και δεξιότερα της `for`!"
   ]
  },
  {
   "cell_type": "code",
   "execution_count": null,
   "metadata": {
    "collapsed": false,
    "jupyter": {
     "outputs_hidden": false
    }
   },
   "outputs": [],
   "source": [
    "f(x)=x^2-x\n",
    "for i in range(-10,11):\n",
    "    v=0.5*i\n",
    "    print('f(',v,')=',f(v), sep='', end= \" \")"
   ]
  },
  {
   "cell_type": "markdown",
   "metadata": {
    "collapsed": false,
    "jupyter": {
     "outputs_hidden": false
    }
   },
   "source": [
    "Στην πραγματικότητα, ο παραπάνω είναι ο τρόπος με τον οποίο σχεδιάζονται οι γραφικές παραστάσεις. Αποτιμώνται οι συναρτήσεις σε αρκετά σημεία τα οποία στην συνέχεια σχεδιάζονται (τα σημεία ενώνονται με ευθύγραμμα τμήματα, έτσι ώστε το γράφημα να είναι συνεχές). "
   ]
  },
  {
   "cell_type": "code",
   "execution_count": null,
   "metadata": {
    "collapsed": false,
    "jupyter": {
     "outputs_hidden": false
    }
   },
   "outputs": [],
   "source": [
    "f(x)=x^2-x\n",
    "g = Graphics()\n",
    "for i in range(-10,11):\n",
    "    v=0.5*i\n",
    "    g += point((v, f(v)), size=20, rgbcolor='red')\n",
    "g.show(figsize=(4,3))"
   ]
  },
  {
   "cell_type": "markdown",
   "metadata": {
    "collapsed": false,
    "jupyter": {
     "outputs_hidden": false
    }
   },
   "source": [
    "Υπάρχει περίπτωση να επιθυμούμε την αποτίμηση της παραπάνω συνάρτησης σε συγκεκριμένες τιμές και όχι αναγκαστικά σε ισαπέχουσες τιμές όπως είδαμε παραπάνω. Τότε η for πρέπει να συνδυαστεί με μια λίστα τιμών. Οι λίστες θα αναλυθούν περισσότερο στην επόμενη ενότητα. Στο παρακάτω παράδειγμα η μεταβλητή βρόχου i παίρνει διαδοχικά όλες τις τιμές -1, 0,..,12/5 που εμφανίζονται μέσα στην λίστα. Οι προκύπτουσες τιμές της i^2-i εκτυπώνονται στην ίδια γραμμή της οθόνης μας λόγω της οδηγίας `end= \" \"`."
   ]
  },
  {
   "cell_type": "code",
   "execution_count": null,
   "metadata": {
    "collapsed": false,
    "jupyter": {
     "outputs_hidden": false
    }
   },
   "outputs": [],
   "source": [
    "g = Graphics()\n",
    "for i in [-1, 0, 3/5, 1, 12/5]:\n",
    "    print(f(i), end= \" \")\n",
    "    g += point((i, f(i)), size=20, rgbcolor='red')\n",
    "g.show(figsize=(4,3))"
   ]
  },
  {
   "cell_type": "markdown",
   "metadata": {
    "collapsed": false,
    "jupyter": {
     "outputs_hidden": false
    }
   },
   "source": [
    "**Παράδειγμα**\n",
    "\n",
    "Στο επόμενο γράφημα θα δημιουργηθεί μια σειρά από τυχαία σημεία.\n",
    "\n",
    "- Τα τυχαία σημεία (x,y) θα βρίσκονται οπουδήποτε στο διάστημα $[-10,10) \\times [-10,10)$. Αυτό είναι ένα τετράγωνο πλευράς 20 με κέντρο το σημείο O(0,0) του επιπέδου. \n",
    "\n",
    "- Το χρώμα τους, παράμετρος `rgbcolor`, μπορεί να είναι οποιοδήποτε και το μέγεθος s των σημείων θα κυμαίνεται τυχαία από το 10 έως 50. Για την δημιουργία των τυχαίων ακεραίων s στο διάστημα $[a,b)$ θα γίνει χρήση της `ZZ.random_element(a, b)` και για την δημιουργία των τυχαίων πραγματικών x, y αλλά και red, green, blue, θα χρησιμοποιηθεί η `RR.random_element(a, b)`. Στο SageMath με `ZZ` παριστάνουμε το σύνολο $\\mathbb{Z}$ των ακεραίων, και με `RR` το σύνολο $\\mathbb{R}$ των πραγματικών."
   ]
  },
  {
   "cell_type": "code",
   "execution_count": null,
   "metadata": {
    "collapsed": false,
    "jupyter": {
     "outputs_hidden": false
    }
   },
   "outputs": [],
   "source": [
    "p = Graphics()\n",
    "a=-10\n",
    "b=10\n",
    "# θα δημιουργηθούν 1000 σημεία\n",
    "for i in range(1000):\n",
    "    x=RR.random_element(a,b)\n",
    "    y=RR.random_element(a,b)\n",
    "    \n",
    "    red = RR.random_element(0,1)\n",
    "    green = RR.random_element(0,1)\n",
    "    blue = RR.random_element(0,1)\n",
    "    \n",
    "    s =  ZZ.random_element(10,50)\n",
    "    p += point((x, y), size=s, \\\n",
    "               rgbcolor=(red,green,blue))\n",
    "p.show(figsize=(4,3))"
   ]
  },
  {
   "cell_type": "markdown",
   "metadata": {
    "collapsed": false,
    "jupyter": {
     "outputs_hidden": false
    }
   },
   "source": [
    "## srange"
   ]
  },
  {
   "cell_type": "markdown",
   "metadata": {
    "collapsed": false,
    "jupyter": {
     "outputs_hidden": false
    }
   },
   "source": [
    "Η κατασκευή μιας οποιασδήποτε αριθμητικής προόδου είναι πανεύκολη με τα `[`, `]` και τις δυο τελείες `..` ενδιάμεσα ή με την χρήση της `srange`. Και οι δυο τρόποι μας κατασκευάζουν λίστες. H `srange` (και όχι `range`, το s αριστερά από το `range` σημαίνει Sage!) έχει την ίδια σύνταξη όπως η `range`. Και οι δύο αυτοί τρόποι, `srange` και `[a..b]`, δημιουργίας λιστών, ανήκουν αποκλειστικά στην SageMath και όχι στην Python!\n",
    "\n",
    "Μπορούμε να κατασκευάσουμε μια οποιαδήποτε αριθμητική πρόοδο α, α+ω, α+2*ω, α+3*ω, ... με τους όρους της **μικρότερους ή ίσους** από το όριο με την εντολή [α, α+ω, .. όριο] (ή ισοδύναμα με την `srange(α, όριο+ω, ω)`). Αν το ω είναι το 1, τότε μπορούμε να το παραλείψουμε: `[α..όριο]` και `srange(α, όριο)`."
   ]
  },
  {
   "cell_type": "code",
   "execution_count": null,
   "metadata": {
    "collapsed": false,
    "jupyter": {
     "outputs_hidden": false
    }
   },
   "outputs": [],
   "source": [
    "[2, 4, .. 10]"
   ]
  },
  {
   "cell_type": "code",
   "execution_count": null,
   "metadata": {
    "collapsed": false,
    "jupyter": {
     "outputs_hidden": false
    }
   },
   "outputs": [],
   "source": [
    "srange(-1,5+1), [-1.. 5] "
   ]
  },
  {
   "cell_type": "code",
   "execution_count": null,
   "metadata": {
    "collapsed": false,
    "jupyter": {
     "outputs_hidden": false
    }
   },
   "outputs": [],
   "source": [
    "[-1, -1+1/2 .. 5], srange(-1,5+1/2,1/2) "
   ]
  },
  {
   "cell_type": "markdown",
   "metadata": {
    "collapsed": false,
    "jupyter": {
     "outputs_hidden": false
    }
   },
   "source": [
    "**Παράδειγμα**\n",
    "\n",
    "Ας δούμε τώρα και ένα παράδειγμα με συνδυασμό με την `for` όπου θα παραχθεί ην προπαίδεια του 7."
   ]
  },
  {
   "cell_type": "code",
   "execution_count": null,
   "metadata": {
    "collapsed": false,
    "jupyter": {
     "outputs_hidden": false
    }
   },
   "outputs": [],
   "source": [
    "for i in [1..10]:\n",
    "    print(7,'x',i,'=',7*i,end=' ',sep='')"
   ]
  },
  {
   "cell_type": "markdown",
   "metadata": {
    "collapsed": false,
    "jupyter": {
     "outputs_hidden": false
    }
   },
   "source": [
    "**Παράδειγμα** \n",
    "\n",
    "Θα υπολογίσουμε το όριο:\n",
    "$$\n",
    "\\lim_{x \\to 1} \\frac{2x^2 + x + 4}{x + 1}\n",
    "$$\n",
    "\n",
    "- Αυτό θα γίνει με την `limit` αλλά και\n",
    "\n",
    "- με επανάληψη κατά την οποία το x τείνει στο 1 από τα αριστερά και από τα δεξιά.\n",
    "\n",
    "- Αρχικά θα πάρουμε μια εικόνα της συνάρτησης από την γραφική της παράσταση σε μια περιοχή πολύ κοντά στο όριο."
   ]
  },
  {
   "cell_type": "code",
   "execution_count": null,
   "metadata": {
    "collapsed": false,
    "jupyter": {
     "outputs_hidden": false
    }
   },
   "outputs": [],
   "source": [
    "f(x) = (2*x^2 + x + 4) / (x + 1)\n",
    "plot(f,(x,0,1.9),figsize=(4,3))"
   ]
  },
  {
   "cell_type": "markdown",
   "metadata": {
    "collapsed": false,
    "jupyter": {
     "outputs_hidden": false
    }
   },
   "source": [
    "Στην συνέχεια θα εμφανίσουμε το όριο με την χρήση της `limit`."
   ]
  },
  {
   "cell_type": "code",
   "execution_count": null,
   "metadata": {
    "collapsed": false,
    "jupyter": {
     "outputs_hidden": false
    }
   },
   "outputs": [],
   "source": [
    "limit(f(x), x=1)"
   ]
  },
  {
   "cell_type": "markdown",
   "metadata": {
    "collapsed": false,
    "jupyter": {
     "outputs_hidden": false
    }
   },
   "source": [
    "Ακολουθούν δυο διαδοχικές και κατάλληλες χρήσεις της `for` που θα προσεγγίσουν το 1 από αριστερά 0.9, 0.99 κ.ο.κ. και δεξιά 1.1, 1.01 κ.ο.κ. Η δεύτερη `for` βρίσκεται όπως βλέπουμε έξω από το σώμα της πρώτης `for`. Τα αποτελέσματα της δεύτερης επανάληψης\n",
    "θα εμφανιστούν έτσι στην αποκάτω γραμμή και όχι στην ίδια."
   ]
  },
  {
   "cell_type": "code",
   "execution_count": null,
   "metadata": {
    "collapsed": false,
    "jupyter": {
     "outputs_hidden": false
    }
   },
   "outputs": [],
   "source": [
    "for i in range(1,6):\n",
    "    v = 1-10^-i\n",
    "    print ('f(',n(v,digits=5),')=',n(f(v),digits=5), sep='',end=', ')\n",
    "print()\n",
    "for i in range(1,6):\n",
    "    v = 1+10^-i\n",
    "    print ('f(',n(v,digits=5),')=',n(f(v),digits=5), sep='',end=', ')"
   ]
  },
  {
   "cell_type": "markdown",
   "metadata": {
    "collapsed": false,
    "jupyter": {
     "outputs_hidden": false
    }
   },
   "source": [
    "## Εμφωλευμένες Επαναλήψεις"
   ]
  },
  {
   "cell_type": "markdown",
   "metadata": {
    "collapsed": false,
    "jupyter": {
     "outputs_hidden": false
    }
   },
   "source": [
    "Περισσότερες από μια εντολές επανάληψης μπορούν να συνδυαστούν σε μια **εμφωλευμένη**, όπως ονομάζεται, επανάληψη. "
   ]
  },
  {
   "cell_type": "markdown",
   "metadata": {
    "collapsed": false,
    "jupyter": {
     "outputs_hidden": false
    }
   },
   "source": [
    "**Παράδειγμα**\n",
    "\n",
    "Στην συνέχεια ακολουθεί όλη η προπαίδεια από το 1 έως και το 10. Μπορούμε να παρατηρήσουμε ότι η τελευταία `print()` δεν ανήκει στο σώμα της εσωτερικής `for` αλλά της εξωτερικής (αφού βρίσκεται ευθυγραμμισμένη με την δεύτερη `for` που ανήκει στο σώμα της πρώτης `for`) Η `print` παρακάτω απλά χρησιμεύει για να αλλάξουμε γραμμή σε κάθε επανάληψη της εξωτερικής `for`."
   ]
  },
  {
   "cell_type": "code",
   "execution_count": null,
   "metadata": {
    "collapsed": false,
    "jupyter": {
     "outputs_hidden": false
    }
   },
   "outputs": [],
   "source": [
    "for i in [1..10]:\n",
    "    for j in [1..10]:\n",
    "        print(j,'x',i,'=',j*i,end=' ',sep='')\n",
    "    print()"
   ]
  },
  {
   "cell_type": "markdown",
   "metadata": {
    "collapsed": false,
    "jupyter": {
     "outputs_hidden": false
    }
   },
   "source": [
    "**Παράδειγμα**\n",
    "\n",
    "Θα γραφεί πρόγραμμα σε SageMath που να δημιουργεί ένα σύνολο σημείων στο επίπεδο. θα θεωρήσουμε το τετράγωνο πλέγμα των ακέραιων σημείων με συντεταγμένες (x,y), όπου $x,y \\in {−s,−s+1,…,s−1,s}$. Για s=10, θα παρασταθούν γραφικά όλα τα σημεία με χρώμα μπλε και μέγεθος 20."
   ]
  },
  {
   "cell_type": "code",
   "execution_count": null,
   "metadata": {
    "collapsed": false,
    "jupyter": {
     "outputs_hidden": false
    }
   },
   "outputs": [],
   "source": [
    "s = 10\n",
    "g = Graphics()\n",
    "for x in srange(-s,s + 1,1):\n",
    "    for y in range(-s,s + 1,1):\n",
    "        g += point((x, y), color='blue', \\\n",
    "                   size=20)\n",
    "g.show()"
   ]
  },
  {
   "cell_type": "markdown",
   "metadata": {
    "collapsed": false,
    "jupyter": {
     "outputs_hidden": false
    }
   },
   "source": [
    "## while"
   ]
  },
  {
   "cell_type": "markdown",
   "metadata": {
    "collapsed": false,
    "jupyter": {
     "outputs_hidden": false
    }
   },
   "source": [
    "Εκτός από την `for`, εντολή επανάληψης αποτελεί και η `while`. Οι εντολές που βρίσκονται μέσα στη `while` εκτελούνται συνεχώς όσο η συνθήκη cond στη `while` παραμένει αληθής (`True`). Η σύνταξή της έχει την εξής μορφή:\n",
    "```\n",
    "while cond:\n",
    "    Εντολές\n",
    "```"
   ]
  },
  {
   "cell_type": "markdown",
   "metadata": {
    "collapsed": false,
    "jupyter": {
     "outputs_hidden": false
    }
   },
   "source": [
    "**Παράδειγμα**\n",
    "\n",
    "Διαβάζεται ένας βαθμός _grade_ και επιβεβαιώνεται ότι ο βαθμός είναι έγκυρος. Η συνθήκη, cond, στην περίπτωσή μας είναι η grade<0 or grade>10. Το σώμα (δηλ. το `grade = float(input('Δώσε βαθμό:'))` ) εκτελείται ασταμάτητα, έως ότου η cond γίνει επιτέλους `False` δηλαδή ψευδής. Δεν επιτρέπουμε δηλαδή να βγει ο χρήστης από την επανάληψη εάν δεν δώσει ένα βαθμό που να βρίσκεται αυστηρά στο διάστημα $[0,10]$."
   ]
  },
  {
   "cell_type": "code",
   "execution_count": null,
   "metadata": {
    "cocalc": {
     "outputs": {
      "0": {
       "name": "input",
       "opts": {
        "password": false,
        "prompt": "Δώσε βαθμό:"
       },
       "output_type": "stream",
       "value": "-3"
      },
      "1": {
       "name": "input",
       "opts": {
        "password": false,
        "prompt": "Δώσε βαθμό:"
       },
       "output_type": "stream",
       "value": "13"
      },
      "2": {
       "name": "input",
       "opts": {
        "password": false,
        "prompt": "Δώσε βαθμό:"
       },
       "output_type": "stream",
       "value": "7"
      }
     }
    },
    "collapsed": false,
    "jupyter": {
     "outputs_hidden": false
    }
   },
   "outputs": [],
   "source": [
    "grade = float(input('Δώσε βαθμό:'))\n",
    "while grade<0 or grade>10:\n",
    "    grade = float(input('Δώσε βαθμό:'))\n",
    "print('Έδωσες τον έγκυρο βαθμό:',grade)"
   ]
  },
  {
   "cell_type": "markdown",
   "metadata": {
    "collapsed": false,
    "jupyter": {
     "outputs_hidden": false
    }
   },
   "source": [
    "## Αθροίσματα"
   ]
  },
  {
   "cell_type": "markdown",
   "metadata": {
    "collapsed": false,
    "jupyter": {
     "outputs_hidden": false
    }
   },
   "source": [
    "Μπορούμε να υπολογίσουμε εύκολα πεπερασμένα αθροίσματα ή γινόμενα με χρήση `for` ή `while`. Η `if` (θα την δούμε στην επόμενη ενότητα με περισσότερες λεπτομέρειες) μπορεί να μας βοηθήσει για να αποφασίσουμε αν κάποιος αθροιστέος θα μπει ή δεν θα μπει στο πεπερασμένο άθροισμα!\n",
    "\n",
    "Το ζητούμενο άθροισμα υπολογίζεται σταδιακά, προσθέτοντας έναν - έναν όρο διαδοχικά. Οπότε το άθροισμα αλλάζει τιμές έως ότου προσθέσουμε και τον τελευταίο προσθετέο. Αποθηκεύοντας τις διαδοχικές τιμές του αθροίσματος σε μια μεταβλητή total δίνουμε στην επανάληψή μας την δυνατότητα να \"θυμάται\" το τρέχον άθροισμα.\n",
    "\n",
    "Για παράδειγμα για να βρούμε το 1+2+3+...100, πρέπει σταδιακά να υπολογίσουμε τα μερικά αθροίσματα 0, (0)+1, (0+1)+2, (0+1+2)+3, (0+1+2+3)+4, κοκ. Για ευκολία βάζουμε κάθε φορά σε παρένθεση το μερικό άθροισμα total που ήδη έχει υπολογιστεί στο προηγούμενο βήμα. Όπως βλέπουμε από τούτο εδώ το απλό παράδειγμα, για να βρούμε το νέο άθροισμα total πρέπει να προσθέσουμε στο total που ήδη έχουμε υπολογίσει ένα ακόμα αθροιστέο. τον total=total+i με i να παίρνει διαδοχικά τις τιμές 1, 2 ,..,100.\n",
    "\n",
    "Στα μαθηματικά τέτοιες συναρτήσεις που υπολογίζονται καλώντας τον εαυτό τους σε κάθε βήμα λέγονται αναδρομικές. Τις αναδρομικές συναρτήσεις θα τις δούμε με περισσότερες λεπτομέρειες στην συνέχεια.\n",
    "\n",
    "Όλη η διαδικασία υλοποιείται πολύ εύκολα!"
   ]
  },
  {
   "cell_type": "markdown",
   "metadata": {
    "collapsed": false,
    "jupyter": {
     "outputs_hidden": false
    }
   },
   "source": [
    "**Παράδειγμα**\n",
    "\n",
    "Υπολογίζουμε το επόμενο άθροισμα με την βοήθεια επανάληψης `for`\n",
    "$$\n",
    "\\sum_{i=1}^{100} i\n",
    "$$\n",
    "Επαληθεύουμε στην συνέχεια την ακρίβεια του αποτελέσματος κάνοντας χρήση του γνωστού τύπου για το άθροισμα (για m=100):\n",
    "$$\n",
    "\\sum_{i=1}^{m} i = \\frac{m(m+1)}{2}\n",
    "$$"
   ]
  },
  {
   "cell_type": "code",
   "execution_count": null,
   "metadata": {
    "collapsed": false,
    "jupyter": {
     "outputs_hidden": false
    }
   },
   "outputs": [],
   "source": [
    "total = 0\n",
    "for i in range(1,101):\n",
    "    total+=i # total = total + i\n",
    "total"
   ]
  },
  {
   "cell_type": "code",
   "execution_count": null,
   "metadata": {
    "collapsed": false,
    "jupyter": {
     "outputs_hidden": false
    }
   },
   "outputs": [],
   "source": [
    "var('m')\n",
    "S(m) = m*(m+1)/2\n",
    "S(100)"
   ]
  },
  {
   "cell_type": "markdown",
   "metadata": {
    "collapsed": false,
    "jupyter": {
     "outputs_hidden": false
    }
   },
   "source": [
    "**Παράδειγμα**\n",
    "\n",
    "Με χρήση επανάληψης θα υπολογίσουμε το παραγοντικό $n! = 1 \\times 2 \\cdots \\times (n-2) \\times (n-1) \\times n$. Σημειώνεται ότι και η build-in συνάρτηση `factorial` του SageMath υπολογίζει το παραγοντικό ενός αριθμού. Μπορεί εύκολα να επαληθευτεί το ορθόν της διαδικασίας μας."
   ]
  },
  {
   "cell_type": "code",
   "execution_count": null,
   "metadata": {
    "collapsed": false,
    "jupyter": {
     "outputs_hidden": false
    }
   },
   "outputs": [],
   "source": [
    "m = 5\n",
    "fact=1\n",
    "for i in range(1,m+1):\n",
    "    fact *=i\n",
    "fact,factorial(5)"
   ]
  },
  {
   "cell_type": "markdown",
   "metadata": {
    "collapsed": false,
    "jupyter": {
     "outputs_hidden": false
    }
   },
   "source": [
    "**Παράδειγμα**\n",
    "\n",
    "1. Θα υπολογιστεί, έστω για m=50, το επόμενο άθροισμα (0 + 1 - 2 + 3 - 4 + …).\n",
    "$$\n",
    "\\sum_{i=0}^{m} i \\cdot (-1)^{i+1}\n",
    "$$\n",
    "\n",
    "2. Θα σχεδιαστεί γράφημα το οποίο θα εμφανίζει τα μερικά αθροίσματα ως σημεία του επιπέδου που ενώνονται μεταξύ τους με ευθύγραμμα τμήματα."
   ]
  },
  {
   "cell_type": "code",
   "execution_count": null,
   "metadata": {
    "collapsed": false,
    "jupyter": {
     "outputs_hidden": false
    }
   },
   "outputs": [],
   "source": [
    "m = 50\n",
    "S = 0\n",
    "pprev = (0,0)\n",
    "p = point(pprev, color='black',size=30)\n",
    "for i in range(1, m + 1):\n",
    "    S += (-1) ** (i + 1) * i\n",
    "    pcur = (i,S)\n",
    "    p += point(pcur, color='black',size=30)\n",
    "    p+=line([pprev,pcur])\n",
    "    pprev = pcur\n",
    "p.show()\n",
    "show(S)"
   ]
  },
  {
   "cell_type": "markdown",
   "metadata": {
    "collapsed": false,
    "jupyter": {
     "outputs_hidden": false
    }
   },
   "source": [
    "Σχόλιο: Στην παραπάνω υλοποίηση με _pcur_ παριστάνουμε το σημείο του επιπέδου που αντιστοιχεί στο τρέχον μερικό άθροισμα, ενώ με pprev το σημείο του επιπέδου που αντιστοιχεί στο προηγούμενο μερικό άθροισμα. Τα δυο σημεία ενώνονται μεταξύ τους με ένα ευθύγραμμο τμήμα με την βοήθεια της `line([pprev,pcur])`. Το τελικό γράφημα p φτιάχνεται σταδιακά, βήμα βήμα, δηλαδή το καινούργιο p είναι ίσο με το παλιό p + ένα σημείο (point) μαύρο +ένα ευθύγραμμο τμήμα (line) χρώματος μπλε: `p += point(pcur, color='black',size=30)`; `p+=line([pprev,pcur])`."
   ]
  },
  {
   "cell_type": "markdown",
   "metadata": {
    "collapsed": false,
    "jupyter": {
     "outputs_hidden": false
    }
   },
   "source": [
    "**Παράδειγμα**\n",
    "\n",
    "Μια εναλλακτική προσέγγιση για την τιμή του e μπορεί να προκύψει από την σειρά Taylor:\n",
    "$$\n",
    "e = \\sum_{m=0}^{\\infty} \\frac{1}{m!} = 1 + \\frac{1}{1!} + \\frac{1}{2!} + \\frac{1}{3!} + \\frac{1}{4!} + \\ldots\n",
    "$$"
   ]
  },
  {
   "cell_type": "code",
   "execution_count": null,
   "metadata": {
    "collapsed": false,
    "jupyter": {
     "outputs_hidden": false
    }
   },
   "outputs": [],
   "source": [
    "# Τρόπος 1: χρήση factorial\n",
    "M=100\n",
    "myE = 0.0\n",
    "for m in range(M):\n",
    "    myE +=1/factorial(m)\n",
    "myE"
   ]
  },
  {
   "cell_type": "markdown",
   "metadata": {
    "collapsed": false,
    "jupyter": {
     "outputs_hidden": false
    }
   },
   "source": [
    "Ο παραπάνω τρόπος υπολογίζει κάθε φορά το παραγοντικό από την αρχή, κάτι μη αποδοτικό. Στην επόμενη υλοποίηση χρησιμοποιούμε τον προηγούμενο αθροιστέο term για να υπολογίσουμε τον επόμενο term. Πριν την επανάληψη ορίζουμε την τιμή του 1ου αθροιστέου να είναι ο term=1.0 και του πρώτου μερικού αθροίσματος να είναι myE=term δηλ. 1.0. Το m μέσα στην for μας εξυπηρετεί να υπολογίσουμε το τρέχον αθροιστέο term από τον προηγούμενο term, χρησιμοποιώντας τον αναδρομικό τύπο term=term/m. Στην συνέχεια τον προσθέτουμε στο myE και επαναλαμβάνουμε ξανά την διαδικασία. Το τελικό myE περιέχει το ζητούμενο άθροισμα. Ο δεύτερος τρόπος αποφεύγει την κατευθείαν χρήση της `factorial`, οπότε είναι πιο αποδοτικός και λιγότερο χρονοβόρος!"
   ]
  },
  {
   "cell_type": "code",
   "execution_count": null,
   "metadata": {
    "collapsed": false,
    "jupyter": {
     "outputs_hidden": false
    }
   },
   "outputs": [],
   "source": [
    "# Τρόπος 2: χρήση term\n",
    "M=100\n",
    "term = 1.0\n",
    "myE = term\n",
    "for m in range(1,M):\n",
    "    term = term/m\n",
    "    myE+=term\n",
    "myE"
   ]
  },
  {
   "cell_type": "markdown",
   "metadata": {
    "collapsed": false,
    "jupyter": {
     "outputs_hidden": false
    }
   },
   "source": [
    "Αφού term=1/fact, όπου fact είναι το παραγοντικό όπως ήδη το ορίσαμε προηγουμένως (δηλ. fact=fact*m) , προκύπτει εύκολα ότι ο νέος term είναι ίσος με 1/fact= 1/(fact*m)=(1/fact)/m=term/m."
   ]
  },
  {
   "cell_type": "markdown",
   "metadata": {
    "collapsed": false,
    "jupyter": {
     "outputs_hidden": false
    }
   },
   "source": [
    "Στις δύο προηγούμενες υλοποιήσεις επιλέχθηκε το M = 100 από την αρχή και με αυτόν τον τρόπο θέσαμε ένα όριο για τον τερματισμό της επαναληπτικής διαδικασίας. Εναλλακτικά, εφόσον ο term συνεχώς μικραίνει επηρεάζοντας όλο και λιγότερο το συνολικό άθροισμα, έχουμε την δυνατότητα να χρησιμοποιήσουμε και την `while`! H cond είναι τώρα η term>=0.000001. Με άλλα λόγια θέσαμε ως τρόπο διαφυγής από την διαδικασία το μέγεθος του όρου term. Όταν ο τρέχον αθροιστέος term γίνει μικρότερος του 0.000001, τότε σταματάει η διαδικασία υπολογισμού του αθροίσματος myE."
   ]
  },
  {
   "cell_type": "code",
   "execution_count": null,
   "metadata": {
    "collapsed": false,
    "jupyter": {
     "outputs_hidden": false
    }
   },
   "outputs": [],
   "source": [
    "# Τρόπος 3: while\n",
    "term = 1.0\n",
    "myE = term\n",
    "m=1\n",
    "while term>=0.000001:\n",
    "    term = term/m\n",
    "    myE+=term\n",
    "    m+=1\n",
    "myE"
   ]
  },
  {
   "cell_type": "markdown",
   "metadata": {
    "collapsed": false,
    "jupyter": {
     "outputs_hidden": false
    }
   },
   "source": [
    "Θα δώσουμε άλλη μια υλοποίηση για διδακτικούς σκοπούς. Εδώ θέσαμε την συνθήκη στη `while` να είναι `True`! Για να αποφύγουμε να εκτελείται αιώνια(!) βάλαμε την `if` και την `break` μέσα στο σώμα της `while` ώστε να διαφύγουμε από τα δεσμά της `while` την κατάλληλη στιγμή! Αυτή η στιγμή θα έρθει όταν ο τρέχον αθροιστέος term είναι μικρότερος του 0.000001. Η `if` θα αναλυθεί στη συνέχεια."
   ]
  },
  {
   "cell_type": "code",
   "execution_count": null,
   "metadata": {
    "collapsed": false,
    "jupyter": {
     "outputs_hidden": false
    }
   },
   "outputs": [],
   "source": [
    "# Τρόπος 4: while - break\n",
    "term = 1.0\n",
    "myE = term\n",
    "m=1\n",
    "while True:\n",
    "    term = term/m\n",
    "    if term<0.000001:\n",
    "        break\n",
    "    myE+=term\n",
    "    m+=1\n",
    "myE"
   ]
  },
  {
   "cell_type": "markdown",
   "metadata": {
    "collapsed": false,
    "jupyter": {
     "outputs_hidden": false
    }
   },
   "source": [
    "Η `break` μας επιτρέπει να φύγουμε από το σώμα μίας επανάληψης `for` ή `while` απλά καλώντας την!"
   ]
  },
  {
   "cell_type": "markdown",
   "metadata": {
    "collapsed": false,
    "jupyter": {
     "outputs_hidden": false
    }
   },
   "source": [
    "Φυσικά, μπορούμε να συνδιάσουμε και τους 2 τρόπους διαφυγής επιτρέποντας έναν μέγιστο αριθμό επαναλήψεων Μ αλλά και όχι πολύ μικρούς αθροιστέους term (μικρότερους του 0.000001). Ενδεχομένως αν ο term γίνει πολύ μικρός η διαδικασία θα σταματήσει νωρίτερα πριν ολοκληρωθεί η κατασκευή του αθροίσματος myE από 99=M-1 αθροιστέους term."
   ]
  },
  {
   "cell_type": "code",
   "execution_count": null,
   "metadata": {
    "collapsed": false,
    "jupyter": {
     "outputs_hidden": false
    }
   },
   "outputs": [],
   "source": [
    "# Τρόπος 5: for + break\n",
    "N=100\n",
    "term = 1.0\n",
    "myE = term\n",
    "for m in range(1,M):\n",
    "    term = term/m\n",
    "    if term<0.000001:\n",
    "        break\n",
    "    myE+=term\n",
    "'Αριθμός επαναλήψεων:',m, 'Αποτέλεσμα:',myE"
   ]
  },
  {
   "cell_type": "markdown",
   "metadata": {
    "collapsed": false,
    "jupyter": {
     "outputs_hidden": false
    }
   },
   "source": [
    "# Δομές επιλογής"
   ]
  },
  {
   "cell_type": "markdown",
   "metadata": {
    "collapsed": false,
    "jupyter": {
     "outputs_hidden": false
    }
   },
   "source": [
    "Πέρα από επαναλαμβανόμενες εργασίες ο υπολογιστής καλείται να πάρει αποφάσεις πολύ γρήγορα. Παρέχονται από την python, άρα και από το SageMath, τρεις τύπους δομών επιλογής `if`:\n",
    "\n",
    "- `if`  cond: body  Εκτελείται το μπλοκ εντολών (body), αν η συνθήκη cond είναι αληθής (true). Διαφορετικά η if τερματίζει και συνεχίζουμε στις επόμενες εντολές του προγράμματος.\n",
    "\n",
    "- `if` cond: body `else`: elsebody Εκτελείται το πρώτο μπλοκ εντολών body κάτω από την `if`, αν βέβαια η συνθήκη cond είναι αληθής. Διαφορετικά, εκτελεί το δεύτερο μπλοκ εντολών elsebody κάτω από την `else`.\n",
    "\n",
    "- `if` cond: body `elif` cond1: body1 ... `else`: elsebody Εκτελείται το μπλοκ εντολών body κάτω από την συνθήκη cond, αν η η συνθήκη cond είναι αληθής (true). Αν δεν είναι, ξεκινάει η εκτέλεση των επόμενων εντολών body1 με την προϋπόθεση ότι αληθεύει η αντίστοιχη συνθήκη cond1 της (ή των) `elif`. Αν καμία συνθήκη από τις cond, cond1,... δεν είναι αληθής, τότε εκτελείται το μπλοκ εντολών elsebody μετά το `else`. Η `else` δεν είναι υποχρεωτική να εμφανίζεται σε τούτο τον τύπο της `if`.\n",
    "\n",
    "Επισημαίνουμε εδώ ότι όπως και στις `for` και `while` γράφουμε το μπλοκ εντολών δεξιότερα των `if`, `else`, `elif` και όχι ακριβώς από κάτω ή αριστερότερα! Οι `if`, `elif`, και `else` πρέπει να βρίσκονται στην ίδια κάθετη ευθυγράμμιση, δηλαδή ακριβώς η μια κάτω από την άλλη!"
   ]
  },
  {
   "cell_type": "markdown",
   "metadata": {
    "collapsed": false,
    "jupyter": {
     "outputs_hidden": false
    }
   },
   "source": [
    "**Παράδειγμα**\n",
    "\n",
    "Με μια απλή `if` ελέγχουμε και εμφανίζουμε την απόλυτη τιμή ενός αριθμού."
   ]
  },
  {
   "cell_type": "code",
   "execution_count": null,
   "metadata": {
    "collapsed": false,
    "jupyter": {
     "outputs_hidden": false
    }
   },
   "outputs": [],
   "source": [
    "a = -5\n",
    "if a<0:\n",
    "    a = -a\n",
    "a"
   ]
  },
  {
   "cell_type": "markdown",
   "metadata": {
    "collapsed": false,
    "jupyter": {
     "outputs_hidden": false
    }
   },
   "source": [
    "**Παράδειγμα**\n",
    "\n",
    "Στο επόμενο τμήμα κώδικα θέλουμε να βρούμε αν ένας αριθμός, έστω a, είναι άρτιος ή περιττός. Υπενθυμίζεται ότι ο τελεστής `%` μας επιστρέφει το υπόλοιπο μιας διαίρεσης."
   ]
  },
  {
   "cell_type": "code",
   "execution_count": null,
   "metadata": {
    "collapsed": false,
    "jupyter": {
     "outputs_hidden": false
    }
   },
   "outputs": [],
   "source": [
    "a = 1789\n",
    "if a%2==0:\n",
    "    print ('Ο',a,'είναι άρτιος')\n",
    "else:\n",
    "    print ('Ο',a,'είναι περιττός')"
   ]
  },
  {
   "cell_type": "markdown",
   "metadata": {
    "collapsed": false,
    "jupyter": {
     "outputs_hidden": false
    }
   },
   "source": [
    "**Παράδειγμα**\n",
    "\n",
    "Θέλουμε ένα βαθμό της 100βάθμιας κλίμακας να τον αντιστοιχίσουμε ως εξής:\n",
    "\n",
    "- $\\geq90$: A\n",
    "\n",
    "- $\\geq80$: B\n",
    "\n",
    "- $\\geq70$: C\n",
    "\n",
    "- $\\geq60$: D\n",
    "\n",
    "- $\\lt60$: F"
   ]
  },
  {
   "cell_type": "code",
   "execution_count": null,
   "metadata": {
    "collapsed": false,
    "jupyter": {
     "outputs_hidden": false
    }
   },
   "outputs": [],
   "source": [
    "grade = 73\n",
    "if grade >= 90:\n",
    "    lex = 'A'\n",
    "elif grade >= 80:\n",
    "    lex = 'B'\n",
    "elif grade >= 70:\n",
    "    lex = 'C'\n",
    "elif grade >= 60:\n",
    "    lex = 'D'\n",
    "else:\n",
    "    lex = 'F'\n",
    "print('Ο βαθμός',grade,'αντιστοιχεί σε',lex)"
   ]
  },
  {
   "cell_type": "markdown",
   "metadata": {
    "collapsed": false,
    "jupyter": {
     "outputs_hidden": false
    }
   },
   "source": [
    "## Εμφώλευση"
   ]
  },
  {
   "cell_type": "markdown",
   "metadata": {
    "collapsed": false,
    "jupyter": {
     "outputs_hidden": false
    }
   },
   "source": [
    "Σε διάφορες περιπτώσεις είναι βολικότερο να χρησιμοποιούμε δομές `if` που περιέχονται με την σειρά τους σε άλλες δομές `if`. Η περίπτωση αυτή, όπως και στις δομές επανάληψης, ονομάζεται **εμφώλευση**."
   ]
  },
  {
   "cell_type": "markdown",
   "metadata": {
    "collapsed": false,
    "jupyter": {
     "outputs_hidden": false
    }
   },
   "source": [
    "**Παράδειγμα**\n",
    "\n",
    "Θέλουμε να βρούμε τον δείκτη μάζας σώματος (ΔΜΣ) ενήλικων ατόμων για δεδομένη ηλικία, ύψος και βάρος και να εμφανίζουμε μήνυμα για το αν το άτομο είναι υπέρβαρο (για ΔΜΣ>25), κανονικό (μεταξύ $(18.5,25]$) ή αδύνατο (για ΔΜΣ <18.5). Για τα ανήλικα άτομα θα πρέπει να εμφανίζουμε αντίστοιχο μήνυμα ότι ο δείκτης δεν ισχύει. Δίνεται ότι ο δείκτης μάζας σώματος είναι $\\text{ΔΜΣ} = \\frac{\\text{βάρος (kg)}}{\\text{ύψος}^2 \\, (\\text{m}^2)}$."
   ]
  },
  {
   "cell_type": "code",
   "execution_count": null,
   "metadata": {
    "collapsed": false,
    "jupyter": {
     "outputs_hidden": false
    }
   },
   "outputs": [],
   "source": [
    "age=22\n",
    "height = 1.86\n",
    "weight = 95\n",
    "if age >= 18:\n",
    "    bmi = weight/height ** 2\n",
    "    print(bmi)\n",
    "    if bmi <= 18.5:\n",
    "        print(\"Αδύνατο\")\n",
    "    elif bmi <= 25:\n",
    "        print(\"Κανονικό\")\n",
    "    else:\n",
    "        print(\"Υπέρβαρο\")\n",
    "else:\n",
    "    print(\"Ο δείκτης μάζας σώματος δεν ισχύει για ανήλικα άτομα.\")"
   ]
  },
  {
   "cell_type": "markdown",
   "metadata": {
    "collapsed": false,
    "jupyter": {
     "outputs_hidden": false
    }
   },
   "source": [
    "Φυσικά, μια ή περισσότερες δομές επιλογής μπορούν να συνδυαστούν με μια ή περισσότερες δομές επανάληψης."
   ]
  },
  {
   "cell_type": "markdown",
   "metadata": {
    "collapsed": false,
    "jupyter": {
     "outputs_hidden": false
    }
   },
   "source": [
    "**Παράδειγμα**"
   ]
  },
  {
   "cell_type": "markdown",
   "metadata": {
    "collapsed": false,
    "jupyter": {
     "outputs_hidden": false
    }
   },
   "source": [
    "Το “FizzBuzz” είναι ένα προσκοπικό παιχνίδι κατά το οποίο οι συμμετέχοντες ελέγχουν κάποιους διαδοχικούς φυσικούς αριθμούς. Κάθε αριθμός που είναι πολλαπλάσιο του 3 αντικαθίσταται από τη λέξη “Fizz” και κάθε αριθμός πολλαπλάσιο του 5 από το “Buzz”. Όταν ένας αριθμός είναι πολλαπλάσιο και του 3 και του 5, πρέπει να αντικατασταθεί από “FizzBuzz”. Αν ένας παίκτης κάνει κάποιο λάθος, βγαίνει εκτός παιχνιδιού. Το παιχνίδι συνεχίζεται μέχρι να μείνει μόνο ένας παίκτης.\n",
    "\n",
    "Για να λύσουμε το “FizzBuzz” προγραμματιστικά, θα κάνουμε μια χρήση της δομής `for` η οποία θα διατρέχει όλους τους αριθμούς i από το 1 έως το m. Με διαδοχικές `if` θα ελέγχουμε τον κάθε αριθμό i αν είναι πολλαπλάσιο του 3, του 5 ή και των δυο ώστε να μας εμφανιστεί το κατάλληλο μήνυμα. Διαφορετικά, θα εμφανίζεται ως απάντηση ο ίδιος ο αριθμός."
   ]
  },
  {
   "cell_type": "code",
   "execution_count": null,
   "metadata": {
    "collapsed": false,
    "jupyter": {
     "outputs_hidden": false
    }
   },
   "outputs": [],
   "source": [
    "m=20\n",
    "for i in range(1, m+1):\n",
    "    if i % 3 == 0 and i % 5 == 0:\n",
    "        print('FizzBuzz', end=' ')\n",
    "    elif i % 3 == 0:\n",
    "        print('Fizz', end=' ')\n",
    "    elif i % 5 == 0:\n",
    "        print('Buzz', end=' ')\n",
    "    else:\n",
    "        print(i, end=' ')\n"
   ]
  },
  {
   "cell_type": "markdown",
   "metadata": {
    "collapsed": false,
    "jupyter": {
     "outputs_hidden": false
    }
   },
   "source": [
    "# Κατασκευή συναρτήσεων με εντολές της Python"
   ]
  },
  {
   "cell_type": "markdown",
   "metadata": {
    "collapsed": false,
    "jupyter": {
     "outputs_hidden": false
    }
   },
   "source": [
    "Μπορούμε να ορίσουμε νέες συναρτήσεις (που ανήκουν στην κλάση `function` της python) στο SageMath με το ’στυλ’ που ορίζονται στην γλώσσα προγραμματισμού Python. Οι συναρτήσεις αυτές, μπορεί να αποτελέσουν ένα μέρος ενός προγράμματος Sage, μέσα σε ομαδοποιημένες εντολές που τους έχει δοθεί ένα όνομα και μπορούν φυσικά να χρησιμοποιηθούν όσες φορές χρειαστεί. Η γενική μορφή για την κατασκευή μιας συνάρτησης f είναι η παρακάτω:\n",
    "```\n",
    "def f (λίστα_παραμέτρων):\n",
    "    body\n",
    "    return τιμή\n",
    "```\n",
    "Οι εντολές στο body και η `return` πρέπει να γράφονται δεξιότερα από την λέξη `def` (ποτέ αριστερότερα ή ακριβώς από κάτω) και στην ίδια κάθετη ευθυγράμμιση. Η ‘λίστα_παραμέτρων’ μπορεί να είναι κενή (οπότε δεν έχουμε κάποια είσοδο για την επεξεργαστούν οι εντολές της f). Επίσης η επιστρεφόμενη τιμή (έξοδος, return) δεν είναι υποχρεωτική. Τότε όμως η συνάρτηση θα επιστρέφει τον ειδικό τύπο `None`.\n",
    "\n",
    "Οι μεταβλητές της λίστας ‘λίστα_παραμέτρων’ δεν χρειάζεται να δηλωθούν με την var! Οι μεταβλητές που εμφανίζονται μέσα στο body είναι πάντα ανεξάρτητες από όλες τις υπόλοιπες μεταβλητές που εμφανίζονται στον κώδικα μας εκτός της f ακόμα και όταν έχουν ακριβώς το ίδιο όνομα! Λεπτομέρειες θα δούμε παρακάτω"
   ]
  },
  {
   "cell_type": "markdown",
   "metadata": {
    "collapsed": false,
    "jupyter": {
     "outputs_hidden": false
    }
   },
   "source": [
    "Ακολουθεί ο ορισμός μιας συνάρτησης στην απλούστερη μορφή, με κενή λίστα παραμέτρων και χωρίς επιστρεφόμενη τιμή. Κάθε φορά που καλούμε την hello() εμφανίζεται το ίδιο πάντα μήνυμα ’Hello World’."
   ]
  },
  {
   "cell_type": "code",
   "execution_count": null,
   "metadata": {
    "collapsed": false,
    "jupyter": {
     "outputs_hidden": false
    }
   },
   "outputs": [],
   "source": [
    "def hello():\n",
    "    print('Hello World')"
   ]
  },
  {
   "cell_type": "markdown",
   "metadata": {
    "collapsed": false,
    "jupyter": {
     "outputs_hidden": false
    }
   },
   "source": [
    "Γράφοντας τον προηγούμενο κώδικα παρατηρούμε ότι δεν εμφανίζεται κάτι. Για να εκτελεστούν οι εντολές που περιλαμβάνει μια συνάρτηση θα πρέπει αυτή να κληθεί. Ακολουθεί η κλήση τη συνάρτησης η οποία γίνεται χωρίς την `def` αλλά μόνο με το όνομα και την (εδώ κενή) λίστα παραμέτρων."
   ]
  },
  {
   "cell_type": "code",
   "execution_count": null,
   "metadata": {
    "collapsed": false,
    "jupyter": {
     "outputs_hidden": false
    }
   },
   "outputs": [],
   "source": [
    "hello()"
   ]
  },
  {
   "cell_type": "markdown",
   "metadata": {
    "collapsed": false,
    "jupyter": {
     "outputs_hidden": false
    }
   },
   "source": [
    "## Παράμετροι, επιστρεφόμενη τιμή"
   ]
  },
  {
   "cell_type": "markdown",
   "metadata": {
    "collapsed": false,
    "jupyter": {
     "outputs_hidden": false
    }
   },
   "source": [
    "Η παραπάνω συνάρτηση δεν μπορεί να κάνει και πολλά γιατί δίνει πάντα το ίδιο αποτέλεσμα! Η μεταβολή στην έξοδό της μπορεί να γίνει μέσω μιας μη κενής λίστας παραμέτρων και μέσω της επιστρεφόμενης τιμής. Ακολουθεί η παραλλαγή της συνάρτησης με την προσθήκη μιας παραμέτρου καθώς και δύο διαφορετικές κλήσεις της (με δυο διαφορετικές εισόδους ’Isaac’ και ’Carl’)."
   ]
  },
  {
   "cell_type": "code",
   "execution_count": null,
   "metadata": {
    "collapsed": false,
    "jupyter": {
     "outputs_hidden": false
    }
   },
   "outputs": [],
   "source": [
    "def hello(name):\n",
    "    print('Hello',name)\n",
    "hello('Isaac')\n",
    "hello('Carl')"
   ]
  },
  {
   "cell_type": "markdown",
   "metadata": {
    "collapsed": false,
    "jupyter": {
     "outputs_hidden": false
    }
   },
   "source": [
    "Στην επόμενη έκδοση, ο χαιρετισμός επιστρέφεται με την εντολή `return` και μπορεί είτε να εκτυπωθεί απευθείας είτε να εκχωρηθεί σε μια μεταβλητή.  Φυσικά η είσοδος name πρέπει να είναι τύπου `str` ώστε να μπορέσει να συγκολληθεί με την ’Hellο’ χρησιμοποιώντας τον τελεστή `+`. Αν βγάλουμε από τα σχόλια την τελευταία εντολή κλήσης της hello με παράμετρο ακέραιο θα προκύψει σφάλμα `TypeError`, λάθος τύπου, λόγω του ότι δεν υπάρχει τρόπος να προστεθεί μια συμβολοσειρά με έναν ακέραιο."
   ]
  },
  {
   "cell_type": "code",
   "execution_count": null,
   "metadata": {
    "collapsed": false,
    "jupyter": {
     "outputs_hidden": false
    }
   },
   "outputs": [],
   "source": [
    "def hello(name):\n",
    "    return 'Hello ' + name\n",
    "print(hello('Isaac'))\n",
    "res = hello('Carl')\n",
    "print(res)\n",
    "#hello(5)"
   ]
  },
  {
   "cell_type": "markdown",
   "metadata": {
    "collapsed": false,
    "jupyter": {
     "outputs_hidden": false
    }
   },
   "source": [
    "Οι παράμετροι στις συναρτήσεις μπορούν να έχουν και εξ’ ορισμού τιμές. Στην περίπτωση αυτή, αν δεν δώσουμε κάποια παράμετρο κατά την κλήση της συνάρτησης, θα δοθεί η εξορισμού τιμή."
   ]
  },
  {
   "cell_type": "code",
   "execution_count": null,
   "metadata": {
    "collapsed": false,
    "jupyter": {
     "outputs_hidden": false
    }
   },
   "outputs": [],
   "source": [
    "def hello(name=\"World\",greettype=\"Hello\"):\n",
    "    print(greettype,name)\n",
    "hello(\"Carl\",\"Bye bye\")\n",
    "hello(\"Isaac\")"
   ]
  },
  {
   "cell_type": "markdown",
   "metadata": {
    "collapsed": false,
    "jupyter": {
     "outputs_hidden": false
    }
   },
   "source": [
    "Όταν έχουμε παραπάνω από μια παράμετρο έχουμε την δυνατότητα κατά την κλήση να τις περάσουμε με άλλη σειρά. Πρέπει, όμως, να χρησιμοποιήσουμε και τα ονόματα των παραμέτρων."
   ]
  },
  {
   "cell_type": "code",
   "execution_count": null,
   "metadata": {
    "collapsed": false,
    "jupyter": {
     "outputs_hidden": false
    }
   },
   "outputs": [],
   "source": [
    "def hello(name,greettype):\n",
    "    print(greettype,name)\n",
    "hello(greettype=\"Ciao\",name=\"Volta\")"
   ]
  },
  {
   "cell_type": "markdown",
   "metadata": {
    "collapsed": false,
    "jupyter": {
     "outputs_hidden": false
    }
   },
   "source": [
    "Δεν είναι πολύ καλή ιδέα να ορίζουμε συναρτήσεις του SageMath με την βοήθεια άλλων συναρτήσεων που έχουν ορισθεί με χρήση του def. Παράδειγμα: με ff(m)=hello(m,’Volta’) θα έχουμε πρόβλημα! Καλή πρακτική είναι οι νέες συναρτήσεις να είναι και αυτές τύπου\n",
    "python. Π.χ. def ff(m): return hello(m,’Volta’)"
   ]
  },
  {
   "cell_type": "markdown",
   "metadata": {
    "collapsed": false,
    "jupyter": {
     "outputs_hidden": false
    }
   },
   "source": [
    "**Παράδειγμα**\n",
    "\n",
    "Δημιουργήστε διαδοχικές συναρτήσεις, έστω _coneArea_ και _coneVolume_, της python οι οποίες δέχονται ακτίνα και ύψος και υπολογίζουν εμβαδόν και όγκο ενός  (κυκλικού) κώνου αντίστοιχα.\n",
    "\n",
    "Ο όγκος κώνου δίνεται από τον τύπο:\n",
    "$$\n",
    "V = \\frac{1}{3} \\pi r^2 h\n",
    "$$\n",
    "Το συνολικό εμβαδόν της επιφάνειας Α του κώνου δίνεται:\n",
    "$$\n",
    "A = \\pi r s + \\pi r^2\n",
    "$$\n",
    "\n",
    "Όπου:\n",
    "\n",
    "- r: Η ακτίνα του κώνου, δηλαδή η ακτίνα της κυκλικής βάσης του κώνου\n",
    "\n",
    "- h: Το ύψος του κώνου\n",
    "\n",
    "- s: Η γενέτειρα του κώνου, δηλαδή η πλευρά από την κορυφή του κώνου προς το περίγραμμα της βάσης $s = \\sqrt{r^2 + h^2}$\n",
    "\n",
    "![Κώνος](cone.png)"
   ]
  },
  {
   "cell_type": "code",
   "execution_count": null,
   "metadata": {
    "collapsed": false,
    "jupyter": {
     "outputs_hidden": false
    }
   },
   "outputs": [],
   "source": [
    "# Συνάρτηση που υπολογίζει εμβαδόν\n",
    "def coneArea(radius, height):\n",
    "    # Υπολογισμός γενέτειρας\n",
    "    slant_height = sqrt(radius^2 + height^2)\n",
    "    \n",
    "    lateral_area = pi * radius * slant_height\n",
    "    base_area = pi * radius^2\n",
    "    surface_area = lateral_area + base_area\n",
    "    return surface_area\n",
    "\n",
    "def coneVolume(radius, height):\n",
    "    volume = (1/3) * pi * radius^2 * height\n",
    "    return volume\n",
    "\n",
    "coneArea(3, 5),coneVolume(height=5,radius=3)"
   ]
  },
  {
   "cell_type": "markdown",
   "metadata": {
    "collapsed": false,
    "jupyter": {
     "outputs_hidden": false
    }
   },
   "source": [
    "## Συμβολικές vs Python συναρτήσεις"
   ]
  },
  {
   "cell_type": "markdown",
   "metadata": {
    "collapsed": false,
    "jupyter": {
     "outputs_hidden": false
    }
   },
   "source": [
    "Στο SageMath υπάρχει μεγάλη διαφορά ανάμεσα σε συναρτήσεις που ορίζονται με `def` της Python και σε συναρτήσεις που δηλώνονται συμβολικά (με f(x) = … ή με `piecewise`)."
   ]
  },
  {
   "cell_type": "markdown",
   "metadata": {
    "collapsed": false,
    "jupyter": {
     "outputs_hidden": false
    }
   },
   "source": [
    "Στην συνέχεια ορίζουμε δύο συναρτήσεις, η μια συνάρτηση python, τύπου `function`, με χρήση `def` και η άλλη συμβολική έκφραση του SageMath τύπου `sage.symbolic.expression.Expression`. Αν \"ρωτήσουμε\" τον τύπο τους, θα πάρουμε και τα αντίστοιχα αποτελέσματα."
   ]
  },
  {
   "cell_type": "code",
   "execution_count": null,
   "metadata": {
    "collapsed": false,
    "jupyter": {
     "outputs_hidden": false
    }
   },
   "outputs": [],
   "source": [
    "def f1(x):\n",
    "    return x^2\n",
    "f2(x)=x^2\n",
    "type(f1),type(f2)"
   ]
  },
  {
   "cell_type": "markdown",
   "metadata": {
    "collapsed": false,
    "jupyter": {
     "outputs_hidden": false
    }
   },
   "source": [
    "Αν \"ρωτήσουμε\" την τιμή της συνάρτησης και στις δύο περιπτώσεις θα πάρουμε την ίδια, σωστή, απάντηση."
   ]
  },
  {
   "cell_type": "code",
   "execution_count": null,
   "metadata": {
    "collapsed": false,
    "jupyter": {
     "outputs_hidden": false
    }
   },
   "outputs": [],
   "source": [
    "f1(2),f2(2)"
   ]
  },
  {
   "cell_type": "markdown",
   "metadata": {
    "collapsed": false,
    "jupyter": {
     "outputs_hidden": false
    }
   },
   "source": [
    "Έτσι, εφόσον ουσιαστικά για την γραφική παράσταση υπολογίζεται η τιμή της συνάρτησης για διάφορα x, μπορούμε να σχεδιάσουμε και στις δύο περιπτώσεις την γραφική παράσταση.  "
   ]
  },
  {
   "cell_type": "code",
   "execution_count": null,
   "metadata": {
    "collapsed": false,
    "jupyter": {
     "outputs_hidden": false
    }
   },
   "outputs": [],
   "source": [
    "plot(f1,figsize=(4,3))"
   ]
  },
  {
   "cell_type": "code",
   "execution_count": null,
   "metadata": {
    "collapsed": false,
    "jupyter": {
     "outputs_hidden": false
    }
   },
   "outputs": [],
   "source": [
    "plot(f2,figsize=(4,3))"
   ]
  },
  {
   "cell_type": "markdown",
   "metadata": {
    "collapsed": false,
    "jupyter": {
     "outputs_hidden": false
    }
   },
   "source": [
    "Ακολουθεί μια λίγο πιο πολύπλοκη, κλαδική αυτή τη φορά, συνάρτηση Python αλλά και SageMath."
   ]
  },
  {
   "cell_type": "code",
   "execution_count": null,
   "metadata": {
    "collapsed": false,
    "jupyter": {
     "outputs_hidden": false
    }
   },
   "outputs": [],
   "source": [
    "def g1(x):\n",
    "    if x<0:\n",
    "        return x\n",
    "    else:\n",
    "        return x^2\n",
    "g2 = piecewise([[(-infinity, 0), x],[RealSet.closed_open(0,+oo),x^2]])\n",
    "type(g1),type(g2)"
   ]
  },
  {
   "cell_type": "markdown",
   "metadata": {
    "collapsed": false,
    "jupyter": {
     "outputs_hidden": false
    }
   },
   "source": [
    "Και οι δύο συναρτήσεις μπορούν και πάλι να πάρουν τιμές αλλά και να σχεδιαστούν σωστά με την `plot`."
   ]
  },
  {
   "cell_type": "code",
   "execution_count": null,
   "metadata": {
    "collapsed": false,
    "jupyter": {
     "outputs_hidden": false
    }
   },
   "outputs": [],
   "source": [
    "g1(-2),g2(-2),g1(2),g2(2)"
   ]
  },
  {
   "cell_type": "code",
   "execution_count": null,
   "metadata": {
    "collapsed": false,
    "jupyter": {
     "outputs_hidden": false
    }
   },
   "outputs": [],
   "source": [
    "plot(g1,figsize=(4,3))"
   ]
  },
  {
   "cell_type": "code",
   "execution_count": null,
   "metadata": {
    "collapsed": false,
    "jupyter": {
     "outputs_hidden": false
    }
   },
   "outputs": [],
   "source": [
    "plot(g2,figsize=(4,3))"
   ]
  },
  {
   "cell_type": "markdown",
   "metadata": {
    "collapsed": false,
    "jupyter": {
     "outputs_hidden": false
    }
   },
   "source": [
    "Στην περίπτωση της απλής, μη κλαδικής, συνάρτησης παρατηρούμε ότι δίνεται σωστό αποτέλεσμα στην παράγωγο, στο αόριστο αλλά και στο ορισμένο ολοκλήρωμα."
   ]
  },
  {
   "cell_type": "code",
   "execution_count": null,
   "metadata": {
    "collapsed": false,
    "jupyter": {
     "outputs_hidden": false
    }
   },
   "outputs": [],
   "source": [
    "diff(f1(x), x),diff(f2(x), x)"
   ]
  },
  {
   "cell_type": "code",
   "execution_count": null,
   "metadata": {
    "collapsed": false,
    "jupyter": {
     "outputs_hidden": false
    }
   },
   "outputs": [],
   "source": [
    "integrate(f1(x), x),integrate(f2(x), x)"
   ]
  },
  {
   "cell_type": "code",
   "execution_count": null,
   "metadata": {
    "collapsed": false,
    "jupyter": {
     "outputs_hidden": false
    }
   },
   "outputs": [],
   "source": [
    "integral(f1(x),x,-1,3),integral(f2(x),x,-1,3)"
   ]
  },
  {
   "cell_type": "markdown",
   "metadata": {
    "collapsed": false,
    "jupyter": {
     "outputs_hidden": false
    }
   },
   "source": [
    "Εκεί που θα παρατηρθεί προβληματική συμπεριφορά είναι στην κλαδική. Στην πραγματικότητα η κλήση των `diff` και `integrate` δεν θα δημιουργήσει λάθος αλλά θα επιστρέψει την παράγωγο της έκφρασης που επιστρέφεται στην `else` μην μπορώντας να αποτιμήσει την συνθήκη x<0."
   ]
  },
  {
   "cell_type": "code",
   "execution_count": null,
   "metadata": {
    "collapsed": false,
    "jupyter": {
     "outputs_hidden": false
    }
   },
   "outputs": [],
   "source": [
    "diff(g1(x), x),diff(g2(x), x)"
   ]
  },
  {
   "cell_type": "code",
   "execution_count": null,
   "metadata": {
    "collapsed": false,
    "jupyter": {
     "outputs_hidden": false
    }
   },
   "outputs": [],
   "source": [
    "integrate(g1(x), x),integrate(g2(x), x)"
   ]
  },
  {
   "cell_type": "code",
   "execution_count": null,
   "metadata": {
    "collapsed": false,
    "jupyter": {
     "outputs_hidden": false
    }
   },
   "outputs": [],
   "source": [
    "integral(g1(x),x,-1,3),integral(g2(x),x,-1,3)"
   ]
  },
  {
   "cell_type": "markdown",
   "metadata": {
    "collapsed": false,
    "jupyter": {
     "outputs_hidden": false
    }
   },
   "source": [
    "## Εμβέλεια"
   ]
  },
  {
   "cell_type": "markdown",
   "metadata": {
    "collapsed": false,
    "jupyter": {
     "outputs_hidden": false
    }
   },
   "source": [
    "Η εμβέλεια (στα Αγγλικά **scope**), ορίζει το σώμα των εντολών στο οποίο συμμετέχει μια μεταβλητή ή συνάρτηση. Όταν μια μεταβλητή ορίζεται μέσα σε μια συνάρτηση που έχει ορισθεί μέσω `def`, τότε η εμβέλειά της είναι τοπική, δεν είναι ορατή έξω από αυτήν. Ας δούμε το παρακάτω παράδειγμα."
   ]
  },
  {
   "cell_type": "markdown",
   "metadata": {
    "collapsed": false,
    "jupyter": {
     "outputs_hidden": false
    }
   },
   "source": [
    "**Παράδειγμα**\n",
    "\n",
    "Η x παίρνει άλλη τιμή στο σώμα του ορισμού (x=10). Όμως μετά την εκτέλεση της myfun η τιμή της x δεν είναι ίση με 10. Αυτό διότι η εξωτερική x (με τιμή x) έχει τιμή 5. Η εσωτερική x δεν μπόρεσε να επηρεάσει την εξωτερική x!"
   ]
  },
  {
   "cell_type": "code",
   "execution_count": null,
   "metadata": {
    "collapsed": false,
    "jupyter": {
     "outputs_hidden": false
    }
   },
   "outputs": [],
   "source": [
    "x = 5\n",
    "def myfun():\n",
    "    x = 10 \n",
    "    print('Μέσα στην συνάρτηση - x=', x)\n",
    "\n",
    "myfun()\n",
    "print(\"Μετά την κλήση - x=\", x)"
   ]
  },
  {
   "cell_type": "markdown",
   "metadata": {
    "collapsed": false,
    "jupyter": {
     "outputs_hidden": false
    }
   },
   "source": [
    "Αν μέσα στον ορισμό μιας συνάρτησης f, ορίζεται μια τυχαία μεταβλητή έστω y, που δεν εμφανίζεται εκτός της f, τότε θα δημιουργηθεί πρόβλημα αν για παράδειγμα ζητήσουμε να εκτυπώσουμε την y (εκτός της f). Ο \"έξω\" κόσμος αγνοεί εντελώς τις μεταβλητές ή τις εντολές που υπάρχουν μέσα στο σώμα της f.\n",
    "\n",
    "Η χρήση της `global` επιτρέπει σε μια συνάρτηση f να ορίζει, να επεξεργάζεται ή ακόμα και να μεταβάλλει μια μεταβλητή η οποία πρόκειται να χρησιμοποιηθεί (ή και ήδη χρησιμοποιείται) εκτός του σώματος της f. Πρώτα δηλώνουμε μια μεταβλητή ως `global`, και μετά της δίνουμε κάποια τιμή ή την επεξεργαζόμαστε με τον οποιοδήποτε τρόπο."
   ]
  },
  {
   "cell_type": "code",
   "execution_count": null,
   "metadata": {
    "collapsed": false,
    "jupyter": {
     "outputs_hidden": false
    }
   },
   "outputs": [],
   "source": [
    "x = 5\n",
    "def myfun():\n",
    "    global x\n",
    "    x = 10 \n",
    "    print('Μέσα στην συνάρτηση - x=', x)\n",
    "\n",
    "myfun()\n",
    "print(\"Μετά την κλήση - x=\", x)"
   ]
  },
  {
   "cell_type": "markdown",
   "metadata": {
    "collapsed": false,
    "jupyter": {
     "outputs_hidden": false
    }
   },
   "source": [
    "Υπάρχει όμως ένα σοβαρό μειονέκτημα στην χρήση της `global`. Η εσωτερική μεταβλητή που θα ορισθεί ως `global`, επηρεάζει την λειτουργία της συνάρτησης, αφού η τρέχουσα τιμή της μεταβλητής θα χρησιμοποιηθεί αυτούσια και από όλες τις προηγούμενες κλήσεις της συνάρτησης! Στο παρακάτω παράδειγμα υπολογίζουμε το άθροισμα 0+1+2 με την myfun. Δοκιμάστε ξανά τον κώδικα μετατρέποντας την z σε `global` και προσπαθήστε να εξηγήσετε τι άλλαξε και πήραμε τώρα 0 αντί του 3. Θα ήταν πολύ χρήσιμο να προσθέσετε πριν την return και την γραμμή print(z,new) ώστε να δείτε τα τεκταινόμενα μέσα στον κώδικα!"
   ]
  },
  {
   "cell_type": "code",
   "execution_count": null,
   "metadata": {
    "collapsed": false,
    "jupyter": {
     "outputs_hidden": false
    }
   },
   "outputs": [],
   "source": [
    "def myfun(y):\n",
    "    if y<0: return 0\n",
    "    #global z\n",
    "    z=y\n",
    "    new=myfun(z-1)\n",
    "    return z+new\n",
    "myfun(2)"
   ]
  },
  {
   "cell_type": "markdown",
   "metadata": {
    "collapsed": false,
    "jupyter": {
     "outputs_hidden": false
    }
   },
   "source": [
    "**Παράδειγμα**\n",
    "\n",
    "Η μέθοδος Bolzano, γνωστή και ως μέθοδος διχοτόμησης (bisection method), είναι μια αριθμητική μέθοδος για την εύρεση της ρίζας μιας συνάρτησης σε ένα διάστημα [a,b] στο οποίο η συνάρτηση αλλάζει πρόσημο.\n",
    "\n",
    "Θα δημιουργηθεί συνάρτηση η οποία θα δέχεται μία συνάρτηση, _f_, τα _a_, _b_ του διαστήματος καθώς και τον αριθμό των επαναλήψεων, _iterations_, και την προσέγγιση που θέλουμε να επιτύχουμε, _tol_.\n",
    "\n",
    "Η συνάρτηση θα δοκιμαστεί στο [1,3] για τις συναρτήσεις:\n",
    "\n",
    "1. $f(x) = x^3 - 2x - 5$\n",
    "\n",
    "2. $f(x) = e^x-1$\n",
    "\n",
    "Θα σχεδιαστούν και οι αντίστοιχες γραφικές παραστάσεις. Οι λύσεις μπορούν να επαληθευτούν με την `find_root`."
   ]
  },
  {
   "cell_type": "code",
   "execution_count": null,
   "metadata": {
    "collapsed": false,
    "jupyter": {
     "outputs_hidden": false
    }
   },
   "outputs": [],
   "source": [
    "# Συνάρτηση python\n",
    "def bolzano_method(f, a, b, tol=1e-6, iterations=100):\n",
    "    global g\n",
    "    if f(a) * f(b) >= 0:\n",
    "        return \"Η συνάρτηση πρέπει να αλλάζει πρόσημο στο διάστημα (\"+str(a)+\",\"+str(b)+\")\"\n",
    "    for i in range(iterations):\n",
    "        g+= points([(a,f(a)),(b,f(b))],color='red',size=10)\n",
    "        c = (a + b) / 2\n",
    "        if abs(f(c)) < tol or (b - a) / 2 < tol:\n",
    "            return c\n",
    "        if f(a) * f(c) < 0:\n",
    "            b = c\n",
    "        else:\n",
    "            a = c\n",
    "    return \"Δεν βρέθηκε ρίζα μετά από το μέγιστο αριθμό επαναλήψεων\""
   ]
  },
  {
   "cell_type": "code",
   "execution_count": null,
   "metadata": {
    "collapsed": false,
    "jupyter": {
     "outputs_hidden": false
    }
   },
   "outputs": [],
   "source": [
    "# x^3 - 2x - 5\n",
    "a,b=1.0,3.0\n",
    "f(x) = x^3 - 2*x - 5\n",
    "g = Graphics()\n",
    "g+=plot(f,a-0.5,b+0.5)\n",
    "root = bolzano_method(f, a, b)\n",
    "print(root,find_root(f,a,b))\n",
    "g.show(figsize=(4,3))"
   ]
  },
  {
   "cell_type": "code",
   "execution_count": null,
   "metadata": {
    "collapsed": false,
    "jupyter": {
     "outputs_hidden": false
    }
   },
   "outputs": [],
   "source": [
    "# e^x-1\n",
    "a,b=1.0,3.0\n",
    "f(x) = e^x-1\n",
    "g = Graphics()\n",
    "g+=plot(f,a-0.5,b+0.5)\n",
    "root = bolzano_method(f, a, b)\n",
    "print(root) # find_root(f,a,b)\n",
    "g.show(figsize=(4,3))"
   ]
  },
  {
   "cell_type": "markdown",
   "metadata": {
    "collapsed": false,
    "jupyter": {
     "outputs_hidden": false
    }
   },
   "source": [
    "Στο παραπάνω παράδειγμα κάνουμε χρήση μιας `global` μεταβλητής g για την κατασκευή ενός γραφήματος g μαζί με όλα τα σημεία του επιπέδου (a,f(a)) και (b,f(b)) που εντοπίζει η μέθοδος Bolzano. Η μέθοδος `str(a)` μετατρέπει ένα νούμερο a σε string ώστε να μπορούμε να το προσθέσουμε (με το +) δηλ. να το συγκολλήσουμε σε άλλα string. Η `iter` δίνει το συνολικό αριθμό των επιτρεπτών επαναλήψεων και η tol ελέγχει κατά πόσο οι τιμές της f(c) είναι μικρές ή κατά πόσο τα άκρα του διαστήματος (a,b) είναι κοντά μεταξύ τους! Η προκαθορισμένη τιμή της tol στην bolzano_method είναι 1e-6, που είναι το $10^{−6}$ γραμμένο σε επιστημονικό φορμά (Scientific format). Αυτό δεν έχει σχέση με την αφαίρεση του 6 από το e!."
   ]
  },
  {
   "cell_type": "markdown",
   "metadata": {
    "collapsed": false,
    "jupyter": {
     "outputs_hidden": false
    }
   },
   "source": [
    "## Αναδρομή"
   ]
  },
  {
   "cell_type": "markdown",
   "metadata": {
    "collapsed": false,
    "jupyter": {
     "outputs_hidden": false
    }
   },
   "source": [
    "**Αναδρομικές** ονομάζονται οι συναρτήσεις οι οποίες καλούν τον εαυτό τους. Κάθε κλήση της συνάρτησης υπολογίζει την ίδια συνάρτηση μέχρι ενός σημείου όπου δεν απαιτείται επιπλέον κάποια κλήση. Σε αυτήν την περίπτωση χρησιμοποιείται μια κατάλληλη συνθήκη τερματισμού ώστε να σταματάει η εκτέλεση της αναδρομικής συνάρτησης."
   ]
  },
  {
   "cell_type": "markdown",
   "metadata": {
    "collapsed": false,
    "jupyter": {
     "outputs_hidden": false
    }
   },
   "source": [
    "**Παράδειγμα**\n",
    "\n",
    "Ο ορισμός του παραγοντικού με την μορφή μιας αναδρομικής συνάρτησης, στηρίζεται στο επόμενο σχήμα. Η συνθήκη τερματισμού είναι η m=0. Για m=0, το 0! ορίζεται, ως γνωστόν, ως 1.\n",
    "$$\n",
    "m! = \n",
    "\\begin{cases} \n",
    "1, & \\text{αν } m = 0 \\\\ \n",
    "n \\cdot (m-1)!, & \\text{αν } m > 0 \n",
    "\\end{cases}\n",
    "$$\n",
    "\n",
    "Όπως έχουμε δει, παρέχεται και η συνάρτηση `factorial` για τον υπολογισμό του παραγοντικού. Συγκρίνοντας τα αποτελέσματα δίπλα δίπλα, διαπιστώνουμε ότι δίνουν το ίδιο νούμερο για m=5."
   ]
  },
  {
   "cell_type": "code",
   "execution_count": null,
   "metadata": {
    "collapsed": false,
    "jupyter": {
     "outputs_hidden": false
    }
   },
   "outputs": [],
   "source": [
    "def myfact(m):\n",
    "    if m == 0:\n",
    "        return 1\n",
    "    return m * myfact(m - 1)\n",
    "myfact(5),factorial(5)"
   ]
  },
  {
   "cell_type": "markdown",
   "metadata": {
    "collapsed": false,
    "jupyter": {
     "outputs_hidden": false
    }
   },
   "source": [
    "**Παράδειγμα**\n",
    "\n",
    "Ο υπολογισμός της ακολουθίας Fibonacci μπορεί να γίνει αναδρομικά με τον εξής ορισμό:\n",
    "$$\n",
    "F(m) = \n",
    "\\begin{cases} \n",
    "0, & \\text{αν } m = 0 \\\\ \n",
    "1, & \\text{αν } m = 1 \\\\ \n",
    "F(m-1) + F(m-2), & \\text{αν } m > 1 \n",
    "\\end{cases}\n",
    "$$\n",
    "Αυτός δηλώνει ότι κάθε όρος F(m) είναι το άθροισμα των δύο προηγούμενων όρων, με συνθήκες τερματισμού τις m=0 και m=1 που γράφονται απλά και ως $m \\leq 1$.\n",
    "\n",
    "Το SageMath παρέχει την συνάρτηση `fibonacci` για την επιστροφή του n-οστού όρου της ακολουθίας. Παρακάτω κατασκευάζουμε την συνάρτηση fibo(m) για την Fibonacci και την συγκρίνουμε με την προεγκατεστημένη fibonacci για m=10."
   ]
  },
  {
   "cell_type": "code",
   "execution_count": null,
   "metadata": {
    "collapsed": false,
    "jupyter": {
     "outputs_hidden": false
    }
   },
   "outputs": [],
   "source": [
    "def fibo(m):\n",
    "    if m <= 1:\n",
    "        return m\n",
    "    return fibo(m - 1) + fibo(m - 2)\n",
    "for i in [0..10]:\n",
    "    print(fibo(i),end = ' ')\n",
    "fibonacci(10)"
   ]
  },
  {
   "cell_type": "markdown",
   "metadata": {
    "collapsed": false,
    "jupyter": {
     "outputs_hidden": false
    }
   },
   "source": [
    "**Παράδειγμα**\n",
    "\n",
    "Ο αλγόριθμος του Ευκλείδη για τον υπολογισμό του μέγιστου κοινού διαιρέτη, στα Αγγλικά **great common divisor**, αποτελεί ίσως τον αρχαιότερο καταγεγραμμένο αλγόριθμο. Ακολουθεί ο αναδρομικός ορισμός του\n",
    "$$\n",
    "\\text{gcd}(a, b) =\n",
    "\\begin{cases}\n",
    "a, & \\text{αν } b = 0 \\\\\n",
    "\\text{gcd}(b, a \\mod b), & \\text{αν } b \\neq 0\n",
    "\\end{cases}\n",
    "$$\n",
    "Έτσι για παράδειγμα για a=48 και b=18:\n",
    "\n",
    "- 48 mod 18=12\n",
    "\n",
    "- 18 mod 12=6\n",
    "\n",
    "- 12 mod 6=0\n",
    "\n",
    "Άρα, gcd(48,18)=6\n",
    "\n",
    "Στο SageMath η συνάρτηση `gcd` επιστρέφει τον μέγιστο κοινό διαρέτη των παραμέτρων του. Χρησιμοποιείται στην συνέχεια για την επαλήθευση της δικής μας μεθόδου."
   ]
  },
  {
   "cell_type": "code",
   "execution_count": null,
   "metadata": {
    "collapsed": false,
    "jupyter": {
     "outputs_hidden": false
    }
   },
   "outputs": [],
   "source": [
    "def mygcd(a, b):\n",
    "    if b == 0:\n",
    "        return a\n",
    "    return mygcd(b, a % b)\n",
    "mygcd(48,18),gcd(48,18)"
   ]
  },
  {
   "cell_type": "markdown",
   "metadata": {
    "collapsed": false,
    "jupyter": {
     "outputs_hidden": false
    }
   },
   "source": [
    "## Fractals"
   ]
  },
  {
   "cell_type": "markdown",
   "metadata": {
    "collapsed": false,
    "jupyter": {
     "outputs_hidden": false
    }
   },
   "source": [
    "Τα Fractal (ελλ. μορφόκλασμα ή μορφοκλασματικό σύνολο) αποτελούν μια τάξη πολύπλοκων γεωμετρικών μορφών που έχουν την ιδιότητα της αυτοομοιότητας. Ακριβώς αυτή η αυτοομοιότητα είναι που επιτρέπει στην αναδρομή να σχεδιάσει τέτοιου είδους γεωμετρικές μορφές."
   ]
  },
  {
   "cell_type": "markdown",
   "metadata": {
    "collapsed": false,
    "jupyter": {
     "outputs_hidden": false
    }
   },
   "source": [
    "**Παράδειγμα**\n",
    "\n",
    "Θα δημιουργήσουμε ένα fractal δέντρο με μια σειρά από γραμμές που θα μικραίνουν σταδιακά σε μήκος. Με αρχικό βάθος κατά την κλήση depth και μέγιστο βάθος maxdepth στην συνθήκη τερματισμού της αναδρομής depth > maxdepth θα επιστραφεί ένα αντικείμενο γραφικών το οποίο και θα εμφανιστεί."
   ]
  },
  {
   "cell_type": "code",
   "execution_count": null,
   "metadata": {
    "collapsed": false,
    "jupyter": {
     "outputs_hidden": false
    }
   },
   "outputs": [],
   "source": [
    "def draw_tree(x, y, angle, length, depth, maxdepth):\n",
    "    if depth > maxdepth:\n",
    "        return Graphics()\n",
    "    nextx = x + length * cos(angle)\n",
    "    nexty = y + length * sin(angle)\n",
    "    \n",
    "    # Σχεδίαση κλαδιoύ\n",
    "    branch = line([(x, y), (nextx, nexty)], color='green')\n",
    "    \n",
    "    # Αναδρομική κλήση για δύο μικρότερα κλαδιά \n",
    "    leftBranch = draw_tree(nextx, nexty, angle + pi/6, length * 0.8, depth + 1, maxdepth)\n",
    "    rightBranch = draw_tree(nextx, nexty, angle - pi/6, length * 0.8, depth + 1, maxdepth)\n",
    "    \n",
    "    return branch + leftBranch + rightBranch\n",
    "\n",
    "tree = draw_tree(0, 0, pi/2, 1, 1, 10)\n",
    "tree.show(aspect_ratio=1,axes=False,figsize=(4,3))"
   ]
  },
  {
   "cell_type": "markdown",
   "metadata": {
    "collapsed": false,
    "jupyter": {
     "outputs_hidden": false
    }
   },
   "source": [
    "Μπορούμε να καταλάβουμε πως ’δουλεύει’ η draw_tree θέτοντας μικρό maxdepth π.χ. 2 ή 3. Ουσιαστικά σε κάθε κλήση δημιουργούνται όλο και μικρότεροι κλάδοι. Από κάθε κλάδο γεννιούνται δυο νέοι κλάδοι μέσω των leftBranch και rightBranch."
   ]
  },
  {
   "cell_type": "markdown",
   "metadata": {
    "collapsed": false,
    "jupyter": {
     "outputs_hidden": false
    }
   },
   "source": [
    "Είναι πολύ χρήσιμο για διδακτικούς σκοπούς να θέσετε πριν τον ορισμό του branch το global branch και να δείτε το νέο αποτέλεσμα. Αν θέλετε οπωσδήποτε το branch να είναι global τότε θα χρειαστείτε να αλλάξετε τον ορισμό του σε branch += line([(x, y), (nextx, nexty)], color='green')"
   ]
  },
  {
   "cell_type": "markdown",
   "metadata": {
    "collapsed": false,
    "jupyter": {
     "outputs_hidden": false
    }
   },
   "source": [
    "**Παράδειγμα**\n",
    "\n",
    "Ένα από τα πρώτα φράκταλ αποτελεί η νιφάδα του Κοχ από τον Σουηδό μαθηματικό Χέλγκε φον Κοχ (Niels Fabian Helge von Koch). Δημιουργείται από ένα ευθύγραμμο τμήμα που χωρίζεται στα τρία. Το μεσαίο τμήμα αποτελεί βάση για ένα ισόπλευρο τρίγωνο του οποίου όμως η βάση δεν σχεδιάζεται. Για τις δυο πλευρές του τριγώνου γίνεται και πάλι η παραπάνω διαδικασία του χωρισμού στα τρία κοκ. Δημιουργώντας τρία τέτοια σχήματα σχηματίζεται μία νιφάδα. Μπορούμε να δοκιμάσουμε να προσαρμόσουμε την παράμετρο maxdepth για να δούμε πώς σχηματίζεται η νιφάδα από το αρχικό τρίγωνο."
   ]
  },
  {
   "cell_type": "code",
   "execution_count": null,
   "metadata": {
    "collapsed": false,
    "jupyter": {
     "outputs_hidden": false
    }
   },
   "outputs": [],
   "source": [
    "def kochSnowflake(x1, y1, x2, y2, depth, maxdepth):\n",
    "    if depth == maxdepth:\n",
    "        return line([(x1, y1), (x2, y2)], color='blue')\n",
    "    \n",
    "    # Χωρισμός τμήματος σε 3 ίσα τμήματα\n",
    "    dx = x2 - x1\n",
    "    dy = y2 - y1\n",
    "    x3 = x1 + dx / 3\n",
    "    y3 = y1 + dy / 3\n",
    "    x5 = x1 + 2 * dx / 3\n",
    "    y5 = y1 + 2 * dy / 3\n",
    "    \n",
    "    # Η κορυφή του ισόπλευρου τριγώνου\n",
    "    xtip = 0.5 * (x1 + x2) - sqrt(3) * (y1 - y2) / 6\n",
    "    ytip = 0.5 * (y1 + y2) + sqrt(3) * (x1 - x2) / 6\n",
    "    \n",
    "    # Αναδρομική κλήση\n",
    "    return (kochSnowflake(x1, y1, x3, y3, depth + 1, maxdepth) +\n",
    "            kochSnowflake(x3, y3, xtip, ytip, depth + 1, maxdepth) +\n",
    "            kochSnowflake(xtip, ytip, x5, y5, depth + 1, maxdepth) +\n",
    "            kochSnowflake(x5, y5, x2, y2, depth + 1, maxdepth))\n",
    "\n",
    "\n",
    "g = Graphics()\n",
    "# Δημιουργία τριών πλευρών, κατάλληλη κλήση ώστε να σχηματίζουν τρίγωνο μεταξύ τους\n",
    "g += kochSnowflake(0, 0, 1, 0, depth=0, maxdepth=4)\n",
    "g += kochSnowflake(1, 0, 0.5, sqrt(3) / 2, depth=0, maxdepth=4)\n",
    "g += kochSnowflake(0.5, sqrt(3) / 2, 0, 0, depth=0, maxdepth=4)\n",
    "g.show(aspect_ratio=1,axes=False,figsize=(4,3))"
   ]
  },
  {
   "cell_type": "markdown",
   "metadata": {
    "collapsed": false,
    "jupyter": {
     "outputs_hidden": false
    }
   },
   "source": [
    "Για καλύτερη κατανόηση του αλγόριθμου, σχεδιάστε κάθε πλευρά ξεχωριστά και έχοντας παραλείψει το axes=False π.χ. kochSnowflake(1, 0, 0.5, sqrt(3) / 2, depth=0, maxdepth).show(aspect_ratio=1)."
   ]
  },
  {
   "cell_type": "markdown",
   "metadata": {
    "collapsed": false,
    "jupyter": {
     "outputs_hidden": false
    }
   },
   "source": [
    "**Παράδειγμα**\n",
    "\n",
    "Το τρίγωνο Σιερπίνσκι (στα αγγλικά Sierpinski Triangle) δημιουργείται από ένα ισόπλευρο τρίγωνο το οποίο διαιρείται αναδρομικά σε μικρότερα ισόπλευρα τρίγωνα. Να υπενθυμίσουμε εδώ ότι όταν θέλουμε το SageMath να μας δώσει ένα τυχαίο πραγματικό αριθμό στο διάστημα $[a,b)$ χρησιμοποιούμε την εντολή RR.random_element(a,b). Εδώ χρησιμοποιούμε τυχαίους αριθμούς στο $[0,1)$ για να χρωματίσουμε με τυχαίο χρωματισμό color= (r,g,b) τα τρίγωνα που μας δίνει η polygon"
   ]
  },
  {
   "cell_type": "code",
   "execution_count": null,
   "metadata": {
    "collapsed": false,
    "jupyter": {
     "outputs_hidden": false
    }
   },
   "outputs": [],
   "source": [
    "def sierpinski(p1, p2, p3, depth, maxdepth):\n",
    "    if depth == maxdepth:\n",
    "        r,g,b = RR.random_element(0, 1),RR.random_element(0, 1),RR.random_element(0, 1)\n",
    "        return polygon([p1,p2,p3],color=(r,g,b))\n",
    "    \n",
    "    # Μέσα κάθε πλευράς τριγώνου\n",
    "    m12 = (p1[0] + p2[0]) / 2, (p1[1] + p2[1]) / 2\n",
    "    m23 = (p2[0] + p3[0]) / 2, (p2[1] + p3[1]) / 2\n",
    "    m31 = (p3[0] + p1[0]) / 2, (p3[1] + p1[1]) / 2\n",
    "\n",
    "    return (sierpinski(p1, m12, m31, depth + 1, maxdepth) +\n",
    "            sierpinski(m12, p2, m23, depth + 1, maxdepth) +\n",
    "            sierpinski(m31, m23, p3, depth + 1, maxdepth))\n",
    "\n",
    "g = Graphics()\n",
    "p1 = (0,0)\n",
    "p2 = (1,0)\n",
    "p3 = (0.5, sqrt(3)/2)\n",
    "g += sierpinski(p1,p2,p3,0,4)\n",
    "g.show(aspect_ratio=1,figsize=(4,3))"
   ]
  },
  {
   "cell_type": "markdown",
   "metadata": {
    "collapsed": false,
    "jupyter": {
     "outputs_hidden": false
    }
   },
   "source": [
    "# Εφαρμογή: Μέθοδος Monte Carlo"
   ]
  },
  {
   "cell_type": "markdown",
   "metadata": {
    "collapsed": false,
    "jupyter": {
     "outputs_hidden": false
    }
   },
   "source": [
    "**Παράδειγμα**\n",
    "\n",
    "Θα υλοποιηθεί πρόγραμμα που θα προσεγγίζει την τιμή του $\\pi$ με τη μέθοδο Monte Carlo:\n",
    "\n",
    "1. Θεωρούμε το τετράγωνο $[0,1]\\times[0,1]$.  \n",
    "\n",
    "2. Παράγουμε τυχαία σημεία $(x,y)$ με χρήση της `random()` της Sage.  \n",
    "\n",
    "3. Ελέγχουμε αν το σημείο ανήκει στο τεταρτημόριο του μοναδιαίου κύκλου $(x^2+y^2 \\leq 1$).  \n",
    "\n",
    "4. Υπολογίζουμε την αναλογία $\\pi \\approx 4 \\cdot \\frac{M}{N}$ όπου $M$ τα σημεία μέσα στον κύκλο και $N$ τα συνολικά σημεία.  \n",
    "\n",
    "5. Χρησιμοποιούμε μια εντολή `while` ώστε η διαδικασία να συνεχίζεται μέχρι η προσέγγιση να έχει σφάλμα μικρότερο του $10^{-3}$. \n",
    "\n",
    "6. Στον ίδιο καμβά θα εμφανιστοούν τα γραφήματα:\n",
    "\n",
    "    - με τα σημεία μέσα στον κύκλο (πράσινα) και έξω από τον κύκλο (κόκκινα), καθώς και το τόξο του τεταρτημορίου.\n",
    "\n",
    "    - στο οποίο θα φαίνεται η προσέγγιση του $π$."
   ]
  },
  {
   "cell_type": "code",
   "execution_count": 3,
   "metadata": {
    "collapsed": false,
    "jupyter": {
     "outputs_hidden": false
    }
   },
   "outputs": [
    {
     "data": {
      "image/png": "[encoded data removed]",
      "text/plain": [
       "Graphics Array of size 2 x 1"
      ]
     },
     "metadata": {},
     "output_type": "display_data"
    }
   ],
   "source": [
    "# συνολικός αριθμός σημείων\n",
    "NN = 1000\n",
    "# σημεία μέσα στον κύκλο\n",
    "MM = 0          \n",
    "tolerance = 1e-3\n",
    "g1 = Graphics()\n",
    "g2 = Graphics()\n",
    "g2 += line([(0, pi), (NN, pi)], color='red')\n",
    "for i in range(1,NN+1):\n",
    "    x = RR.random_element(0,1)\n",
    "    y = RR.random_element(0,1)\n",
    "    if x^2 + y^2 <= 1:\n",
    "        MM += 1\n",
    "        g1 += point((x, y), color='green', size=10)\n",
    "    else:\n",
    "        g1 += point((x, y), color='red', size=10)\n",
    "    g2 +=point((i,4*MM/i), color='green', size=5)\n",
    "approx_pi = 4*MM/NN\n",
    "txt = f\"π ≈ {n(approx_pi, 6)}\"\n",
    "g1 += text(txt, (-0.5, 0.2), color='black', \\\n",
    "          fontsize=12, horizontal_alignment='center')\n",
    "g1 += circle((0,0), 1, color='blue', fill=False)\n",
    "#g.show(figsize=(3,3), gridlines='True')\n",
    "#gpi.show(figsize=(4,3))\n",
    "g = graphics_array([[g1],[g2]])\n",
    "g.show()"
   ]
  },
  {
   "cell_type": "markdown",
   "metadata": {
    "collapsed": false,
    "jupyter": {
     "outputs_hidden": false
    }
   },
   "source": [
    "Στο παραπάνω παράδειγμα έγινε χρήση της graphics_array για την παρουσίαση δύο γραφημάτων στον ίδιο καμβά. Η μέθοδος δέχεται λίστα με γραφήματα, παρουσιάζοντάς τα στην ίδια σειρά, ή λίστα με λίστες γραφημάτων όπως παραπάνω, παρουσιάζοντάς κάθε υπολίστα σε επόμενη σειρά."
   ]
  }
 ],
 "metadata": {
  "kernelspec": {
   "display_name": "SageMath 9.5",
   "language": "sage",
   "name": "sagemath"
  },
  "language_info": {
   "codemirror_mode": {
    "name": "ipython",
    "version": 3
   },
   "file_extension": ".py",
   "mimetype": "text/x-python",
   "name": "python",
   "nbconvert_exporter": "python",
   "pygments_lexer": "ipython3",
   "version": "3.10.12"
  }
 },
 "nbformat": 4,
 "nbformat_minor": 4
}
