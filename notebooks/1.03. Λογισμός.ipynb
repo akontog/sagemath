{
 "cells": [
  {
   "cell_type": "markdown",
   "metadata": {
    "collapsed": false,
    "jupyter": {
     "outputs_hidden": false
    }
   },
   "source": [
    "<div style=\"padding: 20px 0; text-align: center; font-weight: bold; font-size: 170%; background-color: #1d4055; color: #ffffff;\"> 03. Λογισμός</div>"
   ]
  },
  {
   "cell_type": "markdown",
   "metadata": {
    "collapsed": false,
    "jupyter": {
     "outputs_hidden": false
    }
   },
   "source": [
    "# Συναρτήσεις"
   ]
  },
  {
   "cell_type": "markdown",
   "metadata": {
    "collapsed": false,
    "jupyter": {
     "outputs_hidden": false
    }
   },
   "source": [
    "Για να οριστεί μια συνάρτηση, όταν η μεταβλητή είναι η `x` (σε κάποιες περιπτώσεις και `y` ή `z`), δεν απαιτείται η δήλωσή της ως συμβολική μεταβλητή."
   ]
  },
  {
   "cell_type": "markdown",
   "metadata": {
    "collapsed": false,
    "jupyter": {
     "outputs_hidden": false
    }
   },
   "source": [
    "Στο παρακάτω παράδειγμα, ορίζουμε την συνάρτηση $f(x) = x^2 - 1$ βρίσκουμε την τιμή της για x = 2 και σχεδιάζουμε την γραφική της παράσταση.\n",
    "\n",
    "Σημειώνεται ότι η `figsize` που χρησιμοποιείται στον παρακάτω κώδικα για την δημιουργία της τελικής εικόνας, θέτει τiς αναλογίες της πλάτους και ύψους σε ίντσες. Μπορεί να χρησιμοποιηθεί και στην show συνάρτηση (δείτε παραδείγματα στον κώδικα σβήνοντας τα #). Θέτοντας `figsize=[4,3]` θα προκύψει μια τελική εικόνα με 4/3 μεγαλύτερο μήκος σε σχέση με το ύψος της, ενώ οι πραγματικές της διαστάσεις της θα είναι, ανάλογη με το dpi (dots per inch, συνήθως 100 φορές παραπάνω δηλ. 400 x 300 pixels. Η `show` είναι αντίστοιχη της `print`, αφού αναγκάζει το sage να εμφανίσει το αποτέλεσμα. Όμως το τελικό οπτικό αποτέλεσμα, όπως έχουμε ήδη πει, είναι συνήθως ανώτερο της `print`."
   ]
  },
  {
   "cell_type": "code",
   "execution_count": null,
   "metadata": {
    "collapsed": false,
    "jupyter": {
     "outputs_hidden": false
    }
   },
   "outputs": [],
   "source": [
    "f(x)=x^2-1\n",
    "# μπορείτε να το τρέξετε για να δείτε την διαφορά.\n",
    "# δεν εμφανίζεται στην οθόνη αν υπάρχει άλλη εντολή στην συνέχεια\n",
    "#f(2) \n",
    "#το f(2)  εμφανίζεται στην οθόνη\n",
    "print(f(2))\n",
    "#show(f) \n",
    "print(f) "
   ]
  },
  {
   "cell_type": "code",
   "execution_count": null,
   "metadata": {
    "collapsed": false,
    "jupyter": {
     "outputs_hidden": false
    }
   },
   "outputs": [],
   "source": [
    "p = plot(f,(x,-1.5,1.5),ymin=-1,ymax=1,aspect_ratio=1,\\\n",
    "     thickness=3, color='#80a080',figsize=(4,3))\n",
    "# p.show(figsize=[4,3])\n",
    "p"
   ]
  },
  {
   "cell_type": "markdown",
   "metadata": {
    "collapsed": false,
    "jupyter": {
     "outputs_hidden": false
    }
   },
   "source": [
    "Σχόλιο: Το `figsize` χρησιμοποιείται σε πολλά γραφικά των σημειώσεων. Η χρήση του έχει απλά σκοπό να προκύψουν γραφικά περιορισμένων και ελεγχόμενων διαστάσεων για τις ανάγκες του παρόντος βοηθήματος. Όμως γενικά η χρήση του δεν είναι απαραίτητη. Αν κάποιος σκέφτεται να γράψει σημειώσεις με κείμενο και εικόνες στο jupyter notebook που θα τις εξάγει σε μορφή html (για την ιστοσελίδα του), τότε δεν είναι σκόπιμη η χρήση της `figsize` διότι:\n",
    "\n",
    "- οι html σελίδες δεν έχουν κάποιες διαστάσεις, ο χρήστης μπορεί να τις σμικρύνει ή να τις μεγεθύνει όσο θέλει. Δεν είναι σκόπιμο να έχουμε μια εικόνα με λίγα pixels και άρα κακής ανάλυσης.\n",
    "\n",
    "- Μπορεί να \"συγκρουστεί\" με την επιλογή `aspect_ratio` (δηλ. την αναλογία των μονάδων του κάθετου ως προς τον οριζόντιο άξονα). Έτσι, για παράδειγμα, αν ο χρήστης είχε ορίσει `figsize=[8,4]` τότε μια εντολή `aspect_ratio=1` θα αναγκάσει το SageMath να μην υπακούσει στις εξωτερικές αναλογίες του πλαισίου που απαιτεί η `figsize`, για να μην παραμορφωθούν οι επιθυμητές αναλογίες των αξόνων του γραφήματος."
   ]
  },
  {
   "cell_type": "markdown",
   "metadata": {
    "collapsed": false,
    "jupyter": {
     "outputs_hidden": false
    }
   },
   "source": [
    "Υπενθυμίζεται ότι εάν θέλουμε μεταβλητή διαφορετική από `x` (και ανάλογα την έκδοση `y`, `z`) θα πρέπει αυτές να δηλωθούν ως συμβολικές. Ακολουθεί η συνάρτηση $g(a, b) = a^2 + b^2$."
   ]
  },
  {
   "cell_type": "code",
   "execution_count": null,
   "metadata": {
    "collapsed": false,
    "jupyter": {
     "outputs_hidden": false
    }
   },
   "outputs": [],
   "source": [
    "# Το SR. δεν είναι υποχρεωτικό\n",
    "# Εναλλακτικά var('a'), var('b')\n",
    "a = SR.var('a')\n",
    "b = SR.var('b')\n",
    "g(a, b) = a^2 + b^2\n",
    "g, g(2, 3) "
   ]
  },
  {
   "cell_type": "code",
   "execution_count": null,
   "metadata": {
    "collapsed": false,
    "jupyter": {
     "outputs_hidden": false
    },
    "scrolled": true
   },
   "outputs": [],
   "source": [
    "plot3d(g,(a,-1,1),(b,-1,1))"
   ]
  },
  {
   "cell_type": "markdown",
   "metadata": {
    "collapsed": false,
    "jupyter": {
     "outputs_hidden": false
    }
   },
   "source": [
    "## Ορισμός διαστημάτων στο $\\mathbb{R}$"
   ]
  },
  {
   "cell_type": "markdown",
   "metadata": {
    "collapsed": false,
    "jupyter": {
     "outputs_hidden": false
    }
   },
   "source": [
    "Το `RealSet` στο SageMath είναι μια συμβολική αναπαράσταση διαστημάτων του $\\mathbb{R}$. Τα πεδία αυτά μπορεί να είναι ανοιχτά η κλειστά."
   ]
  },
  {
   "cell_type": "code",
   "execution_count": null,
   "metadata": {
    "collapsed": false,
    "jupyter": {
     "outputs_hidden": false
    }
   },
   "outputs": [],
   "source": [
    "RealSet(0,1),RealSet([-2,1])"
   ]
  },
  {
   "cell_type": "markdown",
   "metadata": {
    "collapsed": false,
    "jupyter": {
     "outputs_hidden": false
    }
   },
   "source": [
    "Μπορούμε, με χρήση της `RealSet`, να δημιουργήσουμε και ενώσεις διαστημάτων."
   ]
  },
  {
   "cell_type": "code",
   "execution_count": null,
   "metadata": {
    "collapsed": false,
    "jupyter": {
     "outputs_hidden": false
    }
   },
   "outputs": [],
   "source": [
    "RealSet((0,1), [3,5])"
   ]
  },
  {
   "cell_type": "markdown",
   "metadata": {
    "collapsed": false,
    "jupyter": {
     "outputs_hidden": false
    }
   },
   "source": [
    "Εναλλακτικά για ένωση διαστημάτων μπορεί να χρησιμοποιηθεί και ο τελεστής `|`."
   ]
  },
  {
   "cell_type": "code",
   "execution_count": null,
   "metadata": {
    "collapsed": false,
    "jupyter": {
     "outputs_hidden": false
    }
   },
   "outputs": [],
   "source": [
    "RealSet(0,1) | RealSet([3,5])"
   ]
  },
  {
   "cell_type": "markdown",
   "metadata": {
    "collapsed": false,
    "jupyter": {
     "outputs_hidden": false
    }
   },
   "source": [
    "Μπορούμε να χρησιμοποιήσουμε τον τελεστή `-` για να αφαιρέσουμε από ένα διάστημα από ένα άλλο διάστημα, ουσιαστικά να βρούμε την διαφορά τους."
   ]
  },
  {
   "cell_type": "code",
   "execution_count": null,
   "metadata": {
    "collapsed": false,
    "jupyter": {
     "outputs_hidden": false
    }
   },
   "outputs": [],
   "source": [
    "RealSet(1,5) - RealSet([2,4])"
   ]
  },
  {
   "cell_type": "markdown",
   "metadata": {
    "collapsed": false,
    "jupyter": {
     "outputs_hidden": false
    }
   },
   "source": [
    "Ένα μονοσύνολο, μπορεί να δημιουργηθεί με την `point`."
   ]
  },
  {
   "cell_type": "code",
   "execution_count": null,
   "metadata": {
    "collapsed": false,
    "jupyter": {
     "outputs_hidden": false
    }
   },
   "outputs": [],
   "source": [
    "RealSet.point(1/2)"
   ]
  },
  {
   "cell_type": "markdown",
   "metadata": {
    "collapsed": false,
    "jupyter": {
     "outputs_hidden": false
    }
   },
   "source": [
    "Σε κάθε γλώσσα προγραμματισμού, παρενθέσεις `()`, αγκύλες `[]` και άγκιστρα `{}`, στα αγγλικά **brackets**, πρέπει να είναι ισορροπημένα. Κάθε bracket που ανοίγει θα πρέπει να κλείνει. Έτσι, με τον παραπάνω τρόπο, δεν έχουμε δυνατότητα να δημιουργήσουμε διαστήματα όπως $(0,1]$. Η python δεν το επιτρέπει και προκύπτει συντακτικό λάθος."
   ]
  },
  {
   "cell_type": "code",
   "execution_count": null,
   "metadata": {
    "collapsed": false,
    "jupyter": {
     "outputs_hidden": false
    }
   },
   "outputs": [],
   "source": [
    "#RealSet((0,1])"
   ]
  },
  {
   "cell_type": "markdown",
   "metadata": {
    "collapsed": false,
    "jupyter": {
     "outputs_hidden": false
    }
   },
   "source": [
    "Για να μπορέσουμε να κατασκευάσουμε τέτοιου τύπου διαστήματα θα χρησιμοποιήσουμε τις μεθόδους της `RealSet` `open_closed` και `closed_open` όπως φαίνεται στα παραδείγματα."
   ]
  },
  {
   "cell_type": "code",
   "execution_count": null,
   "metadata": {
    "collapsed": false,
    "jupyter": {
     "outputs_hidden": false
    }
   },
   "outputs": [],
   "source": [
    "RealSet.open_closed(0,1), RealSet.closed_open(0,1)"
   ]
  },
  {
   "cell_type": "markdown",
   "metadata": {
    "collapsed": false,
    "jupyter": {
     "outputs_hidden": false
    }
   },
   "source": [
    "Αν έχουμε διαστήματα στο άπειρο, κάνουμε χρήση των μεθόδων:\n",
    "\n",
    "- `unbounded_below_open`\n",
    "\n",
    "- `unbounded_below_closed`\n",
    "\n",
    "- `unbounded_above_open`\n",
    "\n",
    "- `unbounded_above_closed`"
   ]
  },
  {
   "cell_type": "code",
   "execution_count": null,
   "metadata": {
    "collapsed": false,
    "jupyter": {
     "outputs_hidden": false
    }
   },
   "outputs": [],
   "source": [
    "RealSet.unbounded_below_closed(0), RealSet.unbounded_above_open(1)"
   ]
  },
  {
   "cell_type": "code",
   "execution_count": null,
   "metadata": {
    "collapsed": false,
    "jupyter": {
     "outputs_hidden": false
    }
   },
   "outputs": [],
   "source": [
    "RealSet.unbounded_below_open(3) | RealSet.unbounded_above_open(3)"
   ]
  },
  {
   "cell_type": "markdown",
   "metadata": {
    "collapsed": false,
    "jupyter": {
     "outputs_hidden": false
    }
   },
   "source": [
    "Διαστήματα μπορούν να δημιουργηθούν και με χρήση σχεσιακών τελεστών."
   ]
  },
  {
   "cell_type": "code",
   "execution_count": null,
   "metadata": {
    "collapsed": false,
    "jupyter": {
     "outputs_hidden": false
    }
   },
   "outputs": [],
   "source": [
    "RealSet(x != 1),RealSet(1/2 < x, x <1/4)"
   ]
  },
  {
   "cell_type": "markdown",
   "metadata": {
    "collapsed": false,
    "jupyter": {
     "outputs_hidden": false
    }
   },
   "source": [
    "Με τους τελεστές `in` ή `not in` ελέγχεται αν ένας αριθμός βρίσκεται ή όχι σε κάποιο διάστημα."
   ]
  },
  {
   "cell_type": "code",
   "execution_count": null,
   "metadata": {
    "collapsed": false,
    "jupyter": {
     "outputs_hidden": false
    }
   },
   "outputs": [],
   "source": [
    "d = RealSet(1/4 < x <1/2)\n",
    "d,1/4 in d, 1/3 in d, 1/3 not in d"
   ]
  },
  {
   "cell_type": "markdown",
   "metadata": {
    "collapsed": false,
    "jupyter": {
     "outputs_hidden": false
    }
   },
   "source": [
    "## Συναρτήσεις με πολλούς κλάδους"
   ]
  },
  {
   "cell_type": "markdown",
   "metadata": {
    "collapsed": false,
    "jupyter": {
     "outputs_hidden": false
    }
   },
   "source": [
    "Η συνάρτηση `piecewise` μας επιτρέπει να ορίζουμε συναρτήσεις της μορφής με πολλούς 'κλάδους', δηλαδή συναρτήσεις που ορίζονται με διαφορετικούς τρόπους σε αντίστοιχα διαφορετικά διαστήματα. Τα πραγματικά διαστήματα πρέπει να ορίζονται με ένα από τους παρακάτω τρόπους:\n",
    "\n",
    "- Κλειστό διάστημα και στα δύο άκρα του π.χ. $[-3, 2]$, $[3,3]$. Το $[3,3]$ αποτελείται μόνο από ένα σημείο, το 3. Το $[3,+\\infty]$ φυσικά δεν είναι επιτρεπτό, διότι περιλαμβάνει και το $+\\infty$ που δεν θεωρείται πραγματικός αριθμός!\n",
    "\n",
    "- Ανοικτό διάστημα και στα δυο άκρα π.χ. $(-\\infty,3)$, $(-2,pi/2)$. \n",
    "\n",
    "- Κλειστό (closed) στο αριστερό άκρο και ανοικτό (open) στο δεξιό π.χ. `RealSet.closed_open(5,7)` που στα μαθηματικά γράφεται πιο απλά ως $[5,7)$.\n",
    "\n",
    "- Ανοικτό στο αριστερό άκρο και κλειστό στο δεξιό π.χ. `RealSet.open_closed(-5,2)` που στα μαθηματικά γράφεται πιο απλά ως $(-5,2]$.\n",
    "\n",
    "- Μπορεί να χρησιμοποιηθεί όχι μόνο με διαστήματα (`RealSet`), αλλά και με λογικές συνθήκες. Αυτό επιτρέπει να ορίσουμε συναρτήσεις με «ειδική τιμή» σε κάποια σημεία, όπως για παράδειγμα στο 0."
   ]
  },
  {
   "cell_type": "markdown",
   "metadata": {
    "collapsed": false,
    "jupyter": {
     "outputs_hidden": false
    }
   },
   "source": [
    "**Παράδειγμα**\n",
    "\n",
    "Στην συνέχεια η $f(x)$ έχει οριστεί με δυο κλάδους. Για $x< 0$ ορίζεται ως $\\frac{\\cos(x)}{x}$, ενώ για $x\\geq 0$ παίρνει την τιμή 0:\n",
    "$$\n",
    "f(x) =\n",
    "\\begin{cases}\n",
    "\\frac{\\cos(x)}{x}, & \\text{για } x < 0 \\\\\n",
    "0, & \\text{για } x\\geq 0\n",
    "\\end{cases}\n",
    "$$\n",
    "Αρχικά δηλώνουμε τους κλάδους της μέσα σε [, ] και στη συνέχεια με την `piecewise` την ορίζουμε ως μια στα διαστήματα που επιθυμούμε."
   ]
  },
  {
   "cell_type": "code",
   "execution_count": null,
   "metadata": {
    "collapsed": false,
    "jupyter": {
     "outputs_hidden": false
    }
   },
   "outputs": [],
   "source": [
    "f1(x) = cos(x)/x\n",
    "f2(x) = 0\n",
    "f = piecewise ([[( - infinity ,0) ,f1 ] ,[(0 , infinity ),f2 ]] )\n",
    "plot(f,(x,-10,10),ymin=-1,ymax=1)"
   ]
  },
  {
   "cell_type": "markdown",
   "metadata": {
    "collapsed": false,
    "jupyter": {
     "outputs_hidden": false
    }
   },
   "source": [
    "Η γραφική παράσταση της f όπως βλέπουμε έχει ένα ελάττωμα. Εμφανίζεται ότι ένα κομμάτι του άξονα Οy ανήκει στην γραφική παράσταση! Αυτό συμβαίνει διότι η `plot` κάνει πάντα φιλότιμες προσπάθειες να ενώσει τα διαφορετικά κομμάτια μιας γραφικής παράστασης όταν αυτά βρίσκονται πολύ κοντά το ένα με το άλλο! Όμως σε σημεία που έχουμε κάθετες ασύμπτωτες, δηλαδή σε σημεία που η κλίση της καμπύλης απειρίζεται, τότε δυστυχώς δεν μπορεί να δουλέψει σωστά, οπότε δημιουργούνται λανθασμένα κάποια κάθετα τμήματα πάνω σε αυτές τις ασύμπτωτες, όπως αυτό που βλέπουμε στο παραπάνω γράφημα. Για να εμποδίσουμε την εμφάνιση της καθέτου, μπορούμε να χρησιμοποιήσουμε για το δεύτερο κλάδο ένα λίγο διαφορετικό πεδίο ορισμού π.χ. το (0.01, infinity) αντί του (0,infinity), έτσι ώστε να μην εφάπτεται με το πεδίο ορισμού (- infinity ,0) του πρώτου κλάδου. Με αυτό το τρυκ το δεξιό γράφημα (ο δεύτερος κλάδος) απομακρύνεται ανεπαίσθητα από το πρώτο. Έτσι θα μπορέσουμε να διορθώσουμε οπτικά το σφάλμα."
   ]
  },
  {
   "cell_type": "code",
   "execution_count": null,
   "metadata": {
    "collapsed": false,
    "jupyter": {
     "outputs_hidden": false
    }
   },
   "outputs": [],
   "source": [
    "g(x) = piecewise ([[(-infinity ,0),f1] ,[(0.01 , infinity ),f2 ]]);\n",
    "plot(g,(x,-10,10),ymin=-1,ymax=1,thickness=2)"
   ]
  },
  {
   "cell_type": "markdown",
   "metadata": {
    "collapsed": false,
    "jupyter": {
     "outputs_hidden": false
    }
   },
   "source": [
    "Η `pieces` επιστρέφει τους επιμέρους κλάδους της κλαδικής συνάρτησης."
   ]
  },
  {
   "cell_type": "code",
   "execution_count": null,
   "metadata": {
    "collapsed": false,
    "jupyter": {
     "outputs_hidden": false
    }
   },
   "outputs": [],
   "source": [
    "f.pieces()"
   ]
  },
  {
   "cell_type": "markdown",
   "metadata": {
    "collapsed": false,
    "jupyter": {
     "outputs_hidden": false
    }
   },
   "source": [
    "**Παράδειγμα**\n",
    "\n",
    "Έστω ότι θέλουμε να ορίσουμε τη συνάρτηση:\n",
    "$$\n",
    "g(x) =\n",
    "\\begin{cases}\n",
    "\\frac{\\sin(x)}{x}, & x \\neq 0 \\\\\n",
    "0, & x = 0\n",
    "\\end{cases}\n",
    "$$\n",
    "\n",
    "Αυτή είναι μια πολύ κλασική περίπτωση, όπου στο $x=0$ η έκφραση $\\frac{\\sin(x)}{x}$ δεν ορίζεται, αλλά γνωρίζουμε από τα όρια ότι τείνει στο $0$. Έτσι:\n",
    "\n",
    "- Στο $x=0$ θα πάρει την τιμή $0$ όπως ορίσαμε.\n",
    "\n",
    "- Για όλα τα άλλα σημεία, θα δώσει την τιμή της $\\frac{\\sin(x)}{x}$."
   ]
  },
  {
   "cell_type": "code",
   "execution_count": null,
   "metadata": {
    "collapsed": false,
    "jupyter": {
     "outputs_hidden": false
    }
   },
   "outputs": [],
   "source": [
    "var('x')\n",
    "f(x) = sin(x)/x\n",
    "g = piecewise([\n",
    "    ((x != 0), f(x)),   # για όλα τα x ≠ 0\n",
    "    ((x == 0), 0)       # για x = 0\n",
    "])\n",
    "g"
   ]
  },
  {
   "cell_type": "markdown",
   "metadata": {
    "collapsed": false,
    "jupyter": {
     "outputs_hidden": false
    }
   },
   "source": [
    "Ακολουθεί η αποτίμηση της συνάρτησης για διάφορες τιμές καθώς και η γραφική της παράσταση."
   ]
  },
  {
   "cell_type": "code",
   "execution_count": null,
   "metadata": {
    "collapsed": false,
    "jupyter": {
     "outputs_hidden": false
    }
   },
   "outputs": [],
   "source": [
    "print(\"g(-2) =\", g(-2))\n",
    "print(\"g(0)  =\", g(0))\n",
    "print(\"g(pi) =\", g(n(pi)))\n",
    "plot(g, (x, -10, 10), ymin=-0.5, ymax=1.2)"
   ]
  },
  {
   "cell_type": "markdown",
   "metadata": {
    "collapsed": false,
    "jupyter": {
     "outputs_hidden": false
    }
   },
   "source": [
    "Για τον ορισμό κλαδικών συναρτήσεων μπορεί να χρησιμοποιηθεί η `RealSet` για την δημιουργία των αντίστοιχων διαστημάτων. Με την μέθοδο `domain` μπορεί κανείς να δει το πεδίο ορισμού μιας κλαδικής συνάρτησης."
   ]
  },
  {
   "cell_type": "markdown",
   "metadata": {
    "collapsed": false,
    "jupyter": {
     "outputs_hidden": false
    }
   },
   "source": [
    "**Παράδειγμα**\n",
    "\n",
    "Για την κλαδική συνάρτηση:\n",
    "$$\n",
    "f(x) =\n",
    "\\begin{cases}\n",
    "x^2 - 1, & \\text{αν } x \\in (-2, 1] \\\\\n",
    "\\sqrt{x - 1}, & \\text{αν } x \\in (1, 4)\n",
    "\\end{cases}\n",
    "$$\n",
    "\n",
    "1. Θα δημιουργήσουμε κατάλληλα διαστήματα χρησιμοποιώντας τη `RealSet`.\n",
    "\n",
    "2. Θα ορίσουμε τη δίκλαδη συνάρτηση με την `piecewise`.\n",
    "\n",
    "3. Θα εμφανίσουμε το πεδίο ορισμού της με την μέθοδο `domain`.\n",
    "\n",
    "4. Θα σχεδιάσουμε το γράφημά της στο διάστημα $(-2, 4)$, με πλέγμα (`gridlines='minor'`) και κατάλληλο χρώμα."
   ]
  },
  {
   "cell_type": "code",
   "execution_count": null,
   "metadata": {
    "collapsed": false,
    "jupyter": {
     "outputs_hidden": false
    }
   },
   "outputs": [],
   "source": [
    "f1(x) = x^2 - 1\n",
    "f2(x) = sqrt(x - 1)\n",
    "# (-2, 1]\n",
    "I1 = RealSet.open_closed(-2, 1)\n",
    "# (1, 4)\n",
    "I2 = RealSet.open(1, 4)\n",
    "f = piecewise([(I1, f1), (I2, f2)])\n",
    "f,f.domain()"
   ]
  },
  {
   "cell_type": "code",
   "execution_count": null,
   "metadata": {
    "collapsed": false,
    "jupyter": {
     "outputs_hidden": false
    }
   },
   "outputs": [],
   "source": [
    "plot(f, -2, 4, gridlines='minor')"
   ]
  },
  {
   "cell_type": "markdown",
   "metadata": {
    "collapsed": false,
    "jupyter": {
     "outputs_hidden": false
    }
   },
   "source": [
    "Με την χρήση της `piecewise` μπορούμε να ορίσουμε και μια συνάρτηση που δεν είναι κλαδική αλλά έχει συγκεκριμμένο πεδίο ορισμού."
   ]
  },
  {
   "cell_type": "code",
   "execution_count": null,
   "metadata": {
    "collapsed": false,
    "jupyter": {
     "outputs_hidden": false
    }
   },
   "outputs": [],
   "source": [
    "f(x) = log(x)\n",
    "domain = RealSet.open(0, +oo)\n",
    "fr = piecewise([(domain, f)])\n",
    "fr.domain()"
   ]
  },
  {
   "cell_type": "code",
   "execution_count": null,
   "metadata": {
    "collapsed": false,
    "jupyter": {
     "outputs_hidden": false
    }
   },
   "outputs": [],
   "source": [
    "plot(fr, (x, 0, 5), color='blue', thickness=2, gridlines='minor')"
   ]
  },
  {
   "cell_type": "markdown",
   "metadata": {
    "collapsed": false,
    "jupyter": {
     "outputs_hidden": false
    }
   },
   "source": [
    "# Εύρεση ριζών"
   ]
  },
  {
   "cell_type": "markdown",
   "metadata": {
    "collapsed": false,
    "jupyter": {
     "outputs_hidden": false
    }
   },
   "source": [
    "## Εύρεση ριζών με την solve"
   ]
  },
  {
   "cell_type": "markdown",
   "metadata": {
    "collapsed": false,
    "jupyter": {
     "outputs_hidden": false
    }
   },
   "source": [
    "Με την `solve` μπορούμε να βρούμε με ακριβείς μαθηματικές μεθόδους τις ρίζες μιας εξίσωσης.  Αν στην `solve` θέσουμε μια συνάρτηση $g$ και όχι κάποια εξίσωση, τότε αυτή βρίσκει τα σημεία όπου η $g$ μηδενίζεται (δηλ. τα σημεία που ικανοποιούν την εξίσωση $g==0$). Η `solve` επιστρέφει μια λίστα ριζών μέσα σε $[, ]$. Κάθε ρίζα, έστω _value_, έχει την μορφή `x == value`."
   ]
  },
  {
   "cell_type": "markdown",
   "metadata": {
    "collapsed": false,
    "jupyter": {
     "outputs_hidden": false
    }
   },
   "source": [
    "**Παράδειγμα**\n",
    "\n",
    "Στο παρακάτω παράδειγμα σχεδιάζουμε τις γραφικές παραστάσεις των συναρτήσεων $f(x)=x-1$, $g(x)=x^2+1$ ώστε να διαπιστώσουμε ότι πράγματι η `solve` βρίσκει τις σωστές τιμές. Να τονίσουμε ότι οι εξισώσεις ορίζονται πάντα με την χρήση του διπλού `==` και όχι του `=`."
   ]
  },
  {
   "cell_type": "code",
   "execution_count": null,
   "metadata": {
    "collapsed": false,
    "jupyter": {
     "outputs_hidden": false
    }
   },
   "outputs": [],
   "source": [
    "f(x) = x-1\n",
    "g(x)=x^2-1\n",
    "solve(f==0,x),solve(g,x),solve(f==g,x)"
   ]
  },
  {
   "cell_type": "code",
   "execution_count": null,
   "metadata": {
    "collapsed": false,
    "jupyter": {
     "outputs_hidden": false
    }
   },
   "outputs": [],
   "source": [
    "plot([f,g],(x,-1.5,2.5),figsize=(4,3))"
   ]
  },
  {
   "cell_type": "markdown",
   "metadata": {
    "collapsed": false,
    "jupyter": {
     "outputs_hidden": false
    }
   },
   "source": [
    "Εκτυπώνοντας τις λύσεις παρατηρούμε ότι τα αποτελέσματα της `solve` επιστρέφονται πάντα με την μορφή `x == value`. Για να εξαχθεί η αριθμητική τιμή από το αποτέλεσμα, μπορεί να χρησιμοποιηθεί η μέθοδος `rhs()` (right-hand side), που θα δώσει το δεξί μέρος της εξίσωσης, δηλαδή την τιμή της ρίζας. Το πρώτο στοιχείο μιας οποιασδήποτε μη κενής λίστας s είναι το s[0], το δεύτερο (αν υπάρχει) είναι το s[1] κοκ. Η συνάρτηση $f$ στο παρακάτω παράδειγμα έχει προφανώς μια μόνο ρίζα. Συνεπώς η λίστα s των ριζών αποτελείται μόνο από ένα στοιχείο, το s[0]. Για να εντοπίσουμε την μοναδική ρίζα της εξίσωσης, απλά βρίσκουμε το δεξί μέλος της s[0]."
   ]
  },
  {
   "cell_type": "code",
   "execution_count": null,
   "metadata": {
    "collapsed": false,
    "jupyter": {
     "outputs_hidden": false
    }
   },
   "outputs": [],
   "source": [
    "f(x) = x-1\n",
    "s= solve(f==0,x)\n",
    "s,s[0].rhs()"
   ]
  },
  {
   "cell_type": "markdown",
   "metadata": {
    "collapsed": false,
    "jupyter": {
     "outputs_hidden": false
    }
   },
   "source": [
    "Στην εξίσωση $x^3+1==0$ υπάρχουν πραγματικές αλλά και μιγαδικές ρίζες. Η `solve` θα μας τις επιστρέψει όλες και αν δεν επιθυμούμε για παράδειγμα τις μιγαδικές θα πρέπει είτε να χρησιμοποιήσουμε την `find_root` που θα αναλυθεί στην συνέχεια είτε να χρησιμοποιήσουμε άλλες μεθόδους για να αποκόψουμε τις μη επιθυμητές ρίζες όπως θα δούμε αμέσως μετά."
   ]
  },
  {
   "cell_type": "code",
   "execution_count": null,
   "metadata": {
    "collapsed": false,
    "jupyter": {
     "outputs_hidden": false
    }
   },
   "outputs": [],
   "source": [
    "f(x)=x^3+1\n",
    "solve(f,x)"
   ]
  },
  {
   "cell_type": "markdown",
   "metadata": {
    "collapsed": false,
    "jupyter": {
     "outputs_hidden": false
    }
   },
   "source": [
    "Η `solve` μπορεί να χρησιμοποιηθεί για να βρεθούν κοινά σημεία συναρτήσεων."
   ]
  },
  {
   "cell_type": "code",
   "execution_count": null,
   "metadata": {
    "collapsed": false,
    "jupyter": {
     "outputs_hidden": false
    }
   },
   "outputs": [],
   "source": [
    "# Ορισμός συναρτήσεων\n",
    "f = x^2\n",
    "g = 4 - x^2\n",
    "# Εύρεση κοινών σημείων\n",
    "common = solve(f == g, x);\n",
    "x1 = common[0].rhs()\n",
    "x2 = common[1].rhs()\n",
    "p = points([(x1,f(x=x1)),(x2,f(x=x2))], \\\n",
    "           color='red', size=30)\n",
    "pl = plot([f,g],(x,-2,2),figsize=(4,3))\n",
    "p + pl"
   ]
  },
  {
   "cell_type": "markdown",
   "metadata": {
    "collapsed": false,
    "jupyter": {
     "outputs_hidden": false
    }
   },
   "source": [
    "Όταν θέλουμε να βρούμε την τιμή μιας μαθηματικής έκφρασης $f$ που εξαρτάται από κάποια παράμετρο, ας πούμε την x, για x=x1, τότε δεν γράφουμε f(x1), διότι έτσι καλούμε τις τιμές μιας συνάρτησης! Ο σωστός τρόπος είναι ο f(x = x1). Διαφορετικά, θα προκύψει `TypeEror.`"
   ]
  },
  {
   "cell_type": "code",
   "execution_count": null,
   "metadata": {
    "collapsed": false,
    "jupyter": {
     "outputs_hidden": false
    }
   },
   "outputs": [],
   "source": [
    "f = x^2 - 1\n",
    "f(x=2)#,f(2)"
   ]
  },
  {
   "cell_type": "markdown",
   "metadata": {
    "collapsed": false,
    "jupyter": {
     "outputs_hidden": false
    }
   },
   "source": [
    "Όμοια καλούμε την τιμή της $f$ στην περίπτωση που αυτή εξαρτάται από περισσότερες μεταβλητές"
   ]
  },
  {
   "cell_type": "code",
   "execution_count": null,
   "metadata": {
    "collapsed": false,
    "jupyter": {
     "outputs_hidden": false
    }
   },
   "outputs": [],
   "source": [
    "var('x z t')\n",
    "#f(x, z, t) = x^2 + z*t\n",
    "f = x^2 + z*t\n",
    "f(x=2),  f(x=2, z=sqrt(2), t=3)\n",
    "#f(2),f(2,sqrt(2),3)"
   ]
  },
  {
   "cell_type": "markdown",
   "metadata": {
    "collapsed": false,
    "jupyter": {
     "outputs_hidden": false
    }
   },
   "source": [
    "Με την βοήθεια `help(solve)` διαπιστώνουμε ότι η `solve` μπορεί:\n",
    "\n",
    "- να μας δώσει τις λύσεις της εξίσωσης f==0 που ανήκουν στο `domain` `real` δηλαδή τους πραγματικούς αριθμούς. Να μην δώσει, δηλαδή, τις μιγαδικές λύσεις.\n",
    "\n",
    "- να χρησιμοποιήσει διαφορετικό αλγόριθμο, `algorithm` επίλυσης από τον εξορισμού αλγόριθμο της Maxima."
   ]
  },
  {
   "cell_type": "markdown",
   "metadata": {
    "collapsed": false,
    "jupyter": {
     "outputs_hidden": false
    }
   },
   "source": [
    "**Παράδειγμα**\n",
    "\n",
    "Η `solve` εδώ χρησιμοποιώντας τον αλγόριθμο της `sympy` θα δώσει απάντηση μόνο στους πραγματικούς αριθμούς [x ==-1]."
   ]
  },
  {
   "cell_type": "code",
   "execution_count": null,
   "metadata": {
    "collapsed": false,
    "jupyter": {
     "outputs_hidden": false
    }
   },
   "outputs": [],
   "source": [
    "solve(x^3+1,x,algorithm='sympy',domain='real')"
   ]
  },
  {
   "cell_type": "markdown",
   "metadata": {
    "collapsed": false,
    "jupyter": {
     "outputs_hidden": false
    }
   },
   "source": [
    "## Εύρεση ριζών με την find_root"
   ]
  },
  {
   "cell_type": "markdown",
   "metadata": {
    "collapsed": false,
    "jupyter": {
     "outputs_hidden": false
    }
   },
   "source": [
    "Όπως και η `solve`, η `find_root` μας επιστρέφει τις ρίζες μιας εξίσωσης. Η διαφορά τους είναι ότι η `find_root` απαιτεί κάποιο διάστημα στο πεδίο ορισμού της συνάρτησης στο οποίο θα ψάξει για την ρίζα ή τις ρίζες. Επιπλέον βρίσκει προσεγγιστικά με μεθόδους αριθμητικής ανάλυσης την πρώτη (πραγματική) ρίζα που θα επιστρέψει η μέθοδος. Η `solve` επιλύει συμβολικά και με απόλυτη ακρίβεια μια εξίσωση ενώ η `find_root` θα μας επιστρέψει δεκαδικό αριθμό. Στο παρακάτω παράδειγμα η `find_root(h,0,4)` προσπαθεί να βρει μια λύση της εξίσωσης h(x)==0 για $x \\in [0,4]$."
   ]
  },
  {
   "cell_type": "code",
   "execution_count": null,
   "metadata": {
    "collapsed": false,
    "jupyter": {
     "outputs_hidden": false
    }
   },
   "outputs": [],
   "source": [
    "h(x) = x - 2\n",
    "find_root(h,0,4)"
   ]
  },
  {
   "cell_type": "markdown",
   "metadata": {
    "collapsed": false,
    "jupyter": {
     "outputs_hidden": false
    }
   },
   "source": [
    "Η διαφορά τους φαίνεται και στο αποτέλεσμα που θα επιστραφεί αν ζητήσουμε τις ρίζες της εξίσωσης $x^2-2=0$. Πέρα από το αποτέλεσμα που στην περίπτωση της `find_root` δίνεται αριθμητικά προσεγγιστικά, παρατηρούμε ότι επιστρέφεται **μόνο** η πρώτη ρίζα που θα βρεθεί από την μέθοδο αριθμητικής ανάλυσης που χρησιμοποιείται εσωτερικά από την `find_root` (π.χ. μέθοδος της διχοτόμησης)."
   ]
  },
  {
   "cell_type": "code",
   "execution_count": null,
   "metadata": {
    "collapsed": false,
    "jupyter": {
     "outputs_hidden": false
    }
   },
   "outputs": [],
   "source": [
    "f(x) = x^2 - 2\n",
    "solve(f==0, x),find_root(f==0, -2,2)"
   ]
  },
  {
   "cell_type": "code",
   "execution_count": null,
   "metadata": {
    "collapsed": false,
    "jupyter": {
     "outputs_hidden": false
    }
   },
   "outputs": [],
   "source": [
    "plot(f,(x,-2,2),figsize=(4,3))"
   ]
  },
  {
   "cell_type": "markdown",
   "metadata": {
    "collapsed": false,
    "jupyter": {
     "outputs_hidden": false
    }
   },
   "source": [
    "Για να βρούμε και άλλες ρίζες θα πρέπει να κάνουμε πιο συγκεκριμένο το διάστημα (πιο στενό ώστε αυτό να περιλαμβάνει την επιθυμητή ρίζα)."
   ]
  },
  {
   "cell_type": "code",
   "execution_count": null,
   "metadata": {
    "collapsed": false,
    "jupyter": {
     "outputs_hidden": false
    }
   },
   "outputs": [],
   "source": [
    "f(x) = x^2 - 2\n",
    "find_root(f==0, -2,0),find_root(f==0, 0,2)"
   ]
  },
  {
   "cell_type": "markdown",
   "metadata": {
    "collapsed": false,
    "jupyter": {
     "outputs_hidden": false
    }
   },
   "source": [
    "Υπάρχει ο κίνδυνος, στο διάστημα που θα ορίσουμε, να μην υπάρχει ρίζα. Τότε θα προκύψει ένα σχετικό μήνυμα λάθους, όπως το παρακάτω _RuntimeError: f appears to have no zero on the interval_. Καλή πρακτική είναι λοιπόν να κάνουμε την γραφική παράσταση της f, ώστε να εντοπίσουμε ένα κατάλληλο διάστημα στο οποίο εμφανίζεται τουλάχιστον μια ρίζα, πριν χρησιμοποιήσουμε την `find_root` για να την υπολογίσουμε αριθμητικά."
   ]
  },
  {
   "cell_type": "code",
   "execution_count": null,
   "metadata": {
    "collapsed": false,
    "jupyter": {
     "outputs_hidden": false
    }
   },
   "outputs": [],
   "source": [
    "f(x) = x^2 - 2\n",
    "#find_root(f==0, 2,3)"
   ]
  },
  {
   "cell_type": "markdown",
   "metadata": {
    "collapsed": false,
    "jupyter": {
     "outputs_hidden": false
    }
   },
   "source": [
    "Οι διευθύνσεις που εμφανίζονται παραπάνω, όπως π.χ. η ’/opt/sagemath-9.3/local/lib/python3.7/site-packages/sage/misc/’ έχουν σχέση με τους φακέλους που έχουν εγκατασταθεί τα αρχεία του sagemath τοπικά στον υπολογιστή μας. Στην online έκδοση SageMathCell τα σφάλματα εμφανίζονται σε διαφορετικές διευθύνσεις."
   ]
  },
  {
   "cell_type": "markdown",
   "metadata": {},
   "source": [
    "## Εύρεση ριζών πολυωνύμου με την roots"
   ]
  },
  {
   "cell_type": "markdown",
   "metadata": {},
   "source": [
    "Η `roots()` χρησιμοποιείται για να βρούμε τις ρίζες πολυωνυμικών συναρτήσεων. Επιστρέφει λίστα από ζεύγη της μορφής (ρίζα, πολλαπλότητα)."
   ]
  },
  {
   "cell_type": "code",
   "execution_count": null,
   "metadata": {},
   "outputs": [],
   "source": [
    "f(x) = (x^3 - 1)^2\n",
    "f.roots(ring=RR)"
   ]
  },
  {
   "cell_type": "markdown",
   "metadata": {},
   "source": [
    "Στο παραπάνω παράδειγμα θέσαμε `ring=RR` ορίζοντας ότι επιθυμούμε μόνο πραγματικές ρίζες. Διαφορετικά θα μας επιστρέψει και τις μιγαδικές."
   ]
  },
  {
   "cell_type": "code",
   "execution_count": null,
   "metadata": {},
   "outputs": [],
   "source": [
    "f.roots()"
   ]
  },
  {
   "cell_type": "markdown",
   "metadata": {},
   "source": [
    "**Παράδειγμα**\n",
    "\n",
    "Έστω πολυώνυμο $f(x) = x^3 - 6*x^2 + 11*x - 6$.\n",
    "\n",
    "1. Θα σχεδιάσουμε γραφική παράσταση για $x \\in [0.5,3.5]$.\n",
    "\n",
    "2. Θα βρούμε τις πραγματικές ρίζες του πολυωνύμου.\n",
    "\n",
    "3. Θα σχεδιάσουμε το γράφημα συμπεριλαμβάνοντας και τα σημεία."
   ]
  },
  {
   "cell_type": "code",
   "execution_count": null,
   "metadata": {},
   "outputs": [],
   "source": [
    "f(x) = x^3 - 6*x^2 + 11*x - 6\n",
    "plot(f,0.5, 3.5)"
   ]
  },
  {
   "cell_type": "code",
   "execution_count": null,
   "metadata": {},
   "outputs": [],
   "source": [
    "r=f.roots(ring=RR);r"
   ]
  },
  {
   "cell_type": "code",
   "execution_count": null,
   "metadata": {},
   "outputs": [],
   "source": [
    "myroots = [(r[0][0], f(r[0][0])),(r[1][0], \\\n",
    "            f(r[1][0])),(r[2][0], f(r[2][0]))]\n",
    "plot(f,0.5, 3.5) + points(myroots,size=40,color=\"green\")"
   ]
  },
  {
   "cell_type": "markdown",
   "metadata": {},
   "source": [
    "Η `roots` στο SageMath δουλεύει αποκλειστικά με πολυωνυμικές συναρτήσεις. Αν προσπαθήσουμε να την χρησιμοποιήσουμε με πιο «πολύπλοκες» (μη πολυωνυμικές) συναρτήσεις — π.χ. εκθετικές, λογαριθμικές, τριγωνομετρικές θα προκύψει"
   ]
  },
  {
   "cell_type": "code",
   "execution_count": null,
   "metadata": {},
   "outputs": [],
   "source": [
    "f(x) = exp(x) - x^2\n",
    "#f.roots(ring=RR)"
   ]
  },
  {
   "cell_type": "markdown",
   "metadata": {
    "collapsed": false,
    "jupyter": {
     "outputs_hidden": false
    }
   },
   "source": [
    "# Εύρεση ορίων με την limit"
   ]
  },
  {
   "cell_type": "markdown",
   "metadata": {
    "collapsed": false,
    "jupyter": {
     "outputs_hidden": false
    }
   },
   "source": [
    "Ο υπολογισμός ορίων μιας συνάρτησης γίνεται με την `limit`."
   ]
  },
  {
   "cell_type": "markdown",
   "metadata": {
    "collapsed": false,
    "jupyter": {
     "outputs_hidden": false
    }
   },
   "source": [
    "**Παράδειγμα**\n",
    "\n",
    "Στο επόμενο παράδειγμα υπολογίζεται το όριο:\n",
    "$$\n",
    "\\lim_{x \\to 0} \\frac{\\sin(x)}{x}\n",
    "$$"
   ]
  },
  {
   "cell_type": "code",
   "execution_count": null,
   "metadata": {
    "collapsed": false,
    "jupyter": {
     "outputs_hidden": false
    }
   },
   "outputs": [],
   "source": [
    "limit(sin(x)/x, x=0)"
   ]
  },
  {
   "cell_type": "markdown",
   "metadata": {
    "collapsed": false,
    "jupyter": {
     "outputs_hidden": false
    }
   },
   "source": [
    "## Τείνοντας στο Άπειρο"
   ]
  },
  {
   "cell_type": "markdown",
   "metadata": {
    "collapsed": false,
    "jupyter": {
     "outputs_hidden": false
    }
   },
   "source": [
    "Ακολουθεί όριο\n",
    "$$\n",
    "\\lim_{x \\to \\infty} \\frac{1}{x}\n",
    "$$"
   ]
  },
  {
   "cell_type": "code",
   "execution_count": null,
   "metadata": {
    "collapsed": false,
    "jupyter": {
     "outputs_hidden": false
    }
   },
   "outputs": [],
   "source": [
    "# μπορεί να γραφτεί και ως limit(1/x, x=oo)\n",
    "limit(1/x, x=infinity) "
   ]
  },
  {
   "cell_type": "markdown",
   "metadata": {
    "collapsed": false,
    "jupyter": {
     "outputs_hidden": false
    }
   },
   "source": [
    "---\n",
    "**Παράδειγμα:**\n",
    "\n",
    "Θα ζητήσουμε από το Sage να μας επιστρέψει το επόμενο όριο.\n",
    "$$\n",
    "\\lim_{x \\to \\infty} \\frac{\\cos(x)}{x}\n",
    "$$\n",
    "\n",
    "Το όριο αυτό βρίσκεται χωρίς κόπο με τον παρακάτω συλλογισμό: γνωρίζοντας ότι $-1 \\leq \\cos(x) \\leq 1$, προκύπτει\n",
    "\n",
    "$$\n",
    "-\\frac{1}{|x|} \\leq \\frac{\\cos(x)}{x} \\leq \\frac{1}{|x|}\n",
    "$$\n",
    "και επειδή\n",
    "$$\n",
    "\\lim_{x \\to \\infty} \\frac{1}{|x|}=0, \\lim_{x \\to \\infty} -\\frac{1}{|x|}=0\n",
    "$$\n",
    "\n",
    "προκύπτει ότι το ζητούμενο όριο είναι το 0. Τα παραπάνω μπορούμε να τα επιβεβαιώσουμε με την `limit` και την γραφική παράσταση και των τριών συναρτήσεων. Με την ευκαιρία να αναφέρουμε ότι η απόλυτη τιμή κάποιας τιμής x δίνεται με την βοήθεια της `abs(x)`."
   ]
  },
  {
   "cell_type": "code",
   "execution_count": null,
   "metadata": {
    "collapsed": false,
    "jupyter": {
     "outputs_hidden": false
    }
   },
   "outputs": [],
   "source": [
    "limit ( cos(x)/x, x= infinity ),limit ( -1/x, x= infinity ),limit ( 1/x, x= infinity )"
   ]
  },
  {
   "cell_type": "code",
   "execution_count": null,
   "metadata": {
    "collapsed": false,
    "jupyter": {
     "outputs_hidden": false
    }
   },
   "outputs": [],
   "source": [
    "p1 = plot(-1/abs(x),(x,0,30),ymin=-2,ymax=2,color='blue')\n",
    "p2 = plot(cos(x)/(x),(x,0,30),color='red')\n",
    "p3 = plot(1/abs(x),(x,0,30),color='green')\n",
    "p1+p2+p3"
   ]
  },
  {
   "cell_type": "markdown",
   "metadata": {
    "collapsed": false,
    "jupyter": {
     "outputs_hidden": false
    }
   },
   "source": [
    "## Πλευρικά όρια"
   ]
  },
  {
   "cell_type": "markdown",
   "metadata": {
    "collapsed": false,
    "jupyter": {
     "outputs_hidden": false
    }
   },
   "source": [
    "Τα αριστερά και δεξιά όρια μπορούν να υπολογιστούν  με την παράμετρο `dir` και τιμές `-` και `+` αντίστοιχα."
   ]
  },
  {
   "cell_type": "markdown",
   "metadata": {
    "collapsed": false,
    "jupyter": {
     "outputs_hidden": false
    }
   },
   "source": [
    "**Παράδειγμα**\n",
    "\n",
    "Έστω ότι θέλουμε να υπολογίσουμε τα πλευρικά όρια στο x=1 για την\n",
    "$$\n",
    "\\lim_{x \\to 1} \\frac{x^2 - 1}{x - 1}\n",
    "$$"
   ]
  },
  {
   "cell_type": "code",
   "execution_count": null,
   "metadata": {
    "collapsed": false,
    "jupyter": {
     "outputs_hidden": false
    }
   },
   "outputs": [],
   "source": [
    "limit((x^2 - 1)/(x - 1), x=1, dir='-'), limit((x^2 - 1)/(x - 1), x=1, dir='-')"
   ]
  },
  {
   "cell_type": "markdown",
   "metadata": {
    "collapsed": false,
    "jupyter": {
     "outputs_hidden": false
    }
   },
   "source": [
    "**Παράδειγμα:**\n",
    "\n",
    "Για να εξετάσουμε αν η συνάρτηση $f(x) = \\frac{1}{x - 1}$ έχει όριο καθώς το $x \\to 1$, μπορούμε να υπολογίζουμε τα πλευρικά όρια καθώς η x πλησιάζει το 1. Αν αυτά είναι ίσα τότε το όριο υπάρχει, διαφορετικά δεν ορίζεται!\n",
    "\n",
    "- **Αριστερό Όριο**: $\\lim_{{x \\to 1^-}} \\frac{1}{x - 1} = -\\infty$\n",
    "\n",
    "- **Δεξί Όριο**: $\\lim_{{x \\to 1^+}} \\frac{1}{x - 1} = +\\infty$\n",
    "\n",
    "Αυτό σημαίνει ότι καθώς πλησιάζουμε το  x = 1:\n",
    "\n",
    "- Από την αριστερή πλευρά, η τιμή της συνάρτησης κατεβαίνει στο αρνητικό άπειρο.\n",
    "\n",
    "- Από τη δεξιά πλευρά, η τιμή της ανεβαίνει στο θετικό άπειρο.\n",
    "\n",
    "Αυτό μπορεί να φανεί και στην γραφική παράσταση της συνάρτησης."
   ]
  },
  {
   "cell_type": "code",
   "execution_count": null,
   "metadata": {
    "collapsed": false,
    "jupyter": {
     "outputs_hidden": false
    }
   },
   "outputs": [],
   "source": [
    "# Δημιουργία της συνάρτησης\n",
    "x = var('x')\n",
    "f = 1 / (x - 1)\n",
    "plot(f, (x, -2, 4), detect_poles='show', \\\n",
    "     title='Γράφημα της συνάρτησης $f(x) = \\\\frac{1}{x - 1}$', \\\n",
    "     color='blue', ymin=-10, ymax=10, legend_label='$f(x)$')"
   ]
  },
  {
   "cell_type": "markdown",
   "metadata": {
    "collapsed": false,
    "jupyter": {
     "outputs_hidden": false
    }
   },
   "source": [
    "Υπολογίζουμε τα πλευρικά όρια στο $x=1$."
   ]
  },
  {
   "cell_type": "code",
   "execution_count": null,
   "metadata": {
    "collapsed": false,
    "jupyter": {
     "outputs_hidden": false
    }
   },
   "outputs": [],
   "source": [
    "leftLimit = limit(f, x=1, dir='-')\n",
    "rightLimit = limit(f, x=1, dir='+')\n",
    "leftLimit, rightLimit"
   ]
  },
  {
   "cell_type": "markdown",
   "metadata": {
    "collapsed": false,
    "jupyter": {
     "outputs_hidden": false
    }
   },
   "source": [
    "Η παράμετρος `detect_poles='show'` στην `plot` μας βοηθά να εντοπίζουμε τα σημεία που το γράφημα παρουσιάζει μια κάθετη ασύμπτωτη, δηλαδή μια ευθεία που ενώ δεν ανήκει στην γραφική παράσταση, είναι άπειρα κοντά σε αυτήν. Όμοια η εντολή `detect_poles=True` διαγράφει εντελώς την ασύμπτωτη από το γράφημα. Στο παραπάνω παράδειγμα η κάθετη ασύμπτωτη βρίσκεται στην θέση $x = 1$, διότι για $x = 1$ το κλάσμα $\\frac{1}{x-1}$ δεν ορίζεται."
   ]
  },
  {
   "cell_type": "markdown",
   "metadata": {
    "collapsed": false,
    "jupyter": {
     "outputs_hidden": false
    }
   },
   "source": [
    "# Διαφορικός Λογισμός"
   ]
  },
  {
   "cell_type": "markdown",
   "metadata": {
    "collapsed": false,
    "jupyter": {
     "outputs_hidden": false
    }
   },
   "source": [
    "## Παράγωγος"
   ]
  },
  {
   "cell_type": "markdown",
   "metadata": {
    "collapsed": false,
    "jupyter": {
     "outputs_hidden": false
    }
   },
   "source": [
    "Μπορούμε εύκολα με την συνάρτηση `diff` να υπολογίσουμε μια παράγωγο. Θα πρέπει η συνάρτηση της οποίας θα υπολογίσουμε την παράγωγο να είναι συμβολική, δηλαδή να ανήκει στο Symbolic Ring ή να είναι τύπου `function`. Στο παράδειγμα που ακολουθεί υπολογίζεται η παράγωγος της $f(x) = x^4 + 3x^3 + 2x^2$\n",
    "\n",
    "Υπενθυμίζεται ότι η `show` κάνει την έξοδο περισσότερο ευπαρουσίαστη."
   ]
  },
  {
   "cell_type": "code",
   "execution_count": null,
   "metadata": {
    "collapsed": false,
    "jupyter": {
     "outputs_hidden": false
    }
   },
   "outputs": [],
   "source": [
    "f = x^4 + 3*x^3 + 2*x^2\n",
    "fprime = diff(f, x)\n",
    "fprime # show(fprime)"
   ]
  },
  {
   "cell_type": "code",
   "execution_count": null,
   "metadata": {
    "collapsed": false,
    "jupyter": {
     "outputs_hidden": false
    }
   },
   "outputs": [],
   "source": [
    "diff(f, x)(x=1)"
   ]
  },
  {
   "cell_type": "code",
   "execution_count": null,
   "metadata": {
    "collapsed": false,
    "jupyter": {
     "outputs_hidden": false
    }
   },
   "outputs": [],
   "source": [
    "plot([f,fprime],(x,-2,2),figsize=(4,3))"
   ]
  },
  {
   "cell_type": "markdown",
   "metadata": {
    "collapsed": false,
    "jupyter": {
     "outputs_hidden": false
    }
   },
   "source": [
    "Μπορούμε να χρησιμοποιήσουμε τον γνωστό τύπο $y - f(x_0)=f'(x_0)(x-x_0)$ ώστε να βρούμε (και να σχεδιάσουμε) την εφαπτομένη της συνάρτησης στο $x=x_0$."
   ]
  },
  {
   "cell_type": "code",
   "execution_count": null,
   "metadata": {
    "collapsed": false,
    "jupyter": {
     "outputs_hidden": false
    }
   },
   "outputs": [],
   "source": [
    "a=1\n",
    "fp = plot(f,(x,-2,2),figsize=(4,3))\n",
    "gp = plot(fprime(x=a)*(x-a)+f(x=a),(x,0,2),color=\"red\")\n",
    "gp+fp"
   ]
  },
  {
   "cell_type": "markdown",
   "metadata": {
    "collapsed": false,
    "jupyter": {
     "outputs_hidden": false
    }
   },
   "source": [
    "Εναλλακτικά, παίρνουμε την 1η παράγωγο μέσω της μεθόδου `derivative()`."
   ]
  },
  {
   "cell_type": "code",
   "execution_count": null,
   "metadata": {
    "collapsed": false,
    "jupyter": {
     "outputs_hidden": false
    }
   },
   "outputs": [],
   "source": [
    "f.derivative() #show(f.derivative())"
   ]
  },
  {
   "cell_type": "markdown",
   "metadata": {
    "collapsed": false,
    "jupyter": {
     "outputs_hidden": false
    }
   },
   "source": [
    "## Παράγωγοι n-ης τάξης"
   ]
  },
  {
   "cell_type": "markdown",
   "metadata": {
    "collapsed": false,
    "jupyter": {
     "outputs_hidden": false
    }
   },
   "source": [
    "Θέτοντας τρίτη παράμετρο, πέρα από την συνάρτηση και τη μεταβλητή ως προς την οποία παραγωγίζουμε, υπολογίζουμε 2η 3η κοκ. παράγωγο."
   ]
  },
  {
   "cell_type": "code",
   "execution_count": null,
   "metadata": {
    "collapsed": false,
    "jupyter": {
     "outputs_hidden": false
    }
   },
   "outputs": [],
   "source": [
    "diff(f, x, 2), diff(f, x, 3)"
   ]
  },
  {
   "cell_type": "markdown",
   "metadata": {
    "collapsed": false,
    "jupyter": {
     "outputs_hidden": false
    }
   },
   "source": [
    "## Μερικές παράγωγοι"
   ]
  },
  {
   "cell_type": "markdown",
   "metadata": {
    "collapsed": false,
    "jupyter": {
     "outputs_hidden": false
    }
   },
   "source": [
    "Όταν έχουμε μια συνάρτηση πολλών μεταβλητών έχουμε την δυνατότητα εύρεσης της παραγώγου της σε σχέση με μια από αυτές τις μεταβλητές, κρατώντας τις υπόλοιπες σταθερές (αμετάβλητες)."
   ]
  },
  {
   "cell_type": "markdown",
   "metadata": {
    "collapsed": false,
    "jupyter": {
     "outputs_hidden": false
    }
   },
   "source": [
    "**Παράδειγμα**\n",
    "\n",
    "Θα υπολογίσουμε τις μερικές παραγώγους της συνάρτησης $f(x, y) = x^2 + y^2 + 3xy$ που ακολουθεί ως προς το x, ως προς το y, και τέλος πρώτα ως προς το x και μετά ως προς το y."
   ]
  },
  {
   "cell_type": "code",
   "execution_count": null,
   "metadata": {
    "collapsed": false,
    "jupyter": {
     "outputs_hidden": false
    }
   },
   "outputs": [],
   "source": [
    "var('y')\n",
    "f(x, y) = x^2 + y^2 + 3*x*y\n",
    "dfdx = diff(f, x)\n",
    "dfdy = diff(f, y)\n",
    "df2dxdy = diff(f, x, y)\n",
    "dfdx,dfdy,df2dxdy"
   ]
  },
  {
   "cell_type": "markdown",
   "metadata": {
    "collapsed": false,
    "jupyter": {
     "outputs_hidden": false
    }
   },
   "source": [
    "Οι μερικές παράγωγοι 2ης ή ανώτερης τάξης μπορούν να υπολογιστούν με την ίδια λογική με τις παραγώγους ανώτερης τάξης."
   ]
  },
  {
   "cell_type": "code",
   "execution_count": null,
   "metadata": {
    "collapsed": false,
    "jupyter": {
     "outputs_hidden": false
    }
   },
   "outputs": [],
   "source": [
    "var('y')\n",
    "f(x, y) = x^2*y + x*sin(y^2)\n",
    "d2fdx2 = diff(f, x, 2)\n",
    "d2fdx2"
   ]
  },
  {
   "cell_type": "markdown",
   "metadata": {
    "collapsed": false,
    "jupyter": {
     "outputs_hidden": false
    }
   },
   "source": [
    "Αν σε μια συνάρτηση πολλών μεταβλητών καλέσουμε την `gradient` της συνάρτησης με τις μεταβλητές ως προς τις οποίες θέλουμε να παραγωγίσουμε, τότε ουσιαστικά υπολογίζουμε την nabla $\\nabla f$ της f (το διάνυσμα με τις μερικές της παραγώγους για κάθε μια από τις μεταβλητές)"
   ]
  },
  {
   "cell_type": "code",
   "execution_count": null,
   "metadata": {
    "collapsed": false,
    "jupyter": {
     "outputs_hidden": false
    }
   },
   "outputs": [],
   "source": [
    "var('x y')\n",
    "f =x^2 + y^2 + 3*x*y\n",
    "f.gradient([x, y])"
   ]
  },
  {
   "cell_type": "markdown",
   "metadata": {
    "collapsed": false,
    "jupyter": {
     "outputs_hidden": false
    }
   },
   "source": [
    "## Ακρότατα συνάρτησης"
   ]
  },
  {
   "cell_type": "markdown",
   "metadata": {
    "collapsed": false,
    "jupyter": {
     "outputs_hidden": false
    }
   },
   "source": [
    "Ως γνωστών για να παρουσιάζει μια συνάρτηση f ακρότατο σε ένα σημείο θα πρέπει $f'(x_{0})=0$. Θα μελετήσουμε την συνάρτηση $f(x) = \\frac{1}{2x^2 + 1}$."
   ]
  },
  {
   "cell_type": "markdown",
   "metadata": {
    "collapsed": false,
    "jupyter": {
     "outputs_hidden": false
    }
   },
   "source": [
    "Αρχικά αφού δηλώσουμε την συνάρτηση θα μελετήσουμε την γραφική παράστασή της."
   ]
  },
  {
   "cell_type": "code",
   "execution_count": null,
   "metadata": {
    "collapsed": false,
    "jupyter": {
     "outputs_hidden": false
    }
   },
   "outputs": [],
   "source": [
    "f(x) = 1/(2* x ^2+1)\n",
    "plot (f(x), (x ,-2,2), ymin =0, ymax =1,figsize =(4,3))"
   ]
  },
  {
   "cell_type": "markdown",
   "metadata": {
    "collapsed": false,
    "jupyter": {
     "outputs_hidden": false
    }
   },
   "source": [
    "Στην συνέχεια θα βρούμε την παράγωγό της και τα σημεία στα οποία αυτή μηδενίζεται. Για να το καταφέρουμε θα χρησιμοποιήσουμε τη `solve`."
   ]
  },
  {
   "cell_type": "code",
   "execution_count": null,
   "metadata": {
    "collapsed": false,
    "jupyter": {
     "outputs_hidden": false
    }
   },
   "outputs": [],
   "source": [
    "df = diff(f,x)\n",
    "show(df)\n",
    "s = solve(df==0,x)\n",
    "print('Ακρότατο: (',s[0].rhs(),',',f(x=s[0].rhs()),')', sep='')"
   ]
  },
  {
   "cell_type": "markdown",
   "metadata": {
    "collapsed": false,
    "jupyter": {
     "outputs_hidden": false
    }
   },
   "source": [
    "Στο σημείο (0,1), όπως φάνηκε και από την γραφική παράσταση, η συνάρτηση έχει ακρότατο. Μπορούμε να πάρουμε την 2η παράγωγό της και βλέποντας ότι είναι αρνητική για $x=0$, συμπεραίνουμε ότι στο (0,1) έχουμε τοπικό μέγιστο."
   ]
  },
  {
   "cell_type": "code",
   "execution_count": null,
   "metadata": {
    "collapsed": false,
    "jupyter": {
     "outputs_hidden": false
    }
   },
   "outputs": [],
   "source": [
    "diff (f(x),x ,2)(x=0)"
   ]
  },
  {
   "cell_type": "markdown",
   "metadata": {
    "collapsed": false,
    "jupyter": {
     "outputs_hidden": false
    }
   },
   "source": [
    "# Ολοκληρωτικός Λογισμός"
   ]
  },
  {
   "cell_type": "markdown",
   "metadata": {
    "collapsed": false,
    "jupyter": {
     "outputs_hidden": false
    }
   },
   "source": [
    "## Αόριστο ολοκλήρωμα"
   ]
  },
  {
   "cell_type": "markdown",
   "metadata": {
    "collapsed": false,
    "jupyter": {
     "outputs_hidden": false
    }
   },
   "source": [
    "Για να υπολογίσουμε το αόριστο ολοκλήρωμα μιας συνάρτησης κάνουμε χρήση της `integral` με παραμέτρους την συνάρτηση και την μεταβλητή ως προς την οποία το υπολογίζουμε."
   ]
  },
  {
   "cell_type": "code",
   "execution_count": null,
   "metadata": {
    "collapsed": false,
    "jupyter": {
     "outputs_hidden": false
    }
   },
   "outputs": [],
   "source": [
    "f = x^2 + 3*x + 2\n",
    "integral(f, x),integral(cos(x),x)"
   ]
  },
  {
   "cell_type": "markdown",
   "metadata": {
    "collapsed": false,
    "jupyter": {
     "outputs_hidden": false
    }
   },
   "source": [
    "## Ορισμένο ολοκλήρωμα"
   ]
  },
  {
   "cell_type": "markdown",
   "metadata": {
    "collapsed": false,
    "jupyter": {
     "outputs_hidden": false
    }
   },
   "source": [
    "Για ορισμένο ολοκλήρωμα θα πρέπει να θέσουμε, ως παράμετρο στην `integral` και το διάστημα $[α,β]$ στο οποίο αυτό θα υπολογιστεί."
   ]
  },
  {
   "cell_type": "code",
   "execution_count": null,
   "metadata": {
    "collapsed": false,
    "jupyter": {
     "outputs_hidden": false
    }
   },
   "outputs": [],
   "source": [
    "f(x) = cos(x)\n",
    "show(integral(f,(x,0,pi/2)))"
   ]
  },
  {
   "cell_type": "markdown",
   "metadata": {
    "collapsed": false,
    "jupyter": {
     "outputs_hidden": false
    }
   },
   "source": [
    "**Παράδειγμα**\n",
    "\n",
    "- Θα υπολογίσουμε το ολοκλήρωμα της συνάρτησης:$\\int_{-1}^{1} \\sin(2x^2) \\, dx$. \n",
    "\n",
    "- Επίσης, θα δημιουργήσουμε γραφική παράσταση με σκιασμένο το χωρίο του οποίου το εμβαδόν υπολογίζουμε.\n",
    "\n",
    "- Η σκίαση θα γίνει με την παράμετρο `fillcolor`."
   ]
  },
  {
   "cell_type": "code",
   "execution_count": null,
   "metadata": {
    "collapsed": false,
    "jupyter": {
     "outputs_hidden": false
    }
   },
   "outputs": [],
   "source": [
    "f(x) = sin(2*x^2)\n",
    "integral(f(x), x, -1, 1),N(integral(f(x), x, -1, 1))"
   ]
  },
  {
   "cell_type": "code",
   "execution_count": null,
   "metadata": {
    "collapsed": false,
    "jupyter": {
     "outputs_hidden": false
    }
   },
   "outputs": [],
   "source": [
    "plot(f(x), (x, -1, 1), fill=0, fillcolor='gray')"
   ]
  },
  {
   "cell_type": "markdown",
   "metadata": {
    "collapsed": false,
    "jupyter": {
     "outputs_hidden": false
    }
   },
   "source": [
    "**Παράδειγμα**\n",
    "\n",
    "Υπολογίστε το εμβαδόν ανάμεσα στον άξονα x και την συνάρτηση sin(x) από π έως 2π.\n",
    "\n",
    "Υπολογίστε το επόμενο ολοκλήρωμα\n",
    "$$\n",
    "\\int_{\\pi}^{2\\pi} \\sin(x) \\, dx\n",
    "$$\n",
    "\n",
    "Σχεδιάστε γραφική παράσταση με σκιασμένα τα χωρία ολοκλήρωσης."
   ]
  },
  {
   "cell_type": "code",
   "execution_count": null,
   "metadata": {
    "collapsed": false,
    "jupyter": {
     "outputs_hidden": false
    }
   },
   "outputs": [],
   "source": [
    "f(x) = sin(x)\n",
    "g(x) = abs(f(x))\n",
    "integral(g, x, pi, 2*pi)"
   ]
  },
  {
   "cell_type": "code",
   "execution_count": null,
   "metadata": {
    "collapsed": false,
    "jupyter": {
     "outputs_hidden": false
    }
   },
   "outputs": [],
   "source": [
    "f(x) = sin(x)\n",
    "integral(f(x), x, -pi, 2*pi)"
   ]
  },
  {
   "cell_type": "code",
   "execution_count": null,
   "metadata": {
    "collapsed": false,
    "jupyter": {
     "outputs_hidden": false
    }
   },
   "outputs": [],
   "source": [
    "plot(f(x), (x, -pi, 2*pi), fill=0, fillcolor='gray')"
   ]
  },
  {
   "cell_type": "markdown",
   "metadata": {
    "collapsed": false,
    "jupyter": {
     "outputs_hidden": false
    }
   },
   "source": [
    "## Πολλαπλό Ολοκλήρωμα"
   ]
  },
  {
   "cell_type": "markdown",
   "metadata": {
    "collapsed": false,
    "jupyter": {
     "outputs_hidden": false
    }
   },
   "source": [
    "Για να υπολογίσουμε ένα διπλό (πολλαπλό) ολοκλήρωμα της μορφής:\n",
    "$$\n",
    "\\int_{a}^{b} \\int_{c}^{d} f(x,y)\\, dy  dx\n",
    "$$\n",
    "\n",
    "πάνω σε μία περιοχή του $\\mathbb{R}^2$ ($\\mathbb{R}^n$) μπορούμε να το αναγάγουμε σε ένα επαναλαμβανόμενο ολοκλήρωμα, μια σειρά, δηλαδή, από ολοκληρώματα μιας μεταβλητής:\n",
    "$$\n",
    "\\int_a^b \\left( \\int_c^d f(x,y) \\, dx \\right) dy\n",
    "$$"
   ]
  },
  {
   "cell_type": "markdown",
   "metadata": {
    "collapsed": false,
    "jupyter": {
     "outputs_hidden": false
    }
   },
   "source": [
    "**Παράδειγμα**\n",
    "\n",
    "Θα υπολογίσουμε το διπλό ολοκλήρωμα της $f(x, y) = x^2 + y^2$ πάνω στο τετράγωνο με πλευρές από 0 έως 1 $\\{(x,y) \\in \\mathbb{R}^2 \\;|\\; 0 \\leq x \\leq 1,\\; 0 \\leq y \\leq 1 \\}$\n",
    "(στη παρακάτω γραφική παράσταση το πεδίο παριστάνεται με κόκκινο χρώμα):\n",
    "$$\n",
    "\\int_0^1 \\int_0^1 (x^2 + y^2) \\, dx \\, dy\n",
    "$$"
   ]
  },
  {
   "cell_type": "code",
   "execution_count": null,
   "metadata": {
    "collapsed": false,
    "jupyter": {
     "outputs_hidden": false
    }
   },
   "outputs": [],
   "source": [
    "var('x y')\n",
    "f(x, y) = x^2 + y^2\n",
    "plot3d(f,(x,-1,1), (y,-1,1))+plot3d(0,(x,-1,1), (y,-1,1),color='red')"
   ]
  },
  {
   "cell_type": "markdown",
   "metadata": {
    "collapsed": false,
    "jupyter": {
     "outputs_hidden": false
    }
   },
   "source": [
    "Υπενθυμίζεται ότι μπορούμε να σώσουμε ένα στιγμιότυπο του παραπάνω γραφήματος σε μορφή .png και με ονομασία my3dplot.png, για παράδειγμα, χρησιμοποιώντας την εντολή `p.save('my3dplot.png', viewer='tachyon')` ή κατά τα γνωστά πατώντας το i (μέσα στο κυκλάκι) στο κάτω δεξιό άκρο του γραφήματος, και επιλέγοντας _Save as PNG_."
   ]
  },
  {
   "cell_type": "code",
   "execution_count": null,
   "metadata": {
    "collapsed": false,
    "jupyter": {
     "outputs_hidden": false
    }
   },
   "outputs": [],
   "source": [
    "integral_result = integral(integral(f(x, y), x, 0, 1), y, 0, 1)\n",
    "integral_result"
   ]
  },
  {
   "cell_type": "markdown",
   "metadata": {
    "collapsed": false,
    "jupyter": {
     "outputs_hidden": false
    }
   },
   "source": [
    "## Εμβαδόν μεταξύ καμπυλών"
   ]
  },
  {
   "cell_type": "markdown",
   "metadata": {
    "collapsed": false,
    "jupyter": {
     "outputs_hidden": false
    }
   },
   "source": [
    "Για να βρούμε το εμβαδόν του χωρίου ανάμεσα στις συναρτήσεις $f(x) = 2x^2$, $g(x) = \\sin(x)$ στο διάστημα $[-\\frac{π}{2},\\frac{π}{2}]$ θα πρέπει να βρούμε τα κοινά τους σημεία στο παραπάνω διάστημα με την `solve` ή την `find_root`."
   ]
  },
  {
   "cell_type": "code",
   "execution_count": null,
   "metadata": {
    "collapsed": false,
    "jupyter": {
     "outputs_hidden": false
    }
   },
   "outputs": [],
   "source": [
    "f(x) = 2*x^2\n",
    "g(x)= cos(x)\n",
    "h= plot ((f(x),g(x)),(x,-pi /2, pi /2), figsize =3, fill = True )\n",
    "h"
   ]
  },
  {
   "cell_type": "markdown",
   "metadata": {
    "collapsed": false,
    "jupyter": {
     "outputs_hidden": false
    }
   },
   "source": [
    "Η χρήση της `solve` βρίσκει τις λύσεις συμβολικά."
   ]
  },
  {
   "cell_type": "code",
   "execution_count": null,
   "metadata": {
    "collapsed": false,
    "jupyter": {
     "outputs_hidden": false
    }
   },
   "outputs": [],
   "source": [
    "common = solve(f==g,x)\n",
    "x1 = common[0].rhs()\n",
    "x2 = common[1].rhs()\n",
    "(x1,f(x1)),(x2,f(x2))"
   ]
  },
  {
   "cell_type": "markdown",
   "metadata": {
    "collapsed": false,
    "jupyter": {
     "outputs_hidden": false
    }
   },
   "source": [
    "Η απάντηση της `solve` δεν μας βοήθησε καθόλου!"
   ]
  },
  {
   "cell_type": "markdown",
   "metadata": {
    "collapsed": false,
    "jupyter": {
     "outputs_hidden": false
    }
   },
   "source": [
    "Από τη γραφική παράσταση φαίνεται ότι υπάρχει ένα κοινό σημείο στο διάστημα [-π/2,0] και το συμμετρικό του στο [0,π/2]. Χρησιμοποιούμε τη `find_root` για να την εντοπίσουμε:"
   ]
  },
  {
   "cell_type": "code",
   "execution_count": null,
   "metadata": {
    "collapsed": false,
    "jupyter": {
     "outputs_hidden": false
    }
   },
   "outputs": [],
   "source": [
    "a = find_root (f(x)-g(x),-pi/2 ,0)\n",
    "a"
   ]
  },
  {
   "cell_type": "markdown",
   "metadata": {
    "collapsed": false,
    "jupyter": {
     "outputs_hidden": false
    }
   },
   "source": [
    "Προφανώς η συμμετρική της ρίζα θα είναι:"
   ]
  },
  {
   "cell_type": "code",
   "execution_count": null,
   "metadata": {
    "collapsed": false,
    "jupyter": {
     "outputs_hidden": false
    }
   },
   "outputs": [],
   "source": [
    "b = find_root (f(x)-g(x),0, pi/2)\n",
    "b"
   ]
  },
  {
   "cell_type": "code",
   "execution_count": null,
   "metadata": {
    "collapsed": false,
    "jupyter": {
     "outputs_hidden": false
    }
   },
   "outputs": [],
   "source": [
    "p = points([(a,f(a)),(b,f(b))],size=30,color='red')\n",
    "h+p"
   ]
  },
  {
   "cell_type": "markdown",
   "metadata": {
    "collapsed": false,
    "jupyter": {
     "outputs_hidden": false
    }
   },
   "source": [
    "Βρίσκουμε διαδοχικά τα ολοκληρώματα από τα χωρία που δημιουργούνται στα $[-π/2,α]$, $[α,β]$, $[β,π/2]$ και προσθέτουμε."
   ]
  },
  {
   "cell_type": "code",
   "execution_count": null,
   "metadata": {
    "collapsed": false,
    "jupyter": {
     "outputs_hidden": false
    }
   },
   "outputs": [],
   "source": [
    "n(integral(f(x)-g(x),x,-pi /2,a)+ \\\n",
    "  integral (g(x)-f(x),x,a, b)+ \\\n",
    "  integral (f(x)-g(x),x,b,pi /2))"
   ]
  },
  {
   "cell_type": "markdown",
   "metadata": {
    "collapsed": false,
    "jupyter": {
     "outputs_hidden": false
    }
   },
   "source": [
    "# Διαφορικές Εξισώσεις"
   ]
  },
  {
   "cell_type": "markdown",
   "metadata": {
    "collapsed": false,
    "jupyter": {
     "outputs_hidden": false
    }
   },
   "source": [
    "Για την επίλυση διαφορικών εξισώσεων χρησιμοποιείται η `desolve`. Επίσης θα πρέπει να δηλώσουμε μια αφηρημένη συνάρτηση, έστω y με την `function`."
   ]
  },
  {
   "cell_type": "markdown",
   "metadata": {
    "collapsed": false,
    "jupyter": {
     "outputs_hidden": false
    }
   },
   "source": [
    "**Παράδειγμα**\n",
    "\n",
    "Στο επόμενο παράδειγμα ορίζουμε την διαφορική εξίσωση:\n",
    "$$\n",
    "\\frac{dy}{dx} = 3x^2\n",
    "$$\n",
    "\n",
    "- Αρχικά θα λύσουμε την εξίσωση χωρίς αρχικές συνθήκες.\n",
    "\n",
    "- Στη συνέχεια θα υποθέσουμε την συνθήκη y(0) == 3."
   ]
  },
  {
   "cell_type": "markdown",
   "metadata": {
    "collapsed": false,
    "jupyter": {
     "outputs_hidden": false
    }
   },
   "source": [
    "Ορίζουμε μεταβλητές και διαφορική εξίσωση."
   ]
  },
  {
   "cell_type": "code",
   "execution_count": null,
   "metadata": {
    "collapsed": false,
    "jupyter": {
     "outputs_hidden": false
    }
   },
   "outputs": [],
   "source": [
    "#x = var('x')\n",
    "y = function('y')(x)\n",
    "de = diff(y, x) == 3*x^2;\n",
    "de"
   ]
  },
  {
   "cell_type": "markdown",
   "metadata": {
    "collapsed": false,
    "jupyter": {
     "outputs_hidden": false
    }
   },
   "source": [
    "Στην συνέχεια επιλύεται η διαφορική εξίσωση χωρίς αρχικές συνθήκες."
   ]
  },
  {
   "cell_type": "code",
   "execution_count": null,
   "metadata": {
    "collapsed": false,
    "jupyter": {
     "outputs_hidden": false
    }
   },
   "outputs": [],
   "source": [
    "solution = desolve(de, y)\n",
    "solution"
   ]
  },
  {
   "cell_type": "markdown",
   "metadata": {
    "collapsed": false,
    "jupyter": {
     "outputs_hidden": false
    }
   },
   "source": [
    "Θεωρούμε την αρχική συνθήκη y(0) == 3. Για να θέσουμε αρχικές συνθήκες χρησιμοποιούμε την παράμετρο `ics`. Έτσι, για να καθορίσουμε ότι όταν x=0 το y=3 θέτουμε `ics=[0,3]`."
   ]
  },
  {
   "cell_type": "code",
   "execution_count": null,
   "metadata": {
    "collapsed": false,
    "jupyter": {
     "outputs_hidden": false
    }
   },
   "outputs": [],
   "source": [
    "solution = desolve(de, y, ics=[0,3]);\n",
    "solution"
   ]
  },
  {
   "cell_type": "markdown",
   "metadata": {
    "collapsed": false,
    "jupyter": {
     "outputs_hidden": false
    }
   },
   "source": [
    "Χρησιμοποιώντας την `function` δημιουργούμε μια συμβολική συνάρτηση με όνομα f. Σημειώνεται ότι η f δεν είναι κάποια συνάρτηση python αλλά ένα αντικείμενο του συμβολικού κόσμου του SageMath, δηλαδή, μια «άγνωστη» συνάρτηση με όνομα f, που μπορεί κανείς να τη χειριστεί συμβολικά."
   ]
  },
  {
   "cell_type": "code",
   "execution_count": null,
   "metadata": {
    "collapsed": false,
    "jupyter": {
     "outputs_hidden": false
    }
   },
   "outputs": [],
   "source": [
    "f = function('f')\n",
    "f(x)"
   ]
  },
  {
   "cell_type": "markdown",
   "metadata": {
    "collapsed": false,
    "jupyter": {
     "outputs_hidden": false
    }
   },
   "source": [
    "Μπορούμε να πάρουμε την πρώτη ή και την δεύτερη παράγωγο της $f$."
   ]
  },
  {
   "cell_type": "code",
   "execution_count": null,
   "metadata": {
    "collapsed": false,
    "jupyter": {
     "outputs_hidden": false
    }
   },
   "outputs": [],
   "source": [
    "diff(f(x), x), diff(f(x), x, 2)"
   ]
  },
  {
   "cell_type": "markdown",
   "metadata": {
    "collapsed": false,
    "jupyter": {
     "outputs_hidden": false
    }
   },
   "source": [
    "Συνακόλουθα, μπορεί να δημιουργηθεί και μια διαφορική εξίσωση όπως η $\\frac{d^2 f(x)}{dx^2} + f(x) = 0$"
   ]
  },
  {
   "cell_type": "code",
   "execution_count": null,
   "metadata": {
    "collapsed": false,
    "jupyter": {
     "outputs_hidden": false
    }
   },
   "outputs": [],
   "source": [
    "de = diff(f(x), x, 2) + f(x) == 0\n",
    "de"
   ]
  },
  {
   "cell_type": "markdown",
   "metadata": {
    "collapsed": false,
    "jupyter": {
     "outputs_hidden": false
    }
   },
   "source": [
    "Για διαφορική εξίσωση 2ας τάξης, δουλεύουμε με τον ίδιο τρόπο με τις αρχικές συνθήκες να απαιτούν να δηλωθούν οι τιμές και του y στο σημείο x0 αλλά και του y’ στο ίδιο σημείο. (Συνεπώς τώρα το ics θα έχει τρεις τιμές $[x_0 , y_0 , y_0′]$).\n",
    "\n",
    "Ορίζουμε:\n",
    "$$\n",
    "y'' + 3y' + 2y = 0\n",
    "$$\n",
    "δουλεύουμε με τον ίδιο τρόπο με τις αρχικές συνθήκες να απαιτούν τιμές και του y αλλά και του y’.\n",
    "\n",
    "Στο παράδειγμα έστω: $y(0) = 1 \\quad \\text{και} \\quad y'(0) = 0$\n",
    "\n",
    "Οπότε $x_0 = 0$, $y_0 = 0$, $y_0′ = 0$ και συνεπώς ics = [0, 1, 0]."
   ]
  },
  {
   "cell_type": "code",
   "execution_count": null,
   "metadata": {
    "collapsed": false,
    "jupyter": {
     "outputs_hidden": false
    }
   },
   "outputs": [],
   "source": [
    "x = var('x')\n",
    "y = function('y')(x)\n",
    "de = diff(y, x, 2) + 3*diff(y, x) + 2*y == 0\n",
    "de"
   ]
  },
  {
   "cell_type": "code",
   "execution_count": null,
   "metadata": {
    "collapsed": false,
    "jupyter": {
     "outputs_hidden": false
    }
   },
   "outputs": [],
   "source": [
    "# Γενική λύση\n",
    "solution = desolve(de, y)\n",
    "solution"
   ]
  },
  {
   "cell_type": "code",
   "execution_count": null,
   "metadata": {
    "collapsed": false,
    "jupyter": {
     "outputs_hidden": false
    }
   },
   "outputs": [],
   "source": [
    "# Με αρχικές συμθήκες\n",
    "solutionics = desolve(de, y, ics=[0,1,0])\n",
    "solutionics"
   ]
  },
  {
   "cell_type": "code",
   "execution_count": null,
   "metadata": {
    "collapsed": false,
    "jupyter": {
     "outputs_hidden": false
    }
   },
   "outputs": [],
   "source": []
  }
 ],
 "metadata": {
  "kernelspec": {
   "display_name": "SageMath 9.5",
   "language": "sage",
   "name": "sagemath"
  },
  "language_info": {
   "codemirror_mode": {
    "name": "ipython",
    "version": 3
   },
   "file_extension": ".py",
   "mimetype": "text/x-python",
   "name": "python",
   "nbconvert_exporter": "python",
   "pygments_lexer": "ipython3",
   "version": "3.10.12"
  }
 },
 "nbformat": 4,
 "nbformat_minor": 4
}
