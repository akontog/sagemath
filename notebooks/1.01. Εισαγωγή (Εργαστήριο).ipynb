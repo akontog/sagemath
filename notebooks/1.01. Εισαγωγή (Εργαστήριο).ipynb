{
 "cells": [
  {
   "cell_type": "markdown",
   "metadata": {
    "collapsed": false,
    "jupyter": {
     "outputs_hidden": false
    }
   },
   "source": [
    "<div style=\"padding: 20px 0; text-align: center; font-weight: bold; font-size: 170%; background-color: #1d4055; color: #ffffff;\"> Εργαστήριο 01. Εισαγωγή </div>"
   ]
  },
  {
   "cell_type": "markdown",
   "metadata": {
    "collapsed": false,
    "jupyter": {
     "outputs_hidden": false
    }
   },
   "source": [
    "# Αριθμητικοί Τελεστές"
   ]
  },
  {
   "cell_type": "markdown",
   "metadata": {
    "collapsed": false,
    "jupyter": {
     "outputs_hidden": false
    }
   },
   "source": [
    "## Σύγκριση χρονικών διαστημάτων"
   ]
  },
  {
   "cell_type": "markdown",
   "metadata": {
    "collapsed": false,
    "jupyter": {
     "outputs_hidden": false
    }
   },
   "source": [
    "Υπολογίστε και συγκρίνετε:\n",
    "\n",
    "1.\n",
    "\n",
    "    - Τις ημέρες σε έναν αιώνα (χωρίς δίσεκτα έτη)\n",
    "\n",
    "    - Τα λεπτά σε μία ημέρα\n",
    "\n",
    "    - Τα δευτερόλεπτα σε μία εβδομάδα\n",
    "\n",
    "    - Τις ώρες σε έναν μήνα (υποθέτοντας 30 ημέρες ανά μήνα)"
   ]
  },
  {
   "cell_type": "code",
   "execution_count": null,
   "metadata": {
    "collapsed": false,
    "jupyter": {
     "outputs_hidden": false
    }
   },
   "outputs": [],
   "source": []
  },
  {
   "cell_type": "markdown",
   "metadata": {
    "collapsed": false,
    "jupyter": {
     "outputs_hidden": false
    }
   },
   "source": [
    "2.\n",
    "\n",
    "    - Τις ώρες ενός μη δίσεκτου έτους\n",
    "\n",
    "    - Τον αριθμό των δευτερολέπτων μιας ημέρας\n",
    "\n",
    "    - Τις μέρες μιας δεκαετίας (υποθέτουμε ότι δεν υπάρχουν δίσεκτα έτη)\n",
    "\n",
    "    - Τα λεπτά μιας εβδομάδας"
   ]
  },
  {
   "cell_type": "code",
   "execution_count": null,
   "metadata": {
    "collapsed": false,
    "jupyter": {
     "outputs_hidden": false
    }
   },
   "outputs": [],
   "source": []
  },
  {
   "cell_type": "markdown",
   "metadata": {
    "collapsed": false,
    "jupyter": {
     "outputs_hidden": false
    }
   },
   "source": [
    "## Υπολογισμός Δυνάμεων"
   ]
  },
  {
   "cell_type": "markdown",
   "metadata": {
    "collapsed": false,
    "jupyter": {
     "outputs_hidden": false
    }
   },
   "source": [
    "Υπολογίστε τις δυνάμεις:\n",
    "\n",
    "1. $3^{2^3}$\n",
    "2. $({3^2})^3$"
   ]
  },
  {
   "cell_type": "code",
   "execution_count": null,
   "metadata": {
    "collapsed": false,
    "jupyter": {
     "outputs_hidden": false
    }
   },
   "outputs": [],
   "source": []
  },
  {
   "cell_type": "markdown",
   "metadata": {
    "collapsed": false,
    "jupyter": {
     "outputs_hidden": false
    }
   },
   "source": [
    "##  Πηλίκο - Υπόλοιπο"
   ]
  },
  {
   "cell_type": "markdown",
   "metadata": {
    "collapsed": false,
    "jupyter": {
     "outputs_hidden": false
    }
   },
   "source": [
    "Για τους αριθμούς 28 και 10.Υπολογίστε και εμφανίστε:\n",
    "\n",
    "1. το ακέραιο πηλίκο τους.\n",
    "\n",
    "2. το υπόλοιπο.\n",
    "\n",
    "3. το πηλίκο ως πραγματικό αριθμό.\n",
    "\n",
    "4. το πηλίκο ως ρητό."
   ]
  },
  {
   "cell_type": "code",
   "execution_count": null,
   "metadata": {
    "collapsed": false,
    "jupyter": {
     "outputs_hidden": false
    }
   },
   "outputs": [],
   "source": []
  },
  {
   "cell_type": "markdown",
   "metadata": {
    "collapsed": false,
    "jupyter": {
     "outputs_hidden": false
    }
   },
   "source": [
    "## Τιμές παραστάσεων"
   ]
  },
  {
   "cell_type": "markdown",
   "metadata": {
    "collapsed": false,
    "jupyter": {
     "outputs_hidden": false
    }
   },
   "source": [
    "Χρησιμοποιήστε κατάλληλα τελεστές, σταθερές, παρενθέσεις και συναρτήσεις του SageMath για να υπολογίσετε τις τιμές των επόμενων παραστάσεων.\n",
    "\n",
    "1. $$\\frac{5 + 2}{3 \\times (3^2 + 5)}$$\n",
    "\n",
    "2. $$ (3 + 2) \\times (2 + 4) \\times 3^2 $$\n",
    "\n",
    "3. $$ \\frac{4^2 - 2^3}{6 + 1} $$\n",
    "\n",
    "4. $$ (7 - 3) \\times (2^2 + 5) $$\n",
    "\n",
    "5. $$ \\frac{(2 + 5) \\times 3}{4 - 1} $$\n",
    "\n",
    "6. $$ (1 + 2 + 3)^2 - (2 \\times 3) $$\n",
    "\n",
    "7. $$ \\frac{8}{2 \\times (2 + 2)} $$\n",
    "\n",
    "8. $$ \\frac{5^2 - 3^2}{4 - 2} $$"
   ]
  },
  {
   "cell_type": "code",
   "execution_count": 1,
   "metadata": {
    "collapsed": false,
    "jupyter": {
     "outputs_hidden": false
    }
   },
   "outputs": [],
   "source": [
    "# 1.\n"
   ]
  },
  {
   "cell_type": "code",
   "execution_count": 2,
   "metadata": {
    "collapsed": false,
    "jupyter": {
     "outputs_hidden": false
    }
   },
   "outputs": [],
   "source": [
    "# 2.\n"
   ]
  },
  {
   "cell_type": "code",
   "execution_count": 3,
   "metadata": {
    "collapsed": false,
    "jupyter": {
     "outputs_hidden": false
    }
   },
   "outputs": [],
   "source": [
    "# 3.\n"
   ]
  },
  {
   "cell_type": "code",
   "execution_count": 4,
   "metadata": {
    "collapsed": false,
    "jupyter": {
     "outputs_hidden": false
    }
   },
   "outputs": [],
   "source": [
    "# 4.\n"
   ]
  },
  {
   "cell_type": "code",
   "execution_count": 5,
   "metadata": {
    "collapsed": false,
    "jupyter": {
     "outputs_hidden": false
    }
   },
   "outputs": [],
   "source": [
    "# 5.\n"
   ]
  },
  {
   "cell_type": "code",
   "execution_count": 6,
   "metadata": {
    "collapsed": false,
    "jupyter": {
     "outputs_hidden": false
    }
   },
   "outputs": [],
   "source": [
    "# 6.\n"
   ]
  },
  {
   "cell_type": "code",
   "execution_count": 7,
   "metadata": {
    "collapsed": false,
    "jupyter": {
     "outputs_hidden": false
    }
   },
   "outputs": [],
   "source": [
    "# 7.\n"
   ]
  },
  {
   "cell_type": "code",
   "execution_count": 8,
   "metadata": {
    "collapsed": false,
    "jupyter": {
     "outputs_hidden": false
    }
   },
   "outputs": [],
   "source": [
    "# 8.\n"
   ]
  },
  {
   "cell_type": "markdown",
   "metadata": {
    "collapsed": false,
    "jupyter": {
     "outputs_hidden": false
    }
   },
   "source": [
    "# built-in σταθερές, συναρτήσεις"
   ]
  },
  {
   "cell_type": "markdown",
   "metadata": {
    "collapsed": false,
    "jupyter": {
     "outputs_hidden": false
    }
   },
   "source": [
    "## Τιμές παραστάσεων με συναρτήσεις"
   ]
  },
  {
   "cell_type": "markdown",
   "metadata": {
    "collapsed": false,
    "jupyter": {
     "outputs_hidden": false
    }
   },
   "source": [
    "Χρησιμοποιήστε κατάλληλα τελεστές, σταθερές, παρενθέσεις και συναρτήσεις του SageMath για να υπολογίσετε τις τιμές των επόμενων παραστάσεων."
   ]
  },
  {
   "cell_type": "markdown",
   "metadata": {
    "collapsed": false,
    "jupyter": {
     "outputs_hidden": false
    }
   },
   "source": [
    "1. $$ \\sin\\left(\\frac{\\pi}{4}\\right) + \\cos\\left(\\frac{\\pi}{4}\\right) $$\n",
    "\n",
    "\n",
    "2. $$ \\cos\\left(\\frac{\\pi}{3}\\right) + \\sin\\left(\\frac{\\pi}{6}\\right) $$\n",
    "\n",
    "\n",
    "3. $$ \\sin(30^\\circ) + \\tan(60^\\circ) $$\n",
    "\n",
    "\n",
    "4. $$ \\log_2(512) + \\ln(1) $$\n",
    "\n",
    "\n",
    "5. $$ \\ln(e^2) + \\log_{10}(100) $$\n",
    "\n",
    "6. $$ e^{\\sin(\\frac{\\pi}{2})} + \\ln(2 + 2) $$\n",
    "\n",
    "7. $$ \\tan(30^\\circ) \\times \\ln(2 \\times e) + \\cos(90^\\circ) $$\n",
    "\n",
    "Σημείωση: Οι τριγωνομετρικές συναρτήσεις στο SageMath δέχονται τιμές σε ακτίνια, όχι σε μοίρες. Ο τύπος μετατροπής είναι:\n",
    "$$\n",
    "\\text{Ακτίνια} = \\frac{\\pi}{180} \\times \\text{Μοίρες}\n",
    "$$"
   ]
  },
  {
   "cell_type": "code",
   "execution_count": 9,
   "metadata": {
    "collapsed": false,
    "jupyter": {
     "outputs_hidden": false
    }
   },
   "outputs": [],
   "source": [
    "# 1.\n"
   ]
  },
  {
   "cell_type": "code",
   "execution_count": 10,
   "metadata": {
    "collapsed": false,
    "jupyter": {
     "outputs_hidden": false
    }
   },
   "outputs": [],
   "source": [
    "# 2.\n"
   ]
  },
  {
   "cell_type": "code",
   "execution_count": 11,
   "metadata": {
    "collapsed": false,
    "jupyter": {
     "outputs_hidden": false
    }
   },
   "outputs": [],
   "source": [
    "# 3\n"
   ]
  },
  {
   "cell_type": "code",
   "execution_count": 12,
   "metadata": {
    "collapsed": false,
    "jupyter": {
     "outputs_hidden": false
    }
   },
   "outputs": [],
   "source": [
    "# 4.\n"
   ]
  },
  {
   "cell_type": "code",
   "execution_count": 13,
   "metadata": {
    "collapsed": false,
    "jupyter": {
     "outputs_hidden": false
    }
   },
   "outputs": [],
   "source": [
    "# 5. \n"
   ]
  },
  {
   "cell_type": "code",
   "execution_count": 14,
   "metadata": {
    "collapsed": false,
    "jupyter": {
     "outputs_hidden": false
    }
   },
   "outputs": [],
   "source": [
    "# 6. \n"
   ]
  },
  {
   "cell_type": "code",
   "execution_count": 15,
   "metadata": {
    "collapsed": false,
    "jupyter": {
     "outputs_hidden": false
    }
   },
   "outputs": [],
   "source": [
    "# 7. \n"
   ]
  },
  {
   "cell_type": "markdown",
   "metadata": {
    "collapsed": false,
    "jupyter": {
     "outputs_hidden": false
    }
   },
   "source": [
    "# Κατασκευή νέων συμβόλων"
   ]
  },
  {
   "cell_type": "markdown",
   "metadata": {
    "collapsed": false,
    "jupyter": {
     "outputs_hidden": false
    }
   },
   "source": [
    "## Αντιμετάθεση μεταβλητών"
   ]
  },
  {
   "cell_type": "markdown",
   "metadata": {
    "collapsed": false,
    "jupyter": {
     "outputs_hidden": false
    }
   },
   "source": [
    "Στο ημιτελές τμήμα κώδικα που ακολουθεί έχουν τεθεί οι απλές μεταβλητές a, b με τιμή 3 και 4 αντίστοιχα. Συνεχίστε τον κώδικα ώστε στο τέλος το a να έχει την τιμή 4 και το b την τιμή 3."
   ]
  },
  {
   "cell_type": "code",
   "execution_count": 20,
   "metadata": {
    "collapsed": false,
    "jupyter": {
     "outputs_hidden": false
    }
   },
   "outputs": [],
   "source": [
    "a = 3\n",
    "b = 4"
   ]
  },
  {
   "cell_type": "code",
   "execution_count": null,
   "metadata": {
    "collapsed": false,
    "jupyter": {
     "outputs_hidden": false
    }
   },
   "outputs": [],
   "source": []
  },
  {
   "cell_type": "markdown",
   "metadata": {
    "collapsed": false,
    "jupyter": {
     "outputs_hidden": false
    }
   },
   "source": [
    "## Σύμβολα συναρτήσων"
   ]
  },
  {
   "cell_type": "markdown",
   "metadata": {
    "collapsed": false,
    "jupyter": {
     "outputs_hidden": false
    }
   },
   "source": [
    "Με κατάλληλη χρήση συμβολικών μεταβλητών ορίστε τις επόμενες συναρτήσεις\n",
    "\n",
    "1.\n",
    "$$\n",
    "f(x) = \\frac{(x^2 + 3x + 2) \\cdot (x - 1)}{x^2 - 4x + 3} + \\frac{3x^3}{x^2 + x + 1} - \\sin(x) \n",
    "$$\n",
    "\n",
    "2.\n",
    "$$\n",
    "g(x,y) = \\frac{(x + y)^2 - (x - y)^2}{x \\cdot y + 1} + \\frac{x^3 - y^3}{x - y} + 2 \\cdot \\sin(xy) \n",
    "$$\n",
    "\n",
    "Εμφανίστε τις συναρτήσεις κάνοντας χρήση της `show`."
   ]
  },
  {
   "cell_type": "code",
   "execution_count": 16,
   "metadata": {
    "collapsed": false,
    "jupyter": {
     "outputs_hidden": false
    }
   },
   "outputs": [],
   "source": [
    "# 1\n"
   ]
  },
  {
   "cell_type": "code",
   "execution_count": 17,
   "metadata": {
    "collapsed": false,
    "jupyter": {
     "outputs_hidden": false
    }
   },
   "outputs": [],
   "source": [
    "# 2\n"
   ]
  },
  {
   "cell_type": "markdown",
   "metadata": {
    "collapsed": false,
    "jupyter": {
     "outputs_hidden": false
    }
   },
   "source": [
    "# Είσοδος, Έξοδος"
   ]
  },
  {
   "cell_type": "markdown",
   "metadata": {
    "collapsed": false,
    "jupyter": {
     "outputs_hidden": false
    }
   },
   "source": [
    "## Μετατροπή "
   ]
  },
  {
   "cell_type": "markdown",
   "metadata": {
    "collapsed": false,
    "jupyter": {
     "outputs_hidden": false
    }
   },
   "source": [
    "1. Κάντε χρήση της `input` ώστε να διαβαστεί μια τιμή που αντιστοιχεί σε θερμοκρασία Φαρενάιτ. Στη συνέχεια, υπολογίστε την τιμή της θερμοκρασίας σε βαθμούς κελσίου.\n",
    "\n",
    "Τύπος μετατροπής:\n",
    "\n",
    "$$\n",
    "C = \\frac{5}{9} (F - 32)\n",
    "$$\n",
    "\n",
    "Με κατάλληλη χρήση της `print` εμφανίστε το αποτέλεσμα με τρόπο παρόμοιο με τον επόμενο:\n",
    "```\n",
    "Fahrenheit: 100.0 Celsius: 37.77777777777778\n",
    "```"
   ]
  },
  {
   "cell_type": "code",
   "execution_count": 18,
   "metadata": {
    "cocalc": {
     "outputs": {
      "0": {
       "name": "input",
       "opts": {
        "password": false,
        "prompt": "Δώστε την θερμοκρασία (σε fahrenheit): "
       },
       "output_type": "stream",
       "value": "100"
      }
     }
    },
    "collapsed": false,
    "jupyter": {
     "outputs_hidden": false
    }
   },
   "outputs": [
    {
     "name": "stdout",
     "output_type": "stream",
     "text": [
      "Fahrenheit: 100.0 Celsius: 37.77777777777778\n"
     ]
    }
   ],
   "source": [
    "# 1\n"
   ]
  },
  {
   "cell_type": "markdown",
   "metadata": {
    "collapsed": false,
    "jupyter": {
     "outputs_hidden": false
    }
   },
   "source": [
    "2. Υλοποιήστε την αντίστροφη μετατροπή. Πρόγραμμα, δηλαδή, που να διαβάζει τιμή που αντιστοιχεί σε θερμοκρασία Κελσίου και να υπολογίζει και νε εμφανίζει κατάλληλα θερμοκρασία σε Φαρενάιτ.\n",
    "\n",
    "Πιθανό αποτέλεσμα:\n",
    "```\n",
    "Celsius: 37.7 Fahrenheit: 99.86000000000001\n",
    "```"
   ]
  },
  {
   "cell_type": "code",
   "execution_count": 19,
   "metadata": {
    "cocalc": {
     "outputs": {
      "0": {
       "name": "input",
       "opts": {
        "password": false,
        "prompt": "Δώστε την θερμοκρασία (σε Celsius): "
       },
       "output_type": "stream",
       "value": "37.7"
      }
     }
    },
    "collapsed": false,
    "jupyter": {
     "outputs_hidden": false
    }
   },
   "outputs": [
    {
     "name": "stdout",
     "output_type": "stream",
     "text": [
      "Celsius: 37.7 Fahrenheit: 99.86000000000001\n"
     ]
    }
   ],
   "source": [
    "# 2\n"
   ]
  },
  {
   "cell_type": "markdown",
   "metadata": {
    "collapsed": false,
    "jupyter": {
     "outputs_hidden": false
    }
   },
   "source": [
    "## Αντιστάσεις"
   ]
  },
  {
   "cell_type": "markdown",
   "metadata": {
    "collapsed": false,
    "jupyter": {
     "outputs_hidden": false
    }
   },
   "source": [
    "Κάντε χρήση της `input` ώστε να διαβαστούν οι τιμές δύο αντιστάσεων και να μετατραπούν σε πραγματικό, `float`. Στη συνέχεια υπολογίστε την συνολική αντίσταση στην περίπτωση σύνδεσης σε σειρά και παράλληλα. \n",
    "\n",
    "- Σε σειρά: $R_{\\text{series}} = R_1 + R_2$\n",
    "\n",
    "- Παράλληλα: $\\frac{1}{R_{\\text{parallel}}} = \\frac{1}{R_1} + \\frac{1}{R_2}$\n",
    "\n",
    "Με κατάλληλη χρήση της `print` εμφανίστε τα αποτελέσματα με τρόπο παρόμοιο με τον επόμενο:\n",
    "```\n",
    "Αντίσταση R1: 3.5 ohms Αντίσταση R2: 4.3 ohms\n",
    "Συνολική αντίσταση σε σύνδεση σε σειρά: 7.8 ohms\n",
    "Συνολική αντίσταση σε παράλληλη σύνδεση: 1.9294871794871797 ohms\n",
    "```"
   ]
  },
  {
   "cell_type": "code",
   "execution_count": null,
   "metadata": {
    "cocalc": {
     "outputs": {
      "0": {
       "name": "input",
       "opts": {
        "password": false,
        "prompt": "Δώστε την αντίσταση R1 (σε ohms): "
       },
       "output_type": "stream",
       "value": "4.3"
      },
      "1": {
       "name": "input",
       "opts": {
        "password": false,
        "prompt": "Δώστε την αντίσταση R2 (σε ohms): "
       },
       "output_type": "stream",
       "value": "7.8"
      }
     }
    },
    "collapsed": false,
    "jupyter": {
     "outputs_hidden": false
    }
   },
   "outputs": [
    {
     "name": "stdout",
     "output_type": "stream",
     "text": [
      "Δώστε την αντίσταση R2 (σε ohms):  7.8"
     ]
    },
    {
     "name": "stdout",
     "output_type": "stream",
     "text": [
      "Αντίσταση R1: 4.3 ohms Αντίσταση R2: 7.8 ohms\n",
      "Συνολική αντίσταση σε σύνδεση σε σειρά: 12.1 ohms\n",
      "Συνολική αντίσταση σε παράλληλη σύνδεση: 2.7719008264462808 ohms\n"
     ]
    }
   ],
   "source": []
  },
  {
   "cell_type": "markdown",
   "metadata": {
    "collapsed": false,
    "jupyter": {
     "outputs_hidden": false
    }
   },
   "source": [
    "## Καταγραφή αριθμών"
   ]
  },
  {
   "cell_type": "markdown",
   "metadata": {
    "collapsed": false,
    "jupyter": {
     "outputs_hidden": false
    }
   },
   "source": [
    "Κάντε χρήση της `input` ώστε να διαβαστεί φυσικός αριθμός a. Στην συνέχεια εμφανίστε με τη βοήθεια της δομής `for` και κατάλληλης χρήσης της `print` τους αριθμούς 1, 2, …, a ως εξής:\n",
    "\n",
    "```\n",
    "Δώσε φυσικό αριθμό a:5\n",
    "0->1->2->3->4->5\n",
    "```\n",
    "Δίνεται κώδικας προς συμπλήρωση: \n",
    "```\n",
    "a = ...\n",
    "for i in range(a): print(...)\n",
    "print(a)\n",
    "```"
   ]
  },
  {
   "cell_type": "code",
   "execution_count": null,
   "metadata": {
    "cocalc": {
     "outputs": {
      "0": {
       "name": "input",
       "opts": {
        "password": false,
        "prompt": "Δώσε φυσικό αριθμό a:"
       },
       "output_type": "stream",
       "value": "5"
      }
     }
    },
    "collapsed": false,
    "jupyter": {
     "outputs_hidden": false
    }
   },
   "outputs": [
    {
     "name": "stdout",
     "output_type": "stream",
     "text": [
      "0->1->2->3->4->5\n"
     ]
    }
   ],
   "source": []
  },
  {
   "cell_type": "code",
   "execution_count": null,
   "metadata": {
    "collapsed": false,
    "jupyter": {
     "outputs_hidden": false
    }
   },
   "outputs": [],
   "source": []
  }
 ],
 "metadata": {
  "kernelspec": {
   "display_name": "SageMath 9.5",
   "language": "sage",
   "name": "sagemath"
  },
  "language_info": {
   "codemirror_mode": {
    "name": "ipython",
    "version": 3
   },
   "file_extension": ".py",
   "mimetype": "text/x-python",
   "name": "python",
   "nbconvert_exporter": "python",
   "pygments_lexer": "ipython3",
   "version": "3.10.12"
  }
 },
 "nbformat": 4,
 "nbformat_minor": 4
}
