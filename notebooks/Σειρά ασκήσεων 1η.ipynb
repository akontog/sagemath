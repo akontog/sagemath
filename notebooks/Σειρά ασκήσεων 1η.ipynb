{
 "cells": [
  {
   "cell_type": "markdown",
   "metadata": {
    "collapsed": false,
    "jupyter": {
     "outputs_hidden": false
    }
   },
   "source": [
    "<div style=\"padding: 20px 0; text-align: center; font-weight: bold; font-size: 170%; background-color: #1d4055; color: #ffffff;\"> 1η Σειρά Ασκήσεων</div>"
   ]
  },
  {
   "cell_type": "markdown",
   "metadata": {
    "collapsed": false,
    "jupyter": {
     "outputs_hidden": false
    }
   },
   "source": [
    "# Άσκηση 1η - Υπολογισμός παραστάσεων"
   ]
  },
  {
   "cell_type": "markdown",
   "metadata": {
    "collapsed": false,
    "jupyter": {
     "outputs_hidden": false
    }
   },
   "source": [
    "_(Μονάδες 1)_ Ορίστε με τον τελεστή ανάθεσης τα σύμβολα:\n",
    "$$\n",
    "a = 2, \\quad b = 4, \\quad c = -1, \\quad \\theta = \\frac{\\pi}{6}\n",
    "$$\n",
    "και τα σύμβολα:\n",
    "$$\n",
    "x, y\n",
    "$$\n",
    "\n",
    "Στη συνέχεια, χρησιμοποιήστε κατάλληλα τελεστές, σταθερές, παρενθέσεις και συναρτήσεις του **SageMath** για να υπολογίσετε τις επόμενες παραστάσεις.\n",
    "\n",
    "1. $$ a^2 + b \\times c - 3 $$\n",
    "\n",
    "2. $$ \\frac{a + b}{c + 2} $$\n",
    "\n",
    "3. $$ \\sin(\\theta) + \\cos(\\theta) $$\n",
    "\n",
    "4. $$ e^{a - b} + \\ln(a + b) $$\n",
    "\n",
    "5. $$ \\sqrt{a^2 + b^2} - |c| $$\n",
    "\n",
    "6. $$ \\tan(\\theta) \\times (a - b) $$\n",
    "\n",
    "7. $$ \\log_2(b) + \\ln(e^{c}) $$\n",
    "\n",
    "8. $$ (a + b + c)^2 - (a^2 + b^2 + c^2) $$\n",
    "\n",
    "9. $$f(x,y) = e^{x y} \\cdot (\\sin(x) + \\cos(y))$$\n",
    "\n",
    "10. $$g(x, y) = \\frac{x^3 - 2xy + y^3}{x^2 + y^2 + 1}$$"
   ]
  },
  {
   "cell_type": "code",
   "execution_count": null,
   "metadata": {},
   "outputs": [],
   "source": []
  },
  {
   "cell_type": "markdown",
   "metadata": {
    "collapsed": false,
    "jupyter": {
     "outputs_hidden": false
    }
   },
   "source": [
    "# Άσκηση 2η - Ρόμβος"
   ]
  },
  {
   "cell_type": "markdown",
   "metadata": {
    "collapsed": false,
    "jupyter": {
     "outputs_hidden": false
    }
   },
   "source": [
    "_(Μονάδες 1.5)_ Δίνονται σημεία: A(1,1), B(2,3), C(3,1),  D(2,-1).\n",
    "\n",
    "1. Σχεδιάστε τα παραπάνω σημεία.\n",
    "\n",
    "2. Θέστε κατάλληλο κείμενο, $Α$, $Β$, $C$, $D$ σε κάθε σημείο.\n",
    "\n",
    "3. Σχεδιάστε το πολύγωνο (είναι ρόμβος) με κορυφές τα σημεία $Α$, $Β$, $C$, $D$.\n",
    "\n",
    "4. Σχεδιάστε τις διαγωνίους χρησιμοποιώντας διαφορετικά χρώματα.\n",
    "\n",
    "3. Βρείτε και σχεδιάστε το σημείο τομής, $Ο$, των διαγωνίων.\n",
    "\n",
    "5. Δίνεται:\n",
    "$$\n",
    "O\\left(x_O, y_O\\right) = \\left( \\frac{x_1 + x_3}{2}, \\frac{y_1 + y_3}{2} \\right)\n",
    "$$\n",
    "όπου (x1,y1), (x3,y3) απέναντι σημεία."
   ]
  },
  {
   "cell_type": "code",
   "execution_count": null,
   "metadata": {
    "collapsed": false,
    "jupyter": {
     "outputs_hidden": false
    }
   },
   "outputs": [],
   "source": []
  },
  {
   "cell_type": "markdown",
   "metadata": {
    "collapsed": false,
    "jupyter": {
     "outputs_hidden": false
    }
   },
   "source": [
    "# Άσκηση 3η - Κατανομή Θερμοκρασίας σε Ορθογώνια Πλάκα"
   ]
  },
  {
   "cell_type": "markdown",
   "metadata": {
    "collapsed": false,
    "jupyter": {
     "outputs_hidden": false
    }
   },
   "source": [
    "_(Μονάδες 1)_ Μια λεπτή μεταλλική ορθογώνια πλάκα έχει θερμοκρασία που μεταβάλλεται ως προς τη θέση σύμφωνα με τη συνάρτηση:\n",
    "\n",
    "$$\n",
    "T(x, y) = 100 e^{-x^2 - y^2}\n",
    "$$\n",
    "\n",
    "όπου:\n",
    "\n",
    "- $T(x, y)$ είναι η θερμοκρασία σε βαθμούς Κελσίου,\n",
    "\n",
    "- $(x, y)$ είναι οι συντεταγμένες στο επίπεδο, με $x, y \\in [-3, 3]$.\n",
    "\n",
    "1. Να σχεδιάσετε το διάγραμμα ισοϋψών (contour plot) της $T(x, y)$, ώστε να φαίνονται οι ισόθερμες καμπύλες.\n",
    "   \n",
    "3. Να προσθέσετε ετικέτες θερμοκρασίας στις ισοϋψείς.\n",
    "\n",
    "5. Να συνδυάσετε το **contour plot** με ένα **density plot**, ώστε να αποδοθεί και η χρωματική κατανομή της θερμότητας."
   ]
  },
  {
   "cell_type": "code",
   "execution_count": null,
   "metadata": {
    "collapsed": false,
    "jupyter": {
     "outputs_hidden": false
    }
   },
   "outputs": [],
   "source": []
  },
  {
   "cell_type": "markdown",
   "metadata": {
    "collapsed": false,
    "jupyter": {
     "outputs_hidden": false
    }
   },
   "source": [
    "# Άσκηση 4η - Συνάρτηση και εφαπτομένη"
   ]
  },
  {
   "cell_type": "markdown",
   "metadata": {
    "collapsed": false,
    "jupyter": {
     "outputs_hidden": false
    }
   },
   "source": [
    "_(Μονάδες 1.5)_ Έστω η συνάρτηση\n",
    "$$\n",
    "f(x) = x^3 - 3x^2 + 2\n",
    "$$\n",
    "Σχεδιάστε:\n",
    "\n",
    "- την καμπύλη της συνάρτησης στο (-1,4)\n",
    "\n",
    "- το σημείο $P(3,f(3))$\n",
    "\n",
    "- κείμενο που να δείχνει το σημείο.\n",
    "\n",
    "- την εφαπτομένη της συνάρτησης στο σημείο $x=3$.\n",
    "\n",
    "- minor gridlines.\n",
    "\n",
    "- διαφορετικά χρώματα για κάθε στοιχείο\n",
    "\n",
    "\n",
    "Υποδείξεις\n",
    "\n",
    "1. Η εφαπτομένη στο $x=x_0$ δίνεται από:\n",
    "$$\n",
    "g(x) = f'(x_0)\\,(x - x_0) + f(x_0)\n",
    "$$\n",
    "\n",
    "2. Αντί να θέσετε σε διάφορα σημεία του κώδικα την τιμή $x_0=3$ θέστε μία μεταβλητή x0=0 και χρησιμοποιήστε την ώστε το $x_0$ να προσαμόζεται εύκολα."
   ]
  },
  {
   "cell_type": "code",
   "execution_count": null,
   "metadata": {
    "collapsed": false,
    "jupyter": {
     "outputs_hidden": false
    }
   },
   "outputs": [],
   "source": []
  },
  {
   "cell_type": "markdown",
   "metadata": {
    "collapsed": false,
    "jupyter": {
     "outputs_hidden": false
    }
   },
   "source": [
    "# Άσκηση 5η - Ρίζες, Παράγωγος, Ολοκλήρωμα"
   ]
  },
  {
   "cell_type": "markdown",
   "metadata": {
    "collapsed": false,
    "jupyter": {
     "outputs_hidden": false
    }
   },
   "source": [
    "_(Μονάδες 1.5)_\n",
    "1. Δημιουργήστε τη συνάρτηση:\n",
    "$$\n",
    "f(x) = x^2 + 3x - 4\n",
    "$$\n",
    "\n",
    "2. Υπολογίστε τις ρίζες της εξίσωσης f(x) = 0.\n",
    "\n",
    "3. Επαληθεύστε τις λύσεις εισάγοντάς τις ρίζες στη συνάρτηση για να δείτε αν επιστρέφει μηδέν.\n",
    "\n",
    "4. Υπολογίστε την παράγωγο.\n",
    "\n",
    "5. Βρείτε το αόριστο ολοκλήρωμα.\n",
    "\n",
    "5. Βρείτε το ολοκλήρωμα στο [2, 3]\n",
    "\n",
    "6. Σχεδιάστε την γραφική παράσταση από το -5 έως το 5"
   ]
  },
  {
   "cell_type": "code",
   "execution_count": null,
   "metadata": {},
   "outputs": [],
   "source": []
  },
  {
   "cell_type": "markdown",
   "metadata": {
    "collapsed": false,
    "jupyter": {
     "outputs_hidden": false
    }
   },
   "source": [
    "# Άσκηση 6η - Δίκλαδη, Ακρότατα"
   ]
  },
  {
   "cell_type": "markdown",
   "metadata": {
    "collapsed": false,
    "jupyter": {
     "outputs_hidden": false
    }
   },
   "source": [
    "_(Μονάδες 2)_\n",
    "1. Θέστε, με χρήση της `RealSet` τα αντίστοιχα πεδία ορισμού για τη δίκλαδη συνάρτηση\n",
    "$$\n",
    "f(x) =\n",
    "\\begin{cases}\n",
    "x^2 & \\text{if } x \\leq 1 \\\\\n",
    "\\frac{1}{x} & \\text{if } x > 1\n",
    "\\end{cases}\n",
    "$$\n",
    "\n",
    "2. Ορίστε τη συνάρτηση ως `piecewise` με τα παραπάνω πεδία ορισμού. Εμφανίστε τη συνάρτηση και το πεδίο ορισμού της.\n",
    "\n",
    "3. Σχεδιάστε την γραφική παράστασή της στο διάστημα $x \\in [−2,4]$ με `gridlines='minor'`.\n",
    "\n",
    "4. Βρείτε τα ακρότατα της $f$ και διερευνήστε αν είναι τοπικά μέγιστα ή ελάχιστα.\n",
    "\n",
    "5. Ελέγξτε αν η συνάρτηση  $f$ είναι συνεχής ελέγχοντας τα πλευρικά όρια.\n",
    "\n",
    "6. Ελέγξτε αν η συνάρτηση  $f$ είναι παραγωγίσιμη και το όριο υπάρχει και είναι πραγματικός αριθμός\n",
    "\n",
    "$$\n",
    "lim_{x\\to1}\\dfrac{f(x)-f(1)}{x-1}\n",
    "$$"
   ]
  },
  {
   "cell_type": "markdown",
   "metadata": {
    "collapsed": false,
    "jupyter": {
     "outputs_hidden": false
    }
   },
   "source": [
    "# Άσκηση 7η - Τομή συναρτήσεων"
   ]
  },
  {
   "cell_type": "markdown",
   "metadata": {
    "collapsed": false,
    "jupyter": {
     "outputs_hidden": false
    }
   },
   "source": [
    "_(Μονάδες 1.5)_ Έστω οι συναρτήσεις:\n",
    "$$\n",
    "f(x)= x^2 - 6x+10\n",
    "$$\n",
    "\n",
    "$$\n",
    "g(x)=-x^2 + 6x\n",
    "$$\n",
    "\n",
    "1. Βρείτε τα σημεία τομής είτε κάνοντας πράξεις είτε με τη βοήθεια της `solve`.\n",
    "\n",
    "2. Σχεδιάστε τη γραφική παράστασή τους βάζοντας χρώμα στο χωρίο ανάμεσα.\n",
    "\n",
    "3. Βρείτε το εμβαδόν του χωρίου.\n"
   ]
  },
  {
   "cell_type": "code",
   "execution_count": null,
   "metadata": {},
   "outputs": [],
   "source": []
  }
 ],
 "metadata": {
  "kernelspec": {
   "display_name": "SageMath 9.5",
   "language": "sage",
   "name": "sagemath"
  },
  "language_info": {
   "codemirror_mode": {
    "name": "ipython",
    "version": 3
   },
   "file_extension": ".py",
   "mimetype": "text/x-python",
   "name": "python",
   "nbconvert_exporter": "python",
   "pygments_lexer": "ipython3",
   "version": "3.10.12"
  }
 },
 "nbformat": 4,
 "nbformat_minor": 4
}
