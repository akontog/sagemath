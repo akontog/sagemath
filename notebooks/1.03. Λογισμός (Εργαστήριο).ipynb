{
 "cells": [
  {
   "cell_type": "markdown",
   "metadata": {
    "collapsed": false,
    "jupyter": {
     "outputs_hidden": false
    }
   },
   "source": [
    "<div style=\"padding: 20px 0; text-align: center; font-weight: bold; font-size: 170%; background-color: #1d4055; color: #ffffff;\"> Εργαστήριο 03. Λογισμός</div>"
   ]
  },
  {
   "cell_type": "markdown",
   "metadata": {
    "collapsed": false,
    "jupyter": {
     "outputs_hidden": false
    }
   },
   "source": [
    "# Συναρτήσεις"
   ]
  },
  {
   "cell_type": "markdown",
   "metadata": {
    "collapsed": false,
    "jupyter": {
     "outputs_hidden": false
    }
   },
   "source": [
    "## Συναρτήσεις και πεδίο ορισμού"
   ]
  },
  {
   "cell_type": "markdown",
   "metadata": {
    "collapsed": false,
    "jupyter": {
     "outputs_hidden": false
    }
   },
   "source": [
    "Ορίστε τις επόμενες συναρτήσεις, βρείτε το πεδίο ορισμού και εκφράστε το με χρήση της `RealSet`\n",
    "\n",
    "1. $f(x) = \\frac{1}{\\sqrt{4 - x^2}}$\n",
    "\n",
    "2. $g(x) = \\frac{\\ln(x)}{\\sqrt{x^2 - 9}}$\n",
    "\n",
    "3. $h(x) = \\frac{\\sqrt{x - 1}}{\\ln(x - 2)}$"
   ]
  },
  {
   "cell_type": "code",
   "execution_count": 1,
   "metadata": {
    "collapsed": false,
    "jupyter": {
     "outputs_hidden": false
    }
   },
   "outputs": [],
   "source": [
    "# 1."
   ]
  },
  {
   "cell_type": "code",
   "execution_count": 2,
   "metadata": {
    "collapsed": false,
    "jupyter": {
     "outputs_hidden": false
    }
   },
   "outputs": [],
   "source": [
    "# 2."
   ]
  },
  {
   "cell_type": "code",
   "execution_count": 3,
   "metadata": {
    "collapsed": false,
    "jupyter": {
     "outputs_hidden": false
    }
   },
   "outputs": [],
   "source": [
    "# 3."
   ]
  },
  {
   "cell_type": "markdown",
   "metadata": {
    "collapsed": false,
    "jupyter": {
     "outputs_hidden": false
    }
   },
   "source": [
    "## Δίκλαδη συνάρτηση"
   ]
  },
  {
   "cell_type": "markdown",
   "metadata": {
    "collapsed": false,
    "jupyter": {
     "outputs_hidden": false
    }
   },
   "source": [
    "Σχεδιάστε την γραφική παράσταση της επόμενης συνάρτησης ορίζοντάς την ως δίκλαδη με την `piecewise`.\n",
    "$$\n",
    "f(x) =\n",
    "\\begin{cases} \n",
    "x^2 + x, & \\text{αν } x < 1 \\\\\n",
    "3 \\ln(x) + 2, & \\text{αν } x \\geq 1\n",
    "\\end{cases}\n",
    "$$"
   ]
  },
  {
   "cell_type": "code",
   "execution_count": null,
   "metadata": {
    "collapsed": false,
    "jupyter": {
     "outputs_hidden": false
    }
   },
   "outputs": [],
   "source": []
  },
  {
   "cell_type": "markdown",
   "metadata": {
    "collapsed": false,
    "jupyter": {
     "outputs_hidden": false
    }
   },
   "source": [
    "# Εύρεση ριζών"
   ]
  },
  {
   "cell_type": "markdown",
   "metadata": {
    "collapsed": false,
    "jupyter": {
     "outputs_hidden": false
    }
   },
   "source": [
    "## Κοινά σημεία συναρτήσεων"
   ]
  },
  {
   "cell_type": "markdown",
   "metadata": {
    "collapsed": false,
    "jupyter": {
     "outputs_hidden": false
    }
   },
   "source": [
    "Δίνονται οι συναρτήσεις $f(x) = x^2 - 4$ και $g(x) = -x^2 + 2x + 2$\n",
    "\n",
    "1. Σχεδιάστε τις γραφικές παραστάσεις των δύο συναρτήσεων στο διάστημα  [-3, 3].\n",
    "\n",
    "2. Καθορίστε τα σημεία τομής των συναρτήσεων και σχεδιάστε τα στην γραφική παράσταση."
   ]
  },
  {
   "cell_type": "code",
   "execution_count": null,
   "metadata": {
    "collapsed": false,
    "jupyter": {
     "outputs_hidden": false
    }
   },
   "outputs": [],
   "source": []
  },
  {
   "cell_type": "markdown",
   "metadata": {
    "collapsed": false,
    "jupyter": {
     "outputs_hidden": false
    }
   },
   "source": [
    "## Κοινά Σημεία με ευθεία"
   ]
  },
  {
   "cell_type": "markdown",
   "metadata": {
    "collapsed": false,
    "jupyter": {
     "outputs_hidden": false
    }
   },
   "source": [
    "Δίνεται η συνάρτηση $\\ln(x^2)$\n",
    "\n",
    "1. Βρείτε τα κοινά σημεία της συνάρτησης με την ευθεία $y = 5/3$.\n",
    "\n",
    "2. Σχεδιάστε γραφική παράσταση."
   ]
  },
  {
   "cell_type": "code",
   "execution_count": null,
   "metadata": {
    "collapsed": false,
    "jupyter": {
     "outputs_hidden": false
    }
   },
   "outputs": [],
   "source": [
    "\n"
   ]
  },
  {
   "cell_type": "markdown",
   "metadata": {
    "collapsed": false,
    "jupyter": {
     "outputs_hidden": false
    }
   },
   "source": [
    "# Όρια"
   ]
  },
  {
   "cell_type": "markdown",
   "metadata": {
    "collapsed": false,
    "jupyter": {
     "outputs_hidden": false
    }
   },
   "source": [
    "## Εύρεση ορίων"
   ]
  },
  {
   "cell_type": "markdown",
   "metadata": {
    "collapsed": false,
    "jupyter": {
     "outputs_hidden": false
    }
   },
   "source": [
    "Να υπολογιστούν τα όρια\n",
    "\n",
    "1.\n",
    "$$\n",
    "\\lim_{x \\to 0} \\frac{\\sin(3x)}{x}\n",
    "$$\n",
    "2.\n",
    "$$\n",
    "\\lim_{{x \\to \\frac{\\pi}{2}}} \\left( \\frac{x}{\\cot(x)} - \\frac{\\pi}{2\\cos(x)} \\right)\n",
    "$$\n",
    "\n",
    "Σχεδιάστε γραφική παράσταση των αντίστοιχων συναρτήσεων."
   ]
  },
  {
   "cell_type": "code",
   "execution_count": 4,
   "metadata": {
    "collapsed": false,
    "jupyter": {
     "outputs_hidden": false
    }
   },
   "outputs": [],
   "source": [
    "# 1. \n"
   ]
  },
  {
   "cell_type": "code",
   "execution_count": 5,
   "metadata": {
    "collapsed": false,
    "jupyter": {
     "outputs_hidden": false
    }
   },
   "outputs": [],
   "source": [
    "# 2. \n"
   ]
  },
  {
   "cell_type": "markdown",
   "metadata": {
    "collapsed": false,
    "jupyter": {
     "outputs_hidden": false
    }
   },
   "source": [
    "## Διερεύνηση ορίου"
   ]
  },
  {
   "cell_type": "markdown",
   "metadata": {
    "collapsed": false,
    "jupyter": {
     "outputs_hidden": false
    }
   },
   "source": [
    "1. Να διερευνηθεί το όριο:\n",
    "$$\n",
    "\\lim_{x \\to 0} \\frac{\\tan(x)}{|x|}\n",
    "$$\n",
    "2. Σχεδιάστε την γραφική παράσταση της αντίστοιχης συνάρτησης."
   ]
  },
  {
   "cell_type": "code",
   "execution_count": null,
   "metadata": {
    "collapsed": false,
    "jupyter": {
     "outputs_hidden": false
    }
   },
   "outputs": [],
   "source": []
  },
  {
   "cell_type": "code",
   "execution_count": null,
   "metadata": {
    "collapsed": false,
    "jupyter": {
     "outputs_hidden": false
    }
   },
   "outputs": [],
   "source": []
  },
  {
   "cell_type": "markdown",
   "metadata": {
    "collapsed": false,
    "jupyter": {
     "outputs_hidden": false
    }
   },
   "source": [
    "## Πλευρικά όρια"
   ]
  },
  {
   "cell_type": "markdown",
   "metadata": {
    "collapsed": false,
    "jupyter": {
     "outputs_hidden": false
    }
   },
   "source": [
    "1. Ορίστε συνάρτηση $f(x) = \\frac{x}{|x|}$.\n",
    "  \n",
    "2. Διερευνήστε το όριο όταν $x \\to 0$.\n",
    "\n",
    "3. Σχεδιάστε την γραφική της παράσταση."
   ]
  },
  {
   "cell_type": "code",
   "execution_count": null,
   "metadata": {
    "collapsed": false,
    "jupyter": {
     "outputs_hidden": false
    }
   },
   "outputs": [],
   "source": []
  },
  {
   "cell_type": "code",
   "execution_count": null,
   "metadata": {
    "collapsed": false,
    "jupyter": {
     "outputs_hidden": false
    }
   },
   "outputs": [],
   "source": []
  },
  {
   "cell_type": "markdown",
   "metadata": {
    "collapsed": false,
    "jupyter": {
     "outputs_hidden": false
    }
   },
   "source": [
    "# Διαφορικός Λογισμός"
   ]
  },
  {
   "cell_type": "markdown",
   "metadata": {
    "collapsed": false,
    "jupyter": {
     "outputs_hidden": false
    }
   },
   "source": [
    "## Παράγωγοι n-ης τάξης"
   ]
  },
  {
   "cell_type": "markdown",
   "metadata": {
    "collapsed": false,
    "jupyter": {
     "outputs_hidden": false
    }
   },
   "source": [
    "Υπολογίστε τις παραγώγους 1ης, 2ης και 3ης τάξης της συνάρτησης $f(x) = xsin(x)$."
   ]
  },
  {
   "cell_type": "code",
   "execution_count": null,
   "metadata": {
    "collapsed": false,
    "jupyter": {
     "outputs_hidden": false
    }
   },
   "outputs": [],
   "source": []
  },
  {
   "cell_type": "code",
   "execution_count": 6,
   "metadata": {
    "collapsed": false,
    "jupyter": {
     "outputs_hidden": false
    }
   },
   "outputs": [],
   "source": [
    "# 2ας τάξης\n"
   ]
  },
  {
   "cell_type": "code",
   "execution_count": 7,
   "metadata": {
    "collapsed": false,
    "jupyter": {
     "outputs_hidden": false
    }
   },
   "outputs": [],
   "source": [
    "# 3ης τάξης\n"
   ]
  },
  {
   "cell_type": "markdown",
   "metadata": {
    "collapsed": false,
    "jupyter": {
     "outputs_hidden": false
    }
   },
   "source": [
    "## Ακρότατα συνάρτησης"
   ]
  },
  {
   "cell_type": "markdown",
   "metadata": {
    "collapsed": false,
    "jupyter": {
     "outputs_hidden": false
    }
   },
   "source": [
    "1. Σχεδιάστε την γραφική παράσταση της συνάρτησης $f(x) = x^3-3x^2+2$ στο $[-1,3]$.\n",
    "\n",
    "2. Βρείτε τα σημεία στα οποία παρουσιάζει ακρότατα. Ως γνωστόν θα πρέπει η παράγωγος να μηδενίζεται.\n",
    "\n",
    "3. Βρείτε αν τα ακρότατα είναι τοπικά μέγιστα ή ελάχιστα. Θα πρέπει να διερευνηθεί η 2η παράγωγος στα σημεία αυτά.\n",
    "\n",
    "4. Σχεδιάστε την γραφική παράσταση με τονισμένα τα σημεία όπου η συνάρτηση παρουσιάζει ακρότατα."
   ]
  },
  {
   "cell_type": "code",
   "execution_count": 8,
   "metadata": {
    "collapsed": false,
    "jupyter": {
     "outputs_hidden": false
    }
   },
   "outputs": [],
   "source": [
    "# 1\n"
   ]
  },
  {
   "cell_type": "markdown",
   "metadata": {
    "collapsed": false,
    "jupyter": {
     "outputs_hidden": false
    }
   },
   "source": [
    "# Ολοκληρωτικός Λογισμός"
   ]
  },
  {
   "cell_type": "markdown",
   "metadata": {
    "collapsed": false,
    "jupyter": {
     "outputs_hidden": false
    }
   },
   "source": [
    "## Ορισμένο Ολοκλήρωμα"
   ]
  },
  {
   "cell_type": "markdown",
   "metadata": {
    "collapsed": false,
    "jupyter": {
     "outputs_hidden": false
    }
   },
   "source": [
    "1. Σχεδιάστε την γραφική παράσταση της συνάρτησης $f(x)=2x^2\\sin(x^3)$ από το -pi έως το pi.\n",
    "\n",
    "2. Υπολογίστε το ολοκλήρωμά $\\int_{0}^{\\frac{\\pi}{2}} 2x^2 \\sin(x^3) \\, dx$."
   ]
  },
  {
   "cell_type": "code",
   "execution_count": 10,
   "metadata": {
    "collapsed": false,
    "jupyter": {
     "outputs_hidden": false
    }
   },
   "outputs": [],
   "source": [
    "# 1."
   ]
  },
  {
   "cell_type": "code",
   "execution_count": 11,
   "metadata": {
    "collapsed": false,
    "jupyter": {
     "outputs_hidden": false
    }
   },
   "outputs": [],
   "source": [
    "# 2."
   ]
  },
  {
   "cell_type": "markdown",
   "metadata": {
    "collapsed": false,
    "jupyter": {
     "outputs_hidden": false
    }
   },
   "source": [
    "## Μέση Τιμή"
   ]
  },
  {
   "cell_type": "markdown",
   "metadata": {
    "collapsed": false,
    "jupyter": {
     "outputs_hidden": false
    }
   },
   "source": [
    "1. Ποια η μέση τιμή της συνάρτησης $f(x) = \\sqrt{4 - x^2}$ στο [-2,2];\n",
    "\n",
    "2. Σχεδιάστε γραφική παράσταση στην οποία θα φαίνεται και η μέση τιμή.\n",
    "\n",
    "Δίνεται ότι αν f ολοκληρώσιμη στο [α, β] η μέση τιμή της στο διάστημα αυτό δίνεται από τον τύπο:\n",
    "$$\n",
    "\\frac{1}{\\beta - \\alpha} \\int_{\\alpha}^{\\beta} f(x) \\, dx\n",
    "$$"
   ]
  },
  {
   "cell_type": "code",
   "execution_count": null,
   "metadata": {
    "collapsed": false,
    "jupyter": {
     "outputs_hidden": false
    }
   },
   "outputs": [],
   "source": []
  },
  {
   "cell_type": "code",
   "execution_count": null,
   "metadata": {
    "collapsed": false,
    "jupyter": {
     "outputs_hidden": false
    }
   },
   "outputs": [],
   "source": []
  },
  {
   "cell_type": "markdown",
   "metadata": {
    "collapsed": false,
    "jupyter": {
     "outputs_hidden": false
    }
   },
   "source": [
    "## Εμβαδόν μεταξύ καμπύλης και άξονα"
   ]
  },
  {
   "cell_type": "markdown",
   "metadata": {
    "collapsed": false,
    "jupyter": {
     "outputs_hidden": false
    }
   },
   "source": [
    "Δίνεται η καμπύλη $f(x)=x^3-x^2-2x$. Βρείτε το εμβαδόν που περικλείεται μεταξύ της καμπύλης και του άξονα xx' στο διάστημα $[-1.5, 2.5]$. Θα πρέπει να:\n",
    "\n",
    "1. βρείτε τα σημεία στα οποία $f(x)=0$.\n",
    "\n",
    "2. σχεδιάσετε την γραφική παράσταση και δείτε σε ποια διαστήματα η συνάρτηση είναι θετική ή αρνητική.\n",
    "\n",
    "4. υπολογίσετε τα επιμέρους ολοκληρώματα ώστε να βρείτε το συνολικό εμβαδόν."
   ]
  },
  {
   "cell_type": "code",
   "execution_count": null,
   "metadata": {
    "collapsed": false,
    "jupyter": {
     "outputs_hidden": false
    }
   },
   "outputs": [],
   "source": []
  },
  {
   "cell_type": "code",
   "execution_count": null,
   "metadata": {
    "collapsed": false,
    "jupyter": {
     "outputs_hidden": false
    }
   },
   "outputs": [],
   "source": []
  },
  {
   "cell_type": "code",
   "execution_count": null,
   "metadata": {
    "collapsed": false,
    "jupyter": {
     "outputs_hidden": false
    }
   },
   "outputs": [],
   "source": []
  },
  {
   "cell_type": "code",
   "execution_count": null,
   "metadata": {
    "collapsed": false,
    "jupyter": {
     "outputs_hidden": false
    }
   },
   "outputs": [],
   "source": []
  },
  {
   "cell_type": "markdown",
   "metadata": {
    "collapsed": false,
    "jupyter": {
     "outputs_hidden": false
    }
   },
   "source": [
    "## Εμβαδόν μεταξύ καμπυλών"
   ]
  },
  {
   "cell_type": "markdown",
   "metadata": {
    "collapsed": false,
    "jupyter": {
     "outputs_hidden": false
    }
   },
   "source": [
    "Έστω οι καμπύλες $f(x) = \\frac{x^2}{2} - x + 1$ και $g(x) = -\\frac{x^2}{2} + 3x - 2$\n",
    "\n",
    "1. Σχεδιάστε την γραφική τους παράσταση.\n",
    "\n",
    "2. Βρείτε τα κοινά τους σημεία (μπορείτε να σχεδιάσετε και πάλι την παράσταση με τα σημεία).\n",
    "\n",
    "3. Βρείτε την απόλυτη τιμή του ορισμένου ολοκληρώματος της διαφοράς τους ανάμεσα στα κοινά τους σημεία."
   ]
  },
  {
   "cell_type": "code",
   "execution_count": null,
   "metadata": {
    "collapsed": false,
    "jupyter": {
     "outputs_hidden": false
    }
   },
   "outputs": [],
   "source": []
  },
  {
   "cell_type": "code",
   "execution_count": null,
   "metadata": {
    "collapsed": false,
    "jupyter": {
     "outputs_hidden": false
    }
   },
   "outputs": [],
   "source": []
  },
  {
   "cell_type": "code",
   "execution_count": null,
   "metadata": {
    "collapsed": false,
    "jupyter": {
     "outputs_hidden": false
    }
   },
   "outputs": [],
   "source": []
  },
  {
   "cell_type": "code",
   "execution_count": null,
   "metadata": {
    "collapsed": false,
    "jupyter": {
     "outputs_hidden": false
    }
   },
   "outputs": [],
   "source": []
  },
  {
   "cell_type": "markdown",
   "metadata": {
    "collapsed": false,
    "jupyter": {
     "outputs_hidden": false
    }
   },
   "source": [
    "# Διαφορικές Εξισώσεις"
   ]
  },
  {
   "cell_type": "markdown",
   "metadata": {
    "collapsed": false,
    "jupyter": {
     "outputs_hidden": false
    }
   },
   "source": [
    "## Επίλυση διαφορικών εξισώσεων"
   ]
  },
  {
   "cell_type": "markdown",
   "metadata": {
    "collapsed": false,
    "jupyter": {
     "outputs_hidden": false
    }
   },
   "source": [
    "Έστω η επόμενη διαφορική εξίσωση:\n",
    "$$\n",
    "\\frac{dy}{dx} + 2y = e^{3x}\n",
    "$$\n",
    "\n",
    "1. Λύστε την εξίσωση χωρίς αρχικές συνθήκες.\n",
    "\n",
    "2. Λύστε για αρχική συνθήκη y(0) == 1"
   ]
  },
  {
   "cell_type": "code",
   "execution_count": null,
   "metadata": {
    "collapsed": false,
    "jupyter": {
     "outputs_hidden": false
    }
   },
   "outputs": [],
   "source": []
  },
  {
   "cell_type": "code",
   "execution_count": null,
   "metadata": {
    "collapsed": false,
    "jupyter": {
     "outputs_hidden": false
    }
   },
   "outputs": [],
   "source": []
  },
  {
   "cell_type": "code",
   "execution_count": null,
   "metadata": {
    "collapsed": false,
    "jupyter": {
     "outputs_hidden": false
    }
   },
   "outputs": [],
   "source": []
  },
  {
   "cell_type": "markdown",
   "metadata": {
    "collapsed": false,
    "jupyter": {
     "outputs_hidden": false
    }
   },
   "source": [
    "# Επαναληπτική Άσκηση"
   ]
  },
  {
   "cell_type": "markdown",
   "metadata": {
    "collapsed": false,
    "jupyter": {
     "outputs_hidden": false
    }
   },
   "source": [
    "Έστω συνάρτηση: $f(x) = x^3 - 6x^2 + 9x + 1$:\n",
    "\n",
    "1. Ορίστε την συνάρτηση.\n",
    "\n",
    "2. Βρείτε την παράγωγο της $f(x)$ και την εξίσωση της εφαπτομένης στο σημείο $x = 2$. Η εξίσωση εφαπτομένης σε σημείο a δίνεται: $y = f(a) + f'(a) \\cdot (x - a)$\n",
    "\n",
    "3. Βρείτε τα σημεία που παρουσιάζει τοπικά ακρότατα.\n",
    "\n",
    "4. Προσδιορίστε αν τα παραπάνω σημεία είναι (τοπικά) μέγιστα ή ελάχιστα.\n",
    "\n",
    "5. Υπολογίστε α) το αόριστο ολοκλήρωμα της $f(x)$ και β) το ορισμένο ολοκλήρωμά της στο διάστημα $[0, 3]$.\n",
    "\n",
    "6. Υπολογίστε την εξίσωση της εφαπτομένης στο σημείο $x=3.5$ κάνοντας χρήση του ορισμού του ορίου $f'(a) = \\lim_{h \\to 0} \\frac{f(a + h) - f(a)}{h}$. Χρησιμοποιώντας το όριο η εξίσωση δίνεται: $y = f(a) + \\left( \\lim_{h \\to 0} \\frac{f(a + h) - f(a)}{h} \\right) \\cdot (x - a)$\n",
    "\n",
    "7. Επιλύστε την διαφορική εξίσωση πρώτης τάξης $y'(x)=f(x)$ για y(0)=0.\n",
    "\n",
    "8. Σχεδιάστε την γραφική παράσταση της $f(x)$ στο [-1,4] με γραμμοσκιασμένο το χωρίο στο διάστημα $[0, 3]$. Στην παράσταση να φαίνονται οι εφαπτομένες στα $x = 2$ και $x=3.5$ τα αντίστοιχα σημεία καθώς και τα σημεία στα οποία παρουσιάζει ακρότατα."
   ]
  },
  {
   "cell_type": "code",
   "execution_count": 12,
   "metadata": {
    "collapsed": false,
    "jupyter": {
     "outputs_hidden": false
    }
   },
   "outputs": [],
   "source": [
    "# 1. Ορισμός της συνάρτησης\n"
   ]
  },
  {
   "cell_type": "code",
   "execution_count": 13,
   "metadata": {
    "collapsed": false,
    "jupyter": {
     "outputs_hidden": false
    }
   },
   "outputs": [],
   "source": [
    "# 2. Παράγωγος και Εφαπτομένη στο x=2\n"
   ]
  },
  {
   "cell_type": "code",
   "execution_count": 14,
   "metadata": {
    "collapsed": false,
    "jupyter": {
     "outputs_hidden": false
    }
   },
   "outputs": [],
   "source": [
    "# 3. Εύρεση κρίσιμων σημείων (όπου f'(x) = 0)\n"
   ]
  },
  {
   "cell_type": "code",
   "execution_count": 15,
   "metadata": {
    "collapsed": false,
    "jupyter": {
     "outputs_hidden": false
    }
   },
   "outputs": [],
   "source": [
    "# 4. προσδιορισμός μεγίστων ελαχίστων\n"
   ]
  },
  {
   "cell_type": "code",
   "execution_count": 16,
   "metadata": {
    "collapsed": false,
    "jupyter": {
     "outputs_hidden": false
    }
   },
   "outputs": [],
   "source": [
    "# 5α. Αόριστο ολοκλήρωμα\n"
   ]
  },
  {
   "cell_type": "code",
   "execution_count": 17,
   "metadata": {
    "collapsed": false,
    "jupyter": {
     "outputs_hidden": false
    }
   },
   "outputs": [],
   "source": [
    "# 5β. Ορισμένο ολοκλήρωμα\n"
   ]
  },
  {
   "cell_type": "code",
   "execution_count": 18,
   "metadata": {
    "collapsed": false,
    "jupyter": {
     "outputs_hidden": false
    }
   },
   "outputs": [],
   "source": [
    "# 6. Όριο και εφαπτομένη με χρήση ορίου\n"
   ]
  },
  {
   "cell_type": "code",
   "execution_count": 19,
   "metadata": {
    "collapsed": false,
    "jupyter": {
     "outputs_hidden": false
    }
   },
   "outputs": [],
   "source": [
    "# 7. Διαφορική εξίσωση\n"
   ]
  },
  {
   "cell_type": "code",
   "execution_count": 20,
   "metadata": {
    "collapsed": false,
    "jupyter": {
     "outputs_hidden": false
    }
   },
   "outputs": [],
   "source": [
    "# 8. Σχεδίαση της συνάρτησης και της εφαπτομένης\n"
   ]
  },
  {
   "cell_type": "code",
   "execution_count": null,
   "metadata": {
    "collapsed": false,
    "jupyter": {
     "outputs_hidden": false
    }
   },
   "outputs": [],
   "source": []
  }
 ],
 "metadata": {
  "kernelspec": {
   "display_name": "SageMath 9.5",
   "language": "sage",
   "name": "sagemath"
  },
  "language_info": {
   "codemirror_mode": {
    "name": "ipython",
    "version": 3
   },
   "file_extension": ".py",
   "mimetype": "text/x-python",
   "name": "python",
   "nbconvert_exporter": "python",
   "pygments_lexer": "ipython3",
   "version": "3.10.12"
  }
 },
 "nbformat": 4,
 "nbformat_minor": 4
}
