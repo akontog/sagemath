{
 "cells": [
  {
   "cell_type": "markdown",
   "metadata": {
    "collapsed": false,
    "jupyter": {
     "outputs_hidden": false
    }
   },
   "source": [
    "<div style=\"padding: 20px 0; text-align: center; font-weight: bold; font-size: 170%; background-color: #1d4055; color: #ffffff;\"> 01. Εισαγωγή</div>"
   ]
  },
  {
   "cell_type": "markdown",
   "metadata": {
    "collapsed": false,
    "jupyter": {
     "outputs_hidden": false
    }
   },
   "source": [
    "# Ιστορικά στοιχεία"
   ]
  },
  {
   "cell_type": "markdown",
   "metadata": {
    "collapsed": false,
    "jupyter": {
     "outputs_hidden": false
    }
   },
   "source": [
    "Το 2005, ο Αμερικανός μαθηματικός William Stein ξεκίνησε το Sage με στόχο την παραγωγή δωρεάν λογισμικού για μαθηματικούς υπολογισμούς. Με το Sage να καλύπτει μια μακροχρόνια ανάγκη των μαθηματικών, σύντομα μια διεθνής κοινότητα εκατοντάδων προγραμματιστών σχηματίστηκε γύρω από αυτό. Αρχικά υπήρχε κάποια έμφαση στη θεωρία αριθμών, το πεδίο ενδιαφέροντος του ιδρυτή του, καθώς όμως οι συνεισφορές αυξάνονταν, οι δυνατότητές του επεκτάθηκαν προοδευτικά σε πολλούς τομείς των μαθηματικών. Αυτό, σε συνδυασμό με τις αριθμητικές δυνατότητες που προσέφερε το οικοσύστημα της επιστημονικής Python, έκανε το Sage το γενικού σκοπού μαθηματικό λογισμικό που είναι σήμερα. Είναι ελεύθερο λογισμικό με τους συγγραφείς να μην επιβάλλουν κανέναν περιορισμό στη χρήση, αναδιανομή, μελέτη ή τροποποίησή του. Αρκεί, μόνο, οι τροποποιήσεις να παραμείνουν επίσης ελεύθερες."
   ]
  },
  {
   "cell_type": "markdown",
   "metadata": {
    "collapsed": false,
    "jupyter": {
     "outputs_hidden": false
    }
   },
   "source": [
    "# Οδηγίες εκτέλεσης"
   ]
  },
  {
   "cell_type": "markdown",
   "metadata": {
    "collapsed": false,
    "jupyter": {
     "outputs_hidden": false
    }
   },
   "source": [
    "Το μόνο που έχετε να κάνετε για να εκτελέσετε εντολές του Sage είναι να επισκεφτείτε την διεύθυνση https://sagecell.sagemath.org/, να πληκτρολογήστε την πρώτη σας εντολή, για παράδειγμα μια αριθμητική πράξη και να κάνετε click στο evaluate."
   ]
  },
  {
   "cell_type": "code",
   "execution_count": null,
   "metadata": {
    "collapsed": false,
    "jupyter": {
     "outputs_hidden": false
    }
   },
   "outputs": [],
   "source": [
    "5+4"
   ]
  },
  {
   "cell_type": "markdown",
   "metadata": {
    "collapsed": false,
    "jupyter": {
     "outputs_hidden": false
    }
   },
   "source": [
    "Εναλλακτικά ο υπολογισμός γίνεται και με Shift+Enter."
   ]
  },
  {
   "cell_type": "markdown",
   "metadata": {
    "collapsed": false,
    "jupyter": {
     "outputs_hidden": false
    }
   },
   "source": [
    "Οι παρούσες σημειώσεις έχουν δημιουργηθεί με το jupyter notebook. Με την βοήθειά του γράψαμε το κείμενο που διαβάζετε, αλλά και τις σχετικές εντολές (μέσα σε κατάλληλα κελιά). Παίρναμε την έξοδο (Out) με το κουμπί Run ή τον συνδυασμό Shift+Enter. Τα κελία με αρίθμηση μπλε χρώματος, όταν τα επιλέγουμε, είναι οι εντολές που πληκτρολογήσαμε. Το αντίστοιχο αποτέλεσμα εμφανίζεται ακριβώς από κάτω, αλλά με αρίθμηση κόκκινου χρώματος. Για παράδειγμα το [2]: (7+5)*(9-6)+8-2 παρακάτω είναι η είσοδος (in) στο πρόγραμμα (η εντολή που θέλουμε να τρέξει), ενώ το [2]: 42 είναι το αποτέλεσμα (out) της εντολής. Για περισσότερες πληροφορίες για το πως δουλεύουμε με τα notebooks, μπορείτε να βρείτε στην ιστοσελίδα https://jupyter.org."
   ]
  },
  {
   "cell_type": "markdown",
   "metadata": {
    "collapsed": false,
    "jupyter": {
     "outputs_hidden": false
    }
   },
   "source": [
    "# Τελεστές"
   ]
  },
  {
   "cell_type": "markdown",
   "metadata": {
    "collapsed": false,
    "jupyter": {
     "outputs_hidden": false
    }
   },
   "source": [
    "Το Sage μπορεί να χρησιμοποιηθεί σαν μια αριθμομηχανή με τις εκφράσεις να μπορούν να γίνουν όσο πολύπλοκες θέλουμε."
   ]
  },
  {
   "cell_type": "code",
   "execution_count": null,
   "metadata": {
    "collapsed": false,
    "jupyter": {
     "outputs_hidden": false
    }
   },
   "outputs": [],
   "source": [
    "(7+5)*(9-6)+8-2"
   ]
  },
  {
   "cell_type": "markdown",
   "metadata": {
    "collapsed": false,
    "jupyter": {
     "outputs_hidden": false
    }
   },
   "source": [
    "Παρατηρούμε ότι η πράξη του πολλαπλασιασμού τίθεται με το σύμβολο `*`, της διαίρεσης με το `/` και σε περίπτωση που θέλουμε διαφορετική προτεραιότητα από την εξορισμού χρησιμοποιούμε αντίστοιχες παρενθέσεις. Η προτεραιότητα είναι αυτή που περιμένουμε από τα μαθηματικά και βλέπουμε στον επόμενο πίνακα (με φθίνουσα σειρά προτεραιότητας)."
   ]
  },
  {
   "cell_type": "markdown",
   "metadata": {
    "collapsed": false,
    "jupyter": {
     "outputs_hidden": false
    }
   },
   "source": [
    "| Τελεστής  | Προσεταιριστικότητα | Πράξη |\n",
    "|:---------:|:------------:|:-------:|\n",
    "| `**` ή `^` | ← | ύψωση σε δύναμη (`2**3 = 8`) |\n",
    "| `*`, `/`, `//`, `%`  | → | Πολλαπλασιασμός, Διαίρεση, Ακέραια Διαίρεση, Υπόλοιπο (`2*3 = 6`, `6/2 = 3`, `5//2 = 2`, `5%2 = 1`) |\n",
    "| `+`, `-` | → | Πρόσθεση, Αφαίρεση (`2 + 3 = 5`, `5 - 2 = 3`) |"
   ]
  },
  {
   "cell_type": "markdown",
   "metadata": {
    "collapsed": false,
    "jupyter": {
     "outputs_hidden": false
    }
   },
   "source": [
    "Η προσεταιριστικότητα, ή αλλιώς **associativity** αναφέρεται στο πώς ομαδοποιούνται οι πράξεις όταν υπάρχουν πολλαπλοί τελεστές του ίδιου τύπου. Ειδικά για τον τελεστή της δύναμης (`**` ή `^`), είναι αριστερή (←), δηλαδή, οι πράξεις ομαδοποιούνται από τα δεξιά προς τα αριστερά."
   ]
  },
  {
   "cell_type": "markdown",
   "metadata": {
    "collapsed": false,
    "jupyter": {
     "outputs_hidden": false
    }
   },
   "source": [
    "**Παράδειγμα**\n",
    "\n",
    "Στο επόμενο παράδειγμα, πρώτα θα υπολογιστεί η δεξιά δύναμη, `3^2 = 9` και έπειτα η `2^9=512`."
   ]
  },
  {
   "cell_type": "code",
   "execution_count": null,
   "metadata": {
    "collapsed": false,
    "jupyter": {
     "outputs_hidden": false
    }
   },
   "outputs": [],
   "source": [
    "2^3^2"
   ]
  },
  {
   "cell_type": "markdown",
   "metadata": {
    "collapsed": false,
    "jupyter": {
     "outputs_hidden": false
    }
   },
   "source": [
    "Προφανώς, αν επιθυμούμε διαφορετική σειρά εκτέλεσης πράξεων, χρησιμοποιούμε παρενθέσεις."
   ]
  },
  {
   "cell_type": "code",
   "execution_count": null,
   "metadata": {
    "collapsed": false,
    "jupyter": {
     "outputs_hidden": false
    }
   },
   "outputs": [],
   "source": [
    "(2^3)^2"
   ]
  },
  {
   "cell_type": "markdown",
   "metadata": {
    "collapsed": false,
    "jupyter": {
     "outputs_hidden": false
    }
   },
   "source": [
    "**Παράδειγμα**\n",
    "\n",
    "Έστω ότι καταθέτουμε ένα ποσό 1000 ευρώ στην τράπεζα με ετήσιο επιτόκιο 1.5% και θέλουμε να υπολογίσουμε το ποσό μετά από 20 χρόνια. Ο τύπος που μας δίνει το τελικό ποσό:\n",
    "\n",
    "$$\n",
    "    A = P \\left(1 + r\\right)^{t}\n",
    "$$\n",
    "\n",
    "όπου:\n",
    "\n",
    "- A είναι το τελικό ποσό,\n",
    "\n",
    "- P είναι το αρχικό κεφάλαιο,\n",
    "\n",
    "- r είναι το ετήσιο επιτόκιο (σε δεκαδική μορφή),\n",
    "\n",
    "- t είναι ο χρόνος σε έτη."
   ]
  },
  {
   "cell_type": "code",
   "execution_count": null,
   "metadata": {
    "collapsed": false,
    "jupyter": {
     "outputs_hidden": false
    }
   },
   "outputs": [],
   "source": [
    "1000*(1+0.015)^20"
   ]
  },
  {
   "cell_type": "markdown",
   "metadata": {
    "collapsed": false,
    "jupyter": {
     "outputs_hidden": false
    }
   },
   "source": [
    "Υποστηρίζονται τρεις τελεστές διαίρεσης:\n",
    "\n",
    "- `/` Διαίρεση που επιστρέφει πραγματικό ή ρητό αποτέλεσμα\n",
    "\n",
    "- `//` Ακέραια διαίρεση, υποχρεωτικά μεταξύ ακεραίων\n",
    "\n",
    "- `%` Υπόλοιπο διαίρεσης"
   ]
  },
  {
   "cell_type": "code",
   "execution_count": null,
   "metadata": {
    "collapsed": false,
    "jupyter": {
     "outputs_hidden": false
    }
   },
   "outputs": [],
   "source": [
    "5/2, 5//2, 5%2"
   ]
  },
  {
   "cell_type": "markdown",
   "metadata": {
    "collapsed": false,
    "jupyter": {
     "outputs_hidden": false
    }
   },
   "source": [
    "Για να επιστραφεί πραγματικός αριθμός στην πράξη 5/2 θα πρέπει:\n",
    "\n",
    "- είτε τουλάχιστον ένας από τους τελεστέους να είναι πραγματικός.\n",
    "\n",
    "- είτε να γίνει χρήση της συνάρτησης αριθμητικής προσέγγισης που αναφέρεται στη συνέχεια."
   ]
  },
  {
   "cell_type": "code",
   "execution_count": null,
   "metadata": {
    "collapsed": false,
    "jupyter": {
     "outputs_hidden": false
    }
   },
   "outputs": [],
   "source": [
    "5/2.0"
   ]
  },
  {
   "cell_type": "markdown",
   "metadata": {
    "collapsed": false,
    "jupyter": {
     "outputs_hidden": false
    }
   },
   "source": [
    "**Παράδειγμα**\n",
    "\n",
    "Έστω ότι θέλουμε να υπολογίσουμε την τιμή της συνάρτησης $f(x) = \\frac{(x - 2)^4}{4 + (x + 3)^3}$ για $x=5$. "
   ]
  },
  {
   "cell_type": "code",
   "execution_count": null,
   "metadata": {
    "collapsed": false,
    "jupyter": {
     "outputs_hidden": false
    }
   },
   "outputs": [],
   "source": [
    "(5 - 2)^4 / (4 + (5 + 3)^3)"
   ]
  },
  {
   "cell_type": "markdown",
   "metadata": {
    "collapsed": false,
    "jupyter": {
     "outputs_hidden": false
    }
   },
   "source": [
    "Παρατηρούμε ότι όσο σύνθετη και να γίνει η παράσταση, δεν χρησιμοποιούμε αγκύλες, `(5 - 2)^4 / [4 + (5 + 3)^3]` αλλά διαδοχικές παρενθέσεις. Επιπλέον, βλέπουμε ότι το Sage, επειδή το αποτέλεσμα δεν είναι ακέραιο, αλλά οι τελεστέοι είναι, δεν εμφανίζει την αριθμητική τιμή αλλά το κλάσμα `27/172`."
   ]
  },
  {
   "cell_type": "markdown",
   "metadata": {
    "collapsed": false,
    "jupyter": {
     "outputs_hidden": false
    }
   },
   "source": [
    "# show"
   ]
  },
  {
   "cell_type": "markdown",
   "metadata": {
    "collapsed": false,
    "jupyter": {
     "outputs_hidden": false
    }
   },
   "source": [
    "Για να εμφανίσει με \"όμορφο\" τρόπο το αποτέλεσμα παρέχεται η συνάρτηση `show()`.  Η συνάρτηση αυτή χρησιμοποιεί την μηχανή $\\LaTeX$ για να μας παρουσιάσει στην οθόνη μας τα μαθηματικά σύμβολα (αριθμούς, κλάσματα, ρίζες, κοκ.) με καλαίσθητο τρόπο. Χρησιμοποιείται συγχρόνως και από πολλές εντολές του SagMath, όπως για παράδειγμα την `plot`, ώστε να μπορούμε να εμφανίσουμε την έξοδο (για παράδειγμα το γράφημα) με τον τρόπο που εμείς επιθυμούμε. Θα δούμε αρκετά κατατοπιστικά παραδείγματα της χρήσης της σε όλο το μήκος των σημειώσεων. Αναμφίβολα, είναι μια από τις πιο χρήσιμες συναρτήσεις!"
   ]
  },
  {
   "cell_type": "code",
   "execution_count": null,
   "metadata": {
    "collapsed": false,
    "jupyter": {
     "outputs_hidden": false
    }
   },
   "outputs": [],
   "source": [
    "show((5 - 2)^4 / (4 + (5 + 3)^3))"
   ]
  },
  {
   "cell_type": "markdown",
   "metadata": {
    "collapsed": false,
    "jupyter": {
     "outputs_hidden": false
    }
   },
   "source": [
    "# Αριθμητική προσέγγιση n()"
   ]
  },
  {
   "cell_type": "markdown",
   "metadata": {
    "collapsed": false,
    "jupyter": {
     "outputs_hidden": false
    }
   },
   "source": [
    "Εάν επιθυμούμε την αριθμητική τιμή, στις περιπτώσεις που οι τελεστέοι είναι ακέραιοι, θα πρέπει να κάνουμε χρήση της `N()` (ή `n()` ή `numerical_approx()`) που χρησιμοποιείται για να προσεγγίσει αριθμητικά μια έκφραση."
   ]
  },
  {
   "cell_type": "code",
   "execution_count": null,
   "metadata": {
    "collapsed": false,
    "jupyter": {
     "outputs_hidden": false
    }
   },
   "outputs": [],
   "source": [
    "N((5 - 2)^4 / (4 + (5 + 3)^3))"
   ]
  },
  {
   "cell_type": "markdown",
   "metadata": {
    "collapsed": false,
    "jupyter": {
     "outputs_hidden": false
    }
   },
   "source": [
    "Η προαιρετική παράμετρος `digits` θέτει τον αριθμό των σημαντικών ψηφίων που θα εμφανιστούν. Όλοι οι πραγματικοί αριθμοί όταν αποθηκεύονται στην μνήμη ενός υπολογιστή έχουν λίγα ή πολλά σημαντικά ψηφία. Δεν θα εξηγήσουμε εδώ τον ορισμό των σημαντικών ψηφίων ενός αριθμού. Ο ενδιαφερόμενος αναγνώστης μπορεί να μάθει περισσότερες πληροφορίες ψάχνοντας στο internet."
   ]
  },
  {
   "cell_type": "code",
   "execution_count": null,
   "metadata": {
    "collapsed": false,
    "jupyter": {
     "outputs_hidden": false
    }
   },
   "outputs": [],
   "source": [
    "N((5 - 2)^4 / (4 + (5 + 3)^3),digits=5)"
   ]
  },
  {
   "cell_type": "markdown",
   "metadata": {
    "collapsed": false,
    "jupyter": {
     "outputs_hidden": false
    }
   },
   "source": [
    "Το 99% των εντολών του SageMath γράφονται με μικρά γράμματα. Η `N()`, η σταθερά `I` (η φανταστική μονάδα στους μιγαδικούς αριθμούς, γράφεται και με μικρό `i`), οι `True` και `False` (γράφονται και με μικρά) καθώς και οι `NaN` και `Graphics` αποτελούν κάποιες από τις λιγοστές εξαιρέσεις."
   ]
  },
  {
   "cell_type": "markdown",
   "metadata": {
    "collapsed": false,
    "jupyter": {
     "outputs_hidden": false
    }
   },
   "source": [
    "# built-in σταθερές"
   ]
  },
  {
   "cell_type": "markdown",
   "metadata": {
    "collapsed": false,
    "jupyter": {
     "outputs_hidden": false
    }
   },
   "source": [
    "Πολύ συχνή είναι η χρήση στα μαθηματικά των σταθερών **π** και **e**. Η πρώτη είναι ενσωματωμένη ως `pi` και η δεύτερη ως `e`."
   ]
  },
  {
   "cell_type": "code",
   "execution_count": null,
   "metadata": {
    "collapsed": false,
    "jupyter": {
     "outputs_hidden": false
    }
   },
   "outputs": [],
   "source": [
    "N(pi)"
   ]
  },
  {
   "cell_type": "code",
   "execution_count": null,
   "metadata": {
    "collapsed": false,
    "jupyter": {
     "outputs_hidden": false
    }
   },
   "outputs": [],
   "source": [
    "N(e,digits=10)"
   ]
  },
  {
   "cell_type": "markdown",
   "metadata": {
    "collapsed": false,
    "jupyter": {
     "outputs_hidden": false
    }
   },
   "source": [
    "Άλλες σταθερές είναι η χρυσή τομή, `golden_ratio` και η φανταστική μονάδα, `i`.  Υπάρχουν φυσικά και άλλες μαθηματικές σταθερές καθώς και άλλες μη μαθηματικές σταθερές όπως η `NaN`, η `False` και η `None`."
   ]
  },
  {
   "cell_type": "code",
   "execution_count": null,
   "metadata": {
    "collapsed": false,
    "jupyter": {
     "outputs_hidden": false
    }
   },
   "outputs": [],
   "source": [
    "n(golden_ratio)"
   ]
  },
  {
   "cell_type": "code",
   "execution_count": null,
   "metadata": {
    "collapsed": false,
    "jupyter": {
     "outputs_hidden": false
    }
   },
   "outputs": [],
   "source": [
    "N(i),N(sqrt(-1))"
   ]
  },
  {
   "cell_type": "markdown",
   "metadata": {
    "collapsed": false,
    "jupyter": {
     "outputs_hidden": false
    }
   },
   "source": [
    "# built-in συναρτήσεις"
   ]
  },
  {
   "cell_type": "markdown",
   "metadata": {
    "collapsed": false,
    "jupyter": {
     "outputs_hidden": false
    }
   },
   "source": [
    "Το Sage παρέχει μια σειρά από λογαριθμικές, εκθετικές, τριγωνομετρικές συναρτήσεις."
   ]
  },
  {
   "cell_type": "markdown",
   "metadata": {
    "collapsed": false,
    "jupyter": {
     "outputs_hidden": false
    }
   },
   "source": [
    "## bool"
   ]
  },
  {
   "cell_type": "markdown",
   "metadata": {
    "collapsed": false,
    "jupyter": {
     "outputs_hidden": false
    }
   },
   "source": [
    "Η `bool` είναι μια συνάρτηση της Python, άρα και του Sage, που προσπαθεί να ερμηνεύσει ένα αντικείμενο ως λογική τιμή: `True` ή `False`."
   ]
  },
  {
   "cell_type": "code",
   "execution_count": null,
   "metadata": {
    "collapsed": false,
    "jupyter": {
     "outputs_hidden": false
    }
   },
   "outputs": [],
   "source": [
    "sin(pi) == 0, bool(sin(pi) == 0)"
   ]
  },
  {
   "cell_type": "markdown",
   "metadata": {
    "collapsed": false,
    "jupyter": {
     "outputs_hidden": false
    }
   },
   "source": [
    "Είναι ιδιαίτερα χρήσιμη στο SageMath όταν συγκρίνουμε συμβολικές παραστάσεις που θα δούμε στην συνέχεια."
   ]
  },
  {
   "cell_type": "markdown",
   "metadata": {
    "collapsed": false,
    "jupyter": {
     "outputs_hidden": false
    }
   },
   "source": [
    "## Ρίζες"
   ]
  },
  {
   "cell_type": "markdown",
   "metadata": {
    "collapsed": false,
    "jupyter": {
     "outputs_hidden": false
    }
   },
   "source": [
    "Η συνάρτηση `sqrt` μας επιστρέφει την τετραγωνική ρίζα ενός αριθμού."
   ]
  },
  {
   "cell_type": "code",
   "execution_count": null,
   "metadata": {
    "collapsed": false,
    "jupyter": {
     "outputs_hidden": false
    }
   },
   "outputs": [],
   "source": [
    "sqrt(225)"
   ]
  },
  {
   "cell_type": "markdown",
   "metadata": {
    "collapsed": false,
    "jupyter": {
     "outputs_hidden": false
    }
   },
   "source": [
    "Σε περίπτωση ακέραιας ή ρητής παραμέτρου, το αποτέλεσμα που επιστρέφεται από το SageMath είναι επίσης ’ακέραιo’, δηλαδή δεν εμφανίζεται κάποιο δεκαδικό αποτέλεσμα, αλλά μόνο κάποιος συνδυασμός από μαθηματικά σύμβολα. Οι ακέραιοι και οι ρητοί θεωρούνται ως αριθμοί που έχουν ’άπειρη’ ακρίβεια. Οι πραγματικοί αριθμοί είναι οι αριθμοί που έχουν πεπερασμένο πλήθος από δεκαδικά ψηφία. Αυτοί θεωρούνται από το SageMath ότι δεν έχουν άπειρη ακρίβεια, οπότε οι πράξεις που εμπλέκουν αυτούς τους αριθμούς θα είναι πάντα προσεγγιστικές και το αποτέλεσμα θα περιέχει δεκαδικά ψηφία!"
   ]
  },
  {
   "cell_type": "markdown",
   "metadata": {
    "collapsed": false,
    "jupyter": {
     "outputs_hidden": false
    }
   },
   "source": [
    "Στο παρακάτω παράδειγμα ζητάμε από το SageMath να μας υπολογίσει την τετραγωνική ρίζα του ακεραίου 12. Γίνονται κάποιες μαθηματικές απλοποιήσεις και παίρνουμε ως απάντηση το $2 \\sqrt{3}$. Το SageMath δεν αντικατάστησε τον άρρητο $2 \\sqrt{3}$ με κάποια δεκαδική προσέγγισή του, διότι θα έπρεπε να διαφυλάξει την άπειρη ακρίβεια του αποτελέσματος! Έτσι έδωσε μια απάντηση εντελώς ακριβή από μαθηματική άποψη, χρησιμοποιώντας το σύμβολο $\\sqrt{3}$ της ρίζας, και όχι κάποιο προσεγγιστικό δεκαδικό νούμερο. Όταν όμως του ζητήσουμε να υπολογίσει το sqrt(12.), τότε θεωρεί το 12 ως ένα πραγματικό αριθμό πεπερασμένης ακρίβειας (και όχι ως ένα ακέραιο άπειρης ακρίβειας)! Οπότε, ξεκινάει αμέσως να κάνει αριθμητικές πράξεις με δεκαδικούς και μας δίνει τελικά τον δεκαδικό 3.46410161513775 (πεπερασμένης φυσικά ακρίβειας)."
   ]
  },
  {
   "cell_type": "code",
   "execution_count": null,
   "metadata": {
    "collapsed": false,
    "jupyter": {
     "outputs_hidden": false
    }
   },
   "outputs": [],
   "source": [
    "sqrt(12), sqrt(12.0)"
   ]
  },
  {
   "cell_type": "markdown",
   "metadata": {
    "collapsed": false,
    "jupyter": {
     "outputs_hidden": false
    }
   },
   "source": [
    "Εάν επιθυμούμε να πάρουμε μια δεκαδική προσέγγισή του αποτελέσματος κάνουμε χρήση της n()."
   ]
  },
  {
   "cell_type": "code",
   "execution_count": null,
   "metadata": {
    "collapsed": false,
    "jupyter": {
     "outputs_hidden": false
    }
   },
   "outputs": [],
   "source": [
    "n(sqrt(12))"
   ]
  },
  {
   "cell_type": "markdown",
   "metadata": {
    "collapsed": false,
    "jupyter": {
     "outputs_hidden": false
    }
   },
   "source": [
    "Σημειώνεται ότι στην περίπτωση που ο αριθμός είναι ήδη δεκαδικός, δεν είναι απαραίτητη η χρήση της `n()`."
   ]
  },
  {
   "cell_type": "markdown",
   "metadata": {
    "collapsed": false,
    "jupyter": {
     "outputs_hidden": false
    }
   },
   "source": [
    "Ο $\\frac{3}{4}$ θεωρείται από το SageMath ως ρητός (rational) άπειρης ακρίβειας, ενώ το αντίστοιχο $\\frac{3}{4.}$ ως ένας πραγματικός αριθμός (περιορισμένης ακρίβειας, λόγω της εμφάνισης στον παρονομαστή του δεκαδικού .)!"
   ]
  },
  {
   "cell_type": "code",
   "execution_count": null,
   "metadata": {
    "collapsed": false,
    "jupyter": {
     "outputs_hidden": false
    }
   },
   "outputs": [],
   "source": [
    "3/4,3/4."
   ]
  },
  {
   "cell_type": "markdown",
   "metadata": {
    "collapsed": false,
    "jupyter": {
     "outputs_hidden": false
    }
   },
   "source": [
    "To $\\frac{2}{\\sqrt{3}}$ φυσικά δεν είναι κάποιος ρητός. Αποτελείται όμως από τα σύμβολα $2$ και $\\sqrt{3}$ που είναι σύμβολα άπειρης ακρίβειας. Ένας μαθηματικός θα απαντήσει ότι το κλάσμα είναι προφανώς ένας πραγματικός. Το SageMath δεν το βλέπει όμως ως ένα πραγματικό (Real)! Το βλέπει ως μια συμβολική έκφραση (Expression) άπειρης ακρίβειας! Οι γνωστές build-in σταθερές θεωρούνται ομοίως ως συμβολικές εκφράσεις (συμβολικές σταθερές) άπειρης ακρίβειας."
   ]
  },
  {
   "cell_type": "code",
   "execution_count": null,
   "metadata": {
    "collapsed": false,
    "jupyter": {
     "outputs_hidden": false
    }
   },
   "outputs": [],
   "source": [
    "2/sqrt(3)"
   ]
  },
  {
   "cell_type": "markdown",
   "metadata": {
    "collapsed": false,
    "jupyter": {
     "outputs_hidden": false
    }
   },
   "source": [
    "Αν επιθυμούμε ρίζες μεγαλύτερης τάξης μπορεί να γίνει κατάλληλη χρήση του τελεστή `**` ή `^`."
   ]
  },
  {
   "cell_type": "code",
   "execution_count": null,
   "metadata": {
    "collapsed": false,
    "jupyter": {
     "outputs_hidden": false
    }
   },
   "outputs": [],
   "source": [
    "1024^(1/10)"
   ]
  },
  {
   "cell_type": "markdown",
   "metadata": {
    "collapsed": false,
    "jupyter": {
     "outputs_hidden": false
    }
   },
   "source": [
    "Αν δώσουμε στην παράμετρο `all` την τιμή `True` μπορούμε να πάρουμε και την αρνητική ρίζα ενός αριθμού."
   ]
  },
  {
   "cell_type": "code",
   "execution_count": null,
   "metadata": {
    "collapsed": false,
    "jupyter": {
     "outputs_hidden": false
    }
   },
   "outputs": [],
   "source": [
    "sqrt(4,all=True)"
   ]
  },
  {
   "cell_type": "markdown",
   "metadata": {
    "collapsed": false,
    "jupyter": {
     "outputs_hidden": false
    }
   },
   "source": [
    "Εφόσον ο αριθμός είναι αρνητικός, τότε ως γνωστόν, οι τετραγωνικές ρίζες του θα είναι μιγαδικές."
   ]
  },
  {
   "cell_type": "code",
   "execution_count": null,
   "metadata": {
    "collapsed": false,
    "jupyter": {
     "outputs_hidden": false
    }
   },
   "outputs": [],
   "source": [
    "sqrt(-4,all=True)"
   ]
  },
  {
   "cell_type": "markdown",
   "metadata": {
    "collapsed": false,
    "jupyter": {
     "outputs_hidden": false
    }
   },
   "source": [
    "Τα αποτελέσματα στις παραπάνω περιπτώσεις βρίσκονται ανάμεσα σε `[ ]` δηλαδή εμφανίζονται με την μορφή μιας λίστας. Οι λίστες θα συζητηθούν αργότερα."
   ]
  },
  {
   "cell_type": "markdown",
   "metadata": {
    "collapsed": false,
    "jupyter": {
     "outputs_hidden": false
    }
   },
   "source": [
    "## Λογάριθμοι"
   ]
  },
  {
   "cell_type": "markdown",
   "metadata": {
    "collapsed": false,
    "jupyter": {
     "outputs_hidden": false
    }
   },
   "source": [
    "Κάνοντας χρήση την συνάρτησης `log` μπορούν να υπολογιστούν οι λογάριθμοι στο Sage. Ο φυσικός λογάριθμος, με βάση το e, υπολογίζεται εξορισμού χωρίς την χρήση άλλης παραμέτρου."
   ]
  },
  {
   "cell_type": "code",
   "execution_count": null,
   "metadata": {
    "collapsed": false,
    "jupyter": {
     "outputs_hidden": false
    }
   },
   "outputs": [],
   "source": [
    "N(log(325))"
   ]
  },
  {
   "cell_type": "markdown",
   "metadata": {
    "collapsed": false,
    "jupyter": {
     "outputs_hidden": false
    }
   },
   "source": [
    "Σε περίπτωση που επιθυμούμε λογάριθμο άλλης βάσης θα πρέπει να χρησιμοποιηθεί και 2η παράμετρος, `base`, πέρα από τον αριθμό."
   ]
  },
  {
   "cell_type": "code",
   "execution_count": null,
   "metadata": {
    "collapsed": false,
    "jupyter": {
     "outputs_hidden": false
    }
   },
   "outputs": [],
   "source": [
    "log(1024,base=2)"
   ]
  },
  {
   "cell_type": "markdown",
   "metadata": {
    "collapsed": false,
    "jupyter": {
     "outputs_hidden": false
    }
   },
   "source": [
    "**Παράδειγμα**\n",
    "\n",
    "Υπενθυμίζεται ότι ο μαθηματικός τύπος αλλαγής βάσης από e σε a είναι:\n",
    "$$\n",
    "\\log_a b = \\frac{\\ln b}{\\ln a}\n",
    "$$\n",
    "Ακολουθεί εφαρμογή για a=2, b=10."
   ]
  },
  {
   "cell_type": "code",
   "execution_count": null,
   "metadata": {
    "collapsed": false,
    "jupyter": {
     "outputs_hidden": false
    }
   },
   "outputs": [],
   "source": [
    "n(log(10) / log(2)), n(log(10, 2))"
   ]
  },
  {
   "cell_type": "markdown",
   "metadata": {
    "collapsed": false,
    "jupyter": {
     "outputs_hidden": false
    }
   },
   "source": [
    "Η `bool` στην συνέχεια θα μετατρέψει την έκφραση σε λογική τιμή και, εφόσον οι εκφράσεις έχουν το ίδιο αποτέλεσμα το αποτέλεσμα θα είναι `True`."
   ]
  },
  {
   "cell_type": "code",
   "execution_count": null,
   "metadata": {
    "collapsed": false,
    "jupyter": {
     "outputs_hidden": false
    }
   },
   "outputs": [],
   "source": [
    "bool(log(10, 2)==log(10) / log(2))"
   ]
  },
  {
   "cell_type": "markdown",
   "metadata": {
    "collapsed": false,
    "jupyter": {
     "outputs_hidden": false
    }
   },
   "source": [
    "**Παράδειγμα**\n",
    "\n",
    "Έστω ότι στο παραπάνω παράδειγμα που καταθέσαμε 1000 ευρώ στην τράπεζα με ετήσιο επιτόκιο 1.5% θέλουμε να υπολογίσουμε σε πόσα χρόνια το ποσό θα διπλασιαστεί\n",
    "\n",
    "Τύπος:\n",
    "$$ A = P \\left(1 + r\\right)^{t} $$\n",
    "\n",
    "Επίλυση:\n",
    "\n",
    "Αντικαθιστούμε τις τιμές:\n",
    "$$ 2000 = 1000 \\left(1 + 0.015\\right)^{t} $$\n",
    "\n",
    "Απλοποιούμε: \n",
    "$$ 2 = \\left(1.015\\right)^{t} $$\n",
    "\n",
    "Λογαριθμίζουμε:\n",
    "$$ \\log(2) = t \\cdot \\log(1.015)$$\n",
    "\n",
    "Λύνουμε για t:\n",
    "$$ t = \\frac{\\log(2)}{\\log(1.015)} $$"
   ]
  },
  {
   "cell_type": "code",
   "execution_count": null,
   "metadata": {
    "collapsed": false,
    "jupyter": {
     "outputs_hidden": false
    }
   },
   "outputs": [],
   "source": [
    "N(log(2)/log(1.015))"
   ]
  },
  {
   "cell_type": "markdown",
   "metadata": {
    "collapsed": false,
    "jupyter": {
     "outputs_hidden": false
    }
   },
   "source": [
    "Μετά την εφαρμογή του παραπάνω τύπου βλέπουμε ότι το ποσό θα διπλασιαστεί σε 47 χρόνια."
   ]
  },
  {
   "cell_type": "markdown",
   "metadata": {
    "collapsed": false,
    "jupyter": {
     "outputs_hidden": false
    }
   },
   "source": [
    "## Τριγωνομετρικές συναρτήσεις"
   ]
  },
  {
   "cell_type": "markdown",
   "metadata": {
    "collapsed": false,
    "jupyter": {
     "outputs_hidden": false
    }
   },
   "source": [
    "Οι τριγωνομετρικές συναρτήσεις στο Sage είναι αυτές που θα περιμέναμε, `sin` για ημίτονο, `cos` για συνημίτονο κ.ο.κ. Κάτι που θα πρέπει να προσέξουμε είναι ότι οι παράμετροι τους είναι σε ακτίνια και όχι σε μοίρες.\n",
    "\n",
    "Υπενθυμίζεται ότι για την μετατροπή ακτινίων (radians) σε μοίρες (degrees) ή αντίστροφα χρησιμοποιούμε τον τύπο:\n",
    "$$\n",
    "\\text{degrees} = \\text{radians} \\times \\frac{180}{\\pi}\n",
    "$$"
   ]
  },
  {
   "cell_type": "code",
   "execution_count": null,
   "metadata": {
    "collapsed": false,
    "jupyter": {
     "outputs_hidden": false
    }
   },
   "outputs": [],
   "source": [
    "pi/3*(180/pi) # π/3 ακτίνια = 60 μοίρες"
   ]
  },
  {
   "cell_type": "code",
   "execution_count": null,
   "metadata": {
    "collapsed": false,
    "jupyter": {
     "outputs_hidden": false
    }
   },
   "outputs": [],
   "source": [
    "sin(pi/3)"
   ]
  },
  {
   "cell_type": "markdown",
   "metadata": {
    "collapsed": false,
    "jupyter": {
     "outputs_hidden": false
    }
   },
   "source": [
    "Παρατηρούμε ότι και εδώ το Sage μας δίνει ακριβείς απαντήσεις (άπειρης ακρίβειας) αντί για αριθμητικές προσεγγίσεις, κάτι που μερικές φορές μπορεί να μην μας βολεύει. Στις περιπτώσεις αυτές χρησιμοποιούμε την συνάρτηση `n()`."
   ]
  },
  {
   "cell_type": "code",
   "execution_count": null,
   "metadata": {
    "collapsed": false,
    "jupyter": {
     "outputs_hidden": false
    }
   },
   "outputs": [],
   "source": [
    "cos(pi/12),n(cos(pi/12))"
   ]
  },
  {
   "cell_type": "markdown",
   "metadata": {
    "collapsed": false,
    "jupyter": {
     "outputs_hidden": false
    }
   },
   "source": [
    "Ακολουθεί πίνακας με γνωστές τριγωνομετρικές συναρτήσεις όπως ορίζονται στο Sage.\n",
    "\n",
    "| Συνάρτηση          | Περιγραφή                            | Σημείωση                                              |\n",
    "|--------------------|--------------------------------------|-------------------------------------------------------|\n",
    "| **Βασικές**|\n",
    "`sin(x)`           | Ημίτονο                             |  |\n",
    "| `cos(x)`           | Συνημίτονο                          |        |\n",
    "| `tan(x)`           | Εφαπτομένη                          |$$ \\tan(x) = \\frac{\\sin(x)}{\\cos(x)} $$|\n",
    "| **Δευτερεύουσες**| \n",
    "| `csc(x)`           | Συντέμνουσα                         | $$ \\csc(x) = \\frac{1}{\\sin(x)} $$                     |\n",
    "| `sec(x)`           | Τέμνουσα                       | $$ \\sec(x) = \\frac{1}{\\cos(x)} $$                     |\n",
    "| `cot(x)`           | Συνέφαπτομένη                       | $$ \\cot(x) = \\frac{1}{\\tan(x)} $$                     |\n",
    "| **Αντίστροφες**|\n",
    "| `arcsin(x)` ή  `asin(x)`       | Τόξο ημιτόνου     | Ορίζεται για $$ x \\in [-1, 1] $$                      |\n",
    "| `arccos(x)` ή   `acos(x)`     | Τόξο συνημιτόνου | Ορίζεται για $$ x \\in [-1, 1] $$                      |\n",
    "| `arctan(x)` ή  `atan(x)`     | Τόξο εφαπτομένης | Ορίζεται για όλες τις πραγματικές τιμές του x      |\n",
    "| `arccsc(x)`        | Τόξο συντέμνουσας               | Ορίζεται για $$ x \\in (-\\infty, -1] \\cup [1, \\infty) $$|\n",
    "| `arcsec(x)`        | Τόξο τέμνουσας            | Ορίζεται για $$ x \\in (-\\infty, -1] \\cup [1, \\infty) $$|\n",
    "| `arccot(x)`        | Αντίστροφη συνέφαπτομένη            | Ορίζεται για όλες τις πραγματικές τιμές του x      |"
   ]
  },
  {
   "cell_type": "markdown",
   "metadata": {
    "collapsed": false,
    "jupyter": {
     "outputs_hidden": false
    }
   },
   "source": [
    "**Παράδειγμα**\n",
    "\n",
    "Υπολογίστε το εμβαδόν ενός τριγώνου γνωρίζοντας ότι οι δύο πλευρές του είναι a = 5 και b = 7 και η γωνία που σχηματίζουν είναι \n",
    "$\\theta = \\frac{\\pi}{6}$.\n",
    "\n",
    "Χρησιμοποιήστε τον τύπο του ημιτόνου $A = \\frac{1}{2}ab\\sin(\\theta)$ για να βρείτε το εμβαδόν."
   ]
  },
  {
   "cell_type": "code",
   "execution_count": null,
   "metadata": {
    "collapsed": false,
    "jupyter": {
     "outputs_hidden": false
    }
   },
   "outputs": [],
   "source": [
    "(1/2) * 5 * 7 * sin(pi/6)"
   ]
  },
  {
   "cell_type": "markdown",
   "metadata": {
    "collapsed": false,
    "jupyter": {
     "outputs_hidden": false
    }
   },
   "source": [
    "# Κατασκευή νέων συμβόλων"
   ]
  },
  {
   "cell_type": "markdown",
   "metadata": {
    "collapsed": false,
    "jupyter": {
     "outputs_hidden": false
    }
   },
   "source": [
    "Το SageMath υποστηρίζει την αποθήκευση τιμών διαφόρων τύπων αντικειμένων δίνοντας τους βολικές ονομασίες, όπως αυτές που υποστηρίζονται σε οποιαδήποτε γλώσσα προγραμματισμού. Επιπλέον, παρέχει τη δυνατότητα δημιουργίας νέων συμβολικών μεταβλητών για συμβολικούς υπολογισμούς.\n",
    "\n",
    "Τα βασικά αντικείμενα είναι περιπτώσεις κάποιων κλάσεων (class). Οι κλάσεις αυτές είναι:\n",
    "\n",
    "- `Integer`: ακέραιοι, π.χ. 3.\n",
    "\n",
    "- `Rational`: ρητοί, π.χ. 3/2.\n",
    "\n",
    "- `RealLiteral`: πραγματικοί με πεπερασμένο πλήθος δεκαδικών ψηφίων π.χ. 3.5.\n",
    "\n",
    "- `ComplexNumber`: οι μιγαδικοί π.χ. 3.5+I.\n",
    "\n",
    "- `bool`: οι boolean, π.χ. True\n",
    "\n",
    "- `str`: οι συμβολοσειρές, π.χ. 'όνομα_πελάτη'\n",
    "\n",
    "- `list`: οι λίστες, π.χ. [2, 5.3]\n",
    "\n",
    "- `tuple`: οι πλειάδες, πχ. (1,-2,sqrt(3))\n",
    "\n",
    "- `function`: οι συναρτήσεις, π.χ. sin, plot, sqrt, log\n",
    "\n",
    "- `Matrix`: διάφορα είδη πινάκων όπως για παράδειγμα `Matrix_integer_dense`, `Matrix_rational_dense`, `Matrix_symbolic_dense`\n",
    "\n",
    "- `method`: οι μέθοδοι ( , π.χ. input),\n",
    "\n",
    "- `type`: οι τύποι δηλαδή ονόματα των κλάσεων, π.χ. float, range, Graphics, set, dict κοκ.\n",
    "\n",
    "- `Expression`: Οι μαθηματικές παραστάσεις όπως για παράδειγμα οι x, x**2, e**x, 2*x, x>3, log(3*x) ==log(3)+log(x) κοκ. ανήκουν σε μια ειδική κατηγορία κλάσεων που λέγεται εκφράσεις.\n",
    "\n",
    "Επίσης υποστηρίζονται και πολλοί άλλοι τύποι αντικειμένων, αλλά τις λεπτομέρειες θα τις δούμε σε επόμενο κεφάλαιο."
   ]
  },
  {
   "cell_type": "code",
   "execution_count": null,
   "metadata": {
    "collapsed": false,
    "jupyter": {
     "outputs_hidden": false
    }
   },
   "outputs": [],
   "source": [
    "type(input),type(3/5),type(0.6),type(float),type(x**2)"
   ]
  },
  {
   "cell_type": "markdown",
   "metadata": {
    "collapsed": false,
    "jupyter": {
     "outputs_hidden": false
    }
   },
   "source": [
    "## Ορίζοντας νέα σύμβολα με τον τελεστή ανάθεσης"
   ]
  },
  {
   "cell_type": "markdown",
   "metadata": {
    "collapsed": false,
    "jupyter": {
     "outputs_hidden": false
    }
   },
   "source": [
    "Για να αποθηκευτεί το αποτέλεσμα ενός υπολογισμού, χρησιμοποιείται ένα οποιοδήποτε όνομα και ο τελεστής ανάθεσης ή εκχώρησης `=`."
   ]
  },
  {
   "cell_type": "code",
   "execution_count": null,
   "metadata": {
    "collapsed": false,
    "jupyter": {
     "outputs_hidden": false
    }
   },
   "outputs": [],
   "source": [
    "y = 3"
   ]
  },
  {
   "cell_type": "markdown",
   "metadata": {
    "collapsed": false,
    "jupyter": {
     "outputs_hidden": false
    }
   },
   "source": [
    "\tΤο `=` βοηθά το SageMath να καταλάβει ότι στα αριστερά του εμφανίζεται μια μεταβλητή κάποιου τύπου (ενός αριθμού, μιας συμβολοσειράς, μιας μεταβλητής, μιας συνάρτησης ή γενικά μιας οποιασδήποτε συμβολικής έκφρασης όπως για παράδειγμα της True<-1). Αυτός είναι ο πιο απλός τρόπος δημιουργίας νέων συμβόλων. Βασική όμως προϋπόθεση είναι να αναγνωρίζει όλους τους τύπους των συμβόλων που εμφανίζονται δεξιά του ίσον. Το SageMath συνδυάζει τους τύπους των δεδομένων στα δεξιά του ίσον και συμπεραίνει άμεσα για τον τύπο δηλ. το είδος του συμβόλου που βρίσκεται στα αριστερά του `=`. Για παράδειγμα, το $3$ είναι ένας `Integer`. Συνεπώς συμπεραίνει το σύμβολο b αριστερά της ισότητας `b=3` ορίζει ένα ακέραιο (Integer, το $3$). Ας δούμε άλλο ένα παράδειγμα μιας απλής εκχώρησης."
   ]
  },
  {
   "cell_type": "code",
   "execution_count": null,
   "metadata": {
    "collapsed": false,
    "jupyter": {
     "outputs_hidden": false
    }
   },
   "outputs": [],
   "source": [
    "a = 5 + 2"
   ]
  },
  {
   "cell_type": "markdown",
   "metadata": {
    "collapsed": false,
    "jupyter": {
     "outputs_hidden": false
    }
   },
   "source": [
    "Στη συνέχεια η αποθηκευμένη τιμή μπορεί να επαναχρησιμοποιηθεί."
   ]
  },
  {
   "cell_type": "code",
   "execution_count": null,
   "metadata": {
    "collapsed": false,
    "jupyter": {
     "outputs_hidden": false
    }
   },
   "outputs": [],
   "source": [
    "a"
   ]
  },
  {
   "cell_type": "code",
   "execution_count": null,
   "metadata": {
    "collapsed": false,
    "jupyter": {
     "outputs_hidden": false
    }
   },
   "outputs": [],
   "source": [
    "(a+3)*a"
   ]
  },
  {
   "cell_type": "markdown",
   "metadata": {
    "collapsed": false,
    "jupyter": {
     "outputs_hidden": false
    }
   },
   "source": [
    "Όταν ένας υπολογισμός αποθηκεύεται σε ένα όνομα, τότε δεν εμφανίζεται στην οθόνη. Για να εκτυπωθεί πρέπει να ξαναγράψουμε το όνομα:"
   ]
  },
  {
   "cell_type": "code",
   "execution_count": null,
   "metadata": {
    "collapsed": false,
    "jupyter": {
     "outputs_hidden": false
    }
   },
   "outputs": [],
   "source": [
    "b = 2*a;b"
   ]
  },
  {
   "cell_type": "markdown",
   "metadata": {
    "collapsed": false,
    "jupyter": {
     "outputs_hidden": false
    }
   },
   "source": [
    "Το `=` δεν χρησιμοποιείται για το σύμβολο της ισότητας στον προγραμματισμό. Π.χ. δεν είναι σωστό το `2=3-1`. Για την ισότητα χρησιμοποιείται το `==`."
   ]
  },
  {
   "cell_type": "code",
   "execution_count": null,
   "metadata": {
    "collapsed": false,
    "jupyter": {
     "outputs_hidden": false
    }
   },
   "outputs": [],
   "source": [
    "2==3-1"
   ]
  },
  {
   "cell_type": "markdown",
   "metadata": {
    "collapsed": false,
    "jupyter": {
     "outputs_hidden": false
    }
   },
   "source": [
    "Η χρήση του `;` επιτρέπει την ύπαρξη πολλών εντολών στην ίδια γραμμή. Οι εντολές αριστερά του δεξιότερου `;` δεν εκτυπώνονται."
   ]
  },
  {
   "cell_type": "code",
   "execution_count": null,
   "metadata": {
    "collapsed": false,
    "jupyter": {
     "outputs_hidden": false
    }
   },
   "outputs": [],
   "source": [
    "a=3;b=2;a,b"
   ]
  },
  {
   "cell_type": "markdown",
   "metadata": {
    "collapsed": false,
    "jupyter": {
     "outputs_hidden": false
    }
   },
   "source": [
    "##  Ορίζοντας νέα μαθηματικά σύμβολα με την SR"
   ]
  },
  {
   "cell_type": "markdown",
   "metadata": {
    "collapsed": false,
    "jupyter": {
     "outputs_hidden": false
    }
   },
   "source": [
    "Μια συμβολική μαθηματική παράσταση στο SageMath είναι κάθε συμβολική έκφραση `Expression` που περιλαμβάνει μεταβλητές, σταθερές και συναρτήσεις που δεν έχουν λάβει αναγκαστικά συγκεκριμένες τιμές σε κάποιο σημείο του κώδικά μας. Η $z = sin(y^2)+2$, για παράδειγμα, είναι μια μαθηματική έκφραση της μεταβλητής y. Ας υποθέσουμε για ευκολία, ότι δεν εμφανίζεται το y κάπου αλλού στο κώδικά μας. Αυτό δημιουργεί πρόβλημα στο SageMath διότι δεν μπορεί να αναγνωρίσει τον τύπο του συμβόλου z."
   ]
  },
  {
   "cell_type": "code",
   "execution_count": null,
   "metadata": {
    "collapsed": false,
    "jupyter": {
     "outputs_hidden": false
    }
   },
   "outputs": [],
   "source": [
    "# z = sin(y^2) + 2 # NameError το y δεν έχει οριστεί πουθενά"
   ]
  },
  {
   "cell_type": "markdown",
   "metadata": {
    "collapsed": false,
    "jupyter": {
     "outputs_hidden": false
    }
   },
   "source": [
    "Το SageMath δεν γνωρίζει εκ των προτέρων τι παριστάνει ένα νέο σύμβολο, εκτός κάποιων εξαιρέσεων (όπως για παράδειγμα του x που το βλέπει πάντα ως μεταβλητή)."
   ]
  },
  {
   "cell_type": "code",
   "execution_count": null,
   "metadata": {
    "collapsed": false,
    "jupyter": {
     "outputs_hidden": false
    }
   },
   "outputs": [],
   "source": [
    "z = sin(x^2) + 2"
   ]
  },
  {
   "cell_type": "markdown",
   "metadata": {
    "collapsed": false,
    "jupyter": {
     "outputs_hidden": false
    }
   },
   "source": [
    "Συνεπώς, το y θα πρέπει να δηλωθεί στο SageMath με κάποιο τρόπο, για παράδειγμα, ότι είναι το σύμβολο κάποιας μαθηματικής μεταβλητής. Αυτό θα πρέπει να το δηλώσουμε πριν την έκφραση $z = sin(y^2)+2$. Οι συμβολικές μεταβλητές θα πρέπει να δηλωθούν με το συνδυασμό `SR.var` ή σκέτα `var`. Διαφέρουν ουσιαστικά από τις απλές μεταβλητές, δηλαδή τις μεταβλητές που δεν δηλώνονται, ή δεν μας ενδιαφέρει να δηλωθούν, με την χρήση του `var` ή του `SR.var` Με την `var` δηλώνουμε ότι το νέο σύμβολό μας είναι μια μαθηματική μεταβλητή που αντιπροσωπεύει ένα μιγαδικό αριθμό ή γενικότερα μια μαθηματική παράσταση. Το `SR`, που σημαίνει **Symbolic Ring**, δεν είναι υποχρεωτικό όταν το χρησιμοποιούμε σε συνδυασμό με την `var` και συνήθως θα παραλείπεται."
   ]
  },
  {
   "cell_type": "code",
   "execution_count": null,
   "metadata": {
    "collapsed": false,
    "jupyter": {
     "outputs_hidden": false
    }
   },
   "outputs": [],
   "source": [
    "y = var('y') # Εναλλακτικά y = SR.var('y')\n",
    "z = sin(y^2) + 2\n",
    "z #show(z)"
   ]
  },
  {
   "cell_type": "markdown",
   "metadata": {
    "collapsed": false,
    "jupyter": {
     "outputs_hidden": false
    }
   },
   "source": [
    "Αν όμως θέλουμε να ορίσουμε ένα καινούργιο μαθηματικό σύμβολο (οποιουδήποτε είδους, όχι κατ’ ανάγκη ενός αριθμού) με την `symbol`, τότε χρησιμοποιούμε το `SR` απαραίτητα μαζί με αυτό π.χ. θ=SR.symbol('theta')."
   ]
  },
  {
   "cell_type": "code",
   "execution_count": null,
   "metadata": {
    "collapsed": false,
    "jupyter": {
     "outputs_hidden": false
    }
   },
   "outputs": [],
   "source": [
    "θ = SR.symbol('theta')\n",
    "θ^2 + 1 #show(θ^2 + 1)"
   ]
  },
  {
   "cell_type": "markdown",
   "metadata": {
    "collapsed": false,
    "jupyter": {
     "outputs_hidden": false
    }
   },
   "source": [
    "Όταν χρησιμοποιούμε την `symbol` θα πρέπει να εκχωρήσουμε την μεταβλητή. Διαφορετικά το όνομα δεν θα αναγνωρίζεται."
   ]
  },
  {
   "cell_type": "code",
   "execution_count": null,
   "metadata": {
    "collapsed": false,
    "jupyter": {
     "outputs_hidden": false
    }
   },
   "outputs": [],
   "source": [
    "k = SR.symbol('k')\n",
    "# SR.symbol('k') # NameError \n",
    "k^10"
   ]
  },
  {
   "cell_type": "markdown",
   "metadata": {
    "collapsed": false,
    "jupyter": {
     "outputs_hidden": false
    }
   },
   "source": [
    "Αν σκοπεύουμε το νέο σύμβολό μας να είναι το σύμβολο κάποιας (τυχαίας) συνάρτησης, τότε θα πρέπει να χρησιμοποιήσουμε την `function` αντί της `var` και χωρίς το SR στα αριστερά του π.χ. f = function('f'). Σκέτα τα σύμβολα συναρτήσεων δεν θεωρούνται συμβολικές παραστάσεις δηλαδή στοιχεία του SR."
   ]
  },
  {
   "cell_type": "code",
   "execution_count": null,
   "metadata": {
    "collapsed": false,
    "jupyter": {
     "outputs_hidden": false
    }
   },
   "outputs": [],
   "source": [
    "f = function('f')\n",
    "x = var('x')\n",
    "f(x) + sin(x)#show(f(x) + sin(x))"
   ]
  },
  {
   "cell_type": "markdown",
   "metadata": {
    "collapsed": false,
    "jupyter": {
     "outputs_hidden": false
    }
   },
   "source": [
    "Αν θέλουμε να μάθουμε τον ακριβή τύπο ενός συμβόλου που εμφανίζεται σε κάποιο σημείο κάποιου κώδικα, μπορούμε να χρησιμοποιήσουμε την εντολή `type` π.χ. `type(f)`. Χρήσιμη είναι και η `parent` π.χ. `parent(f)`. Η `parent(f)`, όπως μαρτυρεί και το όνομά της, δίνει το σύνολο μέσα στο οποίο υπάρχει και λειτουργεί το f. Π.χ. το `parent(42.5)` δίνει απάντηση: _Real Field with 53 bits of precision_ δηλ. το 42.5 είναι στοιχείο του σώματος όλων των πραγματικών αριθμών που έχουν οριστεί με ακρίβεια 53 bits!"
   ]
  },
  {
   "cell_type": "code",
   "execution_count": null,
   "metadata": {
    "collapsed": false,
    "jupyter": {
     "outputs_hidden": false
    }
   },
   "outputs": [],
   "source": [
    "type(42.5),parent(42.5)"
   ]
  },
  {
   "cell_type": "markdown",
   "metadata": {
    "collapsed": false,
    "jupyter": {
     "outputs_hidden": false
    }
   },
   "source": [
    "Κάθε μεταβλητή που δημιουργείται με `var('...')` είναι συμβολική παράσταση και ανήκει στο **SR** (Symbolic Ring). Αντίθετα, για τους αριθμούς, π.χ. 42, 3/7, 42.5, το parent(...) θα δώσει άλλα rings."
   ]
  },
  {
   "cell_type": "code",
   "execution_count": null,
   "metadata": {
    "collapsed": false,
    "jupyter": {
     "outputs_hidden": false
    }
   },
   "outputs": [],
   "source": [
    "type(42),parent(42),type(3/7),parent(3/7)"
   ]
  },
  {
   "cell_type": "code",
   "execution_count": null,
   "metadata": {
    "collapsed": false,
    "jupyter": {
     "outputs_hidden": false
    }
   },
   "outputs": [],
   "source": [
    "y = var('y');type(y),parent(y)"
   ]
  },
  {
   "cell_type": "markdown",
   "metadata": {
    "collapsed": false,
    "jupyter": {
     "outputs_hidden": false
    }
   },
   "source": [
    "Μην ξεχνάμε τα εισαγωγικά μετά τις εντολές `var`, `function` και `symbol`. Έτσι δεν είναι σωστό να ορίσουμε μια νέα μεταβλητή _όνομα_πελάτη_ ως var(κωδικός_πελάτη), αλλά ως var(’κωδικός_πελάτη’). Όταν θέλουμε να χρησιμοποιήσουμε αυτήν την μεταβλητή παρακάτω στον κώδικά μας θα πρέπει να την χρησιμοποιήσουμε χωρίς τα εισαγωγικά, διαφορετικά θα δημιουργηθεί `TypeError`. Παράδειγμα: το κωδικός_πελάτη+2 είναι σωστό (προσθέτουμε μια μαθηματική μεταβλητή με ένα Integer), όμως το 'κωδικός_πελάτη'+2 είναι λάθος έκφραση (διότι δεν μπορούμε να προσθέσουμε ένα string με ένα Integer)."
   ]
  },
  {
   "cell_type": "code",
   "execution_count": null,
   "metadata": {
    "collapsed": false,
    "jupyter": {
     "outputs_hidden": false
    }
   },
   "outputs": [],
   "source": [
    "κωδικός_πελάτη = var('κωδικός_πελάτη')\n",
    "κωδικός_πελάτη+2\n",
    "# 'κωδικός_πελάτη'+2"
   ]
  },
  {
   "cell_type": "markdown",
   "metadata": {
    "collapsed": false,
    "jupyter": {
     "outputs_hidden": false
    }
   },
   "source": [
    "Το **Symbolic Ring** είναι το σύνολο που περιέχει όλες τις μαθηματικές συμβολικές παραστάσεις (Expression). Αν και λέγεται ring δεν είναι φυσικά κάποιος πολυωνυμικός δακτύλιος όπως των γνωρίζουν οι μαθηματικοί. Τα στοιχεία του δεν περιλαμβάνουν μόνο πολυώνυμα κάποιας μεταβλητής, αλλά και λόγους και τριγωνομετρικές συναρτήσεις, και εκθετικά και λογαρίθμους κοκ. Μέσα σε αυτόν μπορούμε άνετα να εφαρμόσουμε όλα τα εργαλεία του Sage για την (μαθηματική) Ανάλυση. Μπορούμε με ακρίβεια να ολοκληρώσουμε, να παραγωγίσουμε, να απλοποιήσουμε μαθηματικές παραστάσεις κοκ.\n",
    "\n",
    "Ας αναφέρουμε ακόμα, έστω και με συντομία, κάποια πράγματα. Όπως ήδη αναφέραμε, η μεταβλητή x, οι γνωστές μας σταθερές pi, e, i, οι γνωστές μας μαθηματικές παραστάσεις sqrt(3), 3*sqrt(3), η συνάρτηση e^x κοκ. καθώς και οποιαδήποτε όνομα που έχει ορισθεί με χρήση των `var`, `SR.symbol` ή και άλλων στοιχείων του Symbolic Ring είναι στοιχεία του συνόλου αυτού (οπότε είναι μαθηματικά σύμβολα και όχι στοιχεία κάποιου γνωστού συνόλου αριθμών π.χ. του συνόλου των πραγματικών αριθμών)!\n",
    "\n",
    "Τα 3, SR(3.) και SR(3) είναι ουσιαστικά ίσα, αν και τα δυο τελευταία ανήκουν σε διαφορετική κλάση από εκείνη του 3 (αφού είναι σύμβολα και όχι αριθμοί)!"
   ]
  },
  {
   "cell_type": "code",
   "execution_count": null,
   "metadata": {
    "collapsed": false,
    "jupyter": {
     "outputs_hidden": false
    }
   },
   "outputs": [],
   "source": [
    "a = 3\n",
    "b = SR(3)\n",
    "c = SR(3.)\n",
    "type(a), parent(a), type(b), parent(b), type(c), parent(c)"
   ]
  },
  {
   "cell_type": "code",
   "execution_count": null,
   "metadata": {
    "collapsed": false,
    "jupyter": {
     "outputs_hidden": false
    }
   },
   "outputs": [],
   "source": [
    "bool(a == b), bool(a == c) , bool(b == c)"
   ]
  },
  {
   "cell_type": "markdown",
   "metadata": {
    "collapsed": false,
    "jupyter": {
     "outputs_hidden": false
    }
   },
   "source": [
    "Η SR μετατρέπει μια μη μαθηματική έκφραση σε μαθηματική. Έτσι το 'ζ^2' είναι μια συμβολοσειρά με τρία σύμβολα, χωρίς κάποιο νόημα. Η SR('ζ^2') την μετατρέπει σε κανονική μαθηματική παράσταση $ζ^2$ (οπότε το SR('ζ^2')^2 θα μας κάνει $ζ^4$)."
   ]
  },
  {
   "cell_type": "code",
   "execution_count": null,
   "metadata": {
    "collapsed": false,
    "jupyter": {
     "outputs_hidden": false
    }
   },
   "outputs": [],
   "source": [
    "s = 'ζ^2'\n",
    "# Μετατροπή σε συμβολική παράσταση\n",
    "expr = SR(s)\n",
    "expr,expr^2 "
   ]
  },
  {
   "cell_type": "markdown",
   "metadata": {
    "collapsed": false,
    "jupyter": {
     "outputs_hidden": false
    }
   },
   "source": [
    "Όμοια το 'όνομα_πελάτη' με το SR.symbol('όνομα_πελάτη') δεν είναι ίσα. Το πρώτο είναι μια συμβολοσειρά (string) το δεύτερο είναι ένα στοιχείο του Symbolic Ring! Τα ονόματα των build-in συναρτήσεων (sqrt, sin, sum κοκ.) και όσων ορίζονται μέσω της εντολής function δεν ανήκουν στο Symbolic Ring. Γενικά ισχύει ο εξής μνημονικός κανόνας: Αν το f είναι το σύμβολο μιας οποιασδήποτε συνάρτησης (π.χ. της sqrt) και το z είναι ένας τυχαίος αριθμός ή ανήκει στο Symbolic Ring, τότε η σύνθεσή τους f(z) είναι στοιχείο του Symbolic Ring!\n",
    "\n",
    "Το SageMath έχει ένα συγκεκριμένο τρόπο που διαχειρίζεται τα στοιχεία του Symbolic Ring. Μπορούμε να τα πολλαπλασιάσουμε, μπορούμε να βρούμε την 5η δύναμή τους κοκ. Για παράδειγμα το SR('όνομα_πελάτη')^5 είναι εφικτό, αλλά το 'όνομα_πελάτη'^5 είναι εντελώς ακατανόητο για το SageMath (διότι το 'όνομα_πελάτη' είναι ένα string, τι νόημα έχει να το υψώσουμε στην 5η δύναμη;)."
   ]
  },
  {
   "cell_type": "markdown",
   "metadata": {
    "collapsed": false,
    "jupyter": {
     "outputs_hidden": false
    }
   },
   "source": [
    "**Παράδειγμα**\n",
    "\n",
    "Στο παρακάτω παράδειγμα βλέπουμε ότι το σύμβολο του πολλαπλασιασμού `*` έχει διαφορετική σημασία όταν χρησιμοποιείται μεταξύ των συμβόλων του Symbolic Ring και διαφορετική σημασία όταν χρησιμοποιείται μεταξύ των strings!"
   ]
  },
  {
   "cell_type": "code",
   "execution_count": null,
   "metadata": {
    "collapsed": false,
    "jupyter": {
     "outputs_hidden": false
    }
   },
   "outputs": [],
   "source": [
    "x=SR('όνομα_πελάτη')\n",
    "y='όνομα_πελάτη'\n",
    "2*x, 2*y"
   ]
  },
  {
   "cell_type": "markdown",
   "metadata": {
    "collapsed": false,
    "jupyter": {
     "outputs_hidden": false
    }
   },
   "source": [
    "Το ίδιο συμβαίνει και με το σύμβολο του μικρότερου `<`. Στο σύνολο SR έχει φυσικά την έννοια του μικρότερου, όπως την καταλαβαίνουμε όλοι μας. Όμως εκτός του SR μπορεί να μην έχει καμία σημασία ή να έχει άλλη σημασία από αυτήν που θα περιμέναμε! Παράδειγμα: Ίσως για τους περισσότερους αναγνώστες δεν έχει κανένα νόημα η ανισότητα 'y'<'yxx' μεταξύ των strings 'y', 'yxx', αλλά το SageMath την θεωρεί σωστή!"
   ]
  },
  {
   "cell_type": "code",
   "execution_count": null,
   "metadata": {
    "collapsed": false,
    "jupyter": {
     "outputs_hidden": false
    }
   },
   "outputs": [],
   "source": [
    "'y'<'yxx'"
   ]
  },
  {
   "cell_type": "markdown",
   "metadata": {
    "collapsed": false,
    "jupyter": {
     "outputs_hidden": false
    }
   },
   "source": [
    "Στο παράδειγμα πoυ ακολουθεί το t είναι προφανώς αληθινό (True) διότι ο ακέραιος 3 είναι μικρότερος του 5. Το `z=SR(3)<5` είναι μια συμβολική παράσταση και ανήκει φυσικά στο Symbolic Ring, όμως δεν μπορεί να προσδιοριστεί άμεσα αν είναι αληθής ή όχι!"
   ]
  },
  {
   "cell_type": "code",
   "execution_count": null,
   "metadata": {
    "collapsed": false,
    "jupyter": {
     "outputs_hidden": false
    }
   },
   "outputs": [],
   "source": [
    "z=SR(3)<5\n",
    "t=3<5\n",
    "z,t"
   ]
  },
  {
   "cell_type": "markdown",
   "metadata": {
    "collapsed": false,
    "jupyter": {
     "outputs_hidden": false
    }
   },
   "source": [
    "Η χρήση της `bool` είναι πολύ χρήσιμη για να ανακαλύψουμε αν μια περίπλοκη μαθηματική παράσταση είναι αληθής ή όχι. Όλα τα παρακάτω παραδείγματα θα μας δώσουν `True`:"
   ]
  },
  {
   "cell_type": "code",
   "execution_count": null,
   "metadata": {
    "collapsed": false,
    "jupyter": {
     "outputs_hidden": false
    }
   },
   "outputs": [],
   "source": [
    "a = var('a')\n",
    "b = var('b')\n",
    "bool(SR(3)<5), bool( cos(a)^2 + sin(a)^2 == 1), \\\n",
    "        bool(sin(a + b) == cos(b)*sin(a) + cos(a)*sin(b))"
   ]
  },
  {
   "cell_type": "markdown",
   "metadata": {
    "collapsed": false,
    "jupyter": {
     "outputs_hidden": false
    }
   },
   "source": [
    "Στο παράδειγμα που ακολουθεί ορίζεται το ’w’ ως μια (νέα) μαθηματική μεταβλητή με το όνομα w. Στην συνέχεια ορίζουμε μια νέα μεταβλητή f ως συνάρτηση της w."
   ]
  },
  {
   "cell_type": "code",
   "execution_count": null,
   "metadata": {
    "collapsed": false,
    "jupyter": {
     "outputs_hidden": false
    }
   },
   "outputs": [],
   "source": [
    "w = SR.var('w')\n",
    "w**2 + 5#show(w**2 + 5)"
   ]
  },
  {
   "cell_type": "code",
   "execution_count": null,
   "metadata": {
    "collapsed": false,
    "jupyter": {
     "outputs_hidden": false
    }
   },
   "outputs": [],
   "source": [
    "f = (w^2 - 1) / (w - 1);f #show(f)"
   ]
  },
  {
   "cell_type": "markdown",
   "metadata": {
    "collapsed": false,
    "jupyter": {
     "outputs_hidden": false
    }
   },
   "source": [
    "Σχόλια:\n",
    "\n",
    "- δεν χρειάστηκε να ορίσουμε την f ως μεταβλητή (με var('f')), διότι, αφού βρίσκεται στα αριστερά του = και στα δεξιά του όλα τα σύμβολα (τα 2, 1, w) είναι γνωστού τύπου, θεωρείται ως ένα αποδεκτό νέο σύμβολο και με γνωστό τον τύπο του (ανήκει προφανώς στο SR, αφού ορίζεται να είναι μια μαθηματική παράσταση του μαθηματικού συμβόλου w).\n",
    "\n",
    "- Αν αντί f=… γράφαμε f(x)=… στον ορισμό της, τότε το SageMath θα θεωρούσε το σύμβολο f ώς σύμβολο μιας συνάρτησης της x. γ) Όπως ήδη αναφέραμε, η x, (καθώς και σε πολλά περιβάλλοντα οι y, z), θεωρείται εξ’ ορισμού συμβολική μεταβλητή χωρίς να απαιτείται να δηλωθεί από εμάς ως μια νέα μεταβλητή δηλ. ως var('x')."
   ]
  },
  {
   "cell_type": "markdown",
   "metadata": {
    "collapsed": false,
    "jupyter": {
     "outputs_hidden": false
    }
   },
   "source": [
    "## Επαναφορά προκαθορισμένων τιμών"
   ]
  },
  {
   "cell_type": "markdown",
   "metadata": {
    "collapsed": false,
    "jupyter": {
     "outputs_hidden": false
    }
   },
   "source": [
    "Στο Sage υπάρχουν κάποιες προκαθορισμένες σταθερές (π.χ. pi, e, i, oo κ.λπ.) οι οποίες μπορούν να επισκιαστούν από δικές μας μεταβλητές."
   ]
  },
  {
   "cell_type": "code",
   "execution_count": null,
   "metadata": {
    "collapsed": false,
    "jupyter": {
     "outputs_hidden": false
    }
   },
   "outputs": [],
   "source": [
    "n(pi)"
   ]
  },
  {
   "cell_type": "code",
   "execution_count": null,
   "metadata": {
    "collapsed": false,
    "jupyter": {
     "outputs_hidden": false
    }
   },
   "outputs": [],
   "source": [
    "pi = 3\n",
    "n(pi)"
   ]
  },
  {
   "cell_type": "markdown",
   "metadata": {
    "collapsed": false,
    "jupyter": {
     "outputs_hidden": false
    }
   },
   "source": [
    "Μπορούμε να επαναφέρουμε μια τιμή επανεισάγοντάς την από την βιβλιοθήκη."
   ]
  },
  {
   "cell_type": "code",
   "execution_count": null,
   "metadata": {
    "collapsed": false,
    "jupyter": {
     "outputs_hidden": false
    }
   },
   "outputs": [],
   "source": [
    "from sage.all import pi\n",
    "n(pi)"
   ]
  },
  {
   "cell_type": "markdown",
   "metadata": {
    "collapsed": false,
    "jupyter": {
     "outputs_hidden": false
    }
   },
   "source": [
    "Η `restore()` Επαναφέρει όλες τις σταθερές/συναρτήσεις του Sage στην αρχική τους μορφή, χωρίς να πειράζει τις δικές μας  μεταβλητές."
   ]
  },
  {
   "cell_type": "code",
   "execution_count": null,
   "metadata": {
    "collapsed": false,
    "jupyter": {
     "outputs_hidden": false
    }
   },
   "outputs": [],
   "source": [
    "pi = 3\n",
    "n(pi)"
   ]
  },
  {
   "cell_type": "code",
   "execution_count": null,
   "metadata": {
    "collapsed": false,
    "jupyter": {
     "outputs_hidden": false
    }
   },
   "outputs": [],
   "source": [
    "restore()\n",
    "n(pi)"
   ]
  },
  {
   "cell_type": "markdown",
   "metadata": {
    "collapsed": false,
    "jupyter": {
     "outputs_hidden": false
    }
   },
   "source": [
    "Η `reset()`, επιπλέον, διαγράφει όλες τις μεταβλητές και συναρτήσεις που έχει δημιουργήσει ο χρήστης."
   ]
  },
  {
   "cell_type": "code",
   "execution_count": null,
   "metadata": {
    "collapsed": false,
    "jupyter": {
     "outputs_hidden": false
    }
   },
   "outputs": [],
   "source": [
    "k=5\n",
    "reset()\n",
    "# k # Η k πλέον, μετά την reset, δεν αναγνωρίζεται."
   ]
  },
  {
   "cell_type": "markdown",
   "metadata": {
    "collapsed": false,
    "jupyter": {
     "outputs_hidden": false
    }
   },
   "source": [
    "## Επαναχρησιμοποίηση αποτελεσμάτων"
   ]
  },
  {
   "cell_type": "markdown",
   "metadata": {
    "collapsed": false,
    "jupyter": {
     "outputs_hidden": false
    }
   },
   "source": [
    "Πέρα από την χρήση μεταβλητών, προηγούμενα αποτελέσματα μπορούν να επαναχρησιμοποιηθούν με τις ενσωματωμένες μεταβλητές `_`, `__`, `___`. Αυτές οι μεταβλητές αναφέρονται στα αποτελέσματα των τελευταίων υπολογισμών. Οι μεταβλητές αυτές είναι βολικές για επαναχρησιμοποίηση αλλά για πολύπλοκα προγράμματα είναι προτιμότερη η αποθήκευση σε απλές μεταβλητές."
   ]
  },
  {
   "cell_type": "code",
   "execution_count": null,
   "metadata": {
    "collapsed": false,
    "jupyter": {
     "outputs_hidden": false
    }
   },
   "outputs": [],
   "source": [
    "sin(pi/6)"
   ]
  },
  {
   "cell_type": "code",
   "execution_count": null,
   "metadata": {
    "collapsed": false,
    "jupyter": {
     "outputs_hidden": false
    }
   },
   "outputs": [],
   "source": [
    "_+1"
   ]
  },
  {
   "cell_type": "code",
   "execution_count": null,
   "metadata": {
    "collapsed": false,
    "jupyter": {
     "outputs_hidden": false
    }
   },
   "outputs": [],
   "source": [
    "(_ + __) *2"
   ]
  },
  {
   "cell_type": "code",
   "execution_count": null,
   "metadata": {
    "collapsed": false,
    "jupyter": {
     "outputs_hidden": false
    }
   },
   "outputs": [],
   "source": [
    "___/_"
   ]
  },
  {
   "cell_type": "markdown",
   "metadata": {
    "collapsed": false,
    "jupyter": {
     "outputs_hidden": false
    }
   },
   "source": [
    "# Είσοδος, Έξοδος"
   ]
  },
  {
   "cell_type": "markdown",
   "metadata": {
    "collapsed": false,
    "jupyter": {
     "outputs_hidden": false
    }
   },
   "source": [
    "## input"
   ]
  },
  {
   "cell_type": "markdown",
   "metadata": {
    "collapsed": false,
    "jupyter": {
     "outputs_hidden": false
    }
   },
   "source": [
    "Η μέθοδος `input` χρησιμοποιείται για την είσοδο δεδομένων από τον χρήστη. Εξ’ ορισμού λαμβάνεται μια συμβολοσειρά, `str` και σε πολλές περιπτώσεις θα πρέπει αυτή να μετατραπεί σε πραγματικό ή ακέραιο."
   ]
  },
  {
   "cell_type": "code",
   "execution_count": null,
   "metadata": {
    "cocalc": {
     "outputs": {
      "0": {
       "name": "input",
       "opts": {
        "password": false,
        "prompt": "Πώς σε λένε;"
       },
       "output_type": "stream",
       "value": "Άλεξ"
      }
     }
    },
    "collapsed": false,
    "jupyter": {
     "outputs_hidden": false
    }
   },
   "outputs": [],
   "source": [
    "name = input('Πώς σε λένε;')\n",
    "'Γειά σου '+name"
   ]
  },
  {
   "cell_type": "code",
   "execution_count": null,
   "metadata": {
    "cocalc": {
     "outputs": {
      "0": {
       "name": "input",
       "opts": {
        "password": false,
        "prompt": "Δώσε έναν αριθμό: "
       },
       "output_type": "stream",
       "value": "2"
      }
     }
    },
    "collapsed": false,
    "jupyter": {
     "outputs_hidden": false
    }
   },
   "outputs": [],
   "source": [
    "x = input(\"Δώσε έναν αριθμό: \")\n",
    "x = float(x)\n",
    "'Η τετραγωνική ρίζα του '+str(x)+' είναι '+str(sqrt(x))"
   ]
  },
  {
   "cell_type": "markdown",
   "metadata": {
    "collapsed": false,
    "jupyter": {
     "outputs_hidden": false
    }
   },
   "source": [
    "Ο χρήστης θα πρέπει να προσέξει να πληκτρολογήσει έναν αριθμό, αλλιώς θα δημιουργηθεί πρόβλημα με την εντολή `float`. Η `float` μετατρέπει μια συμβολοσειρά π.χ. το '32' σε ένα δεκαδικό αριθμό. Υπάρχει περίπτωση, για παράδειγμα, ο χρήστης να δώσει μια συμβολοσειρά (π.χ. το pi). Στην περίπτωση αυτή θα προκύψει `ValueError` και το πρόγραμμα θα τερματίσει αντικανονικά. Θα πρέπει να γίνει χειρισμός αυτών των πιθανών λαθών από τον προγραμματιστή με κατάλληλες εντολές."
   ]
  },
  {
   "cell_type": "markdown",
   "metadata": {
    "collapsed": false,
    "jupyter": {
     "outputs_hidden": false
    }
   },
   "source": [
    "Η μέθοδος `input()` δεν υποστηρίζεται στο περιβάλλον του Sage Cell."
   ]
  },
  {
   "cell_type": "markdown",
   "metadata": {
    "collapsed": false,
    "jupyter": {
     "outputs_hidden": false
    }
   },
   "source": [
    "## print"
   ]
  },
  {
   "cell_type": "markdown",
   "metadata": {
    "collapsed": false,
    "jupyter": {
     "outputs_hidden": false
    }
   },
   "source": [
    "Βασική μέθοδος εξόδου αποτελεί η `print`. Μπορεί να εμφανίζει (εκτυπώνει στην οθόνη μας) διαδοχικές τιμές χωρίζοντάς τες μεταξύ τους με `,`."
   ]
  },
  {
   "cell_type": "code",
   "execution_count": null,
   "metadata": {
    "collapsed": false,
    "jupyter": {
     "outputs_hidden": false
    }
   },
   "outputs": [],
   "source": [
    "x = 3;y = 5\n",
    "res = x + y\n",
    "print (x,'+',y,'=',res)"
   ]
  },
  {
   "cell_type": "markdown",
   "metadata": {
    "collapsed": false,
    "jupyter": {
     "outputs_hidden": false
    }
   },
   "source": [
    "Υπάρχει η δυνατότητα εκτέλεσης πράξεων και απευθείας εμφάνισης τους σε μία `print`."
   ]
  },
  {
   "cell_type": "code",
   "execution_count": null,
   "metadata": {
    "collapsed": false,
    "jupyter": {
     "outputs_hidden": false
    }
   },
   "outputs": [],
   "source": [
    "a=3;b=8\n",
    "print(a,'*',b,'=',a*b)"
   ]
  },
  {
   "cell_type": "markdown",
   "metadata": {
    "collapsed": false,
    "jupyter": {
     "outputs_hidden": false
    }
   },
   "source": [
    "Εξορισμού, η εμφάνιση μιας `print` τελειώνει με αλλαγή γραμμής, κάτι που μπορεί να αλλάξει με την παράμετρο `end`. Στα επόμενα παράδειγμα γίνεται χρήση της επαναληπτικής δομής `for` (σημαίνει: για κάτι μέσα στο σύνολο τάδε εκτέλεσε επαναληπτικά) σε συνδυασμό με την `range` (αυτές θα συζητηθούν σε επόμενη ενότητα)."
   ]
  },
  {
   "cell_type": "code",
   "execution_count": null,
   "metadata": {
    "collapsed": false,
    "jupyter": {
     "outputs_hidden": false
    }
   },
   "outputs": [],
   "source": [
    "for i in range(10): print(i,end=\" \")"
   ]
  },
  {
   "cell_type": "code",
   "execution_count": null,
   "metadata": {
    "collapsed": false,
    "jupyter": {
     "outputs_hidden": false
    }
   },
   "outputs": [],
   "source": [
    "for i in range(5,105,5): print(i,end=\" + \")"
   ]
  },
  {
   "cell_type": "markdown",
   "metadata": {
    "collapsed": false,
    "jupyter": {
     "outputs_hidden": false
    }
   },
   "source": [
    "Η παράμετρος `sep` καθορίζει πώς θα διαχωρίζονται μεταξύ τους τα διαφορετικά αντικείμενα της `print`. Αν δεν τεθεί, τότε απλά χωρίζονται με κενό. (Αν θέλουμε να εκτυπώνονται σε διαφορετική γραμμή μπορούμε να θέσουμε `sep=\"\\n\"`, ενώ για μεγαλύτερο κενό μεταξύ τους μπορούμε να θέσουμε `sep=\"\\t\"`)"
   ]
  },
  {
   "cell_type": "code",
   "execution_count": null,
   "metadata": {
    "collapsed": false,
    "jupyter": {
     "outputs_hidden": false
    }
   },
   "outputs": [],
   "source": [
    "print('Το', 2, 'εις την', 3, 'είναι:', 2 ** 3, sep=\"|\")"
   ]
  },
  {
   "cell_type": "markdown",
   "metadata": {
    "collapsed": false,
    "jupyter": {
     "outputs_hidden": false
    }
   },
   "source": [
    "**Παράδειγμα**\n",
    "\n",
    "Δίνεται το πολυώνυμο $f(x) = x^2 + 2x + 1$. Υπολογίστε την τιμή του για κάποια τιμή που θα ορίσει ο χρήστης.\n",
    "\n",
    "Σχόλιο: Στο παρακάτω παράδειγμα με f_x ορίζουμε μία νέα μεταβλητή που ορίζεται με την βοήθεια της x (και όχι μια συνάρτηση του SageMath)."
   ]
  },
  {
   "cell_type": "code",
   "execution_count": null,
   "metadata": {
    "cocalc": {
     "outputs": {
      "0": {
       "name": "input",
       "opts": {
        "password": false,
        "prompt": "Δώσε μια τιμή για το x: "
       },
       "output_type": "stream",
       "value": "2"
      }
     }
    },
    "collapsed": false,
    "jupyter": {
     "outputs_hidden": false
    }
   },
   "outputs": [
    {
     "name": "stdout",
     "output_type": "stream",
     "text": [
      "f(2.0)=9.0\n"
     ]
    }
   ],
   "source": [
    "# Λήψη τιμής από τον χρήστη\n",
    "x = input(\"Δώσε μια τιμή για το x: \")\n",
    "# Μετατροπή της εισόδου σε πραγματικό αριθμό\n",
    "x = float(x)\n",
    "# Υπολογισμός της συνάρτησης f(x) = x^2 + 2x + 1 στο x\n",
    "f_x = x^2 + 2*x + 1\n",
    "# Εκτύπωση του αποτελέσματος\n",
    "print('f(',x,')=',f_x,sep='')"
   ]
  },
  {
   "cell_type": "markdown",
   "metadata": {
    "collapsed": false,
    "jupyter": {
     "outputs_hidden": false
    }
   },
   "source": [
    "# Σχόλια"
   ]
  },
  {
   "cell_type": "markdown",
   "metadata": {
    "collapsed": false,
    "jupyter": {
     "outputs_hidden": false
    }
   },
   "source": [
    "Στο SageMath, όπως και σε όλες τις γλώσσες προγραμματισμού, τα σχόλια χρησιμοποιούνται για να εξηγήσουν τμήματα του κώδικα ή να αφήσουν σημειώσεις, χωρίς αυτά να επηρεάζουν την εκτέλεση του προγράμματος. Βοηθούν στο να διατηρείται ο κώδικας ευανάγνωστος και κατανοητός και αγνοούνται από τον διερμηνευτή κατά την εκτέλεση του."
   ]
  },
  {
   "cell_type": "markdown",
   "metadata": {
    "collapsed": false,
    "jupyter": {
     "outputs_hidden": false
    }
   },
   "source": [
    "Τα σχόλια μιας γραμμής ξεκινούν με `#`."
   ]
  },
  {
   "cell_type": "code",
   "execution_count": null,
   "metadata": {
    "collapsed": false,
    "jupyter": {
     "outputs_hidden": false
    }
   },
   "outputs": [],
   "source": [
    "# Αυτό είναι ένα σχόλιο\n",
    "show(5 / 3) # και αυτό είναι σχόλιο"
   ]
  },
  {
   "cell_type": "markdown",
   "metadata": {
    "collapsed": false,
    "jupyter": {
     "outputs_hidden": false
    }
   },
   "source": [
    "Μπορούμε να έχουμε και σχόλια πολλών γραμμών που ξεκινούν και τελειώνουν με `'''` ή `\"\"\"`. Αυτά έχουν χρήση σε συναρτήσεις η αντικείμενα που θα συζητηθούν στην ενότητα του προγραμματισμού."
   ]
  },
  {
   "cell_type": "code",
   "execution_count": null,
   "metadata": {
    "collapsed": false,
    "jupyter": {
     "outputs_hidden": false
    }
   },
   "outputs": [],
   "source": [
    "\"\"\"\n",
    "Αυτό είναι ένα σχόλιο πολλών γραμμών.\n",
    "Προηγείται της δήλωσης μίας συνάρτησης.\n",
    "Ο διερμηνευτής δεν θα εμφανίσει τίποτα.\n",
    "\"\"\"\n",
    "def f(x):\n",
    "    return x^2"
   ]
  },
  {
   "cell_type": "markdown",
   "metadata": {
    "collapsed": false,
    "jupyter": {
     "outputs_hidden": false
    }
   },
   "source": [
    "# Βοήθεια"
   ]
  },
  {
   "cell_type": "markdown",
   "metadata": {
    "collapsed": false,
    "jupyter": {
     "outputs_hidden": false
    }
   },
   "source": [
    "Κάθε εντολή ή συνάρτηση στο Sage έχει και την αντίστοιχη τεκμηρίωση που μας δίνεται αν μετά το όνομά της προσθέσουμε ένα ?. Επιπλέον, στο περιβάλλον του jupyter εάν πληκτρολογήσουμε κάποιους χαρακτήρες και στην συνέχεια το tab στο πληκτρολόγιο εμφανίζονται οι συναρτήσεις που ξεκινούν από τους χαρακτήρες αυτούς. Βοήθεια παρέχεται και στο βασικό μενού Help του jupyter."
   ]
  },
  {
   "cell_type": "code",
   "execution_count": null,
   "metadata": {
    "collapsed": false,
    "jupyter": {
     "outputs_hidden": false
    }
   },
   "outputs": [],
   "source": [
    "sin?"
   ]
  },
  {
   "cell_type": "markdown",
   "metadata": {
    "collapsed": false,
    "jupyter": {
     "outputs_hidden": false
    }
   },
   "source": [
    "Στην περίπτωση που δεν είμαστε σίγουροι για το όνομα της εντολής έχουμε την δυνατότητα να κάνουμε χρήση του χαρακτήρα “μπαλαντερ” *. Έτσι για παράδειγμα αν πιστεύουμε ότι ξεκινά από si θα γράψουμε si*? ενώ αν νομίζουμε ότι τελειώνει σε si, *si?.\n",
    "\n",
    "Στη συνέχεια αναζητούμε όλες τις εντολές που περιέχουν το si οπουδήποτε."
   ]
  },
  {
   "cell_type": "code",
   "execution_count": null,
   "metadata": {
    "collapsed": false,
    "jupyter": {
     "outputs_hidden": false
    }
   },
   "outputs": [],
   "source": [
    "*si*?"
   ]
  },
  {
   "cell_type": "markdown",
   "metadata": {
    "collapsed": false,
    "jupyter": {
     "outputs_hidden": false
    }
   },
   "source": [
    "Αν ξέρουμε ακριβώς το όνομα μιας εντολής της SageMath, τότε μπορούμε να πάρουμε πλήρεις πληροφορίες με την help."
   ]
  },
  {
   "cell_type": "code",
   "execution_count": null,
   "metadata": {
    "collapsed": false,
    "jupyter": {
     "outputs_hidden": false
    }
   },
   "outputs": [],
   "source": [
    "help(float)"
   ]
  },
  {
   "cell_type": "code",
   "execution_count": null,
   "metadata": {
    "collapsed": false,
    "jupyter": {
     "outputs_hidden": false
    }
   },
   "outputs": [],
   "source": []
  }
 ],
 "metadata": {
  "kernelspec": {
   "display_name": "SageMath 9.5",
   "language": "sage",
   "name": "sagemath"
  },
  "language_info": {
   "codemirror_mode": {
    "name": "ipython",
    "version": 3
   },
   "file_extension": ".py",
   "mimetype": "text/x-python",
   "name": "python",
   "nbconvert_exporter": "python",
   "pygments_lexer": "ipython3",
   "version": "3.10.12"
  }
 },
 "nbformat": 4,
 "nbformat_minor": 4
}
