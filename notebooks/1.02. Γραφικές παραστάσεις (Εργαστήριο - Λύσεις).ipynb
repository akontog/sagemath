{
 "cells": [
  {
   "cell_type": "markdown",
   "metadata": {},
   "source": [
    "<div style=\"padding: 20px 0; text-align: center; font-weight: bold; font-size: 170%; background-color: #1d4055; color: #ffffff;\"> Εργαστήριο 02. Γραφικές παραστάσεις</div>"
   ]
  },
  {
   "cell_type": "markdown",
   "metadata": {},
   "source": [
    "# Δισδιάστατα γραφικά"
   ]
  },
  {
   "cell_type": "markdown",
   "metadata": {},
   "source": [
    "## Εμφάνιση, διάστημα"
   ]
  },
  {
   "cell_type": "markdown",
   "metadata": {},
   "source": [
    "Σχεδιάστε την γραφική παράσταση των επόμενων συναρτήσεων σε ένα γράφημα.\n",
    "\n",
    "Οι συναρτήσεις είναι:\n",
    "$$\n",
    "        f(x) = x^2, g(x) = x^3, h(x) = 2x^2\n",
    "$$\n",
    "\n",
    "Κάθε γραφική παράσταση θα πρέπει να:\n",
    "\n",
    "- έχει το δικός της στυλ, `linestyle`\n",
    "\n",
    "- το δικό της χρώμα `color`\n",
    "\n",
    "- το δικό της πάχος `thickness`\n",
    "\n",
    "\n",
    "Το γράφημα να σχεδιαστεί με 2 τρόπους. \n",
    "\n",
    "- Προσθέτοντας τα επιμέρους plots\n",
    "\n",
    "- Κάνοντας χρήση λιστών.\n",
    "\n",
    "\n",
    "Σημείωση η παράμετρος `thickness` δεν τίθεται με λίστα, θα πρέπει όλες οι συναρτήσεις να έχουν το ίδιο πάχος."
   ]
  },
  {
   "cell_type": "code",
   "execution_count": null,
   "metadata": {},
   "outputs": [],
   "source": [
    "# Δήλωση Συναρτήσεων\n",
    "f(x) = x^2\n",
    "g(x) = x^3\n",
    "h(x) = 2*x^2\n",
    "show(f)\n",
    "show(g)\n",
    "show(h)"
   ]
  },
  {
   "cell_type": "code",
   "execution_count": null,
   "metadata": {},
   "outputs": [],
   "source": [
    "# 1ος τρόπος, προσθέτοντας τα plots\n",
    "fp = plot(f,(x,-2,2),ymin=-4, ymax=4, linestyle='-.', color='red', thickness='3', alpha=0.5, legend_label='$x^2$')\n",
    "gp = plot(g, linestyle='--', color='green', thickness='2', legend_label='$x^3$')\n",
    "hp = plot(h, linestyle=':', color='blue', legend_label='$2x^2$')\n",
    "fp+gp+hp"
   ]
  },
  {
   "cell_type": "code",
   "execution_count": null,
   "metadata": {},
   "outputs": [],
   "source": [
    "# 2ος τρόπος: με χρήση λιστών\n",
    "plot([f,g,h],(x,-2,2),ymin=-4,ymax=4, color = ['red','green','blue'], linestyle=['-.','--',':'], legend_label=['$x^2$','$x^3$','$2x^2$'])"
   ]
  },
  {
   "cell_type": "markdown",
   "metadata": {},
   "source": [
    "## Συνάρτηση, παράγωγος, σημείο"
   ]
  },
  {
   "cell_type": "markdown",
   "metadata": {},
   "source": [
    "Έστω συνάρτηση\n",
    "\n",
    "$$\n",
    "f(x) = x^3 - 3x^2 + 2x\n",
    "$$\n",
    "\n",
    "Σχεδιάστε:\n",
    "\n",
    "- την καμπύλη της συνάρτησης στο (-1,3)\n",
    "\n",
    "- το σημείο (2,f(2))\n",
    "\n",
    "- κείμενο που να δείχνει το σημείο.\n",
    "\n",
    "- την εφαπτομένη της στο σημείο.\n",
    "\n",
    "Σημειώσεις:\n",
    "\n",
    "- Η εφαπτομένη δίνεται, ως γνωστόν, από τον τύπο: $y - f(x_0)=f'(x_0)(x-x_0)$. Έτσι, για g(x) στο  (2,f(2))  με παράγωγο:$f'(x) = 3x^2-6x+2, f'(2) = 2$ θα είναι: $g(x) = 2x-4$\n",
    "\n",
    "- Θέστε τις γραμμές πλέγματος `gridlines`, `minor` και διαφορετικά χρώματα για καμπύλη και εφαπτομένη.\n",
    "\n",
    "Σημείωση: οι παράγωγοι μπορούν να υπολογιστούν αυτόματα από το Sage."
   ]
  },
  {
   "cell_type": "code",
   "execution_count": null,
   "metadata": {},
   "outputs": [],
   "source": [
    "f(x) = x^3 - 3*x^2 + 2*x\n",
    "fprime = diff(f)\n",
    "fprime,fprime(2)"
   ]
  },
  {
   "cell_type": "code",
   "execution_count": null,
   "metadata": {},
   "outputs": [],
   "source": [
    "f(x) = x^3 - 3*x^2 + 2*x\n",
    "p = (2,f(2))\n",
    "y = f(2)\n",
    "g(x) = 2*x-4\n",
    "pt = text('(2, '+str(y)+')', (2.2,f(2)-0.7), fontsize=12)\n",
    "fp = plot(f,(x,-1,3),gridlines='minor')\n",
    "pp = point(p,size=20, color='green')\n",
    "tp = plot(g,(x,1.5,2.5),color='red')\n",
    "pp + fp + tp + pt"
   ]
  },
  {
   "cell_type": "markdown",
   "metadata": {},
   "source": [
    "## Βαρύκεντρο"
   ]
  },
  {
   "cell_type": "markdown",
   "metadata": {},
   "source": [
    "Έστω το τρίγωνο με κορυφές P=(−2,0), Q=(2,0), R=(0,2). \n",
    "\n",
    "- Σχεδιάστε τα τρία σημεία και τα ευθύγραμμα τμήματα που τα ενώνουν. Προσθέστε και κείμενο για κάθε σημείο.\n",
    "\n",
    "- Υπολογίστε τα μέσα των τριών πλευρών. Δίνεται ο τύπος υπολογισμού μέσου ευθύγραμμου τμήματος από $(x_1,y_1)$ έως $(x_2,y_2)$:\n",
    "\n",
    "$$\n",
    "M = \\left( \\frac{x_1 + x_2}{2}, \\frac{y_1 + y_2}{2} \\right)\n",
    "$$\n",
    "Σημειώνεται, και θα εξηγηθεί σε επόμενη ενότητα αναλυτικότερα ότι για ένα σημείο, έστω P θα πάρουμε τις συντεταγμένες με P[0], P[1]. Άρα για το μέσο του QR:\n",
    "```\n",
    "M_QR = (Q[0]+R[0])/2,(Q[1]+R[1])/2\n",
    "```\n",
    "\n",
    "- Σχεδιάστε τα μέσα ως σημεία αλλά και τις τις διαμέσους, συνδέστε δηλαδή κάθε κορυφή με το μέσο της απέναντι πλευράς).\n",
    "\n",
    "- Βρείτε το το βαρυκέντρο:\n",
    "\n",
    "$$\n",
    "G = \\left( \\frac{x_1 + x_2 + x_3}{3}, \\frac{y_1 + y_2 + y_3}{3} \\right)\n",
    "$$\n",
    "\n",
    "- σχεδιάστε έναν κυκλικό δίσκο με κέντρο το βαρύκεντρο μικρής ακτίνας ώστε να αναδυκνείεται ότι πρόκειται για σημείο τομής των διαμέσων."
   ]
  },
  {
   "cell_type": "code",
   "execution_count": null,
   "metadata": {},
   "outputs": [],
   "source": [
    "P = (-2,0)\n",
    "Q = (2,0)\n",
    "R = (0,2)\n",
    "\n",
    "# Μέσα διαστημάτων\n",
    "M_QR = ((Q[0]+R[0])/2,(Q[1]+R[1])/2)\n",
    "M_PR = ((P[0]+R[0])/2,(P[1]+R[1])/2)\n",
    "M_PQ = ((P[0]+Q[0])/2,(P[1]+Q[1])/2)\n",
    "\n",
    "# γραμμές (διαμέσοι) ως segments για σχεδίαση\n",
    "median1 = line([P, M_QR], thickness=2)\n",
    "median2 = line([Q, M_PR], thickness=2)\n",
    "median3 = line([R, M_PQ], thickness=2)\n",
    "\n",
    "# βαρυκέντρο\n",
    "G = (P[0] + Q[0]+ R[0])/3,(P[1] + Q[1]+ R[1])/3\n",
    "\n",
    "disk_plot = disk(G,0.2,(0,2*pi),color='red')\n",
    "triangle_plot = polygon([P, Q, R], color='yellow', alpha=0.6)\n",
    "g_point = point(tuple(G), size=30, color='black')\n",
    "labels = text('P', P, fontsize=12) + text('Q', Q, fontsize=12) + text('R', R, fontsize=12) \\\n",
    "       + text('G', G, fontsize=12, color='black')\n",
    "\n",
    "(fig := disk_plot + triangle_plot + median1 + median2 + median3 + g_point + labels).show(aspect_ratio=1, axes=False)\n",
    "\n",
    "# έλεγχος\n",
    "G, ((P[0]+Q[0]+R[0])/3, (P[1]+Q[1]+R[1])/3)\n"
   ]
  },
  {
   "cell_type": "markdown",
   "metadata": {},
   "source": [
    "## Σχήματα, σημεία"
   ]
  },
  {
   "cell_type": "markdown",
   "metadata": {},
   "source": [
    "Σχεδιάστε ένα γεωμετρικό σχήμα που να περιέχει:\n",
    "\n",
    "- Έναν κύκλο με ακτίνα 4 και κέντρο την αρχή των αξόνων.\n",
    "\n",
    "- Κείμενο στα σημεία A = (0, 0), B = (4, 0), C = (0, 4), D = (-4, 0).\n",
    "\n",
    "- Ένα ορθογώνιο με κορυφές: (4,0), (4,3), (0,3), (0,0).\n",
    "\n",
    "- Έναν γεμισμένο δίσκο με κέντρο την αρχή των αξόνων και ακτίνα 0.6.\n",
    "\n",
    "- Δύο βέλη που δείχνουν από το κέντρο του κύκλου προς το σημείο (4,0) και προς το (2,3).\n",
    "\n",
    "- Οι άξονες να μην φαίνονται."
   ]
  },
  {
   "cell_type": "code",
   "execution_count": null,
   "metadata": {},
   "outputs": [],
   "source": [
    "A = (0, 0)\n",
    "B = (4, 0)\n",
    "C = (0, 4)\n",
    "D = (-4, 0)\n",
    "\n",
    "circle_plot = circle(A, 4, color='blue', axes=False)\n",
    "\n",
    "disc_plot = disk((0, 0), 0.6,(pi, 3*pi/2), color='orange')\n",
    "\n",
    "rectangle_plot = polygon([(4, 0), (4, 3), (0, 3), (0, 0)], color='lightgreen')\n",
    "\n",
    "arrow_1 = arrow((0, 0), (4, 0), color='red')\n",
    "arrow_2 = arrow((0, 0), (2, 3), color='red')\n",
    "\n",
    "label_A = text('A (0, 0)', A, fontsize=12)\n",
    "label_B = text('B (4, 0)', B, fontsize=12)\n",
    "label_C = text('C (0, 4)', C, fontsize=12)\n",
    "label_D = text('D (-4, 0)', D, fontsize=12)\n",
    "\n",
    "circle_plot + disc_plot + rectangle_plot + arrow_1 + arrow_2 + label_A + label_B + label_C + label_D"
   ]
  },
  {
   "cell_type": "markdown",
   "metadata": {},
   "source": [
    "## Κέντρο βάρους τριγώνου"
   ]
  },
  {
   "cell_type": "markdown",
   "metadata": {},
   "source": [
    "Δίνονται οι κορυφές του τριγώνου: A(0,0), B(1,2), C(3,1).\n",
    "\n",
    "- Σχεδιάστε το τρίγωνο με κορυφές τα σημεία Α, Β, C.\n",
    "\n",
    "- Βρείτε και σχεδιάστε τις τρεις διαμέσους του τριγώνου, χρησιμοποιώντας τον τύπο για το μέσο μεταξύ δύο σημείων A(a,b), B(c,d):\n",
    "$$\n",
    "M(x,y) = \\left( \\frac{a+c}{2}, \\frac{b+d}{2} \\right)\n",
    "$$\n",
    "Χρησιμοποιήστε διαφορετικό χρώμα για κάθε διάμεσο. Μπορείτε να σχεδιάσετε όλα τα σημεία αλλά και κείμενο για κάθε ένα από αυτά.\n",
    "\n",
    "Σημειώνεται ότι αν ένα σημείο, έστω B έχει τεθεί B = (1,2), για πάρουμε το x και το y του θα πρέπει να ορίσουμε B[0] και B[1] αντίστοιχα."
   ]
  },
  {
   "cell_type": "code",
   "execution_count": null,
   "metadata": {},
   "outputs": [],
   "source": [
    "# Κορυφές\n",
    "A = (0, 0)\n",
    "B = (1, 2)\n",
    "C = (3, 1)\n",
    "\n",
    "# Υπολογισμός των μέσων των πλευρών\n",
    "M_AB = ((A[0] + B[0]) / 2, (A[1] + B[1]) / 2)\n",
    "M_BC = ((B[0] + C[0]) / 2, (B[1] + C[1]) / 2)\n",
    "M_CA = ((C[0] + A[0]) / 2, (C[1] + A[1]) / 2)\n",
    "\n",
    "# Σχεδίαση τριγώνου\n",
    "triangle_plot = polygon([A, B, C], color='lightblue', \\\n",
    "                        legend_label='Τρίγωνο')\n",
    "\n",
    "# Σχεδίαση διαμέσων\n",
    "median_A = line([A, M_BC], color='red', \\\n",
    "                legend_label='Διάμεσος A')\n",
    "median_B = line([B, M_CA], color='green', \\\n",
    "                legend_label='Διάμεσος B')\n",
    "median_C = line([C, M_AB], color='blue', \\\n",
    "                legend_label='Διάμεσος C')\n",
    "# Προσθήκη κειμένων για τα σημεία\n",
    "text_A = text('A(0,0)', (A[0] - 0.3, A[1] - 0.3), \\\n",
    "              fontsize=12, color='black')\n",
    "text_B = text('B(1,2)', (B[0] + 0.2, B[1]), \\\n",
    "              fontsize=12, color='black')\n",
    "text_C = text('C(3,1)', (C[0] + 0.2, C[1]), \\\n",
    "              fontsize=12, color='black')\n",
    "\n",
    "text_M_AB = text(f'M_AB{M_AB}', (M_AB[0] + 0.2, M_AB[1] + 0.2), \\\n",
    "                 fontsize=12, color='orange')\n",
    "text_M_BC = text(f'M_BC{M_BC}', (M_BC[0] + 0.2, M_BC[1] + 0.2), \\\n",
    "                 fontsize=12, color='orange')\n",
    "text_M_CA = text(f'M_CA{M_CA}', (M_CA[0] + 0.2, M_CA[1] + 0.2), \\\n",
    "                 fontsize=12, color='orange')\n",
    "\n",
    "trianglepoints = point(A, size=30, color='black') + \\\n",
    "        point(B, size=30, color='black') + \\\n",
    "        point(C, size=30, color='black')\n",
    "midpoints = point(M_AB, size=20, color='orange') + \\\n",
    "        point(M_BC, size=20, color='orange') + \\\n",
    "        point(M_CA, size=20, color='orange')\n",
    "\n",
    "triangle_plot + median_A + median_B + median_C + trianglepoints + midpoints + \\\n",
    "        text_A + text_B + text_C + text_M_AB + text_M_BC + text_M_CA"
   ]
  },
  {
   "cell_type": "markdown",
   "metadata": {},
   "source": [
    "## Απεικόνιση ολοκληρώματος"
   ]
  },
  {
   "cell_type": "markdown",
   "metadata": {},
   "source": [
    "Δημιουργήστε τη γραφική παράσταση $f(x) = \\sqrt{x}$ η οποία θα είναι σκιασμένη στο χωρίο που μας ενδιαφέρει για το επόμενο ολοκλήρωμα. $\\int_0^2 \\sqrt{x} \\, dx$\n",
    "\n",
    "Επιπλέον, το ολοκλήρωμα θα φαίνεται σαν κείμενο στο γράφημα.\n",
    "\n",
    "Σημείωση: Σε latex θα χρειαστούμε:\n",
    "\n",
    "- `\\int`: Το σύμβολο του ολοκληρώματος\n",
    "\n",
    "- `_a^b`: Τα όρια ολοκλήρωσης. Το κατώτερο όριο είναι a και το ανώτερο όριο είναι b\n",
    "\n",
    "- `\\sqrt{x}`: Η ρίζα του x"
   ]
  },
  {
   "cell_type": "code",
   "execution_count": null,
   "metadata": {},
   "outputs": [],
   "source": [
    "text(r'$\\int_0^2 \\sqrt{x} dx$',(0.5, 1.1), fontsize=20) +\\\n",
    "            plot( sqrt(x), (x,0, 2), fill=True)"
   ]
  },
  {
   "cell_type": "markdown",
   "metadata": {},
   "source": [
    "## Γέμισμα "
   ]
  },
  {
   "cell_type": "markdown",
   "metadata": {},
   "source": [
    "Δίνεται η συνάρτηση $f(x) = \\sin(x)$ και η συνάρτηση $g(x) = \\cos(x+\\frac{\\pi}{2})$.\n",
    "\n",
    "1. Σχεδιάστε τις γραφικές παραστάσεις των δύο συναρτήσεων στο διάστημα  [-2π, 2π].\n",
    "\n",
    "2. Γεμίστε την περιοχή μεταξύ των δύο συναρτήσεων στο διάστημα [-π, π] με ένα χρώμα της επιλογής σας.\n",
    "\n",
    "3. Γράψτε κείμενο στα σημεία (-2π,0), (-π,0), (0,0), (π,0), (2π,0),\n",
    "\n",
    "Σημείωση: Στην ενότητα του λογισμού θα δούμε πώς βρίσκουμε τα σημεία τομής συναρτήσεων."
   ]
  },
  {
   "cell_type": "code",
   "execution_count": null,
   "metadata": {},
   "outputs": [],
   "source": [
    "# Ορισμός των νέων συναρτήσεων\n",
    "f(x) = sin(x)\n",
    "g(x) = cos(x+pi/2)\n",
    "# Δημιουργία των γραφικών παραστάσεων\n",
    "plotf = plot(f(x), (x, -2*pi, 2*pi), ymin=-1.5, ymax=1.5, color='blue')\n",
    "plotg = plot(g(x), (x, -2*pi, 2*pi), color='red')\n",
    "# Γέμισμα της περιοχής μεταξύ των συναρτήσεων\n",
    "fillplot = plot(f(x), (x, -pi, pi), ymin=-1.5, ymax=1.5, fill=g(x), fillcolor='yellow', gridlines='minor')\n",
    "label1 = text('(-2π, 0)', (-2*pi, 0), fontsize=12)\n",
    "label2 = text('(-π, 0)', (-pi, 0), fontsize=12)\n",
    "label3 = text('(0, 0)', (0, 0), fontsize=12)\n",
    "label4 = text('(π, 0)', (pi, 0), fontsize=12)\n",
    "label5 = text('(2π, 0)', (2*pi, 0), fontsize=12)\n",
    "# Προβολή των γραφικών παραστάσεων μαζί\n",
    "plotf + plotg + fillplot+ label1 + label2 + label3 + label4 + label5"
   ]
  },
  {
   "cell_type": "markdown",
   "metadata": {},
   "source": [
    "## Πολικές συντεταγμένες"
   ]
  },
  {
   "cell_type": "markdown",
   "metadata": {},
   "source": [
    "α) Στον επόμενο κώδικα θέστε διάφορες τιμές στα e και d έτσι ώστε να πετύχετε να σχεδιάσετε κάθε κωνική τομή. Τι καμπύλες παίρνετε για e<1, e=1 και e>1;"
   ]
  },
  {
   "cell_type": "code",
   "execution_count": null,
   "metadata": {},
   "outputs": [],
   "source": [
    "var(\"theta\")\n",
    "e = 1/3\n",
    "d = 3\n",
    "polar_plot(e*d/(1-e*cos(theta)), (theta, 0, 2*pi))"
   ]
  },
  {
   "cell_type": "markdown",
   "metadata": {},
   "source": [
    "β) Στον επόμενο κώδικα θέστε διάφορες τιμές στα a και k. Επίσης αλλάξτε από `cos` σε `sin` ή θέστε την μεταβλητή διάφορες τιμές όπως π/4 κ.ο.κ. "
   ]
  },
  {
   "cell_type": "code",
   "execution_count": null,
   "metadata": {},
   "outputs": [],
   "source": [
    "var(\"theta\")\n",
    "a = 2\n",
    "k = 4\n",
    "d = 0\n",
    "polar_plot(a*cos(k*theta+d), (theta, 0, 2*pi))"
   ]
  },
  {
   "cell_type": "markdown",
   "metadata": {},
   "source": [
    "## Σπείρες με πολικές συντεταγμενες"
   ]
  },
  {
   "cell_type": "markdown",
   "metadata": {},
   "source": [
    "1. Η **σπείρα του Αρχιμήδη** είναι μια καμπύλη σε πολικές συντεταγμένες που δίνεται από τον τύπο: $r = a + b\\theta$\n",
    "\n",
    "όπου:\n",
    "\n",
    "- $r$ η απόσταση από την αρχή,\n",
    "\n",
    "- $\\theta$ η γωνία σε ακτίνια,\n",
    "\n",
    "- $a, b$ σταθερές που καθορίζουν τη θέση και την απόσταση μεταξύ των σπειρών.\n",
    "\n",
    "Σχεδιάσετε τη σπείρα, έστω για:$a = 0, \\quad b = 0.2, \\quad \\theta \\in [0, 6\\pi]$ και στην συνέχεια αλλάξετε τα $a$ και $b$ ώστε να δείτε πώς επηρεάζεται η \"πυκνότητα\" ή η \"αρχή\" της σπείρας.\n",
    "\n",
    "2. Η **λογαριθμική σπείρα**  αυξάνεται εκθετικά και εμφανίζεται σε πολλά φυσικά μοτίβα (κοχύλια, γαλαξίες, ηλιοτρόπια). Ορίζεται από τον τύπο: $r = e^{a\\theta}$\n",
    "\n",
    "όπου:\n",
    "\n",
    "- $a$ είναι σταθερά που ελέγχει τον ρυθμό αύξησης,\n",
    "\n",
    "- κάθε στροφή πολλαπλασιάζει το $r$ με τον ίδιο παράγοντα.\n",
    "\n",
    "Σχεδιάσετε τη σπείρα, έστω για: $a = 0.15, \\quad \\theta \\in [0, 4\\pi]$ και στην συνέχεια παρατηρήσετε πώς αλλάζει η καμπύλη αν αυξήσετε ή μειώσετε την τιμή του $a$.\n"
   ]
  },
  {
   "cell_type": "code",
   "execution_count": null,
   "metadata": {},
   "outputs": [],
   "source": [
    "var('r θ')\n",
    "a = 0.3\n",
    "b = 0.2\n",
    "polar_plot(a + b*θ, (θ, 0, 6*pi), color='blue',\\\n",
    "           title='Σπείρα του Αρχιμήδη')"
   ]
  },
  {
   "cell_type": "code",
   "execution_count": null,
   "metadata": {},
   "outputs": [],
   "source": [
    "a=0.15\n",
    "polar_plot(exp(a*θ), (θ, 0, 4*pi), color='orange', \\\n",
    "           title='Λογαριθμική Σπείρα')"
   ]
  },
  {
   "cell_type": "markdown",
   "metadata": {},
   "source": [
    "## Πεπλεγμένες συναρτήσεις"
   ]
  },
  {
   "cell_type": "markdown",
   "metadata": {},
   "source": [
    "α) Με τη βοήθεια της `implicit_plot` σχεδιάστε μία έλλειψη της οποίας το μήκος είναι διπλάσιο του ύψους. Με την βοήθεια της παραμέτρου `aspect_ratio` κάντε την έλλειψη να φαίνεται σαν κύκλος.\n",
    "Υπενθύμιση:\n",
    "\n",
    "Εξίσωση έλλειψης:\n",
    "$$\n",
    "\\frac{x^2}{\\alpha ^{2}}+{\\frac {y^{2}}{\\beta ^{2}}}=1\n",
    "$$"
   ]
  },
  {
   "cell_type": "code",
   "execution_count": null,
   "metadata": {},
   "outputs": [],
   "source": [
    "var('x y')\n",
    "a = 4\n",
    "b = 2\n",
    "implicit_plot(x^2/a^2 + y^2/b^2 == 1, \\\n",
    "          (x, -5, 5), (y, -5, 5), aspect_ratio=2, \\\n",
    "          title='Έλλειψη', color='blue')"
   ]
  },
  {
   "cell_type": "markdown",
   "metadata": {},
   "source": [
    "β) Σχεδιάστε την ίδια έλλειψη με την `polar_plot`. Εξίσωση έλλειψης σε πολικές συντεταγμένες:\n",
    "$$\n",
    "\\frac{a b}{\\sqrt{(b \\cos(\\theta))^2 + (a \\sin(\\theta))^2}}\n",
    "$$"
   ]
  },
  {
   "cell_type": "code",
   "execution_count": null,
   "metadata": {},
   "outputs": [],
   "source": [
    "var('theta')\n",
    "polar_plot((a * b) / sqrt((b * cos(theta))^2 + (a * sin(theta))^2), \\\n",
    "           (theta, 0, 2 * pi), color='blue', title='Έλλειψη', aspect_ratio=1)"
   ]
  },
  {
   "cell_type": "markdown",
   "metadata": {},
   "source": [
    "γ) Στον επόμενο κώδικα χρησιμοποιείται η συνάρτηση `parametric_plot` που χρησιμοποιείται όταν η καμπύλη έχει παρασταθεί παραμετρικά. Έτσι για παράδειγμα ο τύπος ενός κύκλου θα είναι:\n",
    "$$ \n",
    "x(t) = cos(t), y(t) = sin(t) \n",
    "$$\n",
    "Αν θέσουμε διαφορετικές παραμέτρους a και b δημιουργούμε ελλειψοειδή:\n",
    "$$ \n",
    "x(t) = α\\cos{(t)}, y(t) = b\\sin{(t)}\n",
    "$$\n",
    "Πειραματιστείτε με τις τιμές a και b στο επόμενο παράδειγμα."
   ]
  },
  {
   "cell_type": "code",
   "execution_count": null,
   "metadata": {},
   "outputs": [],
   "source": [
    "var('t')\n",
    "a=1\n",
    "b=1\n",
    "parametric_plot((a*cos(t), b*sin(t)), (t, 0, 2*pi))"
   ]
  },
  {
   "cell_type": "markdown",
   "metadata": {},
   "source": [
    "δ) Η **rose curve** που σχεδιάστηκε στο μάθημα με polar_plot μπορεί να σχεδιαστεί και με `parametric_plot` βασισμένοι στους τύπους:\n",
    "$$\n",
    "x(t) = \\cos(kt)\\cos(t), \\quad y(t) = \\cos(kt)\\sin(t)\n",
    "$$\n",
    "Πειραματιστείτε με την τιμή k."
   ]
  },
  {
   "cell_type": "code",
   "execution_count": null,
   "metadata": {},
   "outputs": [],
   "source": [
    "k = 4\n",
    "parametric_plot((cos(k*t)*cos(t), cos(k*t)*sin(t)), \\\n",
    "                (t, 0, 2*pi), color='purple', title='Rose Curve')"
   ]
  },
  {
   "cell_type": "markdown",
   "metadata": {},
   "source": [
    "# Τρισδιάστατα γραφικά"
   ]
  },
  {
   "cell_type": "markdown",
   "metadata": {},
   "source": [
    "## Γραφική παράσταση"
   ]
  },
  {
   "cell_type": "markdown",
   "metadata": {},
   "source": [
    "Δίνεται η συνάρτηση:$f(x, y) = \\sqrt{x^2 + y^2}$. Σχεδιάστε την 3D γραφική παράσταση της συνάρτησης f(x,y) στο διάστημα $x, y \\in [-2, 2]$."
   ]
  },
  {
   "cell_type": "code",
   "execution_count": null,
   "metadata": {},
   "outputs": [],
   "source": [
    "var('x y')\n",
    "f(x, y) = sqrt(x^2 + y^2)\n",
    "cone_plot = plot3d(f, (x, -2, 2), (y, -2, 2), color='lightblue', mesh=True)\n",
    "show(cone_plot, axes=True)"
   ]
  },
  {
   "cell_type": "markdown",
   "metadata": {},
   "source": [
    "# Τρισδιάστατα γραφικά στο επίπεδο"
   ]
  },
  {
   "cell_type": "markdown",
   "metadata": {},
   "source": [
    "## Density, contour"
   ]
  },
  {
   "cell_type": "markdown",
   "metadata": {},
   "source": [
    "Συνδυάστε κατάλληλα τις `density_plot` και `contour_plot` για να αποδώσετε τις παραβολικές καμπύλες που προκύπτουν από την συνάρτηση $f(x, y) = x^2 - y^2$."
   ]
  },
  {
   "cell_type": "code",
   "execution_count": null,
   "metadata": {},
   "outputs": [],
   "source": [
    "var('x y')\n",
    "f(x, y) = x^2 - y^2\n",
    "density = density_plot(f(x, y), (x, -3, 3), (y, -3, 3), cmap='jet')\n",
    "contour = contour_plot(f(x, y), (x, -3, 3), (y, -3, 3), contours=20, fill=False)\n",
    "contour + density "
   ]
  },
  {
   "cell_type": "markdown",
   "metadata": {},
   "source": [
    "## Κυκλικοί παλμοί"
   ]
  },
  {
   "cell_type": "markdown",
   "metadata": {},
   "source": [
    "1. Συνδυάστε κατάλληλα τις `density_plot` και `contour_plot` για να αποδώσετε τους \"κυκλικούς παλμούς\" που προκύπτουν από την συνάρτηση $f(x, y) = sin(x^2 + y^2)$\n",
    "\n",
    "2. Χρησιμοποιήστε συνδυασμό των συναρτήσεων `density_plot` και `contour_plot` ώστε να φαίνεται καθαρά η εναλλαγή των περιοχών θετικών και αρνητικών τιμών της συνάρτησης $f(x, y) = e^{-(x^2 + y^2)} \\cdot \\sin(5(x^2 + y^2))$ με πεδίο ορισμού $x, y \\in [-3, 3]$. Σημειώνεται οτι η συνάρτηση παρουσιάζει ταλαντώσεις φθίνουσας έντασης όσο απομακρυνόμαστε από το κέντρο, δημιουργώντας ένα μοτίβο “κυκλικών κυμάτων” που θυμίζει κυματισμούς σε λίμνη μετά από ρίψη πέτρας"
   ]
  },
  {
   "cell_type": "code",
   "execution_count": null,
   "metadata": {},
   "outputs": [],
   "source": [
    "# 1.\n",
    "var('x y')\n",
    "f(x, y) = sin(x^2 + y^2)\n",
    "density = density_plot(f(x, y), (x, -3, 3), (y, -3, 3), cmap='plasma')\n",
    "contour = contour_plot(f(x, y), (x, -3, 3), (y, -3, 3), contours=15, fill = False)\n",
    "density + contour"
   ]
  },
  {
   "cell_type": "code",
   "execution_count": null,
   "metadata": {},
   "outputs": [],
   "source": [
    "var('x y')\n",
    "f(x, y) = exp(-(x^2 + y^2)) * sin(5*(x^2 + y^2))\n",
    "density = density_plot(f(x, y), (x, -3, 3), (y, -3, 3), \\\n",
    "               cmap='plasma')\n",
    "contour = contour_plot(f(x, y), (x, -3, 3), (y, -3, 3),\n",
    "               contours=20, fill=False,linewidths=1)\n",
    "density + contour"
   ]
  },
  {
   "cell_type": "code",
   "execution_count": null,
   "metadata": {},
   "outputs": [],
   "source": []
  }
 ],
 "metadata": {
  "kernelspec": {
   "display_name": "SageMath 9.5",
   "language": "sage",
   "name": "sagemath"
  },
  "language_info": {
   "codemirror_mode": {
    "name": "ipython",
    "version": 3
   },
   "file_extension": ".py",
   "mimetype": "text/x-python",
   "name": "python",
   "nbconvert_exporter": "python",
   "pygments_lexer": "ipython3",
   "version": "3.10.12"
  }
 },
 "nbformat": 4,
 "nbformat_minor": 4
}
