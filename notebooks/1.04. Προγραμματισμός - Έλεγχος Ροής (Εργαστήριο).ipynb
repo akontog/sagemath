{
 "cells": [
  {
   "cell_type": "markdown",
   "metadata": {
    "collapsed": false,
    "jupyter": {
     "outputs_hidden": false
    }
   },
   "source": [
    "<div style=\"padding: 20px 0; text-align: center; font-weight: bold; font-size: 170%; background-color: #1d4055; color: #ffffff;\"> Εργαστήριο 04. Προγραμματισμός - Έλεγχος Ροής</div>"
   ]
  },
  {
   "cell_type": "markdown",
   "metadata": {
    "collapsed": false,
    "jupyter": {
     "outputs_hidden": false
    }
   },
   "source": [
    "# Preparser"
   ]
  },
  {
   "cell_type": "markdown",
   "metadata": {
    "collapsed": false,
    "jupyter": {
     "outputs_hidden": false
    }
   },
   "source": [
    "## Ενεργοποίηση Απενεργοποίηση"
   ]
  },
  {
   "cell_type": "markdown",
   "metadata": {
    "collapsed": false,
    "jupyter": {
     "outputs_hidden": false
    }
   },
   "source": [
    "1. Απενεργοποιήστε τον `preparser`και υπολογίστε την τιμή και τον τύπο των:\n",
    "    - 2/10\n",
    "\n",
    "    - 2^10\n",
    "\n",
    "2. Ενεργοποιήστε ξανά τον `preparser` υπολογίστε την τιμή και εμφανίστε τον τύπο των παραπάνω.\n",
    "\n",
    "3. Δείξτε με την βοήθεια της `preparse` με ποιόν τρόπο ο preparser του Sage μεταφράζει τις παραπάνω εκφράσεις."
   ]
  },
  {
   "cell_type": "code",
   "execution_count": null,
   "metadata": {
    "collapsed": false,
    "jupyter": {
     "outputs_hidden": false
    }
   },
   "outputs": [],
   "source": [
    "\n"
   ]
  },
  {
   "cell_type": "markdown",
   "metadata": {
    "collapsed": false,
    "jupyter": {
     "outputs_hidden": false
    }
   },
   "source": [
    "# Τελεστές"
   ]
  },
  {
   "cell_type": "markdown",
   "metadata": {
    "collapsed": false,
    "jupyter": {
     "outputs_hidden": false
    }
   },
   "source": [
    "## Συγκριτικοί-λογικοί τελεστές"
   ]
  },
  {
   "cell_type": "markdown",
   "metadata": {
    "collapsed": false,
    "jupyter": {
     "outputs_hidden": false
    }
   },
   "source": [
    "Να εκφραστούν οι επόμενες λογικές προτάσεις με την βοήθεια συγκριτικών και λογικών τελεστών.\n",
    "\n",
    "1. Ο αριθμός a είναι πολλαπλάσιος του 6 και θετικός.\n",
    "\n",
    "2. Ο αριθμός a είναι πολλαπλάσιος του 4 και πολλαπλάσιος του b.\n",
    "\n",
    "3. Ο αριθμός a **δεν** βρίσκεται στο διάστημα [5,10].\n",
    "\n",
    "4. Ο αριθμός a είναι τριψήφιος και περιττός.\n",
    "\n",
    "Θα τεθούν κάποιες αρχικές τιμές στις a και b."
   ]
  },
  {
   "cell_type": "code",
   "execution_count": null,
   "metadata": {
    "collapsed": false,
    "jupyter": {
     "outputs_hidden": false
    }
   },
   "outputs": [],
   "source": [
    "a,b = 9, 2"
   ]
  },
  {
   "cell_type": "code",
   "execution_count": null,
   "metadata": {
    "collapsed": false,
    "jupyter": {
     "outputs_hidden": false
    }
   },
   "outputs": [],
   "source": [
    "# 1\n"
   ]
  },
  {
   "cell_type": "code",
   "execution_count": null,
   "metadata": {
    "collapsed": false,
    "jupyter": {
     "outputs_hidden": false
    }
   },
   "outputs": [],
   "source": [
    "# 2\n"
   ]
  },
  {
   "cell_type": "code",
   "execution_count": null,
   "metadata": {
    "collapsed": false,
    "jupyter": {
     "outputs_hidden": false
    }
   },
   "outputs": [],
   "source": [
    "# 3\n"
   ]
  },
  {
   "cell_type": "code",
   "execution_count": null,
   "metadata": {
    "collapsed": false,
    "jupyter": {
     "outputs_hidden": false
    }
   },
   "outputs": [],
   "source": [
    "# 4\n"
   ]
  },
  {
   "cell_type": "markdown",
   "metadata": {
    "collapsed": false,
    "jupyter": {
     "outputs_hidden": false
    }
   },
   "source": [
    "# Δομές επανάληψης"
   ]
  },
  {
   "cell_type": "markdown",
   "metadata": {
    "collapsed": false,
    "jupyter": {
     "outputs_hidden": false
    }
   },
   "source": [
    "## Γραφική παράσταση, σημεία"
   ]
  },
  {
   "cell_type": "markdown",
   "metadata": {
    "collapsed": false,
    "jupyter": {
     "outputs_hidden": false
    }
   },
   "source": [
    "Δημιουργήστε γραφικές παραστάσεις των επόμενων συναρτήσεων σε ξεχωριστά γραφήματα στα διαστήματα που δίνονται. Οι παραστάσεις θα περιλαμβάνουν και σημεία σύμφωνα και με την επόμενη λίστα:\n",
    "\n",
    "1. $f(x)=x^2$ για x στο $[-5,5]$ ανά 0,1.\n",
    "\n",
    "2. $f(x)=x^3-x^2-3$ για x στο $[-3,4]$ ανά 0,2.\n",
    "\n",
    "3. $f(x)=\\sin(x) \\cdot x$ για x στο $[-3,3]$ ανά 0,05."
   ]
  },
  {
   "cell_type": "code",
   "execution_count": null,
   "metadata": {
    "collapsed": false,
    "jupyter": {
     "outputs_hidden": false
    }
   },
   "outputs": [],
   "source": [
    "# 1.\n"
   ]
  },
  {
   "cell_type": "code",
   "execution_count": null,
   "metadata": {
    "collapsed": false,
    "jupyter": {
     "outputs_hidden": false
    }
   },
   "outputs": [],
   "source": [
    "# 2.\n"
   ]
  },
  {
   "cell_type": "code",
   "execution_count": null,
   "metadata": {
    "collapsed": false,
    "jupyter": {
     "outputs_hidden": false
    }
   },
   "outputs": [],
   "source": [
    "# 3.\n"
   ]
  },
  {
   "cell_type": "markdown",
   "metadata": {
    "collapsed": false,
    "jupyter": {
     "outputs_hidden": false
    }
   },
   "source": [
    "## Αρμονικές"
   ]
  },
  {
   "cell_type": "markdown",
   "metadata": {
    "collapsed": false,
    "jupyter": {
     "outputs_hidden": false
    }
   },
   "source": [
    "Δημιουργήστε και σχεδιάστε πέντε αρμονικές συναρτήσεις, δηλαδή συναρτήσεις της μορφής $f_m(x) = \\sin{(mx)}$ όπου m =1,2, … ,\n",
    "\n",
    "- Σχεδιάστε τις αρμονικές συναρτήσεις για $x ∈ [0,2𝜋]$.\n",
    "\n",
    "- Χρησιμοποιήστε διαφορετικά χρώματα και προσθέστε υπόμνημα για να προσδιορίσετε κάθε αρμονική."
   ]
  },
  {
   "cell_type": "code",
   "execution_count": null,
   "metadata": {
    "collapsed": false,
    "jupyter": {
     "outputs_hidden": false
    }
   },
   "outputs": [],
   "source": []
  },
  {
   "cell_type": "markdown",
   "metadata": {
    "collapsed": false,
    "jupyter": {
     "outputs_hidden": false
    }
   },
   "source": [
    "## Βέλη"
   ]
  },
  {
   "cell_type": "markdown",
   "metadata": {
    "collapsed": false,
    "jupyter": {
     "outputs_hidden": false
    }
   },
   "source": [
    "Δημιουργήστε πρόγραμμα που σχεδιάζει ένα σύνολο από βέλη ίδιου μήκους, τα οποία ξεκινούν από την αρχή των αξόνων και καταλήγουν να σχηματίζουν έναν κύκλο. Για δεδομένο αριθμό βελών num και μήκος length, το τέλος κάθε βέλους θα βρίσκεται πάνω σε έναν νοητό κύκλο ακτίνας length, ομοιόμορφα κατανεμημένο γύρω από το κέντρο."
   ]
  },
  {
   "cell_type": "code",
   "execution_count": null,
   "metadata": {
    "collapsed": false,
    "jupyter": {
     "outputs_hidden": false
    }
   },
   "outputs": [],
   "source": []
  },
  {
   "cell_type": "markdown",
   "metadata": {
    "collapsed": false,
    "jupyter": {
     "outputs_hidden": false
    }
   },
   "source": [
    "## Όρια"
   ]
  },
  {
   "cell_type": "markdown",
   "metadata": {
    "collapsed": false,
    "jupyter": {
     "outputs_hidden": false
    }
   },
   "source": [
    "Έστω τα όρια:\n",
    "\n",
    "α). $$\n",
    "\\lim_{x \\to 3} e^{\\frac{1}{3 - x}}\n",
    "$$\n",
    "\n",
    "β).\n",
    "$$\n",
    "\\lim_{x \\to 0} \\sin\\left(\\frac{1}{x}\\right)\n",
    "$$\n",
    "\n",
    "1. Ορίστε τις συναρτήσεις.\n",
    "\n",
    "2. Σχεδιάστε τις γραφικές παραστάσεις των αντίστοιχων συναρτήσεων κοντά στις τιμές των παραπάνω ορίων.\n",
    "\n",
    "3. Βρείτε με τη βοήθεια της `limit` το όριο.\n",
    "\n",
    "4. Με τη βοήθεια επανάληψης προσεγγίστε με επαναλήψεις την τιμή της συνάρτησης όσο πλησιάζουμε στις τιμές από αριστερά και από δεξιά."
   ]
  },
  {
   "cell_type": "code",
   "execution_count": null,
   "metadata": {
    "collapsed": false,
    "jupyter": {
     "outputs_hidden": false
    }
   },
   "outputs": [],
   "source": []
  },
  {
   "cell_type": "markdown",
   "metadata": {
    "collapsed": false,
    "jupyter": {
     "outputs_hidden": false
    }
   },
   "source": [
    "## Όριο Κλαδικής"
   ]
  },
  {
   "cell_type": "markdown",
   "metadata": {
    "collapsed": false,
    "jupyter": {
     "outputs_hidden": false
    }
   },
   "source": [
    "Έστω η συνάρτηση:\n",
    "$$\n",
    "f(x) = \n",
    "\\begin{cases} \n",
    "x^2 + 1 & \\text{αν } x \\leq 2 \\\\\n",
    "-x + 1 & \\text{αν } x > 2\n",
    "\\end{cases}\n",
    "$$\n",
    "1. Αφού ορίσετε σωστά την κλαδική συνάρτηση, σχεδιάστε την γραφική της παράσταση.\n",
    "\n",
    "2. Στην συνέχεια προσεγγίστε με διαδοχικές επαναλήψεις από αριστερά και δεξιά το 2.\n",
    "\n",
    "3. Χρησιμοποιήστε την `limit` για να βρείτε τα όρια από αριστερά και δεξιά και επαληθεύστε τα αποτελέσματά σας.\n",
    "\n",
    "Προσοχή: Θέστε τις συναρτήσεις του κάθε κλάδου στην `limit`."
   ]
  },
  {
   "cell_type": "code",
   "execution_count": null,
   "metadata": {
    "collapsed": false,
    "jupyter": {
     "outputs_hidden": false
    }
   },
   "outputs": [],
   "source": [
    "# 1.\n"
   ]
  },
  {
   "cell_type": "code",
   "execution_count": null,
   "metadata": {
    "collapsed": false,
    "jupyter": {
     "outputs_hidden": false
    }
   },
   "outputs": [],
   "source": [
    "# 2\n"
   ]
  },
  {
   "cell_type": "code",
   "execution_count": null,
   "metadata": {
    "collapsed": false,
    "jupyter": {
     "outputs_hidden": false
    }
   },
   "outputs": [],
   "source": [
    "# 3\n"
   ]
  },
  {
   "cell_type": "markdown",
   "metadata": {
    "collapsed": false,
    "jupyter": {
     "outputs_hidden": false
    }
   },
   "source": [
    "## Άθροισμα"
   ]
  },
  {
   "cell_type": "markdown",
   "metadata": {
    "collapsed": false,
    "jupyter": {
     "outputs_hidden": false
    }
   },
   "source": [
    "Υπολογίστε με την βοήθεια επανάληψης το επόμενο άθροισμα.\n",
    "$$\n",
    "\\sum_{i=1}^m i^2\n",
    "$$\n",
    "Επαληθεύστε το αποτέλεσμα χρησιμοποιώντας τον τύπο:\n",
    "$$\n",
    "\\sum_{i=1}^m i^2 = \\frac{m(m+1)(2m+1)}{6}\n",
    "$$"
   ]
  },
  {
   "cell_type": "code",
   "execution_count": null,
   "metadata": {
    "collapsed": false,
    "jupyter": {
     "outputs_hidden": false
    }
   },
   "outputs": [],
   "source": []
  },
  {
   "cell_type": "markdown",
   "metadata": {
    "collapsed": false,
    "jupyter": {
     "outputs_hidden": false
    }
   },
   "source": [
    "## Σειρά Taylor για υπολογισμό συνημιτόνου"
   ]
  },
  {
   "cell_type": "markdown",
   "metadata": {
    "collapsed": false,
    "jupyter": {
     "outputs_hidden": false
    }
   },
   "source": [
    "Μπορούμε να προσεγγίσουμε το συνημίτονο χρησιμοποιώντας την επόμενη σειρά:\n",
    "$$\n",
    "\\cos(x) = 1 - \\frac{x^2}{2!} + \\frac{x^4}{4!} - \\frac{x^6}{6!} + \\cdots\n",
    "$$\n",
    "ή εναλλακτικά\n",
    "$$\n",
    "\\sum_{i=0}^{\\infty} \\frac{(-1)^i x^{2i}}{(2i)!}\n",
    "$$\n",
    "\n",
    "Υλοποιήστε κώδικα ο οποίος θα υπολογίζει το παραπάνω άθροισμα με αποδοτικό τρόπο. Δοκιμάστε το άθροισμα σας για $x=\\frac{π}{4}$"
   ]
  },
  {
   "cell_type": "code",
   "execution_count": null,
   "metadata": {
    "collapsed": false,
    "jupyter": {
     "outputs_hidden": false
    }
   },
   "outputs": [],
   "source": []
  },
  {
   "cell_type": "markdown",
   "metadata": {
    "collapsed": false,
    "jupyter": {
     "outputs_hidden": false
    }
   },
   "source": [
    "## Μέθοδος Leibnitz για προσέγγιση π"
   ]
  },
  {
   "cell_type": "markdown",
   "metadata": {
    "collapsed": false,
    "jupyter": {
     "outputs_hidden": false
    }
   },
   "source": [
    "Μια μέθοδος προσέγγισης του π μέσω αθροίσματος είναι η μέθοδος Leibnitz που έχει ως εξής:\n",
    "$$\n",
    "\\pi = 4 \\left( 1 - \\frac{1}{3} + \\frac{1}{5} - \\frac{1}{7} + \\frac{1}{9} - \\frac{1}{11} + \\ldots \\right)\n",
    "$$\n",
    "ή διαφορετικά:\n",
    "$$\n",
    "\\pi = 4 \\sum_{i=0}^{\\infty} \\frac{(-1)^i}{2i + 1}\n",
    "$$\n",
    "\n",
    "1. Υπολογίστε το άθροισμα επαναληπτικά για διάφορα Μ (αριθμό όρων αθροίσματος), με μέγιστο όρο, έστω 50, παρατηρώντας πώς αυτό προσεγγίζει το π. Σχεδιάστε σημεία για την προσέγγιση για κάθε M. Σχεδιάστε και το π ως μια ευθεία.\n",
    "\n",
    "2. Υπολογίστε το άθροισμα μέχρι οι όροι του αθροίσματος να γίνουν πολύ μικροί."
   ]
  },
  {
   "cell_type": "code",
   "execution_count": null,
   "metadata": {
    "collapsed": false,
    "jupyter": {
     "outputs_hidden": false
    }
   },
   "outputs": [],
   "source": [
    "# 1.\n"
   ]
  },
  {
   "cell_type": "code",
   "execution_count": null,
   "metadata": {
    "collapsed": false,
    "jupyter": {
     "outputs_hidden": false
    }
   },
   "outputs": [],
   "source": [
    "# 2.\n"
   ]
  },
  {
   "cell_type": "markdown",
   "metadata": {
    "collapsed": false,
    "jupyter": {
     "outputs_hidden": false
    }
   },
   "source": [
    "# Δομή επιλογής"
   ]
  },
  {
   "cell_type": "markdown",
   "metadata": {
    "collapsed": false,
    "jupyter": {
     "outputs_hidden": false
    }
   },
   "source": [
    "##  Διώνυμο "
   ]
  },
  {
   "cell_type": "markdown",
   "metadata": {
    "collapsed": false,
    "jupyter": {
     "outputs_hidden": false
    }
   },
   "source": [
    "Με τη βοήθεια δομής επιλογής και για διάφορα a και b βρείτε την λύση της εξίσωσης $αx+β=0$ ή εμφανίστε κατάλληλο μήνυμα. Θα πρέπει να λύσετε το παραπάνω πρόβλημα με τρεις τρόπους:\n",
    "\n",
    "- με χρήση εμφωλευμένης δομής επιλογής.\n",
    "\n",
    "- χωρίς εμφώλευση αλλά με κατάλληλη χρήση `elif`.\n",
    "\n",
    "- με διαδοχικές `if` και κατάλληλη χρήση λογικών τελεστών."
   ]
  },
  {
   "cell_type": "code",
   "execution_count": null,
   "metadata": {
    "collapsed": false,
    "jupyter": {
     "outputs_hidden": false
    }
   },
   "outputs": [],
   "source": [
    "# Τιμές a,b\n",
    "a,b=3,-4"
   ]
  },
  {
   "cell_type": "code",
   "execution_count": null,
   "metadata": {
    "collapsed": false,
    "jupyter": {
     "outputs_hidden": false
    }
   },
   "outputs": [],
   "source": [
    "# a. εμφωλευμένη δομή\n"
   ]
  },
  {
   "cell_type": "code",
   "execution_count": null,
   "metadata": {
    "collapsed": false,
    "jupyter": {
     "outputs_hidden": false
    }
   },
   "outputs": [],
   "source": [
    "# β. χρήση elif\n",
    "if a != 0:\n",
    "    x = -b / a\n",
    "    print('Η λύση της εξίσωσης είναι x =',x)\n",
    "elif b == 0:\n",
    "    print(\"Η εξίσωση έχει άπειρες λύσεις.\")\n",
    "else:\n",
    "    print(\"Η εξίσωση δεν έχει λύση.\")"
   ]
  },
  {
   "cell_type": "code",
   "execution_count": null,
   "metadata": {
    "collapsed": false,
    "jupyter": {
     "outputs_hidden": false
    }
   },
   "outputs": [],
   "source": [
    "# γ. χρήση if και λογικών τελεστών\n"
   ]
  },
  {
   "cell_type": "markdown",
   "metadata": {
    "collapsed": false,
    "jupyter": {
     "outputs_hidden": false
    }
   },
   "source": [
    "## Δίσεκτα έτη"
   ]
  },
  {
   "cell_type": "markdown",
   "metadata": {
    "collapsed": false,
    "jupyter": {
     "outputs_hidden": false
    }
   },
   "source": [
    "Ένα έτος είναι δίσεκτο αν πληροί τις παρακάτω προϋποθέσεις:\n",
    "\n",
    "- είναι διαιρέσιμο με το 400 ή\n",
    "\n",
    "- είναι διαιρέσιμο με το 4 αλλά όχι με το 100\n",
    "\n",
    "Με κατάλληλη δομή `if` βρείτε αν ένα έτος, year, είναι δίσεκτο ή όχι και εμφανίστε κατάλληλο μήνυμα."
   ]
  },
  {
   "cell_type": "code",
   "execution_count": null,
   "metadata": {
    "collapsed": false,
    "jupyter": {
     "outputs_hidden": false
    }
   },
   "outputs": [],
   "source": [
    "year = 2025\n"
   ]
  },
  {
   "cell_type": "markdown",
   "metadata": {},
   "source": [
    "# Εμφώλευση"
   ]
  },
  {
   "cell_type": "markdown",
   "metadata": {
    "collapsed": false,
    "jupyter": {
     "outputs_hidden": false
    }
   },
   "source": [
    "## Τέλειοι αριθμοί"
   ]
  },
  {
   "cell_type": "markdown",
   "metadata": {
    "collapsed": false,
    "jupyter": {
     "outputs_hidden": false
    }
   },
   "source": [
    "Τέλειος λέγεται ο αριθμός που ισούται με το άθροισμα όλων, εκτός του εαυτού του, διαιρετών του. π.χ.:\n",
    "\n",
    "- 6 = 1 + 2 + 3\n",
    "\n",
    "- 28 = 1 + 2 + 4 + 7 + 14\n",
    "\n",
    "Υλοποιήστε πρόγραμμα το οποίο να βρίσκει αν ένας αριθμός p είναι τέλειος ή όχι και να εμφανίζει κατάλληλο μήνυμα."
   ]
  },
  {
   "cell_type": "code",
   "execution_count": null,
   "metadata": {
    "collapsed": false,
    "jupyter": {
     "outputs_hidden": false
    }
   },
   "outputs": [],
   "source": []
  },
  {
   "cell_type": "markdown",
   "metadata": {
    "collapsed": false,
    "jupyter": {
     "outputs_hidden": false
    }
   },
   "source": [
    "## Μέθοδος των Βαβυλωνίων για υπολογισμό τετραγωνικής ρίζας"
   ]
  },
  {
   "cell_type": "markdown",
   "metadata": {
    "collapsed": false,
    "jupyter": {
     "outputs_hidden": false
    }
   },
   "source": [
    "Θέλουμε να βρούμε την τετραγωνική ρίζα ενός θετικού αριθμού $a > 0$ με τη μέθοδο των Βαβυλωνίων (ή Νεύτωνα):\n",
    "\n",
    "$$\n",
    "x_{n+1} = \\frac{1}{2}\\left(x_n + \\frac{a}{x_n}\\right).\n",
    "$$\n",
    "\n",
    "- Έστω θετικός αριθμός a. Θα τεθεί αρχική προσέγγιση $x_0 = 1$.\n",
    "\n",
    "- Να χρησιμοποιηθεί δομή επανάληψης `while` ώστε να επαναλαμβάνεται ο τύπος μέχρι η διαφορά $|x_{n+1} - x_n|$ να γίνει μικρότερη από $10^{-6}$. Με το τέλος της επανάληψης θα εμφανιστεί η προσεγγιστική τιμή της $\\sqrt{a}$.\n",
    "\n",
    "- Να σχεδιαστεί γράφημα, με τη βοήθεια διαδοχικών `point` που θα δείχνει την εξέλιξη των προσεγγίσεων $x_n$ σε συνάρτηση με τον αριθμό επαναλήψεων $n$. Επίσης, οριζόντια γραμμή με την ακριβή τιμή της τετραγωνικής τιμής του a όπως επιστρέφεται από την `sqrt`."
   ]
  },
  {
   "cell_type": "code",
   "execution_count": null,
   "metadata": {
    "collapsed": false,
    "jupyter": {
     "outputs_hidden": false
    }
   },
   "outputs": [],
   "source": [
    "a = 3\n",
    "x = 1.0\n"
   ]
  },
  {
   "cell_type": "markdown",
   "metadata": {
    "collapsed": false,
    "jupyter": {
     "outputs_hidden": false
    }
   },
   "source": [
    "## Ρώσικος Πολλαπλασιασμός"
   ]
  },
  {
   "cell_type": "markdown",
   "metadata": {
    "collapsed": false,
    "jupyter": {
     "outputs_hidden": false
    }
   },
   "source": [
    "Ο λεγόμενος **ρωσικός πολλαπλασιασμός** (Russian Peasant Multiplication) βασίζεται στην επόμενη ιδέα. Αν διαιρούμε τον ένα αριθμό, έστω b, διά 2 (απορρίπτοντας τα δεκαδικά), και διπλασιάζουμε τον άλλο, έστω a, τότε  το άθροισμα των αριθμών που προκύπτουν από τον πολλαπλασιασμό όταν οι αριθμοί που προκύπτουν από τις διαιρέσεις είναι περιττοί είναι ίσο με το τελικό γινόμενο.\n",
    "\n",
    "Για παράδειγμα για το γινόμενο **45 × 19**.\n",
    "\n",
    "| a (διπλασιασμός) | b (διαίρεση διά 2) | Πρόσθεση |\n",
    "|------------------:|-------------------:|:--------:|\n",
    "| 45  | 19 | +45 |\n",
    "| 90  | 9  | +90 |\n",
    "| 180 | 4  |     |\n",
    "| 360 | 2  |     |\n",
    "| 720 | 1  | +720 |\n",
    "|     | 0  |     |\n",
    "|     |     | **= 855** |\n",
    "\n",
    "**Απάντηση:** 45 × 19 = **855**\n",
    "\n",
    "- Σε κάθε βήμα:\n",
    "  - Διαιρούμε το b διά 2 (κρατώντας μόνο το ακέραιο μέρος)\n",
    "\n",
    "  - Διπλασιάζουμε το a\n",
    "\n",
    "  - Όταν το b είναι **περιττό**, προσθέτουμε το a στο τελικό άθροισμα.\n",
    " \n",
    "Σημείωση: για την ακέραια διαίρεση και τον πολλαπλασιασμό με το 2 κάντε χρήση bitwise τελεστών."
   ]
  },
  {
   "cell_type": "code",
   "execution_count": null,
   "metadata": {
    "collapsed": false,
    "jupyter": {
     "outputs_hidden": false
    }
   },
   "outputs": [],
   "source": [
    "a = 45\n",
    "b = 19\n"
   ]
  },
  {
   "cell_type": "markdown",
   "metadata": {
    "collapsed": false,
    "jupyter": {
     "outputs_hidden": false
    }
   },
   "source": [
    "# Συναρτήσεις"
   ]
  },
  {
   "cell_type": "markdown",
   "metadata": {
    "collapsed": false,
    "jupyter": {
     "outputs_hidden": false
    }
   },
   "source": [
    "## Πρώτος αριθμός"
   ]
  },
  {
   "cell_type": "markdown",
   "metadata": {
    "collapsed": false,
    "jupyter": {
     "outputs_hidden": false
    }
   },
   "source": [
    "Για να ελέγξουμε αν ένας αριθμός n είναι πρώτος, μπορούμε να ελέγξουμε αν διαιρείται από οποιονδήποτε αριθμό k από το 2 μέχρι τη ρίζα του n. Αν δεν υπάρχει κανένας τέτοιος k, τότε ο n είναι πρώτος. Δημιουργήστε συνάρτηση Python, έστω _isPrime_ η οποία θα δέχεται έναν αριθμό και θα επιστρέφει True ή False ανάλογα."
   ]
  },
  {
   "cell_type": "code",
   "execution_count": null,
   "metadata": {
    "collapsed": false,
    "jupyter": {
     "outputs_hidden": false
    }
   },
   "outputs": [],
   "source": []
  },
  {
   "cell_type": "markdown",
   "metadata": {
    "collapsed": false,
    "jupyter": {
     "outputs_hidden": false
    }
   },
   "source": [
    "## Τριώνυμο"
   ]
  },
  {
   "cell_type": "markdown",
   "metadata": {
    "collapsed": false,
    "jupyter": {
     "outputs_hidden": false
    }
   },
   "source": [
    "Όπως είναι γνωστό οι ρίζες του τριωνύμου $ax^2 + bx + c$ δίνονται από τον τύπο:\n",
    "$$\n",
    "x = \\frac{-b \\pm \\sqrt{b^2 - 4ac}}{2a}\n",
    "$$\n",
    "με την παράσταση $b^2-4ac$ να πρέπει να είναι μη αρνητική για να υπάρχουν πραγματικές ρίζες. Θέλουμε να υλοποιήσουμε πρόγραμμα που να βρίσκει τις πραγματικές ρίζες του τριωνύμου, αν αυτές υπάρχουν. Διαφορετικά να εμφανίζει κατάλληλο μήνυμα.\n",
    "\n",
    "1. Θα πρέπει να δημιουργήσετε συνάρτηση python, έστω _getDiscriminant_, η οποία θα δέχεται τους συντελεστές a, b και c και θα επιστρέφει την διακρίνουσα.\n",
    "\n",
    "2. Επιπλέον, συνάρτηση Python, έστω _getRoots_, που θα δέχεται τους συντελεστές και θα επιστρέφει τις πραγματικές ρίζες ή κατάλληλο μήνυμα αν δεν υπάρχουν.\n",
    "\n",
    "3. Χρησιμοποιήστε τις συναρτήσεις σας για να βρείτε τις λύσεις των τριωνύμων:\n",
    "\n",
    "-$2x^2-4x-6$\n",
    "\n",
    "-$2x^2-4x-2$\n",
    "\n",
    "-$2x^2-4x+5$\n",
    "\n",
    "4. Σχεδιάστε γραφική παράσταση και για τις τρεις αντίστοιχες συναρτήσεις. Μπορείτε να χρησιμοποιήσετε τη `solve` ή την `find_root` για να επιβεβαιώσετε τα αποτελέσματά σας.\n",
    "\n",
    "**Προσοχή**: Αν a=0 τότε πρόκειται για πρωτοβάθμια εξίσωση."
   ]
  },
  {
   "cell_type": "code",
   "execution_count": null,
   "metadata": {
    "collapsed": false,
    "jupyter": {
     "outputs_hidden": false
    }
   },
   "outputs": [],
   "source": []
  },
  {
   "cell_type": "markdown",
   "metadata": {
    "collapsed": false,
    "jupyter": {
     "outputs_hidden": false
    }
   },
   "source": [
    "## Η Μέθοδος του Νεύτωνα"
   ]
  },
  {
   "cell_type": "markdown",
   "metadata": {
    "collapsed": false,
    "jupyter": {
     "outputs_hidden": false
    }
   },
   "source": [
    "Για την προσέγγιση της ρίζας της συνάρτησης $f(x)$ με τη μέθοδο του Νεύτωνα ξεκινάμε από μία αρχική προσέγγιση $x_0$ για τη ρίζα της συνάρτησης και υπολογίζουμε επαναληπτικά την επόμενη τιμή σύμφωνα με τον επόμενο τύπο:\n",
    "$$\n",
    "x_{n+1} = x_n - \\frac{f(x_n)}{f'(x_n)}\n",
    "$$\n",
    "Η διαδικασία επαναλαμβάνεται είτε μέχρι να επιτευχθεί η επιθυμητή ακρίβεια, _tol_, είτε μέχρι να ξεπεραστεί το όριο επαναλήψεων, _iterations_.\n",
    "\n",
    "Δοκιμάστε τη μέθοδο για τις επόμενες συναρτήσεις:\n",
    "\n",
    "α) $f(x) = x^3 - 2x - 5$,\n",
    "\n",
    "β) $f(x) = e^x-1$ \n",
    "\n",
    "Θα πρέπει να υλοποιήσουμε συνάρτηση python, έστω _newtonMethod_ η οποία δέχεται τη συνάρτηση, _f_ και την παράγωγό της, _df_, μια αρχική προσέγγιση, _x0_. Επίσης στη λίστα παραμέτρων περιλαμβάνει και τις εξορισμού τιμές 1e-6 για την ακρίβεια, _tol_ και 10 για τον αριθμό των επαναλήψεων, _iterations_. Θα πρέπει να ελέγχεται η τιμή της παραγώγου ώστε να μην μηδενίζεται κατά την διαδικασία. Αν μηδενιστεί η παράγωγος ή ξεπεραστεί ο αριθμός επαναλήψεων θα πρέπει να επιστρέφεται κατάλληλο μήνυμα λάθους. Επιπλέον, θα πρέπει να σχεδιάζει την συνάρτηση αλλά και τις προσεγγίσεις σε κάθε επανάληψη με το σημείο προσέγγισης να είναι κόκκινο και μια διακεκομμένη πράσινη γραμμή από τον άξονα x'x μέχρι το σημείο.\n",
    "\n",
    "Η αρχική προσέγγιση $x_0$ μπορεί να είναι η 0.5. Επαληθεύστε με την `find_root`."
   ]
  },
  {
   "cell_type": "code",
   "execution_count": null,
   "metadata": {
    "collapsed": false,
    "jupyter": {
     "outputs_hidden": false
    }
   },
   "outputs": [],
   "source": []
  },
  {
   "cell_type": "markdown",
   "metadata": {
    "collapsed": false,
    "jupyter": {
     "outputs_hidden": false
    }
   },
   "source": [
    "# Αναδρομή"
   ]
  },
  {
   "cell_type": "markdown",
   "metadata": {
    "collapsed": false,
    "jupyter": {
     "outputs_hidden": false
    }
   },
   "source": [
    "## Αντίστροφη μέτρηση"
   ]
  },
  {
   "cell_type": "markdown",
   "metadata": {
    "collapsed": false,
    "jupyter": {
     "outputs_hidden": false
    }
   },
   "source": [
    "Υλοποιήστε μια αντίστροφη μέτρηση από έναν αριθμό m στο 0 εμφανίζοντας στην συνέχεια τη φράση \"Let's go!\". Για παράδειγμα η κλήση της συνάρτησης _countDown(10)_ θα πρέπει να εμφανίσει:\n",
    "```\n",
    "10 9 8 7 6 5 4 3 2 1 0 Let's go\n",
    "```\n",
    "Η συνάρτηση θα πρέπει να υλοποιηθεί αναδρομικά."
   ]
  },
  {
   "cell_type": "code",
   "execution_count": null,
   "metadata": {
    "collapsed": false,
    "jupyter": {
     "outputs_hidden": false
    }
   },
   "outputs": [],
   "source": []
  },
  {
   "cell_type": "markdown",
   "metadata": {
    "collapsed": false,
    "jupyter": {
     "outputs_hidden": false
    }
   },
   "source": [
    "## Υπολογισμός της δύναμης ενός αριθμού"
   ]
  },
  {
   "cell_type": "markdown",
   "metadata": {
    "collapsed": false,
    "jupyter": {
     "outputs_hidden": false
    }
   },
   "source": [
    "Μια αλγοριθμική μέθοδος για τον υπολογισμό της δύναμης ενός αριθμού σε λογαριθμικό χρόνο είναι η ύψωση σε δύναμη δια του τετραγωνισμού. Αποτελεί αναδρομική διαδικασία η οποία έχει ως εξής:\n",
    "$$\n",
    "a^n =\n",
    "\\begin{cases}\n",
    "1 & \\text{αν } n = 0 \\\\\n",
    "\\left(a^{n/2}\\right)^2 & \\text{αν } n \\text{ άρτιος} \\\\\n",
    "a \\times a^{n-1} & \\text{αν } n \\text{ περιττός}\n",
    "\\end{cases}\n",
    "$$\n",
    "\n",
    "Υλοποιήστε συνάρτηση, έστω fastExponentiation, που θα εφαρμόζει τον παραπάνω αναδρομικό τύπο."
   ]
  },
  {
   "cell_type": "code",
   "execution_count": null,
   "metadata": {
    "collapsed": false,
    "jupyter": {
     "outputs_hidden": false
    }
   },
   "outputs": [],
   "source": []
  },
  {
   "cell_type": "markdown",
   "metadata": {
    "collapsed": false,
    "jupyter": {
     "outputs_hidden": false
    }
   },
   "source": [
    "# Fractals"
   ]
  },
  {
   "cell_type": "markdown",
   "metadata": {
    "collapsed": false,
    "jupyter": {
     "outputs_hidden": false
    }
   },
   "source": [
    "## fractal δέντρο"
   ]
  },
  {
   "cell_type": "markdown",
   "metadata": {
    "collapsed": false,
    "jupyter": {
     "outputs_hidden": false
    }
   },
   "source": [
    "Με δεδομένη την επόμενη συνάρτηση η οποία δημιουργεί ένα fractal δέντρο δοκιμάστε να πειραματιστείτε:\n",
    "\n",
    "- με το πάχος και το χρώμα των κλαδιών (παράδειγμα καφέ αρχικά και πράσινο όσο καταλήγουμε στα φύλλα).\n",
    "\n",
    "- την αλλαγή πάχους (παράδειγμα, παχύτερο αρχικά πιο λεπτό προς τα φύλλα).\n",
    "\n",
    "- την γωνία ή το μέγεθος κάθε επόμενου κλαδιού.\n",
    "\n",
    "- τον αριθμό των κλαδιών."
   ]
  },
  {
   "cell_type": "code",
   "execution_count": null,
   "metadata": {
    "collapsed": false,
    "jupyter": {
     "outputs_hidden": false
    }
   },
   "outputs": [],
   "source": [
    "def draw_tree(x, y, angle, length, depth, maxdepth):\n",
    "    if depth > maxdepth:\n",
    "        return Graphics()\n",
    "    nextx = x + length * cos(angle)\n",
    "    nexty = y + length * sin(angle)\n",
    "    \n",
    "    # Σχεδίαση κλαδιoύ\n",
    "    branch = line([(x, y), (nextx, nexty)], color='green')\n",
    "    \n",
    "    # Αναδρομική κλήση για δύο μικρότερα κλαδιά \n",
    "    leftBranch = draw_tree(nextx, nexty, angle + pi/6, length * 0.8, depth + 1, maxdepth)\n",
    "    rightBranch = draw_tree(nextx, nexty, angle - pi/6, length * 0.8, depth + 1, maxdepth)\n",
    "    \n",
    "    return branch + leftBranch + rightBranch\n",
    "\n",
    "tree = draw_tree(0, 0, pi/2, 1, 1, 10)\n",
    "tree.show(aspect_ratio=1,axes=False,figsize=(4,3))"
   ]
  },
  {
   "cell_type": "code",
   "execution_count": null,
   "metadata": {
    "collapsed": false,
    "jupyter": {
     "outputs_hidden": false
    }
   },
   "outputs": [],
   "source": []
  },
  {
   "cell_type": "markdown",
   "metadata": {
    "collapsed": false,
    "jupyter": {
     "outputs_hidden": false
    }
   },
   "source": [
    "## myFractal"
   ]
  },
  {
   "cell_type": "markdown",
   "metadata": {
    "collapsed": false,
    "jupyter": {
     "outputs_hidden": false
    }
   },
   "source": [
    "Κάνοντας χρήση αναδρομής δημιουργήστε το δικό σας fractal. Μπορείτε να προσαρμόσετε κάποιο από τα fractals των σημειώσεων ή να αναζητήσετε στο διαδίκτυο."
   ]
  },
  {
   "cell_type": "markdown",
   "metadata": {
    "collapsed": false,
    "jupyter": {
     "outputs_hidden": false
    }
   },
   "source": [
    "# Εφαρμογές"
   ]
  },
  {
   "cell_type": "markdown",
   "metadata": {
    "collapsed": false,
    "jupyter": {
     "outputs_hidden": false
    }
   },
   "source": [
    "## Monte Carlo εκτίμηση ολοκληρώματος"
   ]
  },
  {
   "cell_type": "markdown",
   "metadata": {
    "collapsed": false,
    "jupyter": {
     "outputs_hidden": false
    }
   },
   "source": [
    "Θέλουμε να εκτιμήσουμε το ολοκλήρωμα\n",
    "\n",
    "$$\n",
    "\\int_{-1}^1 1 - x^2\\,dx\n",
    "$$\n",
    "\n",
    "χρησιμοποιώντας τη μέθοδο Monte Carlo.\n",
    "\n",
    "**Βήματα:**\n",
    "\n",
    "1. Θεωρούμε το τετράγωνο $[-1,1]\\times[0,1]$ Παράγουμε NN τυχαία σημεία $(x,y)$ με χρήση της `RR.random_element` της Sage.\n",
    "\n",
    "3. Ελέγχουμε αν το κάθε σημείο βρίσκεται κάτω ή πάνω από τη συνάρτηση $y = \\sqrt{1-x^2}$.\n",
    "\n",
    "4. Υπολογίζουμε την αναλογία $\\frac{MM}{NN}$, όπου $MM$ τα σημεία κάτω από τη συνάρτηση και $NN$ τα συνολικά σημεία.\n",
    "\n",
    "5. Επαναλαμβάνουμε για διαφορετικά $NN$ ώστε να φανεί η σύγκλιση της προσέγγισης.\n",
    "\n",
    "6. Θα εμφανιστεί γράφημα με τα σημεία κάτω από τη συνάρτηση (πράσινα) και πάνω από τη συνάρτηση (κόκκινα), καθώς και η ίδια η συνάρτηση.\n",
    "\n",
    "7. Επαληθεύστε το αποτέλεσμα κάνοντας χρήση της μεθόδου integral του SageMath για υπολογισμό ορισμένου ολοκληρώματος."
   ]
  },
  {
   "cell_type": "code",
   "execution_count": null,
   "metadata": {
    "collapsed": false,
    "jupyter": {
     "outputs_hidden": false
    }
   },
   "outputs": [],
   "source": []
  }
 ],
 "metadata": {
  "kernelspec": {
   "display_name": "SageMath 9.5",
   "language": "sage",
   "name": "sagemath"
  },
  "language_info": {
   "codemirror_mode": {
    "name": "ipython",
    "version": 3
   },
   "file_extension": ".py",
   "mimetype": "text/x-python",
   "name": "python",
   "nbconvert_exporter": "python",
   "pygments_lexer": "ipython3",
   "version": "3.10.12"
  }
 },
 "nbformat": 4,
 "nbformat_minor": 4
}
